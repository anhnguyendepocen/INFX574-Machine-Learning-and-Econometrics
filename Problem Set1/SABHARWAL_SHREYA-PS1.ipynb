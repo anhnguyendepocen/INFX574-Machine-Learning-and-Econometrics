{
 "cells": [
  {
   "cell_type": "markdown",
   "metadata": {
    "ein.tags": "worksheet-0",
    "slideshow": {
     "slide_type": "-"
    }
   },
   "source": [
    "# Problem Set 1\n",
    "Due April 11th at 5:30pm -- at the start of the class so we can\n",
    "discuss the solutions in class.\n",
    "\n",
    "### Before You Start\n",
    "\n",
    "Make sure to at least take a basic tutorial in the IPython notebook,\n",
    "otherwise you'll be totally lost.  For this problem set, you should\n",
    "download flights.csv.bz2 and weather.csv.bz2 datasets from\n",
    "Canvas (files-data).   Rename the notebook to\n",
    "LASTNAME_FIRSTNAME-PS1.ipynb.\n",
    "\n",
    "When done, please submit\n",
    "1. the notebook itself\n",
    "2. the rendered html or pdf of it.\n",
    "\n"
   ]
  },
  {
   "cell_type": "markdown",
   "metadata": {
    "ein.tags": "worksheet-0",
    "slideshow": {
     "slide_type": "-"
    }
   },
   "source": [
    "## About the Problem Set: \n",
    "\n",
    "This problem set is rather similar to ones used for R, dplyr, and\n",
    "flights data.  Just we use python and pandas.\n",
    "\n",
    "In this problem set you will perform a basic exploratory analysis on\n",
    "an example dataset, bringing to bear all of your new skills in data\n",
    "manipulation and visualization. You will be required to submit well\n",
    "commented python code, documenting all code used in this problem set,\n",
    "along with a write up answering all questions below. Use figures as\n",
    "appropriate to support your answers, and when required by the problem.\n"
   ]
  },
  {
   "cell_type": "markdown",
   "metadata": {
    "ein.tags": "worksheet-0",
    "slideshow": {
     "slide_type": "-"
    }
   },
   "source": [
    "## Preliminaries\n",
    "\n",
    "You should also make sure the following libraries load correctly (click on the box below and hit Ctrl-Enter)"
   ]
  },
  {
   "cell_type": "code",
   "execution_count": 2,
   "metadata": {
    "autoscroll": false,
    "ein.tags": "worksheet-0",
    "slideshow": {
     "slide_type": "-"
    }
   },
   "outputs": [
    {
     "name": "stdout",
     "output_type": "stream",
     "text": [
      "IPython version:       6.1.0 (need at least 1.0)\n",
      "Numpy version:        1.13.3 (need at least 1.7.1)\n",
      "SciPy version:        0.19.1 (need at least 0.12.0)\n",
      "Pandas version:       0.20.3 (need at least 0.11.0)\n",
      "Mapltolib version:     2.1.0 (need at least 1.2.1)\n",
      "Scikit-Learn version: 0.19.1 (need at least 0.13.1)\n"
     ]
    }
   ],
   "source": [
    "#IPython is what you are using now to run the notebook\n",
    "import IPython\n",
    "print( \"IPython version:      %6.6s (need at least 1.0)\" % IPython.__version__)\n",
    "\n",
    "# Numpy is a library for working with Arrays\n",
    "import numpy as np\n",
    "print( \"Numpy version:        %6.6s (need at least 1.7.1)\" % np.__version__)\n",
    "\n",
    "# SciPy implements many different numerical algorithms\n",
    "import scipy as sp\n",
    "print( \"SciPy version:        %6.6s (need at least 0.12.0)\" % sp.__version__)\n",
    "\n",
    "# Pandas makes working with data tables easier\n",
    "import pandas as pd\n",
    "print( \"Pandas version:       %6.6s (need at least 0.11.0)\" % pd.__version__)\n",
    "\n",
    "# Module for plotting\n",
    "import matplotlib\n",
    "print( \"Mapltolib version:    %6.6s (need at least 1.2.1)\" %\n",
    "       matplotlib.__version__)\n",
    "%matplotlib inline\n",
    "# necessary for in-line graphics\n",
    "\n",
    "# SciKit Learn implements several Machine Learning algorithms\n",
    "import sklearn\n",
    "print( \"Scikit-Learn version: %6.6s (need at least 0.13.1)\" % sklearn.__version__)"
   ]
  },
  {
   "cell_type": "code",
   "execution_count": 3,
   "metadata": {
    "autoscroll": false,
    "collapsed": true,
    "ein.tags": "worksheet-0",
    "slideshow": {
     "slide_type": "-"
    }
   },
   "outputs": [],
   "source": [
    "## Let's read the data and print some summary information\n",
    "## adjust the path for your file system!\n",
    "flights_df= pd.read_csv('flights.csv')"
   ]
  },
  {
   "cell_type": "code",
   "execution_count": 4,
   "metadata": {
    "autoscroll": false,
    "ein.tags": "worksheet-0",
    "slideshow": {
     "slide_type": "-"
    }
   },
   "outputs": [
    {
     "name": "stdout",
     "output_type": "stream",
     "text": [
      "(336776, 17)\n",
      "Index(['Unnamed: 0', 'year', 'month', 'day', 'dep_time', 'dep_delay',\n",
      "       'arr_time', 'arr_delay', 'carrier', 'tailnum', 'flight', 'origin',\n",
      "       'dest', 'air_time', 'distance', 'hour', 'minute'],\n",
      "      dtype='object')\n",
      "Unnamed: 0      int64\n",
      "year            int64\n",
      "month           int64\n",
      "day             int64\n",
      "dep_time      float64\n",
      "dep_delay     float64\n",
      "arr_time      float64\n",
      "arr_delay     float64\n",
      "carrier        object\n",
      "tailnum        object\n",
      "flight          int64\n",
      "origin         object\n",
      "dest           object\n",
      "air_time      float64\n",
      "distance        int64\n",
      "hour          float64\n",
      "minute        float64\n",
      "dtype: object\n"
     ]
    }
   ],
   "source": [
    "print (flights_df.shape)\n",
    "print (flights_df.columns)\n",
    "print (flights_df.dtypes)"
   ]
  },
  {
   "cell_type": "code",
   "execution_count": 5,
   "metadata": {
    "autoscroll": false,
    "ein.tags": "worksheet-0",
    "slideshow": {
     "slide_type": "-"
    }
   },
   "outputs": [
    {
     "data": {
      "text/html": [
       "<div>\n",
       "<style>\n",
       "    .dataframe thead tr:only-child th {\n",
       "        text-align: right;\n",
       "    }\n",
       "\n",
       "    .dataframe thead th {\n",
       "        text-align: left;\n",
       "    }\n",
       "\n",
       "    .dataframe tbody tr th {\n",
       "        vertical-align: top;\n",
       "    }\n",
       "</style>\n",
       "<table border=\"1\" class=\"dataframe\">\n",
       "  <thead>\n",
       "    <tr style=\"text-align: right;\">\n",
       "      <th></th>\n",
       "      <th>Unnamed: 0</th>\n",
       "      <th>year</th>\n",
       "      <th>month</th>\n",
       "      <th>day</th>\n",
       "      <th>dep_time</th>\n",
       "      <th>dep_delay</th>\n",
       "      <th>arr_time</th>\n",
       "      <th>arr_delay</th>\n",
       "      <th>carrier</th>\n",
       "      <th>tailnum</th>\n",
       "      <th>flight</th>\n",
       "      <th>origin</th>\n",
       "      <th>dest</th>\n",
       "      <th>air_time</th>\n",
       "      <th>distance</th>\n",
       "      <th>hour</th>\n",
       "      <th>minute</th>\n",
       "    </tr>\n",
       "  </thead>\n",
       "  <tbody>\n",
       "    <tr>\n",
       "      <th>0</th>\n",
       "      <td>1</td>\n",
       "      <td>2013</td>\n",
       "      <td>1</td>\n",
       "      <td>1</td>\n",
       "      <td>517.0</td>\n",
       "      <td>2.0</td>\n",
       "      <td>830.0</td>\n",
       "      <td>11.0</td>\n",
       "      <td>UA</td>\n",
       "      <td>N14228</td>\n",
       "      <td>1545</td>\n",
       "      <td>EWR</td>\n",
       "      <td>IAH</td>\n",
       "      <td>227.0</td>\n",
       "      <td>1400</td>\n",
       "      <td>5.0</td>\n",
       "      <td>17.0</td>\n",
       "    </tr>\n",
       "    <tr>\n",
       "      <th>1</th>\n",
       "      <td>2</td>\n",
       "      <td>2013</td>\n",
       "      <td>1</td>\n",
       "      <td>1</td>\n",
       "      <td>533.0</td>\n",
       "      <td>4.0</td>\n",
       "      <td>850.0</td>\n",
       "      <td>20.0</td>\n",
       "      <td>UA</td>\n",
       "      <td>N24211</td>\n",
       "      <td>1714</td>\n",
       "      <td>LGA</td>\n",
       "      <td>IAH</td>\n",
       "      <td>227.0</td>\n",
       "      <td>1416</td>\n",
       "      <td>5.0</td>\n",
       "      <td>33.0</td>\n",
       "    </tr>\n",
       "    <tr>\n",
       "      <th>2</th>\n",
       "      <td>3</td>\n",
       "      <td>2013</td>\n",
       "      <td>1</td>\n",
       "      <td>1</td>\n",
       "      <td>542.0</td>\n",
       "      <td>2.0</td>\n",
       "      <td>923.0</td>\n",
       "      <td>33.0</td>\n",
       "      <td>AA</td>\n",
       "      <td>N619AA</td>\n",
       "      <td>1141</td>\n",
       "      <td>JFK</td>\n",
       "      <td>MIA</td>\n",
       "      <td>160.0</td>\n",
       "      <td>1089</td>\n",
       "      <td>5.0</td>\n",
       "      <td>42.0</td>\n",
       "    </tr>\n",
       "    <tr>\n",
       "      <th>3</th>\n",
       "      <td>4</td>\n",
       "      <td>2013</td>\n",
       "      <td>1</td>\n",
       "      <td>1</td>\n",
       "      <td>544.0</td>\n",
       "      <td>-1.0</td>\n",
       "      <td>1004.0</td>\n",
       "      <td>-18.0</td>\n",
       "      <td>B6</td>\n",
       "      <td>N804JB</td>\n",
       "      <td>725</td>\n",
       "      <td>JFK</td>\n",
       "      <td>BQN</td>\n",
       "      <td>183.0</td>\n",
       "      <td>1576</td>\n",
       "      <td>5.0</td>\n",
       "      <td>44.0</td>\n",
       "    </tr>\n",
       "    <tr>\n",
       "      <th>4</th>\n",
       "      <td>5</td>\n",
       "      <td>2013</td>\n",
       "      <td>1</td>\n",
       "      <td>1</td>\n",
       "      <td>554.0</td>\n",
       "      <td>-6.0</td>\n",
       "      <td>812.0</td>\n",
       "      <td>-25.0</td>\n",
       "      <td>DL</td>\n",
       "      <td>N668DN</td>\n",
       "      <td>461</td>\n",
       "      <td>LGA</td>\n",
       "      <td>ATL</td>\n",
       "      <td>116.0</td>\n",
       "      <td>762</td>\n",
       "      <td>5.0</td>\n",
       "      <td>54.0</td>\n",
       "    </tr>\n",
       "    <tr>\n",
       "      <th>5</th>\n",
       "      <td>6</td>\n",
       "      <td>2013</td>\n",
       "      <td>1</td>\n",
       "      <td>1</td>\n",
       "      <td>554.0</td>\n",
       "      <td>-4.0</td>\n",
       "      <td>740.0</td>\n",
       "      <td>12.0</td>\n",
       "      <td>UA</td>\n",
       "      <td>N39463</td>\n",
       "      <td>1696</td>\n",
       "      <td>EWR</td>\n",
       "      <td>ORD</td>\n",
       "      <td>150.0</td>\n",
       "      <td>719</td>\n",
       "      <td>5.0</td>\n",
       "      <td>54.0</td>\n",
       "    </tr>\n",
       "    <tr>\n",
       "      <th>6</th>\n",
       "      <td>7</td>\n",
       "      <td>2013</td>\n",
       "      <td>1</td>\n",
       "      <td>1</td>\n",
       "      <td>555.0</td>\n",
       "      <td>-5.0</td>\n",
       "      <td>913.0</td>\n",
       "      <td>19.0</td>\n",
       "      <td>B6</td>\n",
       "      <td>N516JB</td>\n",
       "      <td>507</td>\n",
       "      <td>EWR</td>\n",
       "      <td>FLL</td>\n",
       "      <td>158.0</td>\n",
       "      <td>1065</td>\n",
       "      <td>5.0</td>\n",
       "      <td>55.0</td>\n",
       "    </tr>\n",
       "    <tr>\n",
       "      <th>7</th>\n",
       "      <td>8</td>\n",
       "      <td>2013</td>\n",
       "      <td>1</td>\n",
       "      <td>1</td>\n",
       "      <td>557.0</td>\n",
       "      <td>-3.0</td>\n",
       "      <td>709.0</td>\n",
       "      <td>-14.0</td>\n",
       "      <td>EV</td>\n",
       "      <td>N829AS</td>\n",
       "      <td>5708</td>\n",
       "      <td>LGA</td>\n",
       "      <td>IAD</td>\n",
       "      <td>53.0</td>\n",
       "      <td>229</td>\n",
       "      <td>5.0</td>\n",
       "      <td>57.0</td>\n",
       "    </tr>\n",
       "    <tr>\n",
       "      <th>8</th>\n",
       "      <td>9</td>\n",
       "      <td>2013</td>\n",
       "      <td>1</td>\n",
       "      <td>1</td>\n",
       "      <td>557.0</td>\n",
       "      <td>-3.0</td>\n",
       "      <td>838.0</td>\n",
       "      <td>-8.0</td>\n",
       "      <td>B6</td>\n",
       "      <td>N593JB</td>\n",
       "      <td>79</td>\n",
       "      <td>JFK</td>\n",
       "      <td>MCO</td>\n",
       "      <td>140.0</td>\n",
       "      <td>944</td>\n",
       "      <td>5.0</td>\n",
       "      <td>57.0</td>\n",
       "    </tr>\n",
       "    <tr>\n",
       "      <th>9</th>\n",
       "      <td>10</td>\n",
       "      <td>2013</td>\n",
       "      <td>1</td>\n",
       "      <td>1</td>\n",
       "      <td>558.0</td>\n",
       "      <td>-2.0</td>\n",
       "      <td>753.0</td>\n",
       "      <td>8.0</td>\n",
       "      <td>AA</td>\n",
       "      <td>N3ALAA</td>\n",
       "      <td>301</td>\n",
       "      <td>LGA</td>\n",
       "      <td>ORD</td>\n",
       "      <td>138.0</td>\n",
       "      <td>733</td>\n",
       "      <td>5.0</td>\n",
       "      <td>58.0</td>\n",
       "    </tr>\n",
       "  </tbody>\n",
       "</table>\n",
       "</div>"
      ],
      "text/plain": [
       "   Unnamed: 0  year  month  day  dep_time  dep_delay  arr_time  arr_delay  \\\n",
       "0           1  2013      1    1     517.0        2.0     830.0       11.0   \n",
       "1           2  2013      1    1     533.0        4.0     850.0       20.0   \n",
       "2           3  2013      1    1     542.0        2.0     923.0       33.0   \n",
       "3           4  2013      1    1     544.0       -1.0    1004.0      -18.0   \n",
       "4           5  2013      1    1     554.0       -6.0     812.0      -25.0   \n",
       "5           6  2013      1    1     554.0       -4.0     740.0       12.0   \n",
       "6           7  2013      1    1     555.0       -5.0     913.0       19.0   \n",
       "7           8  2013      1    1     557.0       -3.0     709.0      -14.0   \n",
       "8           9  2013      1    1     557.0       -3.0     838.0       -8.0   \n",
       "9          10  2013      1    1     558.0       -2.0     753.0        8.0   \n",
       "\n",
       "  carrier tailnum  flight origin dest  air_time  distance  hour  minute  \n",
       "0      UA  N14228    1545    EWR  IAH     227.0      1400   5.0    17.0  \n",
       "1      UA  N24211    1714    LGA  IAH     227.0      1416   5.0    33.0  \n",
       "2      AA  N619AA    1141    JFK  MIA     160.0      1089   5.0    42.0  \n",
       "3      B6  N804JB     725    JFK  BQN     183.0      1576   5.0    44.0  \n",
       "4      DL  N668DN     461    LGA  ATL     116.0       762   5.0    54.0  \n",
       "5      UA  N39463    1696    EWR  ORD     150.0       719   5.0    54.0  \n",
       "6      B6  N516JB     507    EWR  FLL     158.0      1065   5.0    55.0  \n",
       "7      EV  N829AS    5708    LGA  IAD      53.0       229   5.0    57.0  \n",
       "8      B6  N593JB      79    JFK  MCO     140.0       944   5.0    57.0  \n",
       "9      AA  N3ALAA     301    LGA  ORD     138.0       733   5.0    58.0  "
      ]
     },
     "execution_count": 5,
     "metadata": {},
     "output_type": "execute_result"
    }
   ],
   "source": [
    "flights_df.dest.unique()\n",
    "flights_df.head(10)"
   ]
  },
  {
   "cell_type": "markdown",
   "metadata": {
    "ein.tags": "worksheet-0",
    "slideshow": {
     "slide_type": "-"
    }
   },
   "source": [
    "## Some Tips\n",
    "\n",
    "* This assignment involves extensive Data frame splitting and aggregation. You should look into the details of the methods groupby, transform, sum, count, mean etc\n",
    "* Many of the tasks in the assignment can be done either through the Pandas Data Frame or by converting the data frames to Series. Many of the methods in the numpy are applicable to Series only. When stuck, try to explore the type of object (Pandas Data Frame or Numpy Series) you are dealing with."
   ]
  },
  {
   "cell_type": "markdown",
   "metadata": {
    "ein.tags": "worksheet-0",
    "slideshow": {
     "slide_type": "-"
    }
   },
   "source": [
    "## Question 1\n",
    "Let’s explore flights from NYC to Seattle. Use the flights dataset to answer the following questions.\n",
    "\n",
    "(a) How many flights were there from NYC airports to Seattle in 2013?"
   ]
  },
  {
   "cell_type": "code",
   "execution_count": 6,
   "metadata": {
    "autoscroll": false,
    "ein.tags": "worksheet-0",
    "slideshow": {
     "slide_type": "-"
    }
   },
   "outputs": [
    {
     "data": {
      "text/plain": [
       "(3923, 17)"
      ]
     },
     "execution_count": 6,
     "metadata": {},
     "output_type": "execute_result"
    }
   ],
   "source": [
    "#fetching records where destination is Seattle. Origin of all records is NYC.\n",
    "flights_to_sea = flights_df[flights_df.dest=='SEA']\n",
    "flights_to_sea.shape"
   ]
  },
  {
   "cell_type": "markdown",
   "metadata": {
    "ein.tags": "worksheet-0",
    "slideshow": {
     "slide_type": "-"
    }
   },
   "source": [
    "There were 3923 flights from NYC airports to Seattle in 2013"
   ]
  },
  {
   "cell_type": "markdown",
   "metadata": {
    "ein.tags": "worksheet-0",
    "slideshow": {
     "slide_type": "-"
    }
   },
   "source": [
    "(b) How many airlines fly from NYC to Seattle?"
   ]
  },
  {
   "cell_type": "code",
   "execution_count": 7,
   "metadata": {
    "autoscroll": false,
    "ein.tags": "worksheet-0",
    "slideshow": {
     "slide_type": "-"
    }
   },
   "outputs": [
    {
     "name": "stdout",
     "output_type": "stream",
     "text": [
      "['AA' 'AS' 'B6' 'DL' 'UA']\n"
     ]
    },
    {
     "data": {
      "text/plain": [
       "5"
      ]
     },
     "execution_count": 7,
     "metadata": {},
     "output_type": "execute_result"
    }
   ],
   "source": [
    "print(np.unique(flights_to_sea.carrier))\n",
    "len(np.unique(flights_to_sea.carrier))"
   ]
  },
  {
   "cell_type": "markdown",
   "metadata": {
    "ein.tags": "worksheet-0",
    "slideshow": {
     "slide_type": "-"
    }
   },
   "source": [
    "5 flights - AA, AS, B6, DL, UA fly from NYC to Seattle"
   ]
  },
  {
   "cell_type": "markdown",
   "metadata": {
    "ein.tags": "worksheet-0",
    "slideshow": {
     "slide_type": "-"
    }
   },
   "source": [
    "(c) How many unique air planes fly from NYC to Seattle?"
   ]
  },
  {
   "cell_type": "code",
   "execution_count": 8,
   "metadata": {
    "autoscroll": false,
    "ein.tags": "worksheet-0",
    "slideshow": {
     "slide_type": "-"
    }
   },
   "outputs": [
    {
     "name": "stdout",
     "output_type": "stream",
     "text": [
      "[   5    7   11   15   16   21   63   80   83  112  148  161  175  183  206\n",
      "  208  214  215  217  235  237  238  250  251  252  256  263  264  267  268\n",
      "  269  273  278  280  284  288  298  299  318  321  324  327  332  339  353\n",
      "  364  375  382  387  404  419  436  440  441  442  443  457  469  490  495\n",
      "  499  516  519  527  532  533  541  543  552  554  555  578  618  628  641\n",
      "  654  671  675  676  685  726  732  738  814  816  824  842  915 1020 1025\n",
      " 1043 1049 1058 1060 1072 1079 1100 1102 1108 1114 1123 1135 1149 1151 1162\n",
      " 1171 1175 1192 1193 1201 1210 1211 1217 1218 1219 1236 1242 1245 1246 1281\n",
      " 1288 1293 1294 1405 1416 1443 1453 1462 1465 1481 1502 1506 1515 1533 1543\n",
      " 1551 1552 1562 1568 1569 1571 1577 1579 1581 1583 1593 1612 1616 1623 1630\n",
      " 1635 1642 1643 1649 1654 1670 1672 1698 1709 1715 1717 1727 1771 1889 1915\n",
      " 1925]\n"
     ]
    },
    {
     "data": {
      "text/plain": [
       "166"
      ]
     },
     "execution_count": 8,
     "metadata": {},
     "output_type": "execute_result"
    }
   ],
   "source": [
    "print(np.unique(flights_to_sea.flight))\n",
    "len(np.unique(flights_to_sea.flight))"
   ]
  },
  {
   "cell_type": "code",
   "execution_count": 9,
   "metadata": {},
   "outputs": [
    {
     "data": {
      "text/plain": [
       "935"
      ]
     },
     "execution_count": 9,
     "metadata": {},
     "output_type": "execute_result"
    }
   ],
   "source": [
    "sum(pd.value_counts(flights_to_sea.tailnum.unique()))"
   ]
  },
  {
   "cell_type": "markdown",
   "metadata": {
    "ein.tags": "worksheet-0",
    "slideshow": {
     "slide_type": "-"
    }
   },
   "source": [
    "166 unique airplanes fly from NYC to Seattle in terms of flights and 935 unique airplanes fly in terms of tailnum."
   ]
  },
  {
   "cell_type": "markdown",
   "metadata": {
    "ein.tags": "worksheet-0",
    "slideshow": {
     "slide_type": "-"
    }
   },
   "source": [
    "(d) What is the average arrival delay for flights from NC to Seattle?"
   ]
  },
  {
   "cell_type": "code",
   "execution_count": 10,
   "metadata": {
    "autoscroll": false,
    "ein.tags": "worksheet-0",
    "slideshow": {
     "slide_type": "-"
    }
   },
   "outputs": [
    {
     "data": {
      "text/plain": [
       "-1.0990990990990992"
      ]
     },
     "execution_count": 10,
     "metadata": {},
     "output_type": "execute_result"
    }
   ],
   "source": [
    "flights_to_sea.arr_delay.mean()"
   ]
  },
  {
   "cell_type": "markdown",
   "metadata": {
    "ein.tags": "worksheet-0",
    "slideshow": {
     "slide_type": "-"
    }
   },
   "source": [
    "The average arrival delay for flights from NYC to Seattle is -1.099s, ie. they arrive early on an average by 1.099s"
   ]
  },
  {
   "cell_type": "markdown",
   "metadata": {
    "ein.tags": "worksheet-0",
    "slideshow": {
     "slide_type": "-"
    }
   },
   "source": [
    "(e) What proportion of flights to Seattle come from each NYC airport?"
   ]
  },
  {
   "cell_type": "code",
   "execution_count": 11,
   "metadata": {
    "autoscroll": false,
    "ein.tags": "worksheet-0",
    "slideshow": {
     "slide_type": "-"
    }
   },
   "outputs": [
    {
     "data": {
      "text/plain": [
       "JFK    0.533265\n",
       "EWR    0.466735\n",
       "Name: origin, dtype: float64"
      ]
     },
     "execution_count": 11,
     "metadata": {},
     "output_type": "execute_result"
    }
   ],
   "source": [
    "total_num_flights = len(flights_to_sea)\n",
    "num_flights = pd.value_counts(flights_to_sea.origin)/total_num_flights\n",
    "num_flights"
   ]
  },
  {
   "cell_type": "markdown",
   "metadata": {
    "ein.tags": "worksheet-0",
    "slideshow": {
     "slide_type": "-"
    }
   },
   "source": [
    "53.32% of the flights came from JFK airport and 46.67% of the flights came from EWR"
   ]
  },
  {
   "cell_type": "markdown",
   "metadata": {
    "ein.tags": "worksheet-0",
    "slideshow": {
     "slide_type": "-"
    }
   },
   "source": [
    "## Question 2\n",
    "Flights are often delayed. Consider the following questions exploring delay patterns.\n",
    "\n",
    "(a) Which date has the largest average departure delay? Which date has the largest average arrival delay?"
   ]
  },
  {
   "cell_type": "code",
   "execution_count": 12,
   "metadata": {
    "autoscroll": false,
    "ein.tags": "worksheet-0",
    "slideshow": {
     "slide_type": "-"
    }
   },
   "outputs": [
    {
     "name": "stdout",
     "output_type": "stream",
     "text": [
      "                dep_delay\n",
      "year month day           \n",
      "2013 3     8    83.536921\n",
      "                arr_delay\n",
      "year month day           \n",
      "2013 3     8    85.862155\n"
     ]
    }
   ],
   "source": [
    "# Grouping the dataset by year, month and day and calculating mean of departure and arrival delays\n",
    "avg_depdelay_df = pd.DataFrame(flights_df.groupby(['year', 'month', 'day'])['dep_delay'].mean())\n",
    "print(avg_depdelay_df[avg_depdelay_df.dep_delay == max(avg_depdelay_df.dep_delay)])\n",
    "\n",
    "avg_arrdelay_df = pd.DataFrame(flights_df.groupby(['year', 'month', 'day'])['arr_delay'].mean())\n",
    "print(avg_arrdelay_df[avg_arrdelay_df.arr_delay == max(avg_arrdelay_df.arr_delay)])"
   ]
  },
  {
   "cell_type": "markdown",
   "metadata": {
    "ein.tags": "worksheet-0",
    "slideshow": {
     "slide_type": "-"
    }
   },
   "source": [
    "The maximum departure delay of 83.53s happens on 03-08-2013(8th March).\n",
    "The maximum arrivay delay of 85.86s happens on 03-08-2013(8th March)."
   ]
  },
  {
   "cell_type": "markdown",
   "metadata": {
    "ein.tags": "worksheet-0",
    "slideshow": {
     "slide_type": "-"
    }
   },
   "source": [
    "(b) What was the worst day to fly out of NYC in 2013 if you dislike delayed flights?\n"
   ]
  },
  {
   "cell_type": "code",
   "execution_count": 14,
   "metadata": {
    "autoscroll": false,
    "ein.tags": "worksheet-0",
    "slideshow": {
     "slide_type": "-"
    }
   },
   "outputs": [
    {
     "name": "stdout",
     "output_type": "stream",
     "text": [
      "day\n",
      "8    21.760773\n",
      "Name: dep_delay, dtype: float64\n"
     ]
    },
    {
     "data": {
      "text/html": [
       "<div>\n",
       "<style>\n",
       "    .dataframe thead tr:only-child th {\n",
       "        text-align: right;\n",
       "    }\n",
       "\n",
       "    .dataframe thead th {\n",
       "        text-align: left;\n",
       "    }\n",
       "\n",
       "    .dataframe tbody tr th {\n",
       "        vertical-align: top;\n",
       "    }\n",
       "</style>\n",
       "<table border=\"1\" class=\"dataframe\">\n",
       "  <thead>\n",
       "    <tr style=\"text-align: right;\">\n",
       "      <th></th>\n",
       "      <th>Unnamed: 0</th>\n",
       "      <th>year</th>\n",
       "      <th>month</th>\n",
       "      <th>day</th>\n",
       "      <th>dep_time</th>\n",
       "      <th>dep_delay</th>\n",
       "      <th>arr_time</th>\n",
       "      <th>arr_delay</th>\n",
       "      <th>carrier</th>\n",
       "      <th>tailnum</th>\n",
       "      <th>flight</th>\n",
       "      <th>origin</th>\n",
       "      <th>dest</th>\n",
       "      <th>air_time</th>\n",
       "      <th>distance</th>\n",
       "      <th>hour</th>\n",
       "      <th>minute</th>\n",
       "    </tr>\n",
       "    <tr>\n",
       "      <th>date</th>\n",
       "      <th></th>\n",
       "      <th></th>\n",
       "      <th></th>\n",
       "      <th></th>\n",
       "      <th></th>\n",
       "      <th></th>\n",
       "      <th></th>\n",
       "      <th></th>\n",
       "      <th></th>\n",
       "      <th></th>\n",
       "      <th></th>\n",
       "      <th></th>\n",
       "      <th></th>\n",
       "      <th></th>\n",
       "      <th></th>\n",
       "      <th></th>\n",
       "      <th></th>\n",
       "    </tr>\n",
       "  </thead>\n",
       "  <tbody>\n",
       "    <tr>\n",
       "      <th>2013-12-23</th>\n",
       "      <td>674</td>\n",
       "      <td>674</td>\n",
       "      <td>674</td>\n",
       "      <td>674</td>\n",
       "      <td>674</td>\n",
       "      <td>674</td>\n",
       "      <td>674</td>\n",
       "      <td>673</td>\n",
       "      <td>674</td>\n",
       "      <td>674</td>\n",
       "      <td>674</td>\n",
       "      <td>674</td>\n",
       "      <td>674</td>\n",
       "      <td>673</td>\n",
       "      <td>674</td>\n",
       "      <td>674</td>\n",
       "      <td>674</td>\n",
       "    </tr>\n",
       "    <tr>\n",
       "      <th>2013-03-08</th>\n",
       "      <td>653</td>\n",
       "      <td>653</td>\n",
       "      <td>653</td>\n",
       "      <td>653</td>\n",
       "      <td>653</td>\n",
       "      <td>653</td>\n",
       "      <td>653</td>\n",
       "      <td>653</td>\n",
       "      <td>653</td>\n",
       "      <td>653</td>\n",
       "      <td>653</td>\n",
       "      <td>653</td>\n",
       "      <td>653</td>\n",
       "      <td>653</td>\n",
       "      <td>653</td>\n",
       "      <td>653</td>\n",
       "      <td>653</td>\n",
       "    </tr>\n",
       "    <tr>\n",
       "      <th>2013-07-01</th>\n",
       "      <td>652</td>\n",
       "      <td>652</td>\n",
       "      <td>652</td>\n",
       "      <td>652</td>\n",
       "      <td>652</td>\n",
       "      <td>652</td>\n",
       "      <td>650</td>\n",
       "      <td>649</td>\n",
       "      <td>652</td>\n",
       "      <td>652</td>\n",
       "      <td>652</td>\n",
       "      <td>652</td>\n",
       "      <td>652</td>\n",
       "      <td>649</td>\n",
       "      <td>652</td>\n",
       "      <td>652</td>\n",
       "      <td>652</td>\n",
       "    </tr>\n",
       "    <tr>\n",
       "      <th>2013-06-25</th>\n",
       "      <td>649</td>\n",
       "      <td>649</td>\n",
       "      <td>649</td>\n",
       "      <td>649</td>\n",
       "      <td>649</td>\n",
       "      <td>649</td>\n",
       "      <td>648</td>\n",
       "      <td>647</td>\n",
       "      <td>649</td>\n",
       "      <td>649</td>\n",
       "      <td>649</td>\n",
       "      <td>649</td>\n",
       "      <td>649</td>\n",
       "      <td>647</td>\n",
       "      <td>649</td>\n",
       "      <td>649</td>\n",
       "      <td>649</td>\n",
       "    </tr>\n",
       "    <tr>\n",
       "      <th>2013-07-23</th>\n",
       "      <td>645</td>\n",
       "      <td>645</td>\n",
       "      <td>645</td>\n",
       "      <td>645</td>\n",
       "      <td>645</td>\n",
       "      <td>645</td>\n",
       "      <td>642</td>\n",
       "      <td>640</td>\n",
       "      <td>645</td>\n",
       "      <td>645</td>\n",
       "      <td>645</td>\n",
       "      <td>645</td>\n",
       "      <td>645</td>\n",
       "      <td>640</td>\n",
       "      <td>645</td>\n",
       "      <td>645</td>\n",
       "      <td>645</td>\n",
       "    </tr>\n",
       "  </tbody>\n",
       "</table>\n",
       "</div>"
      ],
      "text/plain": [
       "            Unnamed: 0  year  month  day  dep_time  dep_delay  arr_time  \\\n",
       "date                                                                      \n",
       "2013-12-23         674   674    674  674       674        674       674   \n",
       "2013-03-08         653   653    653  653       653        653       653   \n",
       "2013-07-01         652   652    652  652       652        652       650   \n",
       "2013-06-25         649   649    649  649       649        649       648   \n",
       "2013-07-23         645   645    645  645       645        645       642   \n",
       "\n",
       "            arr_delay  carrier  tailnum  flight  origin  dest  air_time  \\\n",
       "date                                                                      \n",
       "2013-12-23        673      674      674     674     674   674       673   \n",
       "2013-03-08        653      653      653     653     653   653       653   \n",
       "2013-07-01        649      652      652     652     652   652       649   \n",
       "2013-06-25        647      649      649     649     649   649       647   \n",
       "2013-07-23        640      645      645     645     645   645       640   \n",
       "\n",
       "            distance  hour  minute  \n",
       "date                                \n",
       "2013-12-23       674   674     674  \n",
       "2013-03-08       653   653     653  \n",
       "2013-07-01       652   652     652  \n",
       "2013-06-25       649   649     649  \n",
       "2013-07-23       645   645     645  "
      ]
     },
     "execution_count": 14,
     "metadata": {},
     "output_type": "execute_result"
    }
   ],
   "source": [
    "flights_df['date'] = pd.to_datetime(flights_df['year'] * 10000 + flights_df['month'] * 100 + flights_df['day'], format='%Y%m%d')\n",
    "avg_depdelay_day =flights_df.groupby(['day'])['dep_delay'].mean()\n",
    "print(avg_depdelay_day.sort_values(ascending=False).head(1))\n",
    "flights_df[flights_df['dep_delay']>0].groupby(['date']).count().sort_values(by='dep_delay',ascending=False).head()"
   ]
  },
  {
   "cell_type": "markdown",
   "metadata": {},
   "source": [
    "23th December has the highest number of delays and 8 March has second highest delays. However, as calculated in previous question, 8th March has maximum departure delays, its probably the worst day to fly out."
   ]
  },
  {
   "cell_type": "markdown",
   "metadata": {
    "ein.tags": "worksheet-0",
    "slideshow": {
     "slide_type": "-"
    }
   },
   "source": [
    "(c) Are there any seasonal patterns in departure delays for flights from NYC?"
   ]
  },
  {
   "cell_type": "code",
   "execution_count": 15,
   "metadata": {
    "autoscroll": false,
    "ein.tags": "worksheet-0",
    "slideshow": {
     "slide_type": "-"
    }
   },
   "outputs": [
    {
     "name": "stdout",
     "output_type": "stream",
     "text": [
      "    month  dep_delay\n",
      "0       1  10.036665\n",
      "1       2  10.816843\n",
      "2       3  13.227076\n",
      "3       4  13.938038\n",
      "4       5  12.986859\n",
      "5       6  20.846332\n",
      "6       7  21.727787\n",
      "7       8  12.611040\n",
      "8       9   6.722476\n",
      "9      10   6.243988\n",
      "10     11   5.435362\n",
      "11     12  16.576688\n"
     ]
    },
    {
     "data": {
      "image/png": "[encoded data removed]",
      "text/plain": [
       "<matplotlib.figure.Figure at 0x22a09cf2a20>"
      ]
     },
     "metadata": {},
     "output_type": "display_data"
    }
   ],
   "source": [
    "# To check seasonal patterns, measured the average means of departure delays across the months\n",
    "avg_delay_bymonth = pd.DataFrame(flights_df.groupby(['month'])['dep_delay'].mean())\n",
    "avg_delay_bymonth.reset_index(level =0, inplace = True)\n",
    "print (avg_delay_bymonth)\n",
    "import matplotlib.pyplot as plt\n",
    "plt.plot(avg_delay_bymonth.month, avg_delay_bymonth.dep_delay)\n",
    "plt.xlabel('Month')\n",
    "plt.ylabel('Departure Delay')\n",
    "plt.title('Departure Delay by Months of the year 2013')\n",
    "plt.xticks(range(13))\n",
    "plt.xlim(1,12)\n",
    "plt.show()"
   ]
  },
  {
   "cell_type": "markdown",
   "metadata": {
    "ein.tags": "worksheet-0",
    "slideshow": {
     "slide_type": "-"
    }
   },
   "source": [
    "According to the above plot, June, July and December have the maximum delays. This could be because these months are the peak times for vacations and festivals like Christmas and the demand for these flights increases then. Also, winter storms in December and hot air in June, July could be the reason."
   ]
  },
  {
   "cell_type": "markdown",
   "metadata": {
    "ein.tags": "worksheet-0",
    "slideshow": {
     "slide_type": "-"
    }
   },
   "source": [
    "(d) On average, how do departure delays vary over the course of a day?"
   ]
  },
  {
   "cell_type": "code",
   "execution_count": 16,
   "metadata": {
    "autoscroll": false,
    "ein.tags": "worksheet-0",
    "slideshow": {
     "slide_type": "-"
    }
   },
   "outputs": [
    {
     "name": "stdout",
     "output_type": "stream",
     "text": [
      "       dep_delay\n",
      "hour            \n",
      "0.0   128.642452\n",
      "1.0   207.049327\n",
      "2.0   239.921875\n",
      "3.0   304.727273\n",
      "4.0    -5.554098\n",
      "5.0    -4.355644\n",
      "6.0    -1.520552\n",
      "7.0     0.223289\n",
      "8.0     1.091432\n",
      "9.0     4.268295\n",
      "10.0    5.548644\n",
      "11.0    5.652309\n",
      "12.0    7.601892\n",
      "13.0    9.380639\n",
      "14.0    8.090381\n",
      "15.0   10.682049\n",
      "16.0   13.621150\n",
      "17.0   16.756593\n",
      "18.0   18.664671\n",
      "19.0   21.497342\n",
      "20.0   28.266213\n",
      "21.0   42.064964\n",
      "22.0   68.190042\n",
      "23.0   96.946865\n",
      "24.0   64.862069\n"
     ]
    },
    {
     "data": {
      "image/png": "[encoded data removed]",
      "text/plain": [
       "<matplotlib.figure.Figure at 0x22a08c2cc50>"
      ]
     },
     "metadata": {},
     "output_type": "display_data"
    }
   ],
   "source": [
    "# Grouped the dataset by hour and calculated mean departure delay throughout the day \n",
    "depdelay_by_hr_df = pd.DataFrame(flights_df.groupby(['hour'])['dep_delay'].mean())\n",
    "print (depdelay_by_hr_df)\n",
    "plt.plot(depdelay_by_hr_df)\n",
    "plt.xticks(range(25))\n",
    "plt.xlabel('Time of the day')\n",
    "plt.ylabel('Departure Delay')\n",
    "plt.title('Departure Delay by Time of the Day')\n",
    "plt.xlim(1, 24)\n",
    "plt.show()"
   ]
  },
  {
   "cell_type": "markdown",
   "metadata": {
    "ein.tags": "worksheet-0",
    "slideshow": {
     "slide_type": "-"
    }
   },
   "source": [
    "Departure delays are minimum and close to zero at 4am. The delays increase gradually as the day proceeds. From 23 hours or 11pm to 3am in the morning, the delays are the maximum. After 3am delays significantly drop."
   ]
  },
  {
   "cell_type": "markdown",
   "metadata": {
    "ein.tags": "worksheet-0",
    "slideshow": {
     "slide_type": "-"
    }
   },
   "source": [
    "## Question 3\n",
    "   Which flight departing NYC in 2013 flew the fastest?"
   ]
  },
  {
   "cell_type": "code",
   "execution_count": 17,
   "metadata": {
    "autoscroll": false,
    "ein.tags": "worksheet-0",
    "slideshow": {
     "slide_type": "-"
    }
   },
   "outputs": [
    {
     "name": "stdout",
     "output_type": "stream",
     "text": [
      "        Unnamed: 0  year  month  day  dep_time  dep_delay  arr_time  \\\n",
      "216447      216448  2013      5   25    1709.0        9.0    1923.0   \n",
      "\n",
      "        arr_delay carrier tailnum  flight origin dest  air_time  distance  \\\n",
      "216447      -14.0      DL  N666DN    1499    LGA  ATL      65.0       762   \n",
      "\n",
      "        hour  minute       date      speed  \n",
      "216447  17.0     9.0 2013-05-25  11.723077  \n"
     ]
    }
   ],
   "source": [
    "# calculated speed of each flight\n",
    "flights_df['speed'] =  flights_df['distance']/flights_df['air_time']\n",
    "print(flights_df.sort_values(by='speed', ascending=False).head(1))"
   ]
  },
  {
   "cell_type": "markdown",
   "metadata": {
    "ein.tags": "worksheet-0",
    "slideshow": {
     "slide_type": "-"
    }
   },
   "source": [
    "Flight 1499, Tailnum N666DN, carrier DL flew the fastest"
   ]
  },
  {
   "cell_type": "markdown",
   "metadata": {
    "ein.tags": "worksheet-0",
    "slideshow": {
     "slide_type": "-"
    }
   },
   "source": [
    "## Question 4\n",
    "Which flights (i.e. carrier + flight + dest) happen every day? Where do they fly to?"
   ]
  },
  {
   "cell_type": "code",
   "execution_count": 18,
   "metadata": {
    "autoscroll": false,
    "ein.tags": "worksheet-0",
    "slideshow": {
     "slide_type": "-"
    }
   },
   "outputs": [
    {
     "data": {
      "text/html": [
       "<div>\n",
       "<style>\n",
       "    .dataframe thead tr:only-child th {\n",
       "        text-align: right;\n",
       "    }\n",
       "\n",
       "    .dataframe thead th {\n",
       "        text-align: left;\n",
       "    }\n",
       "\n",
       "    .dataframe tbody tr th {\n",
       "        vertical-align: top;\n",
       "    }\n",
       "</style>\n",
       "<table border=\"1\" class=\"dataframe\">\n",
       "  <thead>\n",
       "    <tr style=\"text-align: right;\">\n",
       "      <th></th>\n",
       "      <th></th>\n",
       "      <th></th>\n",
       "      <th>Unnamed: 0</th>\n",
       "      <th>year</th>\n",
       "      <th>month</th>\n",
       "      <th>day</th>\n",
       "      <th>dep_time</th>\n",
       "      <th>dep_delay</th>\n",
       "      <th>arr_time</th>\n",
       "      <th>arr_delay</th>\n",
       "      <th>tailnum</th>\n",
       "      <th>origin</th>\n",
       "      <th>air_time</th>\n",
       "      <th>distance</th>\n",
       "      <th>hour</th>\n",
       "      <th>minute</th>\n",
       "      <th>date</th>\n",
       "      <th>speed</th>\n",
       "    </tr>\n",
       "    <tr>\n",
       "      <th>carrier</th>\n",
       "      <th>flight</th>\n",
       "      <th>dest</th>\n",
       "      <th></th>\n",
       "      <th></th>\n",
       "      <th></th>\n",
       "      <th></th>\n",
       "      <th></th>\n",
       "      <th></th>\n",
       "      <th></th>\n",
       "      <th></th>\n",
       "      <th></th>\n",
       "      <th></th>\n",
       "      <th></th>\n",
       "      <th></th>\n",
       "      <th></th>\n",
       "      <th></th>\n",
       "      <th></th>\n",
       "      <th></th>\n",
       "    </tr>\n",
       "  </thead>\n",
       "  <tbody>\n",
       "    <tr>\n",
       "      <th rowspan=\"5\" valign=\"top\">AA</th>\n",
       "      <th>59</th>\n",
       "      <th>SFO</th>\n",
       "      <td>365</td>\n",
       "      <td>365</td>\n",
       "      <td>365</td>\n",
       "      <td>365</td>\n",
       "      <td>359</td>\n",
       "      <td>359</td>\n",
       "      <td>359</td>\n",
       "      <td>359</td>\n",
       "      <td>363</td>\n",
       "      <td>365</td>\n",
       "      <td>359</td>\n",
       "      <td>365</td>\n",
       "      <td>359</td>\n",
       "      <td>359</td>\n",
       "      <td>365</td>\n",
       "      <td>359</td>\n",
       "    </tr>\n",
       "    <tr>\n",
       "      <th>119</th>\n",
       "      <th>LAX</th>\n",
       "      <td>365</td>\n",
       "      <td>365</td>\n",
       "      <td>365</td>\n",
       "      <td>365</td>\n",
       "      <td>361</td>\n",
       "      <td>361</td>\n",
       "      <td>361</td>\n",
       "      <td>359</td>\n",
       "      <td>364</td>\n",
       "      <td>365</td>\n",
       "      <td>359</td>\n",
       "      <td>365</td>\n",
       "      <td>361</td>\n",
       "      <td>361</td>\n",
       "      <td>365</td>\n",
       "      <td>359</td>\n",
       "    </tr>\n",
       "    <tr>\n",
       "      <th>181</th>\n",
       "      <th>LAX</th>\n",
       "      <td>365</td>\n",
       "      <td>365</td>\n",
       "      <td>365</td>\n",
       "      <td>365</td>\n",
       "      <td>363</td>\n",
       "      <td>363</td>\n",
       "      <td>363</td>\n",
       "      <td>362</td>\n",
       "      <td>365</td>\n",
       "      <td>365</td>\n",
       "      <td>362</td>\n",
       "      <td>365</td>\n",
       "      <td>363</td>\n",
       "      <td>363</td>\n",
       "      <td>365</td>\n",
       "      <td>362</td>\n",
       "    </tr>\n",
       "    <tr>\n",
       "      <th>1357</th>\n",
       "      <th>SJU</th>\n",
       "      <td>365</td>\n",
       "      <td>365</td>\n",
       "      <td>365</td>\n",
       "      <td>365</td>\n",
       "      <td>364</td>\n",
       "      <td>364</td>\n",
       "      <td>364</td>\n",
       "      <td>363</td>\n",
       "      <td>364</td>\n",
       "      <td>365</td>\n",
       "      <td>363</td>\n",
       "      <td>365</td>\n",
       "      <td>364</td>\n",
       "      <td>364</td>\n",
       "      <td>365</td>\n",
       "      <td>363</td>\n",
       "    </tr>\n",
       "    <tr>\n",
       "      <th>1611</th>\n",
       "      <th>MIA</th>\n",
       "      <td>365</td>\n",
       "      <td>365</td>\n",
       "      <td>365</td>\n",
       "      <td>365</td>\n",
       "      <td>360</td>\n",
       "      <td>360</td>\n",
       "      <td>360</td>\n",
       "      <td>360</td>\n",
       "      <td>364</td>\n",
       "      <td>365</td>\n",
       "      <td>360</td>\n",
       "      <td>365</td>\n",
       "      <td>360</td>\n",
       "      <td>360</td>\n",
       "      <td>365</td>\n",
       "      <td>360</td>\n",
       "    </tr>\n",
       "    <tr>\n",
       "      <th rowspan=\"6\" valign=\"top\">B6</th>\n",
       "      <th>219</th>\n",
       "      <th>CLT</th>\n",
       "      <td>365</td>\n",
       "      <td>365</td>\n",
       "      <td>365</td>\n",
       "      <td>365</td>\n",
       "      <td>363</td>\n",
       "      <td>363</td>\n",
       "      <td>363</td>\n",
       "      <td>363</td>\n",
       "      <td>365</td>\n",
       "      <td>365</td>\n",
       "      <td>363</td>\n",
       "      <td>365</td>\n",
       "      <td>363</td>\n",
       "      <td>363</td>\n",
       "      <td>365</td>\n",
       "      <td>363</td>\n",
       "    </tr>\n",
       "    <tr>\n",
       "      <th>359</th>\n",
       "      <th>BUR</th>\n",
       "      <td>365</td>\n",
       "      <td>365</td>\n",
       "      <td>365</td>\n",
       "      <td>365</td>\n",
       "      <td>364</td>\n",
       "      <td>364</td>\n",
       "      <td>364</td>\n",
       "      <td>364</td>\n",
       "      <td>365</td>\n",
       "      <td>365</td>\n",
       "      <td>364</td>\n",
       "      <td>365</td>\n",
       "      <td>364</td>\n",
       "      <td>364</td>\n",
       "      <td>365</td>\n",
       "      <td>364</td>\n",
       "    </tr>\n",
       "    <tr>\n",
       "      <th>371</th>\n",
       "      <th>FLL</th>\n",
       "      <td>365</td>\n",
       "      <td>365</td>\n",
       "      <td>365</td>\n",
       "      <td>365</td>\n",
       "      <td>359</td>\n",
       "      <td>359</td>\n",
       "      <td>359</td>\n",
       "      <td>359</td>\n",
       "      <td>365</td>\n",
       "      <td>365</td>\n",
       "      <td>359</td>\n",
       "      <td>365</td>\n",
       "      <td>359</td>\n",
       "      <td>359</td>\n",
       "      <td>365</td>\n",
       "      <td>359</td>\n",
       "    </tr>\n",
       "    <tr>\n",
       "      <th>431</th>\n",
       "      <th>SRQ</th>\n",
       "      <td>365</td>\n",
       "      <td>365</td>\n",
       "      <td>365</td>\n",
       "      <td>365</td>\n",
       "      <td>362</td>\n",
       "      <td>362</td>\n",
       "      <td>362</td>\n",
       "      <td>361</td>\n",
       "      <td>365</td>\n",
       "      <td>365</td>\n",
       "      <td>361</td>\n",
       "      <td>365</td>\n",
       "      <td>362</td>\n",
       "      <td>362</td>\n",
       "      <td>365</td>\n",
       "      <td>361</td>\n",
       "    </tr>\n",
       "    <tr>\n",
       "      <th>703</th>\n",
       "      <th>SJU</th>\n",
       "      <td>365</td>\n",
       "      <td>365</td>\n",
       "      <td>365</td>\n",
       "      <td>365</td>\n",
       "      <td>364</td>\n",
       "      <td>364</td>\n",
       "      <td>364</td>\n",
       "      <td>364</td>\n",
       "      <td>365</td>\n",
       "      <td>365</td>\n",
       "      <td>364</td>\n",
       "      <td>365</td>\n",
       "      <td>364</td>\n",
       "      <td>364</td>\n",
       "      <td>365</td>\n",
       "      <td>364</td>\n",
       "    </tr>\n",
       "    <tr>\n",
       "      <th>1783</th>\n",
       "      <th>MCO</th>\n",
       "      <td>365</td>\n",
       "      <td>365</td>\n",
       "      <td>365</td>\n",
       "      <td>365</td>\n",
       "      <td>365</td>\n",
       "      <td>365</td>\n",
       "      <td>365</td>\n",
       "      <td>365</td>\n",
       "      <td>365</td>\n",
       "      <td>365</td>\n",
       "      <td>365</td>\n",
       "      <td>365</td>\n",
       "      <td>365</td>\n",
       "      <td>365</td>\n",
       "      <td>365</td>\n",
       "      <td>365</td>\n",
       "    </tr>\n",
       "    <tr>\n",
       "      <th rowspan=\"2\" valign=\"top\">DL</th>\n",
       "      <th>2159</th>\n",
       "      <th>MCO</th>\n",
       "      <td>365</td>\n",
       "      <td>365</td>\n",
       "      <td>365</td>\n",
       "      <td>365</td>\n",
       "      <td>364</td>\n",
       "      <td>364</td>\n",
       "      <td>364</td>\n",
       "      <td>364</td>\n",
       "      <td>365</td>\n",
       "      <td>365</td>\n",
       "      <td>364</td>\n",
       "      <td>365</td>\n",
       "      <td>364</td>\n",
       "      <td>364</td>\n",
       "      <td>365</td>\n",
       "      <td>364</td>\n",
       "    </tr>\n",
       "    <tr>\n",
       "      <th>2391</th>\n",
       "      <th>TPA</th>\n",
       "      <td>365</td>\n",
       "      <td>365</td>\n",
       "      <td>365</td>\n",
       "      <td>365</td>\n",
       "      <td>360</td>\n",
       "      <td>360</td>\n",
       "      <td>360</td>\n",
       "      <td>359</td>\n",
       "      <td>365</td>\n",
       "      <td>365</td>\n",
       "      <td>359</td>\n",
       "      <td>365</td>\n",
       "      <td>360</td>\n",
       "      <td>360</td>\n",
       "      <td>365</td>\n",
       "      <td>359</td>\n",
       "    </tr>\n",
       "    <tr>\n",
       "      <th>EV</th>\n",
       "      <th>5712</th>\n",
       "      <th>IAD</th>\n",
       "      <td>365</td>\n",
       "      <td>365</td>\n",
       "      <td>365</td>\n",
       "      <td>365</td>\n",
       "      <td>351</td>\n",
       "      <td>351</td>\n",
       "      <td>351</td>\n",
       "      <td>351</td>\n",
       "      <td>365</td>\n",
       "      <td>365</td>\n",
       "      <td>351</td>\n",
       "      <td>365</td>\n",
       "      <td>351</td>\n",
       "      <td>351</td>\n",
       "      <td>365</td>\n",
       "      <td>351</td>\n",
       "    </tr>\n",
       "    <tr>\n",
       "      <th>UA</th>\n",
       "      <th>15</th>\n",
       "      <th>HNL</th>\n",
       "      <td>365</td>\n",
       "      <td>365</td>\n",
       "      <td>365</td>\n",
       "      <td>365</td>\n",
       "      <td>363</td>\n",
       "      <td>363</td>\n",
       "      <td>363</td>\n",
       "      <td>359</td>\n",
       "      <td>363</td>\n",
       "      <td>365</td>\n",
       "      <td>359</td>\n",
       "      <td>365</td>\n",
       "      <td>363</td>\n",
       "      <td>363</td>\n",
       "      <td>365</td>\n",
       "      <td>359</td>\n",
       "    </tr>\n",
       "    <tr>\n",
       "      <th rowspan=\"3\" valign=\"top\">VX</th>\n",
       "      <th>251</th>\n",
       "      <th>LAS</th>\n",
       "      <td>365</td>\n",
       "      <td>365</td>\n",
       "      <td>365</td>\n",
       "      <td>365</td>\n",
       "      <td>364</td>\n",
       "      <td>364</td>\n",
       "      <td>364</td>\n",
       "      <td>364</td>\n",
       "      <td>365</td>\n",
       "      <td>365</td>\n",
       "      <td>364</td>\n",
       "      <td>365</td>\n",
       "      <td>364</td>\n",
       "      <td>364</td>\n",
       "      <td>365</td>\n",
       "      <td>364</td>\n",
       "    </tr>\n",
       "    <tr>\n",
       "      <th>407</th>\n",
       "      <th>LAX</th>\n",
       "      <td>365</td>\n",
       "      <td>365</td>\n",
       "      <td>365</td>\n",
       "      <td>365</td>\n",
       "      <td>364</td>\n",
       "      <td>364</td>\n",
       "      <td>363</td>\n",
       "      <td>363</td>\n",
       "      <td>365</td>\n",
       "      <td>365</td>\n",
       "      <td>363</td>\n",
       "      <td>365</td>\n",
       "      <td>364</td>\n",
       "      <td>364</td>\n",
       "      <td>365</td>\n",
       "      <td>363</td>\n",
       "    </tr>\n",
       "    <tr>\n",
       "      <th>413</th>\n",
       "      <th>LAX</th>\n",
       "      <td>365</td>\n",
       "      <td>365</td>\n",
       "      <td>365</td>\n",
       "      <td>365</td>\n",
       "      <td>362</td>\n",
       "      <td>362</td>\n",
       "      <td>362</td>\n",
       "      <td>360</td>\n",
       "      <td>365</td>\n",
       "      <td>365</td>\n",
       "      <td>360</td>\n",
       "      <td>365</td>\n",
       "      <td>362</td>\n",
       "      <td>362</td>\n",
       "      <td>365</td>\n",
       "      <td>360</td>\n",
       "    </tr>\n",
       "  </tbody>\n",
       "</table>\n",
       "</div>"
      ],
      "text/plain": [
       "                     Unnamed: 0  year  month  day  dep_time  dep_delay  \\\n",
       "carrier flight dest                                                      \n",
       "AA      59     SFO          365   365    365  365       359        359   \n",
       "        119    LAX          365   365    365  365       361        361   \n",
       "        181    LAX          365   365    365  365       363        363   \n",
       "        1357   SJU          365   365    365  365       364        364   \n",
       "        1611   MIA          365   365    365  365       360        360   \n",
       "B6      219    CLT          365   365    365  365       363        363   \n",
       "        359    BUR          365   365    365  365       364        364   \n",
       "        371    FLL          365   365    365  365       359        359   \n",
       "        431    SRQ          365   365    365  365       362        362   \n",
       "        703    SJU          365   365    365  365       364        364   \n",
       "        1783   MCO          365   365    365  365       365        365   \n",
       "DL      2159   MCO          365   365    365  365       364        364   \n",
       "        2391   TPA          365   365    365  365       360        360   \n",
       "EV      5712   IAD          365   365    365  365       351        351   \n",
       "UA      15     HNL          365   365    365  365       363        363   \n",
       "VX      251    LAS          365   365    365  365       364        364   \n",
       "        407    LAX          365   365    365  365       364        364   \n",
       "        413    LAX          365   365    365  365       362        362   \n",
       "\n",
       "                     arr_time  arr_delay  tailnum  origin  air_time  distance  \\\n",
       "carrier flight dest                                                             \n",
       "AA      59     SFO        359        359      363     365       359       365   \n",
       "        119    LAX        361        359      364     365       359       365   \n",
       "        181    LAX        363        362      365     365       362       365   \n",
       "        1357   SJU        364        363      364     365       363       365   \n",
       "        1611   MIA        360        360      364     365       360       365   \n",
       "B6      219    CLT        363        363      365     365       363       365   \n",
       "        359    BUR        364        364      365     365       364       365   \n",
       "        371    FLL        359        359      365     365       359       365   \n",
       "        431    SRQ        362        361      365     365       361       365   \n",
       "        703    SJU        364        364      365     365       364       365   \n",
       "        1783   MCO        365        365      365     365       365       365   \n",
       "DL      2159   MCO        364        364      365     365       364       365   \n",
       "        2391   TPA        360        359      365     365       359       365   \n",
       "EV      5712   IAD        351        351      365     365       351       365   \n",
       "UA      15     HNL        363        359      363     365       359       365   \n",
       "VX      251    LAS        364        364      365     365       364       365   \n",
       "        407    LAX        363        363      365     365       363       365   \n",
       "        413    LAX        362        360      365     365       360       365   \n",
       "\n",
       "                     hour  minute  date  speed  \n",
       "carrier flight dest                             \n",
       "AA      59     SFO    359     359   365    359  \n",
       "        119    LAX    361     361   365    359  \n",
       "        181    LAX    363     363   365    362  \n",
       "        1357   SJU    364     364   365    363  \n",
       "        1611   MIA    360     360   365    360  \n",
       "B6      219    CLT    363     363   365    363  \n",
       "        359    BUR    364     364   365    364  \n",
       "        371    FLL    359     359   365    359  \n",
       "        431    SRQ    362     362   365    361  \n",
       "        703    SJU    364     364   365    364  \n",
       "        1783   MCO    365     365   365    365  \n",
       "DL      2159   MCO    364     364   365    364  \n",
       "        2391   TPA    360     360   365    359  \n",
       "EV      5712   IAD    351     351   365    351  \n",
       "UA      15     HNL    363     363   365    359  \n",
       "VX      251    LAS    364     364   365    364  \n",
       "        407    LAX    364     364   365    363  \n",
       "        413    LAX    362     362   365    360  "
      ]
     },
     "execution_count": 18,
     "metadata": {},
     "output_type": "execute_result"
    }
   ],
   "source": [
    "# Grouped the dataset by carrier, flight and dest and counted the number of days each flight took off. Displayed those records\n",
    "# where number of days = 365 \n",
    "grouped_by_flight_df = pd.DataFrame(flights_df.groupby([flights_df.carrier,flights_df.flight, flights_df.dest]).count())\n",
    "grouped_by_flight_df[grouped_by_flight_df.day==365]"
   ]
  },
  {
   "cell_type": "markdown",
   "metadata": {
    "ein.tags": "worksheet-0",
    "slideshow": {
     "slide_type": "-"
    }
   },
   "source": [
    "AA(59, 119, 181, 1357, 1611), B6(219, 359, 371, 431, 703, 1783), DL(2159, 2391), EV 5712, UA 15, VX(251, 407, 413) are the 18 flights that happen everyday. Rest of the details are listed above in the table."
   ]
  },
  {
   "cell_type": "markdown",
   "metadata": {
    "ein.tags": "worksheet-0",
    "slideshow": {
     "slide_type": "-"
    }
   },
   "source": [
    "## Question 5\n",
    "Develop one research question you can address using the nycflights2013 dataset. Provide two visualizations to support your exploration of this question. Discuss what you find.\n"
   ]
  },
  {
   "cell_type": "markdown",
   "metadata": {},
   "source": [
    "#### In 2013, which flights should a passenger consider booking for a better experience in future and which ones should they definitely avoid?"
   ]
  },
  {
   "cell_type": "code",
   "execution_count": 19,
   "metadata": {
    "autoscroll": false,
    "ein.tags": "worksheet-0",
    "slideshow": {
     "slide_type": "-"
    }
   },
   "outputs": [
    {
     "name": "stdout",
     "output_type": "stream",
     "text": [
      "   carrier  dep_delay  arr_delay     speed\n",
      "0       9E  16.725769   7.379669  5.757173\n",
      "1       AA   8.586016   0.364291  6.957879\n",
      "2       AS   5.804775  -9.930889  7.394648\n",
      "3       B6  13.022522   9.457973  6.666191\n",
      "4       DL   9.264505   1.644341  6.974380\n",
      "5       EV  19.955390  15.796431  6.049060\n",
      "6       F9  20.215543  21.920705  7.086202\n",
      "7       FL  18.726075  20.115906  6.572635\n",
      "8       HA   4.900585  -6.915205  8.005962\n",
      "9       MQ  10.552041  10.774733  6.140047\n",
      "10      OO  12.586207  11.931034  6.105335\n",
      "11      UA  12.106073   3.558011  7.014730\n",
      "12      US   3.782418   2.129595  5.698995\n",
      "13      VX  12.869421   1.764464  7.436249\n",
      "14      WN  17.711744   9.649120  6.675533\n",
      "15      YV  18.996330  15.556985  5.532833\n"
     ]
    }
   ],
   "source": [
    "# Grouped dataset by carrier and calculates mean of departure delay, arrival delay and speed\n",
    "q5_df = pd.DataFrame(flights_df.groupby(['carrier'])['dep_delay', 'arr_delay', 'speed'].mean())\n",
    "q5_df.reset_index(level=0, inplace=True) # changing multi-level index to normal index\n",
    "print (q5_df)"
   ]
  },
  {
   "cell_type": "code",
   "execution_count": 20,
   "metadata": {},
   "outputs": [
    {
     "data": {
      "image/png": "[encoded data removed]",
      "text/plain": [
       "<matplotlib.figure.Figure at 0x22a0ca0def0>"
      ]
     },
     "metadata": {},
     "output_type": "display_data"
    }
   ],
   "source": [
    "x = q5_df['arr_delay']\n",
    "y = q5_df['dep_delay']\n",
    "plt.rcParams['figure.figsize']= 7,7\n",
    "plt.scatter(x, y, s=500, c = q5_df['speed'], alpha=0.6, cmap=plt.cm.Blues)\n",
    "for i in range(len(q5_df)):\n",
    "    plt.text(x[i], y[i], s = q5_df['carrier'].loc[i], horizontalalignment ='center', verticalalignment ='center')\n",
    "plt.title('Arrival Delay vs Departure Delay for all the flights')\n",
    "plt.xlabel('Arrival Delay')\n",
    "plt.ylabel('Departure Delay')\n",
    "plt.show()"
   ]
  },
  {
   "cell_type": "markdown",
   "metadata": {
    "ein.tags": "worksheet-0",
    "slideshow": {
     "slide_type": "-"
    }
   },
   "source": [
    "As per the above plot, 'HA' and 'AS' have minimum departure and arrival delays, and maximum speed. Hence, passengers should look for HA or AS flights for better experience. They should definitely avoid F9 and FL as these have maximum departure and arrival delays. They should also avoid EV and YU as these have minimum speeds."
   ]
  },
  {
   "cell_type": "code",
   "execution_count": 21,
   "metadata": {},
   "outputs": [
    {
     "name": "stdout",
     "output_type": "stream",
     "text": [
      "   carrier  month origin  flight\n",
      "0       AS      1    EWR      62\n",
      "1       AS      2    EWR      56\n",
      "2       AS      3    EWR      62\n",
      "3       AS      4    EWR      60\n",
      "4       AS      5    EWR      62\n",
      "5       AS      6    EWR      60\n",
      "6       AS      7    EWR      62\n",
      "7       AS      8    EWR      62\n",
      "8       AS      9    EWR      60\n",
      "9       AS     10    EWR      62\n",
      "10      AS     11    EWR      52\n",
      "11      AS     12    EWR      54\n",
      "12      HA      1    JFK      31\n",
      "13      HA      2    JFK      28\n",
      "14      HA      3    JFK      31\n",
      "15      HA      4    JFK      30\n",
      "16      HA      5    JFK      31\n",
      "17      HA      6    JFK      30\n",
      "18      HA      7    JFK      31\n",
      "19      HA      8    JFK      31\n",
      "20      HA      9    JFK      25\n",
      "21      HA     10    JFK      21\n",
      "22      HA     11    JFK      25\n",
      "23      HA     12    JFK      28\n"
     ]
    },
    {
     "data": {
      "image/png": "[encoded data removed]",
      "text/plain": [
       "<matplotlib.figure.Figure at 0x22a0ca859e8>"
      ]
     },
     "metadata": {},
     "output_type": "display_data"
    }
   ],
   "source": [
    "# Finding the number of flights of HA and AS available throughout the year\n",
    "# Fetched records where carrier is HA or AS\n",
    "flights_hahs_df = flights_df[np.logical_or(flights_df.carrier=='HA', flights_df.carrier=='AS')]\n",
    "num_flights = pd.DataFrame(flights_hahs_df.groupby(['carrier', 'month', 'origin'])['flight'].count())\n",
    "num_flights.reset_index(level = 2, inplace = True)\n",
    "num_flights.reset_index(level = 1, inplace = True)\n",
    "num_flights.reset_index(level = 0, inplace = True)\n",
    "x1 = num_flights[num_flights.carrier=='AS'].month\n",
    "y1 = num_flights[num_flights.carrier=='AS'].flight\n",
    "x2 = num_flights[num_flights.carrier=='HA'].month\n",
    "y2 = num_flights[num_flights.carrier=='HA'].flight\n",
    "print(num_flights)\n",
    "# plot for AS\n",
    "plt.scatter(x1, y1, s=500, c=['Red'], alpha =0.6)\n",
    "# plot for HA\n",
    "plt.scatter(x2, y2, s=500, c=['Grey'], alpha =0.6)\n",
    "j=0\n",
    "# To display text on scatter plot\n",
    "for i in range(len(num_flights)//2):\n",
    "    plt.text(x1[i], y1[i], s = num_flights.carrier.loc[i], horizontalalignment ='center', verticalalignment ='center')\n",
    "    j=i+1\n",
    "# To display text on scatter plot\n",
    "for k in range(len(num_flights)//2):\n",
    "    plt.text(x2[j], y2[j], s = num_flights.carrier.loc[j], horizontalalignment ='center', verticalalignment ='center')\n",
    "    j=j+1 \n",
    "\n",
    "plt.title('Variation of number of flights throughout the year')\n",
    "plt.xlabel('Month')\n",
    "plt.ylabel('Number of Flights')\n",
    "plt.xticks(range(13))\n",
    "plt.show()"
   ]
  },
  {
   "cell_type": "markdown",
   "metadata": {},
   "source": [
    "The number of flights of AS carrier are almost double than that of HA. Also, the number of flights are consistent throughout the year. Only for HA, number of flights in October are quite less, whereas AS flights are less in the months of November and December. Moreover, to catch the flights of AS carrier, passengers will need to board flights from EWR airport and for HA flights, they will have to board from JFK airport."
   ]
  },
  {
   "cell_type": "markdown",
   "metadata": {
    "ein.tags": "worksheet-0",
    "slideshow": {
     "slide_type": "-"
    }
   },
   "source": [
    "## Question 6\n",
    "What weather conditions are associated with flight delays leaving NYC? Use graphics to explore."
   ]
  },
  {
   "cell_type": "code",
   "execution_count": 22,
   "metadata": {
    "autoscroll": false,
    "ein.tags": "worksheet-0",
    "slideshow": {
     "slide_type": "-"
    }
   },
   "outputs": [
    {
     "data": {
      "text/plain": [
       "(8719, 15)"
      ]
     },
     "execution_count": 22,
     "metadata": {},
     "output_type": "execute_result"
    }
   ],
   "source": [
    "weather_df = pd.read_csv('weather.csv.bz2')\n",
    "weather_df.shape"
   ]
  },
  {
   "cell_type": "code",
   "execution_count": 23,
   "metadata": {},
   "outputs": [
    {
     "data": {
      "text/plain": [
       "Index(['Unnamed: 0', 'origin', 'year', 'month', 'day', 'hour', 'temp', 'dewp',\n",
       "       'humid', 'wind_dir', 'wind_speed', 'wind_gust', 'precip', 'pressure',\n",
       "       'visib'],\n",
       "      dtype='object')"
      ]
     },
     "execution_count": 23,
     "metadata": {},
     "output_type": "execute_result"
    }
   ],
   "source": [
    "weather_df.columns"
   ]
  },
  {
   "cell_type": "code",
   "execution_count": 24,
   "metadata": {},
   "outputs": [
    {
     "data": {
      "text/html": [
       "<div>\n",
       "<style>\n",
       "    .dataframe thead tr:only-child th {\n",
       "        text-align: right;\n",
       "    }\n",
       "\n",
       "    .dataframe thead th {\n",
       "        text-align: left;\n",
       "    }\n",
       "\n",
       "    .dataframe tbody tr th {\n",
       "        vertical-align: top;\n",
       "    }\n",
       "</style>\n",
       "<table border=\"1\" class=\"dataframe\">\n",
       "  <thead>\n",
       "    <tr style=\"text-align: right;\">\n",
       "      <th></th>\n",
       "      <th>Unnamed: 0</th>\n",
       "      <th>origin</th>\n",
       "      <th>year</th>\n",
       "      <th>month</th>\n",
       "      <th>day</th>\n",
       "      <th>hour</th>\n",
       "      <th>temp</th>\n",
       "      <th>dewp</th>\n",
       "      <th>humid</th>\n",
       "      <th>wind_dir</th>\n",
       "      <th>wind_speed</th>\n",
       "      <th>wind_gust</th>\n",
       "      <th>precip</th>\n",
       "      <th>pressure</th>\n",
       "      <th>visib</th>\n",
       "    </tr>\n",
       "  </thead>\n",
       "  <tbody>\n",
       "    <tr>\n",
       "      <th>0</th>\n",
       "      <td>1</td>\n",
       "      <td>EWR</td>\n",
       "      <td>2013</td>\n",
       "      <td>1.0</td>\n",
       "      <td>1.0</td>\n",
       "      <td>0.0</td>\n",
       "      <td>37.04</td>\n",
       "      <td>21.92</td>\n",
       "      <td>53.97</td>\n",
       "      <td>230.0</td>\n",
       "      <td>10.35702</td>\n",
       "      <td>11.918651</td>\n",
       "      <td>0.0</td>\n",
       "      <td>1013.9</td>\n",
       "      <td>10.0</td>\n",
       "    </tr>\n",
       "    <tr>\n",
       "      <th>1</th>\n",
       "      <td>2</td>\n",
       "      <td>EWR</td>\n",
       "      <td>2013</td>\n",
       "      <td>1.0</td>\n",
       "      <td>1.0</td>\n",
       "      <td>1.0</td>\n",
       "      <td>37.04</td>\n",
       "      <td>21.92</td>\n",
       "      <td>53.97</td>\n",
       "      <td>230.0</td>\n",
       "      <td>13.80936</td>\n",
       "      <td>15.891535</td>\n",
       "      <td>0.0</td>\n",
       "      <td>1013.0</td>\n",
       "      <td>10.0</td>\n",
       "    </tr>\n",
       "    <tr>\n",
       "      <th>2</th>\n",
       "      <td>3</td>\n",
       "      <td>EWR</td>\n",
       "      <td>2013</td>\n",
       "      <td>1.0</td>\n",
       "      <td>1.0</td>\n",
       "      <td>2.0</td>\n",
       "      <td>37.94</td>\n",
       "      <td>21.92</td>\n",
       "      <td>52.09</td>\n",
       "      <td>230.0</td>\n",
       "      <td>12.65858</td>\n",
       "      <td>14.567241</td>\n",
       "      <td>0.0</td>\n",
       "      <td>1012.6</td>\n",
       "      <td>10.0</td>\n",
       "    </tr>\n",
       "    <tr>\n",
       "      <th>3</th>\n",
       "      <td>4</td>\n",
       "      <td>EWR</td>\n",
       "      <td>2013</td>\n",
       "      <td>1.0</td>\n",
       "      <td>1.0</td>\n",
       "      <td>3.0</td>\n",
       "      <td>37.94</td>\n",
       "      <td>23.00</td>\n",
       "      <td>54.51</td>\n",
       "      <td>230.0</td>\n",
       "      <td>13.80936</td>\n",
       "      <td>15.891535</td>\n",
       "      <td>0.0</td>\n",
       "      <td>1012.7</td>\n",
       "      <td>10.0</td>\n",
       "    </tr>\n",
       "    <tr>\n",
       "      <th>4</th>\n",
       "      <td>5</td>\n",
       "      <td>EWR</td>\n",
       "      <td>2013</td>\n",
       "      <td>1.0</td>\n",
       "      <td>1.0</td>\n",
       "      <td>4.0</td>\n",
       "      <td>37.94</td>\n",
       "      <td>24.08</td>\n",
       "      <td>57.04</td>\n",
       "      <td>240.0</td>\n",
       "      <td>14.96014</td>\n",
       "      <td>17.215830</td>\n",
       "      <td>0.0</td>\n",
       "      <td>1012.8</td>\n",
       "      <td>10.0</td>\n",
       "    </tr>\n",
       "  </tbody>\n",
       "</table>\n",
       "</div>"
      ],
      "text/plain": [
       "   Unnamed: 0 origin  year  month  day  hour   temp   dewp  humid  wind_dir  \\\n",
       "0           1    EWR  2013    1.0  1.0   0.0  37.04  21.92  53.97     230.0   \n",
       "1           2    EWR  2013    1.0  1.0   1.0  37.04  21.92  53.97     230.0   \n",
       "2           3    EWR  2013    1.0  1.0   2.0  37.94  21.92  52.09     230.0   \n",
       "3           4    EWR  2013    1.0  1.0   3.0  37.94  23.00  54.51     230.0   \n",
       "4           5    EWR  2013    1.0  1.0   4.0  37.94  24.08  57.04     240.0   \n",
       "\n",
       "   wind_speed  wind_gust  precip  pressure  visib  \n",
       "0    10.35702  11.918651     0.0    1013.9   10.0  \n",
       "1    13.80936  15.891535     0.0    1013.0   10.0  \n",
       "2    12.65858  14.567241     0.0    1012.6   10.0  \n",
       "3    13.80936  15.891535     0.0    1012.7   10.0  \n",
       "4    14.96014  17.215830     0.0    1012.8   10.0  "
      ]
     },
     "execution_count": 24,
     "metadata": {},
     "output_type": "execute_result"
    }
   ],
   "source": [
    "weather_df.head()"
   ]
  },
  {
   "cell_type": "code",
   "execution_count": 25,
   "metadata": {},
   "outputs": [
    {
     "name": "stdout",
     "output_type": "stream",
     "text": [
      "   Unnamed: 0_x  year month day  dep_time  dep_delay  arr_time  arr_delay  \\\n",
      "0            20  2013     1   1     601.0        1.0     844.0       -6.0   \n",
      "1            23  2013     1   1     606.0       -4.0     858.0      -12.0   \n",
      "2            25  2013     1   1     607.0        0.0     858.0      -17.0   \n",
      "3            26  2013     1   1     608.0        8.0     807.0       32.0   \n",
      "4            30  2013     1   1     615.0        0.0     833.0       -9.0   \n",
      "\n",
      "  carrier tailnum  ...    Unnamed: 0_y   temp   dewp  humid  wind_dir  \\\n",
      "0      B6  N644JB  ...               6  39.02  26.06  59.37     270.0   \n",
      "1      AA  N633AA  ...               6  39.02  26.06  59.37     270.0   \n",
      "2      UA  N53442  ...               6  39.02  26.06  59.37     270.0   \n",
      "3      MQ  N9EAMQ  ...               6  39.02  26.06  59.37     270.0   \n",
      "4      DL  N326NB  ...               6  39.02  26.06  59.37     270.0   \n",
      "\n",
      "   wind_speed  wind_gust precip  pressure  visib  \n",
      "0    10.35702  11.918651    0.0    1012.0   10.0  \n",
      "1    10.35702  11.918651    0.0    1012.0   10.0  \n",
      "2    10.35702  11.918651    0.0    1012.0   10.0  \n",
      "3    10.35702  11.918651    0.0    1012.0   10.0  \n",
      "4    10.35702  11.918651    0.0    1012.0   10.0  \n",
      "\n",
      "[5 rows x 29 columns]\n"
     ]
    },
    {
     "data": {
      "text/plain": [
       "(117251, 29)"
      ]
     },
     "execution_count": 25,
     "metadata": {},
     "output_type": "execute_result"
    }
   ],
   "source": [
    "# Merging weather and flights dataset on origin, year, month, day and hour\n",
    "weather_flights_df = pd.merge(flights_df, weather_df, on = ['origin', 'year','month', 'day','hour'], how='inner')\n",
    "print(weather_flights_df.head())\n",
    "weather_flights_df.shape"
   ]
  },
  {
   "cell_type": "code",
   "execution_count": 26,
   "metadata": {},
   "outputs": [
    {
     "data": {
      "image/png": "[encoded data removed]",
      "text/plain": [
       "<matplotlib.figure.Figure at 0x22a0ca1fda0>"
      ]
     },
     "metadata": {},
     "output_type": "display_data"
    }
   ],
   "source": [
    "plt.rcParams['figure.figsize']= 7,7\n",
    "weather_flights_avg_df = pd.DataFrame(weather_flights_df.groupby(['temp'])['dep_delay'].mean())\n",
    "weather_flights_avg_df.reset_index(level = 0, inplace = True)\n",
    "plt.plot(weather_flights_avg_df.temp, weather_flights_avg_df.dep_delay)\n",
    "plt.title('Variation of Departure Delay with Temperature')\n",
    "plt.xlabel('Temperature')\n",
    "plt.ylabel('Departure Delay')\n",
    "plt.show()"
   ]
  },
  {
   "cell_type": "markdown",
   "metadata": {},
   "source": [
    "Very high temperatures around 90 causes maximum temperature delays."
   ]
  },
  {
   "cell_type": "code",
   "execution_count": 27,
   "metadata": {},
   "outputs": [
    {
     "data": {
      "image/png": "[encoded data removed]",
      "text/plain": [
       "<matplotlib.figure.Figure at 0x22a0c9ce2e8>"
      ]
     },
     "metadata": {},
     "output_type": "display_data"
    }
   ],
   "source": [
    "plt.rcParams['figure.figsize']= 7,7\n",
    "weather_flights_avg_df1 = pd.DataFrame(weather_flights_df.groupby(['precip'])['dep_delay'].mean())\n",
    "weather_flights_avg_df1.reset_index(level = 0, inplace = True)\n",
    "plt.plot(weather_flights_avg_df1.precip, weather_flights_avg_df1.dep_delay)\n",
    "plt.title('Variation of Departure Delay with Precipitation')\n",
    "plt.xlabel('Precipitation')\n",
    "plt.ylabel('Departure Delay')\n",
    "plt.show()"
   ]
  },
  {
   "cell_type": "markdown",
   "metadata": {},
   "source": [
    "Precipitation varies linearly with Departure Delay after it reaches a value of 0.4. As precipitation increases departure delays increase."
   ]
  },
  {
   "cell_type": "code",
   "execution_count": 28,
   "metadata": {},
   "outputs": [
    {
     "data": {
      "image/png": "[encoded data removed]",
      "text/plain": [
       "<matplotlib.figure.Figure at 0x22a0dba4a58>"
      ]
     },
     "metadata": {},
     "output_type": "display_data"
    }
   ],
   "source": [
    "plt.rcParams['figure.figsize']= 7,7\n",
    "weather_flights_avg_df2 = pd.DataFrame(weather_flights_df.groupby(['pressure'])['dep_delay'].mean())\n",
    "weather_flights_avg_df2.reset_index(level = 0, inplace = True)\n",
    "plt.plot(weather_flights_avg_df2.pressure, weather_flights_avg_df2.dep_delay)\n",
    "plt.title('Variation of Departure Delay with Pressure')\n",
    "plt.xlabel('Pressure')\n",
    "plt.ylabel('Departure Delay')\n",
    "plt.show()"
   ]
  },
  {
   "cell_type": "markdown",
   "metadata": {},
   "source": [
    "High temperatures of 1000 and 1040 cause high temperature delays."
   ]
  },
  {
   "cell_type": "code",
   "execution_count": 29,
   "metadata": {},
   "outputs": [
    {
     "data": {
      "image/png": "[encoded data removed]",
      "text/plain": [
       "<matplotlib.figure.Figure at 0x22a0db78358>"
      ]
     },
     "metadata": {},
     "output_type": "display_data"
    }
   ],
   "source": [
    "plt.rcParams['figure.figsize']= 7,7\n",
    "weather_flights_avg_df3 = pd.DataFrame(weather_flights_df.groupby(['visib'])['dep_delay'].mean())\n",
    "weather_flights_avg_df3.reset_index(level = 0, inplace = True)\n",
    "plt.plot(weather_flights_avg_df3.visib, weather_flights_avg_df3.dep_delay)\n",
    "plt.title('Variation of Departure Delay with Visibility')\n",
    "plt.xlabel('Visibility')\n",
    "plt.ylabel('Departure Delay')\n",
    "plt.show()"
   ]
  },
  {
   "cell_type": "markdown",
   "metadata": {},
   "source": [
    "At high visibility, departure delays are at the minimum."
   ]
  },
  {
   "cell_type": "code",
   "execution_count": 30,
   "metadata": {},
   "outputs": [
    {
     "data": {
      "image/png": "[encoded data removed]",
      "text/plain": [
       "<matplotlib.figure.Figure at 0x22a0db2d160>"
      ]
     },
     "metadata": {},
     "output_type": "display_data"
    }
   ],
   "source": [
    "plt.rcParams['figure.figsize']= 7,7\n",
    "weather_flights_avg_df4 = pd.DataFrame(weather_flights_df.groupby(['wind_speed'])['dep_delay'].mean())\n",
    "weather_flights_avg_df4.reset_index(level = 0, inplace = True)\n",
    "plt.plot(weather_flights_avg_df4.wind_speed, weather_flights_avg_df4.dep_delay)\n",
    "plt.title('Variation of Departure Delay with Wind Speed')\n",
    "plt.xlabel('Wind Speed')\n",
    "plt.ylabel('Departure Delay')\n",
    "plt.show()"
   ]
  },
  {
   "cell_type": "markdown",
   "metadata": {},
   "source": [
    "As wind speed increases, departure delay decreases."
   ]
  },
  {
   "cell_type": "markdown",
   "metadata": {},
   "source": [
    "Concluding the results of all the visualizations: Very high temperatures around 90 causes maximum temperature delays.\n",
    "Precipitation varies linearly with Departure Delay after it reaches a value of 0.4. As precipitation increases departure delays increase.\n",
    "As wind speed increases, departure delays decrease.\n",
    "High temperatures of 1000 and 1040 cause high departure delays.\n",
    "At high visibility, departure delays are at the minimum.\n",
    "As wind speed increases, departure delay decreases."
   ]
  },
  {
   "cell_type": "code",
   "execution_count": null,
   "metadata": {
    "collapsed": true
   },
   "outputs": [],
   "source": []
  }
 ],
 "metadata": {
  "kernelspec": {
   "display_name": "Python 3",
   "language": "python",
   "name": "python3"
  },
  "language_info": {
   "codemirror_mode": {
    "name": "ipython",
    "version": 3
   },
   "file_extension": ".py",
   "mimetype": "text/x-python",
   "name": "python",
   "nbconvert_exporter": "python",
   "pygments_lexer": "ipython3",
   "version": "3.6.3"
  },
  "name": "ps1_pandas.ipynb"
 },
 "nbformat": 4,
 "nbformat_minor": 2
}
