{
 "cells": [
  {
   "cell_type": "markdown",
   "metadata": {
    "ein.tags": "worksheet-0",
    "slideshow": {
     "slide_type": "-"
    }
   },
   "source": [
    "# Problem Set 3, due Wednesday, May 3rd, 5:30pm."
   ]
  },
  {
   "cell_type": "markdown",
   "metadata": {
    "ein.tags": "worksheet-0",
    "slideshow": {
     "slide_type": "-"
    }
   },
   "source": [
    "## Introduction to the assignment\n",
    "\n",
    "For this assignment, you will be using data from the [Progresa\n",
    "program](http://en.wikipedia.org/wiki/Oportunidades), a government\n",
    "social assistance program in Mexico. This program, as well as the\n",
    "details of its impact, are described in the paper \"[School subsidies\n",
    "for the poor: evaluating the Mexican Progresa poverty\n",
    "program](http://www.sciencedirect.com/science/article/pii/S0304387803001858)\",\n",
    "by Paul Shultz (available on Canvas).  The data\n",
    "(progresa_sample.csv.gz) is available on canvas\n",
    "in files/data.\n",
    "\n",
    "Please read the paper to familiarize yourself with\n",
    "the PROGRESA program before beginning this problem set, so you have a\n",
    "rough sense of where the data come from and how they were\n",
    "generated. If you just proceed into the problem set without\n",
    "understanding Progresa or the data, it will be very difficult!\n",
    "\n",
    "The goal of this problem set is to implement some of the basic\n",
    "econometric techniques that you are learning in class to measure the\n",
    "impact of Progresa on secondary school enrollment rates, in particular\n",
    "differences-in-differences.  Your task is to **estimate the impact of\n",
    "_progresa_ subsidies on the school attendance**.  Note: this asks to\n",
    "estimate a causal effect.\n",
    "\n",
    "The timeline of the program was:\n",
    "\n",
    " * Baseline survey conducted in 1997\n",
    " * Intervention begins in 1998, \"Wave 1\" of data collected in 1998\n",
    " * \"Wave 2 of data\" collected in 1999\n",
    " * Evaluation ends in 2000, at which point the control villages were treated. \n",
    " \n",
    "When you are ready, download the progresa_sample.csv data from\n",
    "Canvas. The data are actual data collected to evaluate the impact of\n",
    "the Progresa program.  In this file, each row corresponds to an\n",
    "observation taken for a given child for a given year. There are two\n",
    "years of data (1997 and 1998), and just under 40,000 children who are\n",
    "surveyed in both years.  For each child-year observation, the\n",
    "following variables are collected:\n",
    "\n",
    "| Variable name | Description|\n",
    "|------|------|\n",
    "|year\t  |year in which data is collected\n",
    "|sex\t  |male = 1|\n",
    "|indig\t  |indigenous = 1|\n",
    "|dist_sec |nearest distance to a secondary school|\n",
    "|sc\t      |enrolled in school in year of survey (=1)|\n",
    "|grc      |grade enrolled|\n",
    "|fam_n    |family size|\n",
    "|min_dist |\tmin distance to an urban center|\n",
    "|dist_cap |\tmin distance to the capital|\n",
    "|poor     |\tpoor = \"pobre\", not poor = \"no pobre\"|\n",
    "|progresa |treatment = \"basal\", control = \"0\"|\n",
    "|hohedu\t  |years of schooling of head of household|\n",
    "|hohwag\t  |monthly wages of head of household|\n",
    "|welfare_index|\twelfare index used to classify poor|\n",
    "|hohsex\t|gender of head of household (male=1)|\n",
    "|hohage\t|age of head of household|\n",
    "|age\t|years old|\n",
    "|folnum\t|individual id|\n",
    "|village|\tvillage id|\n",
    "|sc97\t|enrolled in school in 1997 (=1) |"
   ]
  },
  {
   "cell_type": "markdown",
   "metadata": {
    "ein.tags": "worksheet-0",
    "slideshow": {
     "slide_type": "-"
    }
   },
   "source": [
    "## Part 1: Descriptive analysis\n",
    "\n",
    "### 1.1\tSummary Statistics\n",
    "\n",
    "Report summary statistics (mean, standard deviation, and number of missings) for all of\n",
    "the demographic variables in the dataset (i.e., everything except\n",
    "year, folnum, village).  Present the actual levels for 'progresa' and\n",
    "'poor'.  Do these fit with the documentation above?\n",
    "\n",
    "Present these in a single table alphabetized\n",
    "by variable name. Do NOT simply expect the grader to scroll through\n",
    "your output!"
   ]
  },
  {
   "cell_type": "code",
   "execution_count": 4,
   "metadata": {
    "autoscroll": false,
    "ein.tags": "worksheet-0",
    "slideshow": {
     "slide_type": "-"
    }
   },
   "outputs": [
    {
     "name": "stdout",
     "output_type": "stream",
     "text": [
      "IPython version:       6.1.0 (need at least 1.0)\n",
      "Numpy version:        1.13.3 (need at least 1.7.1)\n",
      "Pandas version:       0.20.3 (need at least 0.11.0)\n",
      "Scikit-Learn version: 0.19.1 (need at least 0.13.1)\n"
     ]
    }
   ],
   "source": [
    "#IPython is what you are using now to run the notebook\n",
    "import IPython\n",
    "print( \"IPython version:      %6.6s (need at least 1.0)\" % IPython.__version__)\n",
    "\n",
    "# Numpy is a library for working with Arrays\n",
    "import numpy as np\n",
    "print( \"Numpy version:        %6.6s (need at least 1.7.1)\" % np.__version__)\n",
    "\n",
    "# SciPy implements many different numerical algorithms\n",
    "from scipy.stats import ttest_ind\n",
    "\n",
    "# Pandas makes working with data tables easier\n",
    "import pandas as pd\n",
    "print( \"Pandas version:       %6.6s (need at least 0.11.0)\" % pd.__version__)\n",
    "\n",
    "# Module for plotting\n",
    "import matplotlib.pyplot as plt\n",
    "%matplotlib inline\n",
    "# necessary for in-line graphics\n",
    "\n",
    "# SciKit Learn implements several Machine Learning algorithms\n",
    "import sklearn\n",
    "print( \"Scikit-Learn version: %6.6s (need at least 0.13.1)\" % sklearn.__version__)\n",
    "import statsmodels.formula.api as smf"
   ]
  },
  {
   "cell_type": "code",
   "execution_count": 5,
   "metadata": {},
   "outputs": [
    {
     "data": {
      "text/html": [
       "<div>\n",
       "<style>\n",
       "    .dataframe thead tr:only-child th {\n",
       "        text-align: right;\n",
       "    }\n",
       "\n",
       "    .dataframe thead th {\n",
       "        text-align: left;\n",
       "    }\n",
       "\n",
       "    .dataframe tbody tr th {\n",
       "        vertical-align: top;\n",
       "    }\n",
       "</style>\n",
       "<table border=\"1\" class=\"dataframe\">\n",
       "  <thead>\n",
       "    <tr style=\"text-align: right;\">\n",
       "      <th></th>\n",
       "      <th>year</th>\n",
       "      <th>sex</th>\n",
       "      <th>indig</th>\n",
       "      <th>dist_sec</th>\n",
       "      <th>sc</th>\n",
       "      <th>grc</th>\n",
       "      <th>fam_n</th>\n",
       "      <th>min_dist</th>\n",
       "      <th>dist_cap</th>\n",
       "      <th>poor</th>\n",
       "      <th>...</th>\n",
       "      <th>hohedu</th>\n",
       "      <th>hohwag</th>\n",
       "      <th>welfare_index</th>\n",
       "      <th>hohsex</th>\n",
       "      <th>hohage</th>\n",
       "      <th>age</th>\n",
       "      <th>village</th>\n",
       "      <th>folnum</th>\n",
       "      <th>grc97</th>\n",
       "      <th>sc97</th>\n",
       "    </tr>\n",
       "  </thead>\n",
       "  <tbody>\n",
       "    <tr>\n",
       "      <th>0</th>\n",
       "      <td>97</td>\n",
       "      <td>0.0</td>\n",
       "      <td>0.0</td>\n",
       "      <td>4.473</td>\n",
       "      <td>1.0</td>\n",
       "      <td>7.0</td>\n",
       "      <td>7</td>\n",
       "      <td>21.168384</td>\n",
       "      <td>21.168384</td>\n",
       "      <td>pobre</td>\n",
       "      <td>...</td>\n",
       "      <td>6</td>\n",
       "      <td>0.0</td>\n",
       "      <td>583.0</td>\n",
       "      <td>1.0</td>\n",
       "      <td>35.0</td>\n",
       "      <td>13</td>\n",
       "      <td>163</td>\n",
       "      <td>1</td>\n",
       "      <td>7</td>\n",
       "      <td>1.0</td>\n",
       "    </tr>\n",
       "    <tr>\n",
       "      <th>1</th>\n",
       "      <td>98</td>\n",
       "      <td>0.0</td>\n",
       "      <td>0.0</td>\n",
       "      <td>4.473</td>\n",
       "      <td>1.0</td>\n",
       "      <td>8.0</td>\n",
       "      <td>7</td>\n",
       "      <td>21.168384</td>\n",
       "      <td>21.168384</td>\n",
       "      <td>pobre</td>\n",
       "      <td>...</td>\n",
       "      <td>6</td>\n",
       "      <td>0.0</td>\n",
       "      <td>583.0</td>\n",
       "      <td>1.0</td>\n",
       "      <td>35.0</td>\n",
       "      <td>14</td>\n",
       "      <td>163</td>\n",
       "      <td>1</td>\n",
       "      <td>7</td>\n",
       "      <td>1.0</td>\n",
       "    </tr>\n",
       "    <tr>\n",
       "      <th>2</th>\n",
       "      <td>97</td>\n",
       "      <td>1.0</td>\n",
       "      <td>0.0</td>\n",
       "      <td>4.473</td>\n",
       "      <td>1.0</td>\n",
       "      <td>6.0</td>\n",
       "      <td>7</td>\n",
       "      <td>21.168384</td>\n",
       "      <td>21.168384</td>\n",
       "      <td>pobre</td>\n",
       "      <td>...</td>\n",
       "      <td>6</td>\n",
       "      <td>0.0</td>\n",
       "      <td>583.0</td>\n",
       "      <td>1.0</td>\n",
       "      <td>35.0</td>\n",
       "      <td>12</td>\n",
       "      <td>163</td>\n",
       "      <td>2</td>\n",
       "      <td>6</td>\n",
       "      <td>1.0</td>\n",
       "    </tr>\n",
       "    <tr>\n",
       "      <th>3</th>\n",
       "      <td>98</td>\n",
       "      <td>1.0</td>\n",
       "      <td>0.0</td>\n",
       "      <td>4.473</td>\n",
       "      <td>1.0</td>\n",
       "      <td>7.0</td>\n",
       "      <td>7</td>\n",
       "      <td>21.168384</td>\n",
       "      <td>21.168384</td>\n",
       "      <td>pobre</td>\n",
       "      <td>...</td>\n",
       "      <td>6</td>\n",
       "      <td>0.0</td>\n",
       "      <td>583.0</td>\n",
       "      <td>1.0</td>\n",
       "      <td>35.0</td>\n",
       "      <td>13</td>\n",
       "      <td>163</td>\n",
       "      <td>2</td>\n",
       "      <td>6</td>\n",
       "      <td>1.0</td>\n",
       "    </tr>\n",
       "    <tr>\n",
       "      <th>4</th>\n",
       "      <td>97</td>\n",
       "      <td>0.0</td>\n",
       "      <td>0.0</td>\n",
       "      <td>4.473</td>\n",
       "      <td>1.0</td>\n",
       "      <td>2.0</td>\n",
       "      <td>7</td>\n",
       "      <td>21.168384</td>\n",
       "      <td>21.168384</td>\n",
       "      <td>pobre</td>\n",
       "      <td>...</td>\n",
       "      <td>6</td>\n",
       "      <td>0.0</td>\n",
       "      <td>583.0</td>\n",
       "      <td>1.0</td>\n",
       "      <td>35.0</td>\n",
       "      <td>8</td>\n",
       "      <td>163</td>\n",
       "      <td>3</td>\n",
       "      <td>2</td>\n",
       "      <td>1.0</td>\n",
       "    </tr>\n",
       "  </tbody>\n",
       "</table>\n",
       "<p>5 rows × 21 columns</p>\n",
       "</div>"
      ],
      "text/plain": [
       "   year  sex  indig  dist_sec   sc  grc  fam_n   min_dist   dist_cap   poor  \\\n",
       "0    97  0.0    0.0     4.473  1.0  7.0      7  21.168384  21.168384  pobre   \n",
       "1    98  0.0    0.0     4.473  1.0  8.0      7  21.168384  21.168384  pobre   \n",
       "2    97  1.0    0.0     4.473  1.0  6.0      7  21.168384  21.168384  pobre   \n",
       "3    98  1.0    0.0     4.473  1.0  7.0      7  21.168384  21.168384  pobre   \n",
       "4    97  0.0    0.0     4.473  1.0  2.0      7  21.168384  21.168384  pobre   \n",
       "\n",
       "   ...  hohedu  hohwag  welfare_index  hohsex  hohage  age  village  folnum  \\\n",
       "0  ...       6     0.0          583.0     1.0    35.0   13      163       1   \n",
       "1  ...       6     0.0          583.0     1.0    35.0   14      163       1   \n",
       "2  ...       6     0.0          583.0     1.0    35.0   12      163       2   \n",
       "3  ...       6     0.0          583.0     1.0    35.0   13      163       2   \n",
       "4  ...       6     0.0          583.0     1.0    35.0    8      163       3   \n",
       "\n",
       "   grc97  sc97  \n",
       "0      7   1.0  \n",
       "1      7   1.0  \n",
       "2      6   1.0  \n",
       "3      6   1.0  \n",
       "4      2   1.0  \n",
       "\n",
       "[5 rows x 21 columns]"
      ]
     },
     "execution_count": 5,
     "metadata": {},
     "output_type": "execute_result"
    }
   ],
   "source": [
    "progresa_df = pd.read_csv('progresa_sample.csv.gz')\n",
    "progresa_df.head()"
   ]
  },
  {
   "cell_type": "code",
   "execution_count": 6,
   "metadata": {
    "scrolled": true
   },
   "outputs": [
    {
     "name": "stdout",
     "output_type": "stream",
     "text": [
      "(77250, 21)\n",
      "Index(['year', 'sex', 'indig', 'dist_sec', 'sc', 'grc', 'fam_n', 'min_dist',\n",
      "       'dist_cap', 'poor', 'progresa', 'hohedu', 'hohwag', 'welfare_index',\n",
      "       'hohsex', 'hohage', 'age', 'village', 'folnum', 'grc97', 'sc97'],\n",
      "      dtype='object')\n"
     ]
    }
   ],
   "source": [
    "# displaying size and columns of the dataframe\n",
    "print(progresa_df.shape)\n",
    "print(progresa_df.columns)"
   ]
  },
  {
   "cell_type": "code",
   "execution_count": 7,
   "metadata": {},
   "outputs": [
    {
     "name": "stdout",
     "output_type": "stream",
     "text": [
      "      column name        mean  missing values         std\n",
      "0             sex    0.512211              24    0.499854\n",
      "1           indig    0.298324             300    0.457525\n",
      "2        dist_sec    2.418910               0    2.234109\n",
      "3              sc    0.819818            8453    0.384342\n",
      "4             grc    3.963537            6549    2.499063\n",
      "5           fam_n    7.215715               0    2.352900\n",
      "6        min_dist  103.447520               0   42.089441\n",
      "7        dist_cap  147.674452               0   76.063134\n",
      "8          hohedu    2.768104               0    2.656106\n",
      "9          hohwag  586.985312               0  788.133664\n",
      "10  welfare_index  690.346564             210  139.491130\n",
      "11         hohsex    0.925185              20    0.263095\n",
      "12         hohage   44.436717              10   11.620372\n",
      "13            age   11.366460               0    3.167744\n",
      "14          grc97    3.705372               0    2.572387\n",
      "15           sc97    0.813922            3872    0.389172\n",
      "\n",
      "Distribution of progresa\n",
      " basal    47560\n",
      "0        29690\n",
      "Name: progresa, dtype: int64\n",
      "\n",
      "Distribution of poor\n",
      " pobre       65392\n",
      "no pobre    11858\n",
      "Name: poor, dtype: int64\n"
     ]
    }
   ],
   "source": [
    "list_summary = list()\n",
    "progresa_df_1 = progresa_df.drop(['progresa', 'poor', 'year', 'folnum', 'village'], axis = 1)\n",
    "\n",
    "columns = list(progresa_df_1.columns)\n",
    "# looping over the columns and calculating mean, standard deviation and sum number of missing values\n",
    "for col in columns:\n",
    "    col_mean = progresa_df_1[col].mean()\n",
    "    col_std = progresa_df_1[col].std()\n",
    "    col_missing = progresa_df_1[col].isnull().sum()\n",
    "    list_summary.append({'column name':col,'mean':col_mean, 'std':col_std, 'missing values':col_missing})\n",
    "\n",
    "summary_stats = pd.DataFrame(list_summary)\n",
    "print(summary_stats)\n",
    "print('\\nDistribution of progresa\\n', pd.value_counts(progresa_df.progresa))\n",
    "print('\\nDistribution of poor\\n', pd.value_counts(progresa_df.poor))"
   ]
  },
  {
   "cell_type": "markdown",
   "metadata": {
    "ein.tags": "worksheet-0",
    "slideshow": {
     "slide_type": "-"
    }
   },
   "source": [
    "### 1.2 Differences at baseline?\n",
    "Now let's investigate the differences in baseline.  Are the baseline (1997) demographic characteristics **for the poor**\n",
    "different in treatment and control villages?\n",
    "\n",
    "I suggest you to use a T-Test to\n",
    "determine whether there is a statistically significant difference in\n",
    "the average values of each of the variables in the dataset. Focus only\n",
    "on the data from 1997 for poor.\n",
    "\n",
    "Present your results in a single table with the following columns and 14 (or so) rows:\n",
    "\n",
    "| Variable name | Average value (Treatment villages) | Average value (Control villages) | Difference (Treat - Control) | p-value |\n",
    "|------|------|------|------|------|\n",
    "|Male|?|?|?|?|\n"
   ]
  },
  {
   "cell_type": "code",
   "execution_count": 8,
   "metadata": {
    "autoscroll": false,
    "ein.tags": "worksheet-0",
    "scrolled": true,
    "slideshow": {
     "slide_type": "-"
    }
   },
   "outputs": [
    {
     "name": "stderr",
     "output_type": "stream",
     "text": [
      "C:\\Anaconda\\lib\\site-packages\\ipykernel_launcher.py:1: UserWarning: Boolean Series key will be reindexed to match DataFrame index.\n",
      "  \"\"\"Entry point for launching an IPython kernel.\n"
     ]
    },
    {
     "name": "stdout",
     "output_type": "stream",
     "text": [
      "(32696, 21)\n"
     ]
    },
    {
     "data": {
      "text/html": [
       "<div>\n",
       "<style>\n",
       "    .dataframe thead tr:only-child th {\n",
       "        text-align: right;\n",
       "    }\n",
       "\n",
       "    .dataframe thead th {\n",
       "        text-align: left;\n",
       "    }\n",
       "\n",
       "    .dataframe tbody tr th {\n",
       "        vertical-align: top;\n",
       "    }\n",
       "</style>\n",
       "<table border=\"1\" class=\"dataframe\">\n",
       "  <thead>\n",
       "    <tr style=\"text-align: right;\">\n",
       "      <th></th>\n",
       "      <th>Variable Name</th>\n",
       "      <th>Avg(Treatment villages)</th>\n",
       "      <th>Avg(Control Villages)</th>\n",
       "      <th>Difference</th>\n",
       "      <th>p-value</th>\n",
       "    </tr>\n",
       "  </thead>\n",
       "  <tbody>\n",
       "    <tr>\n",
       "      <th>0</th>\n",
       "      <td>sex</td>\n",
       "      <td>0.520268</td>\n",
       "      <td>0.506556</td>\n",
       "      <td>0.013713</td>\n",
       "      <td>1.956962e-02</td>\n",
       "    </tr>\n",
       "    <tr>\n",
       "      <th>1</th>\n",
       "      <td>indig</td>\n",
       "      <td>0.316744</td>\n",
       "      <td>0.325306</td>\n",
       "      <td>-0.008562</td>\n",
       "      <td>1.183760e-01</td>\n",
       "    </tr>\n",
       "    <tr>\n",
       "      <th>2</th>\n",
       "      <td>dist_sec</td>\n",
       "      <td>2.399648</td>\n",
       "      <td>2.400687</td>\n",
       "      <td>-0.001039</td>\n",
       "      <td>9.670949e-01</td>\n",
       "    </tr>\n",
       "    <tr>\n",
       "      <th>3</th>\n",
       "      <td>sc</td>\n",
       "      <td>0.822697</td>\n",
       "      <td>0.815066</td>\n",
       "      <td>0.007631</td>\n",
       "      <td>9.117959e-02</td>\n",
       "    </tr>\n",
       "    <tr>\n",
       "      <th>4</th>\n",
       "      <td>grc</td>\n",
       "      <td>3.709214</td>\n",
       "      <td>3.733653</td>\n",
       "      <td>-0.024439</td>\n",
       "      <td>3.947750e-01</td>\n",
       "    </tr>\n",
       "    <tr>\n",
       "      <th>5</th>\n",
       "      <td>fam_n</td>\n",
       "      <td>7.281032</td>\n",
       "      <td>7.302939</td>\n",
       "      <td>-0.021907</td>\n",
       "      <td>4.236088e-01</td>\n",
       "    </tr>\n",
       "    <tr>\n",
       "      <th>6</th>\n",
       "      <td>min_dist</td>\n",
       "      <td>107.395231</td>\n",
       "      <td>103.098348</td>\n",
       "      <td>4.296884</td>\n",
       "      <td>1.936661e-18</td>\n",
       "    </tr>\n",
       "    <tr>\n",
       "      <th>7</th>\n",
       "      <td>dist_cap</td>\n",
       "      <td>151.801472</td>\n",
       "      <td>154.492095</td>\n",
       "      <td>-2.690622</td>\n",
       "      <td>3.414194e-03</td>\n",
       "    </tr>\n",
       "    <tr>\n",
       "      <th>8</th>\n",
       "      <td>hohedu</td>\n",
       "      <td>2.726729</td>\n",
       "      <td>2.660982</td>\n",
       "      <td>0.065747</td>\n",
       "      <td>2.613239e-02</td>\n",
       "    </tr>\n",
       "    <tr>\n",
       "      <th>9</th>\n",
       "      <td>hohwag</td>\n",
       "      <td>550.207086</td>\n",
       "      <td>580.694452</td>\n",
       "      <td>-30.487366</td>\n",
       "      <td>2.727661e-04</td>\n",
       "    </tr>\n",
       "    <tr>\n",
       "      <th>10</th>\n",
       "      <td>welfare_index</td>\n",
       "      <td>656.810476</td>\n",
       "      <td>661.593513</td>\n",
       "      <td>-4.783037</td>\n",
       "      <td>3.724043e-04</td>\n",
       "    </tr>\n",
       "    <tr>\n",
       "      <th>11</th>\n",
       "      <td>hohsex</td>\n",
       "      <td>0.925586</td>\n",
       "      <td>0.923387</td>\n",
       "      <td>0.002199</td>\n",
       "      <td>4.781232e-01</td>\n",
       "    </tr>\n",
       "    <tr>\n",
       "      <th>12</th>\n",
       "      <td>hohage</td>\n",
       "      <td>43.631234</td>\n",
       "      <td>44.270717</td>\n",
       "      <td>-0.639483</td>\n",
       "      <td>1.925767e-06</td>\n",
       "    </tr>\n",
       "    <tr>\n",
       "      <th>13</th>\n",
       "      <td>age</td>\n",
       "      <td>10.743825</td>\n",
       "      <td>10.785586</td>\n",
       "      <td>-0.041761</td>\n",
       "      <td>2.476155e-01</td>\n",
       "    </tr>\n",
       "    <tr>\n",
       "      <th>14</th>\n",
       "      <td>grc97</td>\n",
       "      <td>3.709214</td>\n",
       "      <td>3.733653</td>\n",
       "      <td>-0.024439</td>\n",
       "      <td>3.947750e-01</td>\n",
       "    </tr>\n",
       "    <tr>\n",
       "      <th>15</th>\n",
       "      <td>sc97</td>\n",
       "      <td>0.822697</td>\n",
       "      <td>0.815066</td>\n",
       "      <td>0.007631</td>\n",
       "      <td>9.117959e-02</td>\n",
       "    </tr>\n",
       "  </tbody>\n",
       "</table>\n",
       "</div>"
      ],
      "text/plain": [
       "    Variable Name  Avg(Treatment villages)  Avg(Control Villages)  Difference  \\\n",
       "0             sex                 0.520268               0.506556    0.013713   \n",
       "1           indig                 0.316744               0.325306   -0.008562   \n",
       "2        dist_sec                 2.399648               2.400687   -0.001039   \n",
       "3              sc                 0.822697               0.815066    0.007631   \n",
       "4             grc                 3.709214               3.733653   -0.024439   \n",
       "5           fam_n                 7.281032               7.302939   -0.021907   \n",
       "6        min_dist               107.395231             103.098348    4.296884   \n",
       "7        dist_cap               151.801472             154.492095   -2.690622   \n",
       "8          hohedu                 2.726729               2.660982    0.065747   \n",
       "9          hohwag               550.207086             580.694452  -30.487366   \n",
       "10  welfare_index               656.810476             661.593513   -4.783037   \n",
       "11         hohsex                 0.925586               0.923387    0.002199   \n",
       "12         hohage                43.631234              44.270717   -0.639483   \n",
       "13            age                10.743825              10.785586   -0.041761   \n",
       "14          grc97                 3.709214               3.733653   -0.024439   \n",
       "15           sc97                 0.822697               0.815066    0.007631   \n",
       "\n",
       "         p-value  \n",
       "0   1.956962e-02  \n",
       "1   1.183760e-01  \n",
       "2   9.670949e-01  \n",
       "3   9.117959e-02  \n",
       "4   3.947750e-01  \n",
       "5   4.236088e-01  \n",
       "6   1.936661e-18  \n",
       "7   3.414194e-03  \n",
       "8   2.613239e-02  \n",
       "9   2.727661e-04  \n",
       "10  3.724043e-04  \n",
       "11  4.781232e-01  \n",
       "12  1.925767e-06  \n",
       "13  2.476155e-01  \n",
       "14  3.947750e-01  \n",
       "15  9.117959e-02  "
      ]
     },
     "execution_count": 8,
     "metadata": {},
     "output_type": "execute_result"
    }
   ],
   "source": [
    "progresa_97_df = progresa_df[progresa_df.year==97][progresa_df.poor=='pobre']\n",
    "print(progresa_97_df.shape)\n",
    "progresa_97_df.dropna(axis = 0, inplace=True)\n",
    "\n",
    "diff_at_baseline=[]\n",
    "for col in columns:\n",
    "    # creating dataframe for treatment group\n",
    "    treatment_df = progresa_97_df[progresa_97_df.progresa =='basal']\n",
    "    # creating dataframe for control group\n",
    "    control_df = progresa_97_df[progresa_97_df.progresa == '0']\n",
    "    mean_treatment = treatment_df[col].mean()\n",
    "    mean_control = control_df[col].mean()\n",
    "    # performing T-test \n",
    "    t_test = ttest_ind(treatment_df[col], control_df[col])\n",
    "    diff_at_baseline.append({'Variable Name':col,'Avg(Treatment villages)':mean_treatment,'Avg(Control Villages)':mean_control, 'Difference':mean_treatment - mean_control, 'p-value':t_test.pvalue})\n",
    "\n",
    "diff_baseline_df = pd.DataFrame(diff_at_baseline)\n",
    "# Renaming columns\n",
    "diff_baseline_df = diff_baseline_df[['Variable Name', 'Avg(Treatment villages)', 'Avg(Control Villages)', 'Difference', 'p-value']]\n",
    "diff_baseline_df"
   ]
  },
  {
   "cell_type": "markdown",
   "metadata": {
    "ein.tags": "worksheet-0",
    "slideshow": {
     "slide_type": "-"
    }
   },
   "source": [
    "### 1.3 Interpretation\n",
    "\n",
    "* A: Are there statistically significant differences between treatment and control villages as baseline? \n",
    "* B: Why does it matter if there are differences at baseline?\n",
    "* C: What does this imply about how to measure the impact of the treatment?"
   ]
  },
  {
   "cell_type": "markdown",
   "metadata": {
    "ein.tags": "worksheet-0",
    "slideshow": {
     "slide_type": "-"
    }
   },
   "source": [
    "A: Sex, min_dist, dist_cap, hohedu, hohwag, welfare_index, hohage are statistically significant as their p-values are very low (below 0.05). The differences for these variables are high.\n",
    "B: We won't be able to determine causality if the differences at baseline are high. Therefore it's important.\n",
    "C: This implies that we need to determine diffence in difference to measure the impact of the treatment."
   ]
  },
  {
   "cell_type": "markdown",
   "metadata": {
    "ein.tags": "worksheet-0",
    "slideshow": {
     "slide_type": "-"
    }
   },
   "source": [
    "### 1.4 Graphical exploration, part 1\n",
    "\n",
    "For each level of household head education, compute the average\n",
    "enrollment rate in 1997. Create a scatterplot that shows this\n",
    "relationship. What do you notice?"
   ]
  },
  {
   "cell_type": "code",
   "execution_count": 9,
   "metadata": {
    "autoscroll": false,
    "ein.tags": "worksheet-0",
    "slideshow": {
     "slide_type": "-"
    }
   },
   "outputs": [
    {
     "data": {
      "image/png": "[encoded data removed]",
      "text/plain": [
       "<matplotlib.figure.Figure at 0x24e53bb7978>"
      ]
     },
     "metadata": {},
     "output_type": "display_data"
    }
   ],
   "source": [
    "# filtering records of year 97\n",
    "progresa_97_df_1 = progresa_df[progresa_df.year==97]\n",
    "# for each level of education, compute avg enrollment rate \n",
    "ques_1_4_part1 = pd.DataFrame(progresa_97_df_1.groupby(['hohedu'])['sc97'].mean())\n",
    "# reset index to access columns\n",
    "ques_1_4_part1.reset_index(level=0, inplace = True)\n",
    "plt.scatter(ques_1_4_part1.hohedu, ques_1_4_part1.sc97)\n",
    "plt.xlabel('Household Head Education Level')\n",
    "plt.ylabel('Average Enrollment rate')\n",
    "plt.title('Average Enrolment Rate for each level of household head education in 1997\\n')\n",
    "plt.show()"
   ]
  },
  {
   "cell_type": "markdown",
   "metadata": {
    "ein.tags": "worksheet-0",
    "slideshow": {
     "slide_type": "-"
    }
   },
   "source": [
    "We can see an approximate linear relationship. More the household head education level, more is the average enrollment rate. However, there is a significant drop at education level 20."
   ]
  },
  {
   "cell_type": "markdown",
   "metadata": {
    "ein.tags": "worksheet-0",
    "slideshow": {
     "slide_type": "-"
    }
   },
   "source": [
    "### 1.5 Graphical exploration, part 2\n",
    "\n",
    "Create a histogram of village enrollment rates **among poor households\n",
    "in treated villages**, before and after treatment.  Specifically, for\n",
    "each village, calculate the average rate of enrollment of poor\n",
    "households in treated villages in 1997, then compute the average rate\n",
    "of enrollment of poor households in treated villages in 1998. Create\n",
    "two separate histograms showing the distribution of these average\n",
    "enrollments rates, one histogram for 1997 and one histogram for\n",
    "1998. On each histogram, draw a vertical line that intersects the\n",
    "x-axis at the average value (across all households). Does there appear\n",
    "to be a difference? Is this difference statistically significant?"
   ]
  },
  {
   "cell_type": "code",
   "execution_count": 10,
   "metadata": {
    "autoscroll": false,
    "ein.tags": "worksheet-0",
    "slideshow": {
     "slide_type": "-"
    }
   },
   "outputs": [
    {
     "name": "stderr",
     "output_type": "stream",
     "text": [
      "C:\\Anaconda\\lib\\site-packages\\ipykernel_launcher.py:1: UserWarning: Boolean Series key will be reindexed to match DataFrame index.\n",
      "  \"\"\"Entry point for launching an IPython kernel.\n"
     ]
    },
    {
     "data": {
      "image/png": "[encoded data removed]",
      "text/plain": [
       "<matplotlib.figure.Figure at 0x24e59d0c710>"
      ]
     },
     "metadata": {},
     "output_type": "display_data"
    }
   ],
   "source": [
    "# filter records for year 97, poor households and treatment group\n",
    "progresa_treated_97_df = progresa_df[progresa_df.progresa=='basal'][progresa_df.poor == 'pobre'][progresa_df.year == 97]\n",
    "# grouping by village, calculating average enrollment rates\n",
    "x = progresa_treated_97_df.groupby(['village'])['sc'].mean()\n",
    "plt.hist(x, bins = 30)\n",
    "plt.axvline(x.mean(),color = 'Red')\n",
    "plt.xlabel('Average Enrollment Rate of villages')\n",
    "plt.ylabel('Number of villages')\n",
    "plt.title('Village Enrollment Rates among poor househols in treated villages in 1997')\n",
    "plt.show()"
   ]
  },
  {
   "cell_type": "code",
   "execution_count": 11,
   "metadata": {},
   "outputs": [
    {
     "name": "stderr",
     "output_type": "stream",
     "text": [
      "C:\\Anaconda\\lib\\site-packages\\ipykernel_launcher.py:1: UserWarning: Boolean Series key will be reindexed to match DataFrame index.\n",
      "  \"\"\"Entry point for launching an IPython kernel.\n"
     ]
    },
    {
     "data": {
      "image/png": "[encoded data removed]",
      "text/plain": [
       "<matplotlib.figure.Figure at 0x24e5da4bb38>"
      ]
     },
     "metadata": {},
     "output_type": "display_data"
    }
   ],
   "source": [
    "# filter records for year 98, poor households and treatment group\n",
    "progresa_treated_98_df = progresa_df[progresa_df.progresa=='basal'][progresa_df.poor == 'pobre'][progresa_df.year == 98]\n",
    "# grouping by village, calculating average enrollment rates\n",
    "x_1 = progresa_treated_98_df.groupby(['village'])['sc'].mean()\n",
    "plt.hist(x_1, bins = 30)\n",
    "plt.axvline(x_1.mean(), color='Red')\n",
    "plt.xlabel('Average Enrollment Rate of villages')\n",
    "plt.ylabel('Number of villages')\n",
    "plt.title('Village Enrollment Rates among poor househols in treated villages in 1998')\n",
    "plt.show()"
   ]
  },
  {
   "cell_type": "code",
   "execution_count": 12,
   "metadata": {},
   "outputs": [
    {
     "data": {
      "text/plain": [
       "Ttest_indResult(statistic=-2.0157134865156379, pvalue=0.04424870036572115)"
      ]
     },
     "execution_count": 12,
     "metadata": {},
     "output_type": "execute_result"
    }
   ],
   "source": [
    "ttest_ind(x, x_1)"
   ]
  },
  {
   "cell_type": "markdown",
   "metadata": {
    "ein.tags": "worksheet-0",
    "slideshow": {
     "slide_type": "-"
    }
   },
   "source": [
    "Histogram 1: The average rate of enrollments in 1997 is approximately equal to the average rate of enrollments for maximum number of villages. The average rate is slightly greater than 0.8.\n",
    "\n",
    "Histogram 2: The average rate of enrollments in 1998 is less than average rate of enrollments for maximum number of villages. The average rate is higher than that of 1997.\n",
    "\n",
    "Since the p-value of T-test is 0.04(less than 0.05), the difference is statistically significant "
   ]
  },
  {
   "cell_type": "markdown",
   "metadata": {
    "ein.tags": "worksheet-0",
    "slideshow": {
     "slide_type": "-"
    }
   },
   "source": [
    "## Part 2: Measuring Impact\n",
    "\n",
    "Our goal is to estimate the causal impact of the PROGRESA program on\n",
    "the social and economic outcomes of individuals in Mexico. We will\n",
    "focus on the impact of the program on the poor (those with\n",
    "poor=='pobre'), since only the poor were eligible to receive the\n",
    "PROGRESA assistance.\n",
    "\n",
    "### 2.1 Cross-Sectional Estimator: T-test\n",
    "\n",
    "Begin by estimating the impact of Progresa using \"simple differences.\"\n",
    "Restricting yourself to data from 1998 (after treatment), calculate\n",
    "the average enrollment rate among **poor** households in the Treatment\n",
    "villages and the average enrollment rate among **poor** households in\n",
    "the control villages. Use a t-test to determine if this difference is\n",
    "statistically significant. What do you conclude?"
   ]
  },
  {
   "cell_type": "code",
   "execution_count": 24,
   "metadata": {
    "autoscroll": false,
    "ein.tags": "worksheet-0",
    "slideshow": {
     "slide_type": "-"
    }
   },
   "outputs": [
    {
     "name": "stdout",
     "output_type": "stream",
     "text": [
      "Average enrollment rate among poor households in Treatment villages:  0.8464791213954308\n",
      "Average enrollment rate among poor households in Control villages:  0.807636956730308\n",
      "Difference of means:  0.0388421646651228\n",
      "Ttest_indResult(statistic=8.3587205674183735, pvalue=6.636344447523235e-17)\n"
     ]
    },
    {
     "name": "stderr",
     "output_type": "stream",
     "text": [
      "C:\\Anaconda\\lib\\site-packages\\ipykernel_launcher.py:5: UserWarning: Boolean Series key will be reindexed to match DataFrame index.\n",
      "  \"\"\"\n"
     ]
    }
   ],
   "source": [
    "# treatment\n",
    "print('Average enrollment rate among poor households in Treatment villages: ',progresa_treated_98_df.sc.mean())\n",
    "\n",
    "#control\n",
    "progresa_ctrl_98_df = progresa_df[progresa_df.progresa=='0'][progresa_df.poor == 'pobre'][progresa_df.year == 98]\n",
    "print('Average enrollment rate among poor households in Control villages: ',progresa_ctrl_98_df.sc.mean())\n",
    "\n",
    "print('Difference of means: ', progresa_treated_98_df.sc.mean() - progresa_ctrl_98_df.sc.mean())\n",
    "\n",
    "print(ttest_ind(progresa_treated_98_df.sc.dropna(),progresa_ctrl_98_df.sc.dropna()))"
   ]
  },
  {
   "cell_type": "markdown",
   "metadata": {
    "ein.tags": "worksheet-0",
    "slideshow": {
     "slide_type": "-"
    }
   },
   "source": [
    "Since p-value is less than 0.05, difference is statistically significant."
   ]
  },
  {
   "cell_type": "markdown",
   "metadata": {
    "ein.tags": "worksheet-0",
    "slideshow": {
     "slide_type": "-"
    }
   },
   "source": [
    "### 2.2 Cross-Sectional Estimator: Regression\n",
    "\n",
    "Estimate the effects of Progresa on enrollment using a regression\n",
    "model, by regressing the 1998 enrollment rates **of the poor** on\n",
    "treatment assignment.  Do not include any additional control\n",
    "variables.\n",
    "Discuss the following:\n",
    "\n",
    "* Based on this model, how much did Progresa increase the likelihood of a child enrolling?\n",
    "* How does your regression estimate compare to your t-test estimate from part 2.1?\n",
    "* Based on this regression model, can we reject the null hypothesis that the treatment effects are zero? \n",
    "* What is the counterfactual assumption underlying this regression?\n",
    "\n",
    "Note: I recommend to use statsmodels.formula.api as this allows to use\n",
    "convenient R-style formulas and provedes nice summaries of the results."
   ]
  },
  {
   "cell_type": "code",
   "execution_count": 38,
   "metadata": {
    "autoscroll": false,
    "ein.tags": "worksheet-0",
    "slideshow": {
     "slide_type": "-"
    }
   },
   "outputs": [
    {
     "name": "stderr",
     "output_type": "stream",
     "text": [
      "C:\\Anaconda\\lib\\site-packages\\ipykernel_launcher.py:1: UserWarning: Boolean Series key will be reindexed to match DataFrame index.\n",
      "  \"\"\"Entry point for launching an IPython kernel.\n"
     ]
    },
    {
     "name": "stdout",
     "output_type": "stream",
     "text": [
      "                            OLS Regression Results                            \n",
      "==============================================================================\n",
      "Dep. Variable:                     sc   R-squared:                       0.003\n",
      "Model:                            OLS   Adj. R-squared:                  0.003\n",
      "Method:                 Least Squares   F-statistic:                     69.87\n",
      "Date:                Sun, 29 Apr 2018   Prob (F-statistic):           6.64e-17\n",
      "Time:                        01:52:07   Log-Likelihood:                -11926.\n",
      "No. Observations:               27450   AIC:                         2.386e+04\n",
      "Df Residuals:                   27448   BIC:                         2.387e+04\n",
      "Df Model:                           1                                         \n",
      "Covariance Type:            nonrobust                                         \n",
      "=====================================================================================\n",
      "                        coef    std err          t      P>|t|      [0.025      0.975]\n",
      "-------------------------------------------------------------------------------------\n",
      "Intercept             0.8076      0.004    220.676      0.000       0.800       0.815\n",
      "progresa[T.basal]     0.0388      0.005      8.359      0.000       0.030       0.048\n",
      "==============================================================================\n",
      "Omnibus:                     7638.939   Durbin-Watson:                   1.734\n",
      "Prob(Omnibus):                  0.000   Jarque-Bera (JB):            15767.534\n",
      "Skew:                          -1.767   Prob(JB):                         0.00\n",
      "Kurtosis:                       4.140   Cond. No.                         3.01\n",
      "==============================================================================\n",
      "\n",
      "Warnings:\n",
      "[1] Standard Errors assume that the covariance matrix of the errors is correctly specified.\n",
      "p-values:\n",
      " Intercept            0.000000e+00\n",
      "progresa[T.basal]    6.636344e-17\n",
      "dtype: float64\n",
      "error:\n",
      " Intercept            0.003660\n",
      "progresa[T.basal]    0.004647\n",
      "dtype: float64\n"
     ]
    }
   ],
   "source": [
    "progresa_98_poor_df = progresa_df[progresa_df.poor == 'pobre'][progresa_df.year == 98]\n",
    "model = smf.ols(formula = 'sc ~ progresa', data = progresa_98_poor_df)\n",
    "print(model.fit().summary())\n",
    "print('p-values:\\n', model.fit().pvalues)\n",
    "print('error:\\n', model.fit().bse)"
   ]
  },
  {
   "cell_type": "markdown",
   "metadata": {
    "ein.tags": "worksheet-0",
    "slideshow": {
     "slide_type": "-"
    }
   },
   "source": [
    "1. Progressa increases the likelihood of a child enrolling by 0.0388.\n",
    "2. The results of regression model and t-test are the same. People enrolled in treated villages more than the control villages by 0.0388.\n",
    "3. We can reject the null hypothesis that the treatment effects are zero as p-value is very small.\n",
    "4. The counterfactual assumption is that if the treatment was not provided, enrollment in treatment and control group would have been the same"
   ]
  },
  {
   "cell_type": "markdown",
   "metadata": {
    "ein.tags": "worksheet-0",
    "slideshow": {
     "slide_type": "-"
    }
   },
   "source": [
    "### 2.3 Multiple Regression\n",
    "\n",
    "Re-run the above regression estimated but this time include a set of\n",
    "relevant control variables. Include, for instance, age, distance to a secondary\n",
    "school, gender, education of household head, welfare index,\n",
    "indigenous, etc.\n",
    "\n",
    "* How do the controls affect the point estimate of treatment effect?\n",
    "* How do the controls affect the standard error on the treatment effect? \n",
    "* How do you interpret the differences (or similarities) between your estimates of 2.2 and 2.3?"
   ]
  },
  {
   "cell_type": "code",
   "execution_count": 39,
   "metadata": {
    "autoscroll": false,
    "ein.tags": "worksheet-0",
    "slideshow": {
     "slide_type": "-"
    }
   },
   "outputs": [
    {
     "name": "stdout",
     "output_type": "stream",
     "text": [
      "                            OLS Regression Results                            \n",
      "==============================================================================\n",
      "Dep. Variable:                     sc   R-squared:                       0.452\n",
      "Model:                            OLS   Adj. R-squared:                  0.451\n",
      "Method:                 Least Squares   F-statistic:                     1345.\n",
      "Date:                Sun, 29 Apr 2018   Prob (F-statistic):               0.00\n",
      "Time:                        01:52:30   Log-Likelihood:                -3347.5\n",
      "No. Observations:               26155   AIC:                             6729.\n",
      "Df Residuals:                   26138   BIC:                             6868.\n",
      "Df Model:                          16                                         \n",
      "Covariance Type:            nonrobust                                         \n",
      "=====================================================================================\n",
      "                        coef    std err          t      P>|t|      [0.025      0.975]\n",
      "-------------------------------------------------------------------------------------\n",
      "Intercept             0.7796      0.021     38.019      0.000       0.739       0.820\n",
      "progresa[T.basal]     0.0319      0.004      9.048      0.000       0.025       0.039\n",
      "sc97                  0.4969      0.006     82.295      0.000       0.485       0.509\n",
      "grc97                -0.0258      0.002    -10.743      0.000      -0.030      -0.021\n",
      "grc                   0.0373      0.002     15.904      0.000       0.033       0.042\n",
      "age                  -0.0458      0.001    -35.134      0.000      -0.048      -0.043\n",
      "dist_sec             -0.0052      0.001     -6.318      0.000      -0.007      -0.004\n",
      "sex                   0.0154      0.003      4.512      0.000       0.009       0.022\n",
      "indig                 0.0109      0.004      2.593      0.010       0.003       0.019\n",
      "fam_n                 0.0007      0.001      0.846      0.397      -0.001       0.002\n",
      "min_dist              0.0002   5.62e-05      3.878      0.000       0.000       0.000\n",
      "dist_cap              0.0001   3.25e-05      3.534      0.000    5.12e-05       0.000\n",
      "hohwag            -2.885e-06   2.47e-06     -1.168      0.243   -7.73e-06    1.96e-06\n",
      "hohedu                0.0038      0.001      4.944      0.000       0.002       0.005\n",
      "welfare_index     -1.074e-05   1.61e-05     -0.669      0.504   -4.22e-05    2.07e-05\n",
      "hohage             -9.27e-05      0.000     -0.531      0.595      -0.000       0.000\n",
      "hohsex                0.0134      0.007      1.968      0.049    5.11e-05       0.027\n",
      "==============================================================================\n",
      "Omnibus:                     6043.978   Durbin-Watson:                   1.772\n",
      "Prob(Omnibus):                  0.000   Jarque-Bera (JB):            20975.619\n",
      "Skew:                          -1.147   Prob(JB):                         0.00\n",
      "Kurtosis:                       6.740   Cond. No.                     1.27e+04\n",
      "==============================================================================\n",
      "\n",
      "Warnings:\n",
      "[1] Standard Errors assume that the covariance matrix of the errors is correctly specified.\n",
      "[2] The condition number is large, 1.27e+04. This might indicate that there are\n",
      "strong multicollinearity or other numerical problems.\n",
      "\n",
      "pvalue: \n",
      " Intercept            6.781159e-308\n",
      "progresa[T.basal]     1.548814e-19\n",
      "sc97                  0.000000e+00\n",
      "grc97                 7.305564e-27\n",
      "grc                   1.096649e-56\n",
      "age                  2.909306e-264\n",
      "dist_sec              2.684459e-10\n",
      "sex                   6.454599e-06\n",
      "indig                 9.515719e-03\n",
      "fam_n                 3.973866e-01\n",
      "min_dist              1.054127e-04\n",
      "dist_cap              4.105050e-04\n",
      "hohwag                2.428317e-01\n",
      "hohedu                7.719391e-07\n",
      "welfare_index         5.037010e-01\n",
      "hohage                5.954355e-01\n",
      "hohsex                4.913097e-02\n",
      "dtype: float64\n",
      "\n",
      "Error: \n",
      " Intercept            0.020504\n",
      "progresa[T.basal]    0.003529\n",
      "sc97                 0.006038\n",
      "grc97                0.002400\n",
      "grc                  0.002345\n",
      "age                  0.001304\n",
      "dist_sec             0.000818\n",
      "sex                  0.003413\n",
      "indig                0.004200\n",
      "fam_n                0.000789\n",
      "min_dist             0.000056\n",
      "dist_cap             0.000033\n",
      "hohwag               0.000002\n",
      "hohedu               0.000763\n",
      "welfare_index        0.000016\n",
      "hohage               0.000175\n",
      "hohsex               0.006829\n",
      "dtype: float64\n"
     ]
    }
   ],
   "source": [
    "model_mr = smf.ols(formula = 'sc ~ progresa + sc97 + grc97 + grc + age + dist_sec + sex + indig + fam_n + min_dist + dist_cap + hohwag + hohedu + welfare_index + hohage + hohsex', data = progresa_98_poor_df)\n",
    "print(model_mr.fit().summary())\n",
    "print('\\npvalue: \\n', model_mr.fit().pvalues)\n",
    "print('\\nError: \\n', model_mr.fit().bse)\n"
   ]
  },
  {
   "cell_type": "markdown",
   "metadata": {
    "ein.tags": "worksheet-0",
    "slideshow": {
     "slide_type": "-"
    }
   },
   "source": [
    "The likelihood of child enrolling has reduced to 0.0319. The p-value has also further reduced to 1.548814e-19. The error term has also reduced to 0.0035. Due to the impact of other variables in multiple regression, the estimate of progressa has lowered in 2.3"
   ]
  },
  {
   "cell_type": "markdown",
   "metadata": {
    "ein.tags": "worksheet-0",
    "slideshow": {
     "slide_type": "-"
    }
   },
   "source": [
    "### 2.4 Difference-in-Difference, version 1 (tabular)\n",
    "\n",
    "Thus far, we have computed the effects of Progresa by estimating the\n",
    "difference in 1998 enrollment rates across villages. An alternative\n",
    "approach would be to compute the treatment effect using a\n",
    "difference-in-differences framework.\n",
    "\n",
    "Begin by estimating the average treatment effects of the program for poor households using data from 1997 and 1998. Specifically, calculate:\n",
    "\n",
    "a) the difference (between 1997 and 1998) in enrollment rates among poor households in treated villages\n",
    "\n",
    "b) the difference (between 1997 and 1998) in enrollment rates among poor households in control villages.\n",
    "\n",
    "c) The difference between these two differences is your estimate.\n",
    "\n",
    "* What is your estimate of the impact, and how does it compare to your earlier (simple difference) results?\n",
    "\n",
    "* What is the counterfactual assumption underlying this estimate? \n"
   ]
  },
  {
   "cell_type": "code",
   "execution_count": 42,
   "metadata": {
    "autoscroll": false,
    "ein.tags": "worksheet-0",
    "slideshow": {
     "slide_type": "-"
    }
   },
   "outputs": [
    {
     "name": "stderr",
     "output_type": "stream",
     "text": [
      "C:\\Anaconda\\lib\\site-packages\\ipykernel_launcher.py:1: UserWarning: Boolean Series key will be reindexed to match DataFrame index.\n",
      "  \"\"\"Entry point for launching an IPython kernel.\n",
      "C:\\Anaconda\\lib\\site-packages\\ipykernel_launcher.py:2: UserWarning: Boolean Series key will be reindexed to match DataFrame index.\n",
      "  \n",
      "C:\\Anaconda\\lib\\site-packages\\ipykernel_launcher.py:6: UserWarning: Boolean Series key will be reindexed to match DataFrame index.\n",
      "  \n",
      "C:\\Anaconda\\lib\\site-packages\\ipykernel_launcher.py:7: UserWarning: Boolean Series key will be reindexed to match DataFrame index.\n",
      "  import sys\n"
     ]
    },
    {
     "name": "stdout",
     "output_type": "stream",
     "text": [
      "Treatment -0.023782233992046597\n",
      "Control 0.007549046327276487\n",
      "Difference in Difference:  -0.031331280319323085\n"
     ]
    }
   ],
   "source": [
    "# Treatment group\n",
    "progresa_treatment_97 = progresa_df[progresa_df.poor == 'pobre'][progresa_df.year == 97][progresa_df.progresa == 'basal']\n",
    "progresa_treatment_98 = progresa_df[progresa_df.poor == 'pobre'][progresa_df.year == 98][progresa_df.progresa == 'basal']\n",
    "diff_treatment = progresa_treatment_97.sc.mean() - progresa_treatment_98.sc.mean()\n",
    "print('Treatment', diff_treatment)\n",
    "\n",
    "# Control Group\n",
    "progresa_ctrl_97 = progresa_df[progresa_df.poor == 'pobre'][progresa_df.year == 97][progresa_df.progresa == '0']\n",
    "progresa_ctrl_98 = progresa_df[progresa_df.poor == 'pobre'][progresa_df.year == 98][progresa_df.progresa == '0']\n",
    "diff_control = progresa_ctrl_97.sc.mean() - progresa_ctrl_98.sc.mean()\n",
    "print('Control', diff_control)\n",
    "\n",
    "# Difference in Difference\n",
    "print(\"Difference in Difference: \", diff_treatment - diff_control)"
   ]
  },
  {
   "cell_type": "markdown",
   "metadata": {
    "ein.tags": "worksheet-0",
    "slideshow": {
     "slide_type": "-"
    }
   },
   "source": [
    "The Difference in Difference is 0.0313 which is quite close to the estimate of multiple regression and slightly less than that of simple regression.\n",
    "\n",
    "The counterfactual assumption is that if the treatment was not given, the difference in enrollment from 97 to 98 for treatment group would be the same as that of control group."
   ]
  },
  {
   "cell_type": "markdown",
   "metadata": {
    "ein.tags": "worksheet-0",
    "slideshow": {
     "slide_type": "-"
    }
   },
   "source": [
    "### 2.5 Difference-in-Difference, version 2 (regression)\n",
    "\n",
    "Now use a regression specification to estimate the average treatment\n",
    "effects of the program in a difference-in-differences\n",
    "framework. Include at least 5 control variables.\n",
    "\n",
    "* What is your estimate of the impact of Progresa? Be very specific in\n",
    "  interpreting your coefficients and standard errors, and make sure to\n",
    "  specify exactly what units you are measuring and estimating.\n",
    "\n",
    "* How do these estimates of the treatment effect compare to the\n",
    "  estimates based on the simple difference?\n",
    "\n",
    "* How do these estimates compare to the difference-in-difference\n",
    "  estimates from 2.4 above? What accounts for these differences?\n",
    "\n",
    "* What is the counterfactual assumption underlying this regression? "
   ]
  },
  {
   "cell_type": "code",
   "execution_count": 50,
   "metadata": {
    "autoscroll": false,
    "ein.tags": "worksheet-0",
    "slideshow": {
     "slide_type": "-"
    }
   },
   "outputs": [
    {
     "name": "stdout",
     "output_type": "stream",
     "text": [
      "                            OLS Regression Results                            \n",
      "==============================================================================\n",
      "Dep. Variable:                     sc   R-squared:                       0.283\n",
      "Model:                            OLS   Adj. R-squared:                  0.283\n",
      "Method:                 Least Squares   F-statistic:                     1633.\n",
      "Date:                Sun, 29 Apr 2018   Prob (F-statistic):               0.00\n",
      "Time:                        02:27:30   Log-Likelihood:                -16472.\n",
      "No. Observations:               57998   AIC:                         3.297e+04\n",
      "Df Residuals:                   57983   BIC:                         3.311e+04\n",
      "Df Model:                          14                                         \n",
      "Covariance Type:            nonrobust                                         \n",
      "==========================================================================================\n",
      "                             coef    std err          t      P>|t|      [0.025      0.975]\n",
      "------------------------------------------------------------------------------------------\n",
      "Intercept                 -1.3029      0.424     -3.071      0.002      -2.134      -0.471\n",
      "progresa[T.basal]         -2.9800      0.537     -5.545      0.000      -4.033      -1.927\n",
      "year                       0.0280      0.004      6.428      0.000       0.019       0.037\n",
      "progresa[T.basal]:year     0.0308      0.006      5.579      0.000       0.020       0.042\n",
      "age                       -0.0658      0.000   -143.095      0.000      -0.067      -0.065\n",
      "dist_sec                  -0.0096      0.001    -15.437      0.000      -0.011      -0.008\n",
      "sex                        0.0332      0.003     12.425      0.000       0.028       0.038\n",
      "indig                      0.0243      0.003      7.432      0.000       0.018       0.031\n",
      "min_dist                   0.0004   4.39e-05      8.568      0.000       0.000       0.000\n",
      "dist_cap                   0.0002   2.55e-05      7.235      0.000       0.000       0.000\n",
      "hohwag                  1.008e-06   1.94e-06      0.519      0.603    -2.8e-06    4.81e-06\n",
      "hohedu                     0.0072      0.001     12.117      0.000       0.006       0.008\n",
      "welfare_index           2.002e-05   1.22e-05      1.640      0.101    -3.9e-06    4.39e-05\n",
      "hohage                     0.0002      0.000      1.764      0.078   -2.62e-05       0.000\n",
      "hohsex                     0.0014      0.005      0.270      0.787      -0.009       0.012\n",
      "==============================================================================\n",
      "Omnibus:                     5464.404   Durbin-Watson:                   1.492\n",
      "Prob(Omnibus):                  0.000   Jarque-Bera (JB):             7176.348\n",
      "Skew:                          -0.860   Prob(JB):                         0.00\n",
      "Kurtosis:                       3.111   Cond. No.                     5.06e+05\n",
      "==============================================================================\n",
      "\n",
      "Warnings:\n",
      "[1] Standard Errors assume that the covariance matrix of the errors is correctly specified.\n",
      "[2] The condition number is large, 5.06e+05. This might indicate that there are\n",
      "strong multicollinearity or other numerical problems.\n",
      "\n",
      "pvalues: \n",
      " Intercept                 2.133684e-03\n",
      "progresa[T.basal]         2.945684e-08\n",
      "year                      1.307076e-10\n",
      "progresa[T.basal]:year    2.436730e-08\n",
      "age                       0.000000e+00\n",
      "dist_sec                  1.182813e-53\n",
      "sex                       2.115657e-35\n",
      "indig                     1.085612e-13\n",
      "min_dist                  1.082511e-17\n",
      "dist_cap                  4.715258e-13\n",
      "hohwag                    6.034734e-01\n",
      "hohedu                    9.383217e-34\n",
      "welfare_index             1.009702e-01\n",
      "hohage                    7.778548e-02\n",
      "hohsex                    7.872217e-01\n",
      "dtype: float64\n",
      "\n",
      "Error: \n",
      " Intercept                 0.424238\n",
      "progresa[T.basal]         0.537377\n",
      "year                      0.004352\n",
      "progresa[T.basal]:year    0.005513\n",
      "age                       0.000460\n",
      "dist_sec                  0.000624\n",
      "sex                       0.002672\n",
      "indig                     0.003273\n",
      "min_dist                  0.000044\n",
      "dist_cap                  0.000026\n",
      "hohwag                    0.000002\n",
      "hohedu                    0.000594\n",
      "welfare_index             0.000012\n",
      "hohage                    0.000133\n",
      "hohsex                    0.005206\n",
      "dtype: float64\n"
     ]
    }
   ],
   "source": [
    "model_mr_did = smf.ols(formula='sc~progresa+year+progresa*year+age+dist_sec+sex+indig+min_dist+dist_cap+hohwag+hohedu + welfare_index + hohage + hohsex', data = progresa_df[progresa_df.poor == 'pobre'])\n",
    "print(model_mr_did.fit().summary())\n",
    "print('\\npvalues: \\n',model_mr_did.fit().pvalues)\n",
    "print('\\nError: \\n',model_mr_did.fit().bse)\n"
   ]
  },
  {
   "cell_type": "markdown",
   "metadata": {
    "ein.tags": "worksheet-0",
    "slideshow": {
     "slide_type": "-"
    }
   },
   "source": [
    "1. The impact of progresa according to this model is 0.0308. p-value is 2.43 * 10^-8 and standard error is 0.005\n",
    "2. This is slightly less compared to simple differences.\n",
    "3. This is slightly less than that of version1 in the previous part as this takes into account other control variables.\n",
    "4. The counterfactual assumption is again that if the treatment was not given, the difference in enrollment from 97 to 98 for treatment group would be the same as that of control group"
   ]
  },
  {
   "cell_type": "markdown",
   "metadata": {
    "ein.tags": "worksheet-0",
    "slideshow": {
     "slide_type": "-"
    }
   },
   "source": [
    "### 2.6 Summary\n",
    "\n",
    "* Based on all the analysis you have undertaken to date, do you\n",
    "  believe that Progresa had a causal impact on the enrollment rates of\n",
    "  poor households in Mexico?  Explain by referring to the methods and\n",
    "  results above."
   ]
  },
  {
   "cell_type": "markdown",
   "metadata": {
    "ein.tags": "worksheet-0",
    "slideshow": {
     "slide_type": "-"
    }
   },
   "source": [
    "As per my analysis, Progresa had a causal impact on the enrollment rates of poor households in Mexico. Based on the methods used above, the enrolment rate improved by ~0.03 for the treatment groups. There was a slight change in the results due to control variables in Multiple Regression which was expected. Other than that, all the methods showed the same results."
   ]
  },
  {
   "cell_type": "code",
   "execution_count": null,
   "metadata": {
    "collapsed": true
   },
   "outputs": [],
   "source": []
  }
 ],
 "metadata": {
  "kernelspec": {
   "display_name": "Python 3",
   "language": "python",
   "name": "python3"
  },
  "language_info": {
   "codemirror_mode": {
    "name": "ipython",
    "version": 3
   },
   "file_extension": ".py",
   "mimetype": "text/x-python",
   "name": "python",
   "nbconvert_exporter": "python",
   "pygments_lexer": "ipython3",
   "version": "3.6.3"
  },
  "name": "ps03_progresa.ipynb"
 },
 "nbformat": 4,
 "nbformat_minor": 1
}
