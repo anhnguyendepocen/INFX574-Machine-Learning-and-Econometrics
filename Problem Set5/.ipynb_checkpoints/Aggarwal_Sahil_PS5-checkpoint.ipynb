{
 "cells": [
  {
   "cell_type": "markdown",
   "metadata": {},
   "source": [
    "## Problem Set 5 - Boston House Prices dataset"
   ]
  },
  {
   "cell_type": "code",
   "execution_count": 1,
   "metadata": {},
   "outputs": [],
   "source": [
    "# Imports\n",
    "import pandas as pd\n",
    "import numpy as np\n",
    "from sklearn import datasets\n",
    "import seaborn as sns\n",
    "from sklearn.model_selection import train_test_split, KFold, cross_val_score\n",
    "from sklearn.linear_model import LinearRegression\n",
    "from sklearn.metrics import accuracy_score, mean_squared_error\n",
    "import random\n",
    "from datetime import datetime\n",
    "import sys\n",
    "from sklearn.mixture import GaussianMixture\n",
    "from sklearn.decomposition import PCA\n",
    "import statsmodels.formula.api as sm\n",
    "import matplotlib.pyplot as plt"
   ]
  },
  {
   "cell_type": "code",
   "execution_count": 2,
   "metadata": {},
   "outputs": [
    {
     "name": "stdout",
     "output_type": "stream",
     "text": [
      "dict_keys(['data', 'target', 'feature_names', 'DESCR'])\n",
      "Boston House Prices dataset\n",
      "===========================\n",
      "\n",
      "Notes\n",
      "------\n",
      "Data Set Characteristics:  \n",
      "\n",
      "    :Number of Instances: 506 \n",
      "\n",
      "    :Number of Attributes: 13 numeric/categorical predictive\n",
      "    \n",
      "    :Median Value (attribute 14) is usually the target\n",
      "\n",
      "    :Attribute Information (in order):\n",
      "        - CRIM     per capita crime rate by town\n",
      "        - ZN       proportion of residential land zoned for lots over 25,000 sq.ft.\n",
      "        - INDUS    proportion of non-retail business acres per town\n",
      "        - CHAS     Charles River dummy variable (= 1 if tract bounds river; 0 otherwise)\n",
      "        - NOX      nitric oxides concentration (parts per 10 million)\n",
      "        - RM       average number of rooms per dwelling\n",
      "        - AGE      proportion of owner-occupied units built prior to 1940\n",
      "        - DIS      weighted distances to five Boston employment centres\n",
      "        - RAD      index of accessibility to radial highways\n",
      "        - TAX      full-value property-tax rate per $10,000\n",
      "        - PTRATIO  pupil-teacher ratio by town\n",
      "        - B        1000(Bk - 0.63)^2 where Bk is the proportion of blacks by town\n",
      "        - LSTAT    % lower status of the population\n",
      "        - MEDV     Median value of owner-occupied homes in $1000's\n",
      "\n",
      "    :Missing Attribute Values: None\n",
      "\n",
      "    :Creator: Harrison, D. and Rubinfeld, D.L.\n",
      "\n",
      "This is a copy of UCI ML housing dataset.\n",
      "http://archive.ics.uci.edu/ml/datasets/Housing\n",
      "\n",
      "\n",
      "This dataset was taken from the StatLib library which is maintained at Carnegie Mellon University.\n",
      "\n",
      "The Boston house-price data of Harrison, D. and Rubinfeld, D.L. 'Hedonic\n",
      "prices and the demand for clean air', J. Environ. Economics & Management,\n",
      "vol.5, 81-102, 1978.   Used in Belsley, Kuh & Welsch, 'Regression diagnostics\n",
      "...', Wiley, 1980.   N.B. Various transformations are used in the table on\n",
      "pages 244-261 of the latter.\n",
      "\n",
      "The Boston house-price data has been used in many machine learning papers that address regression\n",
      "problems.   \n",
      "     \n",
      "**References**\n",
      "\n",
      "   - Belsley, Kuh & Welsch, 'Regression diagnostics: Identifying Influential Data and Sources of Collinearity', Wiley, 1980. 244-261.\n",
      "   - Quinlan,R. (1993). Combining Instance-Based and Model-Based Learning. In Proceedings on the Tenth International Conference of Machine Learning, 236-243, University of Massachusetts, Amherst. Morgan Kaufmann.\n",
      "   - many more! (see http://archive.ics.uci.edu/ml/datasets/Housing)\n",
      "\n"
     ]
    }
   ],
   "source": [
    "# Loading boston dataset\n",
    "boston = datasets.load_boston()\n",
    "print(boston.keys())  # keys in data from sklearn\n",
    "print(boston['DESCR'])  # Description of data"
   ]
  },
  {
   "cell_type": "markdown",
   "metadata": {},
   "source": [
    "### Active Data Exploration"
   ]
  },
  {
   "cell_type": "code",
   "execution_count": 3,
   "metadata": {},
   "outputs": [],
   "source": [
    "# Converting to dataframes\n",
    "\n",
    "X = pd.DataFrame(boston.data)\n",
    "Y = pd.DataFrame(boston.target)\n",
    "X.columns = boston.feature_names  # Assigning names to features\n",
    "Y.columns = ['MEDV']"
   ]
  },
  {
   "cell_type": "code",
   "execution_count": 4,
   "metadata": {},
   "outputs": [
    {
     "data": {
      "text/html": [
       "<div>\n",
       "<style scoped>\n",
       "    .dataframe tbody tr th:only-of-type {\n",
       "        vertical-align: middle;\n",
       "    }\n",
       "\n",
       "    .dataframe tbody tr th {\n",
       "        vertical-align: top;\n",
       "    }\n",
       "\n",
       "    .dataframe thead th {\n",
       "        text-align: right;\n",
       "    }\n",
       "</style>\n",
       "<table border=\"1\" class=\"dataframe\">\n",
       "  <thead>\n",
       "    <tr style=\"text-align: right;\">\n",
       "      <th></th>\n",
       "      <th>CRIM</th>\n",
       "      <th>ZN</th>\n",
       "      <th>INDUS</th>\n",
       "      <th>CHAS</th>\n",
       "      <th>NOX</th>\n",
       "      <th>RM</th>\n",
       "      <th>AGE</th>\n",
       "      <th>DIS</th>\n",
       "      <th>RAD</th>\n",
       "      <th>TAX</th>\n",
       "      <th>PTRATIO</th>\n",
       "      <th>B</th>\n",
       "      <th>LSTAT</th>\n",
       "    </tr>\n",
       "  </thead>\n",
       "  <tbody>\n",
       "    <tr>\n",
       "      <th>0</th>\n",
       "      <td>0.00632</td>\n",
       "      <td>18.0</td>\n",
       "      <td>2.31</td>\n",
       "      <td>0.0</td>\n",
       "      <td>0.538</td>\n",
       "      <td>6.575</td>\n",
       "      <td>65.2</td>\n",
       "      <td>4.0900</td>\n",
       "      <td>1.0</td>\n",
       "      <td>296.0</td>\n",
       "      <td>15.3</td>\n",
       "      <td>396.90</td>\n",
       "      <td>4.98</td>\n",
       "    </tr>\n",
       "    <tr>\n",
       "      <th>1</th>\n",
       "      <td>0.02731</td>\n",
       "      <td>0.0</td>\n",
       "      <td>7.07</td>\n",
       "      <td>0.0</td>\n",
       "      <td>0.469</td>\n",
       "      <td>6.421</td>\n",
       "      <td>78.9</td>\n",
       "      <td>4.9671</td>\n",
       "      <td>2.0</td>\n",
       "      <td>242.0</td>\n",
       "      <td>17.8</td>\n",
       "      <td>396.90</td>\n",
       "      <td>9.14</td>\n",
       "    </tr>\n",
       "    <tr>\n",
       "      <th>2</th>\n",
       "      <td>0.02729</td>\n",
       "      <td>0.0</td>\n",
       "      <td>7.07</td>\n",
       "      <td>0.0</td>\n",
       "      <td>0.469</td>\n",
       "      <td>7.185</td>\n",
       "      <td>61.1</td>\n",
       "      <td>4.9671</td>\n",
       "      <td>2.0</td>\n",
       "      <td>242.0</td>\n",
       "      <td>17.8</td>\n",
       "      <td>392.83</td>\n",
       "      <td>4.03</td>\n",
       "    </tr>\n",
       "    <tr>\n",
       "      <th>3</th>\n",
       "      <td>0.03237</td>\n",
       "      <td>0.0</td>\n",
       "      <td>2.18</td>\n",
       "      <td>0.0</td>\n",
       "      <td>0.458</td>\n",
       "      <td>6.998</td>\n",
       "      <td>45.8</td>\n",
       "      <td>6.0622</td>\n",
       "      <td>3.0</td>\n",
       "      <td>222.0</td>\n",
       "      <td>18.7</td>\n",
       "      <td>394.63</td>\n",
       "      <td>2.94</td>\n",
       "    </tr>\n",
       "    <tr>\n",
       "      <th>4</th>\n",
       "      <td>0.06905</td>\n",
       "      <td>0.0</td>\n",
       "      <td>2.18</td>\n",
       "      <td>0.0</td>\n",
       "      <td>0.458</td>\n",
       "      <td>7.147</td>\n",
       "      <td>54.2</td>\n",
       "      <td>6.0622</td>\n",
       "      <td>3.0</td>\n",
       "      <td>222.0</td>\n",
       "      <td>18.7</td>\n",
       "      <td>396.90</td>\n",
       "      <td>5.33</td>\n",
       "    </tr>\n",
       "  </tbody>\n",
       "</table>\n",
       "</div>"
      ],
      "text/plain": [
       "      CRIM    ZN  INDUS  CHAS    NOX     RM   AGE     DIS  RAD    TAX  \\\n",
       "0  0.00632  18.0   2.31   0.0  0.538  6.575  65.2  4.0900  1.0  296.0   \n",
       "1  0.02731   0.0   7.07   0.0  0.469  6.421  78.9  4.9671  2.0  242.0   \n",
       "2  0.02729   0.0   7.07   0.0  0.469  7.185  61.1  4.9671  2.0  242.0   \n",
       "3  0.03237   0.0   2.18   0.0  0.458  6.998  45.8  6.0622  3.0  222.0   \n",
       "4  0.06905   0.0   2.18   0.0  0.458  7.147  54.2  6.0622  3.0  222.0   \n",
       "\n",
       "   PTRATIO       B  LSTAT  \n",
       "0     15.3  396.90   4.98  \n",
       "1     17.8  396.90   9.14  \n",
       "2     17.8  392.83   4.03  \n",
       "3     18.7  394.63   2.94  \n",
       "4     18.7  396.90   5.33  "
      ]
     },
     "execution_count": 4,
     "metadata": {},
     "output_type": "execute_result"
    }
   ],
   "source": [
    "# Exploring data\n",
    "X.head()"
   ]
  },
  {
   "cell_type": "code",
   "execution_count": 5,
   "metadata": {},
   "outputs": [
    {
     "data": {
      "text/html": [
       "<div>\n",
       "<style scoped>\n",
       "    .dataframe tbody tr th:only-of-type {\n",
       "        vertical-align: middle;\n",
       "    }\n",
       "\n",
       "    .dataframe tbody tr th {\n",
       "        vertical-align: top;\n",
       "    }\n",
       "\n",
       "    .dataframe thead th {\n",
       "        text-align: right;\n",
       "    }\n",
       "</style>\n",
       "<table border=\"1\" class=\"dataframe\">\n",
       "  <thead>\n",
       "    <tr style=\"text-align: right;\">\n",
       "      <th></th>\n",
       "      <th>MEDV</th>\n",
       "    </tr>\n",
       "  </thead>\n",
       "  <tbody>\n",
       "    <tr>\n",
       "      <th>0</th>\n",
       "      <td>24.0</td>\n",
       "    </tr>\n",
       "    <tr>\n",
       "      <th>1</th>\n",
       "      <td>21.6</td>\n",
       "    </tr>\n",
       "    <tr>\n",
       "      <th>2</th>\n",
       "      <td>34.7</td>\n",
       "    </tr>\n",
       "    <tr>\n",
       "      <th>3</th>\n",
       "      <td>33.4</td>\n",
       "    </tr>\n",
       "    <tr>\n",
       "      <th>4</th>\n",
       "      <td>36.2</td>\n",
       "    </tr>\n",
       "  </tbody>\n",
       "</table>\n",
       "</div>"
      ],
      "text/plain": [
       "   MEDV\n",
       "0  24.0\n",
       "1  21.6\n",
       "2  34.7\n",
       "3  33.4\n",
       "4  36.2"
      ]
     },
     "execution_count": 5,
     "metadata": {},
     "output_type": "execute_result"
    }
   ],
   "source": [
    "Y.head()"
   ]
  },
  {
   "cell_type": "code",
   "execution_count": 6,
   "metadata": {},
   "outputs": [
    {
     "data": {
      "text/plain": [
       "0.0    471\n",
       "1.0     35\n",
       "Name: CHAS, dtype: int64"
      ]
     },
     "execution_count": 6,
     "metadata": {},
     "output_type": "execute_result"
    }
   ],
   "source": [
    "X.CHAS.value_counts()"
   ]
  },
  {
   "cell_type": "code",
   "execution_count": 7,
   "metadata": {},
   "outputs": [
    {
     "data": {
      "text/plain": [
       "24.0    132\n",
       "5.0     115\n",
       "4.0     110\n",
       "3.0      38\n",
       "6.0      26\n",
       "8.0      24\n",
       "2.0      24\n",
       "1.0      20\n",
       "7.0      17\n",
       "Name: RAD, dtype: int64"
      ]
     },
     "execution_count": 7,
     "metadata": {},
     "output_type": "execute_result"
    }
   ],
   "source": [
    "X.RAD.value_counts()"
   ]
  },
  {
   "cell_type": "code",
   "execution_count": 8,
   "metadata": {},
   "outputs": [
    {
     "data": {
      "text/plain": [
       "(506, 13)"
      ]
     },
     "execution_count": 8,
     "metadata": {},
     "output_type": "execute_result"
    }
   ],
   "source": [
    "X.shape"
   ]
  },
  {
   "cell_type": "code",
   "execution_count": 9,
   "metadata": {},
   "outputs": [
    {
     "name": "stdout",
     "output_type": "stream",
     "text": [
      "<class 'pandas.core.frame.DataFrame'>\n",
      "RangeIndex: 506 entries, 0 to 505\n",
      "Data columns (total 13 columns):\n",
      "CRIM       506 non-null float64\n",
      "ZN         506 non-null float64\n",
      "INDUS      506 non-null float64\n",
      "CHAS       506 non-null float64\n",
      "NOX        506 non-null float64\n",
      "RM         506 non-null float64\n",
      "AGE        506 non-null float64\n",
      "DIS        506 non-null float64\n",
      "RAD        506 non-null float64\n",
      "TAX        506 non-null float64\n",
      "PTRATIO    506 non-null float64\n",
      "B          506 non-null float64\n",
      "LSTAT      506 non-null float64\n",
      "dtypes: float64(13)\n",
      "memory usage: 51.5 KB\n"
     ]
    }
   ],
   "source": [
    "X.info()"
   ]
  },
  {
   "cell_type": "code",
   "execution_count": 10,
   "metadata": {},
   "outputs": [
    {
     "data": {
      "text/plain": [
       "Index(['CRIM', 'ZN', 'INDUS', 'CHAS', 'NOX', 'RM', 'AGE', 'DIS', 'RAD', 'TAX',\n",
       "       'PTRATIO', 'B', 'LSTAT'],\n",
       "      dtype='object')"
      ]
     },
     "execution_count": 10,
     "metadata": {},
     "output_type": "execute_result"
    }
   ],
   "source": [
    "X.columns"
   ]
  },
  {
   "cell_type": "code",
   "execution_count": 11,
   "metadata": {},
   "outputs": [],
   "source": [
    "#Engineered features from existing features\n",
    "\n",
    "X['CRIM_ZN']=np.multiply(X['CRIM'],X['ZN']) \n",
    "X['ZN_INDUS'] = np.multiply(X['ZN'],X['INDUS']) \n",
    "X['NOX_B'] = np.multiply(X['NOX'],X['B']) \n",
    "X['LSTAT_PTRATIO'] = np.multiply(X['LSTAT'],X['PTRATIO']) \n",
    "X['CRIM_B'] = np.multiply(X['CRIM'],X['B']) \n",
    "X['LSTAT_RM'] = np.multiply(X['LSTAT'],X['RM']) \n",
    "X['DIS_RM'] = np.multiply(X['DIS'],X['RM']) \n",
    "X['TAX_log'] = np.log(X['TAX'])\n",
    "X['ZN_square'] = np.square(X['ZN'])\n",
    "X['RAD_RM'] = np.multiply(X['RAD'],X['RM']) "
   ]
  },
  {
   "cell_type": "code",
   "execution_count": 12,
   "metadata": {},
   "outputs": [],
   "source": [
    "# generating new random features\n",
    "\n",
    "Z = datasets.make_classification(n_samples=506,n_features=11, n_redundant=0,scale=5,n_informative=2,flip_y=0.5)    \n",
    "Z = pd.DataFrame(Z[0], columns=['B0','B1','B2','B3','B4','B5','B6','B7','B8','B9','B10']) # Assigning col names"
   ]
  },
  {
   "cell_type": "code",
   "execution_count": 13,
   "metadata": {},
   "outputs": [
    {
     "data": {
      "text/html": [
       "<div>\n",
       "<style scoped>\n",
       "    .dataframe tbody tr th:only-of-type {\n",
       "        vertical-align: middle;\n",
       "    }\n",
       "\n",
       "    .dataframe tbody tr th {\n",
       "        vertical-align: top;\n",
       "    }\n",
       "\n",
       "    .dataframe thead th {\n",
       "        text-align: right;\n",
       "    }\n",
       "</style>\n",
       "<table border=\"1\" class=\"dataframe\">\n",
       "  <thead>\n",
       "    <tr style=\"text-align: right;\">\n",
       "      <th></th>\n",
       "      <th>B0</th>\n",
       "      <th>B1</th>\n",
       "      <th>B2</th>\n",
       "      <th>B3</th>\n",
       "      <th>B4</th>\n",
       "      <th>B5</th>\n",
       "      <th>B6</th>\n",
       "      <th>B7</th>\n",
       "      <th>B8</th>\n",
       "      <th>B9</th>\n",
       "      <th>B10</th>\n",
       "    </tr>\n",
       "  </thead>\n",
       "  <tbody>\n",
       "    <tr>\n",
       "      <th>0</th>\n",
       "      <td>2.183318</td>\n",
       "      <td>-5.323119</td>\n",
       "      <td>-7.038173</td>\n",
       "      <td>6.914967</td>\n",
       "      <td>5.217200</td>\n",
       "      <td>-0.224086</td>\n",
       "      <td>3.408995</td>\n",
       "      <td>1.055788</td>\n",
       "      <td>2.262201</td>\n",
       "      <td>-2.349783</td>\n",
       "      <td>-0.000756</td>\n",
       "    </tr>\n",
       "    <tr>\n",
       "      <th>1</th>\n",
       "      <td>-3.582228</td>\n",
       "      <td>-1.652086</td>\n",
       "      <td>5.145940</td>\n",
       "      <td>-4.214786</td>\n",
       "      <td>-11.013398</td>\n",
       "      <td>2.143994</td>\n",
       "      <td>0.798559</td>\n",
       "      <td>-0.116227</td>\n",
       "      <td>-6.194260</td>\n",
       "      <td>1.238421</td>\n",
       "      <td>1.303760</td>\n",
       "    </tr>\n",
       "    <tr>\n",
       "      <th>2</th>\n",
       "      <td>-1.462258</td>\n",
       "      <td>-3.426940</td>\n",
       "      <td>-2.914045</td>\n",
       "      <td>3.993948</td>\n",
       "      <td>-6.849796</td>\n",
       "      <td>6.202893</td>\n",
       "      <td>-11.752708</td>\n",
       "      <td>-6.720710</td>\n",
       "      <td>2.971272</td>\n",
       "      <td>-1.890020</td>\n",
       "      <td>2.114646</td>\n",
       "    </tr>\n",
       "    <tr>\n",
       "      <th>3</th>\n",
       "      <td>1.706308</td>\n",
       "      <td>-3.699928</td>\n",
       "      <td>-5.223189</td>\n",
       "      <td>-2.825434</td>\n",
       "      <td>-3.736610</td>\n",
       "      <td>0.684925</td>\n",
       "      <td>3.873076</td>\n",
       "      <td>4.473709</td>\n",
       "      <td>-3.044633</td>\n",
       "      <td>4.239490</td>\n",
       "      <td>7.111292</td>\n",
       "    </tr>\n",
       "    <tr>\n",
       "      <th>4</th>\n",
       "      <td>8.075623</td>\n",
       "      <td>-1.541325</td>\n",
       "      <td>-4.116275</td>\n",
       "      <td>-3.829055</td>\n",
       "      <td>-4.633613</td>\n",
       "      <td>-7.028268</td>\n",
       "      <td>4.204899</td>\n",
       "      <td>-4.903436</td>\n",
       "      <td>-1.171247</td>\n",
       "      <td>-0.848923</td>\n",
       "      <td>-0.633462</td>\n",
       "    </tr>\n",
       "  </tbody>\n",
       "</table>\n",
       "</div>"
      ],
      "text/plain": [
       "         B0        B1        B2        B3         B4        B5         B6  \\\n",
       "0  2.183318 -5.323119 -7.038173  6.914967   5.217200 -0.224086   3.408995   \n",
       "1 -3.582228 -1.652086  5.145940 -4.214786 -11.013398  2.143994   0.798559   \n",
       "2 -1.462258 -3.426940 -2.914045  3.993948  -6.849796  6.202893 -11.752708   \n",
       "3  1.706308 -3.699928 -5.223189 -2.825434  -3.736610  0.684925   3.873076   \n",
       "4  8.075623 -1.541325 -4.116275 -3.829055  -4.633613 -7.028268   4.204899   \n",
       "\n",
       "         B7        B8        B9       B10  \n",
       "0  1.055788  2.262201 -2.349783 -0.000756  \n",
       "1 -0.116227 -6.194260  1.238421  1.303760  \n",
       "2 -6.720710  2.971272 -1.890020  2.114646  \n",
       "3  4.473709 -3.044633  4.239490  7.111292  \n",
       "4 -4.903436 -1.171247 -0.848923 -0.633462  "
      ]
     },
     "execution_count": 13,
     "metadata": {},
     "output_type": "execute_result"
    }
   ],
   "source": [
    "Z.head()"
   ]
  },
  {
   "cell_type": "code",
   "execution_count": 13,
   "metadata": {},
   "outputs": [],
   "source": [
    "X = pd.concat([X,Z],axis=1) # Concating new external features with exisitng dataframe"
   ]
  },
  {
   "cell_type": "code",
   "execution_count": 14,
   "metadata": {},
   "outputs": [
    {
     "data": {
      "text/plain": [
       "Index(['CRIM', 'ZN', 'INDUS', 'CHAS', 'NOX', 'RM', 'AGE', 'DIS', 'RAD', 'TAX',\n",
       "       'PTRATIO', 'B', 'LSTAT', 'CRIM_ZN', 'ZN_INDUS', 'NOX_B',\n",
       "       'LSTAT_PTRATIO', 'CRIM_B', 'LSTAT_RM', 'DIS_RM', 'TAX_log', 'ZN_square',\n",
       "       'RAD_RM', 'B0', 'B1', 'B2', 'B3', 'B4', 'B5', 'B6', 'B7', 'B8', 'B9',\n",
       "       'B10'],\n",
       "      dtype='object')"
      ]
     },
     "execution_count": 14,
     "metadata": {},
     "output_type": "execute_result"
    }
   ],
   "source": [
    "X.columns # Columns in new dataframe"
   ]
  },
  {
   "cell_type": "code",
   "execution_count": 15,
   "metadata": {},
   "outputs": [
    {
     "data": {
      "text/plain": [
       "(506, 34)"
      ]
     },
     "execution_count": 15,
     "metadata": {},
     "output_type": "execute_result"
    }
   ],
   "source": [
    "X.shape # Shape of new dataframe"
   ]
  },
  {
   "cell_type": "code",
   "execution_count": 16,
   "metadata": {},
   "outputs": [],
   "source": [
    "# Summary statistics\n",
    "\n",
    "mean_stats = X.mean().to_frame('Mean') # Calculating mean for the dataframe\n",
    "range_stats = (X.max()-X.min()).to_frame('Range') # Calculating range for the dataframe\n",
    "missing_stats = X.isnull().sum().to_frame('Missing Values') # Calculating missing values for the dataframe\n",
    "\n",
    "summary_stats = pd.concat([mean_stats,range_stats,missing_stats],axis=1) #Concatenating the above dataframes.\n",
    "\n",
    "corr = {}\n",
    "for i in X.columns:\n",
    "    corr[i]=(Y['MEDV'].corr(X[i])) \n",
    "summary_stats['Corr'] = corr.values()"
   ]
  },
  {
   "cell_type": "code",
   "execution_count": 17,
   "metadata": {},
   "outputs": [
    {
     "data": {
      "text/html": [
       "<div>\n",
       "<style scoped>\n",
       "    .dataframe tbody tr th:only-of-type {\n",
       "        vertical-align: middle;\n",
       "    }\n",
       "\n",
       "    .dataframe tbody tr th {\n",
       "        vertical-align: top;\n",
       "    }\n",
       "\n",
       "    .dataframe thead th {\n",
       "        text-align: right;\n",
       "    }\n",
       "</style>\n",
       "<table border=\"1\" class=\"dataframe\">\n",
       "  <thead>\n",
       "    <tr style=\"text-align: right;\">\n",
       "      <th></th>\n",
       "      <th>Mean</th>\n",
       "      <th>Range</th>\n",
       "      <th>Missing Values</th>\n",
       "      <th>Corr</th>\n",
       "    </tr>\n",
       "  </thead>\n",
       "  <tbody>\n",
       "    <tr>\n",
       "      <th>CRIM</th>\n",
       "      <td>3.593761</td>\n",
       "      <td>88.969880</td>\n",
       "      <td>0</td>\n",
       "      <td>-0.385832</td>\n",
       "    </tr>\n",
       "    <tr>\n",
       "      <th>ZN</th>\n",
       "      <td>11.363636</td>\n",
       "      <td>100.000000</td>\n",
       "      <td>0</td>\n",
       "      <td>0.360445</td>\n",
       "    </tr>\n",
       "    <tr>\n",
       "      <th>INDUS</th>\n",
       "      <td>11.136779</td>\n",
       "      <td>27.280000</td>\n",
       "      <td>0</td>\n",
       "      <td>-0.483725</td>\n",
       "    </tr>\n",
       "    <tr>\n",
       "      <th>CHAS</th>\n",
       "      <td>0.069170</td>\n",
       "      <td>1.000000</td>\n",
       "      <td>0</td>\n",
       "      <td>0.175260</td>\n",
       "    </tr>\n",
       "    <tr>\n",
       "      <th>NOX</th>\n",
       "      <td>0.554695</td>\n",
       "      <td>0.486000</td>\n",
       "      <td>0</td>\n",
       "      <td>-0.427321</td>\n",
       "    </tr>\n",
       "    <tr>\n",
       "      <th>RM</th>\n",
       "      <td>6.284634</td>\n",
       "      <td>5.219000</td>\n",
       "      <td>0</td>\n",
       "      <td>0.695360</td>\n",
       "    </tr>\n",
       "    <tr>\n",
       "      <th>AGE</th>\n",
       "      <td>68.574901</td>\n",
       "      <td>97.100000</td>\n",
       "      <td>0</td>\n",
       "      <td>-0.376955</td>\n",
       "    </tr>\n",
       "    <tr>\n",
       "      <th>DIS</th>\n",
       "      <td>3.795043</td>\n",
       "      <td>10.996900</td>\n",
       "      <td>0</td>\n",
       "      <td>0.249929</td>\n",
       "    </tr>\n",
       "    <tr>\n",
       "      <th>RAD</th>\n",
       "      <td>9.549407</td>\n",
       "      <td>23.000000</td>\n",
       "      <td>0</td>\n",
       "      <td>-0.381626</td>\n",
       "    </tr>\n",
       "    <tr>\n",
       "      <th>TAX</th>\n",
       "      <td>408.237154</td>\n",
       "      <td>524.000000</td>\n",
       "      <td>0</td>\n",
       "      <td>-0.468536</td>\n",
       "    </tr>\n",
       "    <tr>\n",
       "      <th>PTRATIO</th>\n",
       "      <td>18.455534</td>\n",
       "      <td>9.400000</td>\n",
       "      <td>0</td>\n",
       "      <td>-0.507787</td>\n",
       "    </tr>\n",
       "    <tr>\n",
       "      <th>B</th>\n",
       "      <td>356.674032</td>\n",
       "      <td>396.580000</td>\n",
       "      <td>0</td>\n",
       "      <td>0.333461</td>\n",
       "    </tr>\n",
       "    <tr>\n",
       "      <th>LSTAT</th>\n",
       "      <td>12.653063</td>\n",
       "      <td>36.240000</td>\n",
       "      <td>0</td>\n",
       "      <td>-0.737663</td>\n",
       "    </tr>\n",
       "    <tr>\n",
       "      <th>CRIM_ZN</th>\n",
       "      <td>0.926290</td>\n",
       "      <td>16.505200</td>\n",
       "      <td>0</td>\n",
       "      <td>0.343415</td>\n",
       "    </tr>\n",
       "    <tr>\n",
       "      <th>ZN_INDUS</th>\n",
       "      <td>41.310455</td>\n",
       "      <td>421.120000</td>\n",
       "      <td>0</td>\n",
       "      <td>0.289367</td>\n",
       "    </tr>\n",
       "    <tr>\n",
       "      <th>NOX_B</th>\n",
       "      <td>193.832699</td>\n",
       "      <td>345.471740</td>\n",
       "      <td>0</td>\n",
       "      <td>0.026168</td>\n",
       "    </tr>\n",
       "    <tr>\n",
       "      <th>LSTAT_PTRATIO</th>\n",
       "      <td>239.290334</td>\n",
       "      <td>741.563000</td>\n",
       "      <td>0</td>\n",
       "      <td>-0.750410</td>\n",
       "    </tr>\n",
       "    <tr>\n",
       "      <th>CRIM_B</th>\n",
       "      <td>986.214804</td>\n",
       "      <td>35312.504110</td>\n",
       "      <td>0</td>\n",
       "      <td>-0.311844</td>\n",
       "    </tr>\n",
       "    <tr>\n",
       "      <th>LSTAT_RM</th>\n",
       "      <td>76.446221</td>\n",
       "      <td>188.952730</td>\n",
       "      <td>0</td>\n",
       "      <td>-0.729524</td>\n",
       "    </tr>\n",
       "    <tr>\n",
       "      <th>DIS_RM</th>\n",
       "      <td>24.153519</td>\n",
       "      <td>76.882186</td>\n",
       "      <td>0</td>\n",
       "      <td>0.361049</td>\n",
       "    </tr>\n",
       "    <tr>\n",
       "      <th>TAX_log</th>\n",
       "      <td>5.931405</td>\n",
       "      <td>1.335564</td>\n",
       "      <td>0</td>\n",
       "      <td>-0.474701</td>\n",
       "    </tr>\n",
       "    <tr>\n",
       "      <th>ZN_square</th>\n",
       "      <td>671.994071</td>\n",
       "      <td>10000.000000</td>\n",
       "      <td>0</td>\n",
       "      <td>0.314601</td>\n",
       "    </tr>\n",
       "    <tr>\n",
       "      <th>RAD_RM</th>\n",
       "      <td>58.733255</td>\n",
       "      <td>205.014000</td>\n",
       "      <td>0</td>\n",
       "      <td>-0.327594</td>\n",
       "    </tr>\n",
       "    <tr>\n",
       "      <th>B0</th>\n",
       "      <td>0.170939</td>\n",
       "      <td>32.473976</td>\n",
       "      <td>0</td>\n",
       "      <td>-0.008238</td>\n",
       "    </tr>\n",
       "    <tr>\n",
       "      <th>B1</th>\n",
       "      <td>0.328546</td>\n",
       "      <td>28.533908</td>\n",
       "      <td>0</td>\n",
       "      <td>0.006326</td>\n",
       "    </tr>\n",
       "    <tr>\n",
       "      <th>B2</th>\n",
       "      <td>-0.092762</td>\n",
       "      <td>30.076999</td>\n",
       "      <td>0</td>\n",
       "      <td>-0.006697</td>\n",
       "    </tr>\n",
       "    <tr>\n",
       "      <th>B3</th>\n",
       "      <td>0.140803</td>\n",
       "      <td>27.503776</td>\n",
       "      <td>0</td>\n",
       "      <td>0.002596</td>\n",
       "    </tr>\n",
       "    <tr>\n",
       "      <th>B4</th>\n",
       "      <td>-0.054173</td>\n",
       "      <td>53.032596</td>\n",
       "      <td>0</td>\n",
       "      <td>-0.027128</td>\n",
       "    </tr>\n",
       "    <tr>\n",
       "      <th>B5</th>\n",
       "      <td>0.066951</td>\n",
       "      <td>42.230099</td>\n",
       "      <td>0</td>\n",
       "      <td>-0.006614</td>\n",
       "    </tr>\n",
       "    <tr>\n",
       "      <th>B6</th>\n",
       "      <td>0.209425</td>\n",
       "      <td>32.168479</td>\n",
       "      <td>0</td>\n",
       "      <td>0.011694</td>\n",
       "    </tr>\n",
       "    <tr>\n",
       "      <th>B7</th>\n",
       "      <td>-0.108311</td>\n",
       "      <td>31.035069</td>\n",
       "      <td>0</td>\n",
       "      <td>-0.018522</td>\n",
       "    </tr>\n",
       "    <tr>\n",
       "      <th>B8</th>\n",
       "      <td>0.098363</td>\n",
       "      <td>35.072635</td>\n",
       "      <td>0</td>\n",
       "      <td>-0.046399</td>\n",
       "    </tr>\n",
       "    <tr>\n",
       "      <th>B9</th>\n",
       "      <td>0.134457</td>\n",
       "      <td>28.368233</td>\n",
       "      <td>0</td>\n",
       "      <td>0.047810</td>\n",
       "    </tr>\n",
       "    <tr>\n",
       "      <th>B10</th>\n",
       "      <td>-0.042325</td>\n",
       "      <td>36.658551</td>\n",
       "      <td>0</td>\n",
       "      <td>0.035166</td>\n",
       "    </tr>\n",
       "  </tbody>\n",
       "</table>\n",
       "</div>"
      ],
      "text/plain": [
       "                     Mean         Range  Missing Values      Corr\n",
       "CRIM             3.593761     88.969880               0 -0.385832\n",
       "ZN              11.363636    100.000000               0  0.360445\n",
       "INDUS           11.136779     27.280000               0 -0.483725\n",
       "CHAS             0.069170      1.000000               0  0.175260\n",
       "NOX              0.554695      0.486000               0 -0.427321\n",
       "RM               6.284634      5.219000               0  0.695360\n",
       "AGE             68.574901     97.100000               0 -0.376955\n",
       "DIS              3.795043     10.996900               0  0.249929\n",
       "RAD              9.549407     23.000000               0 -0.381626\n",
       "TAX            408.237154    524.000000               0 -0.468536\n",
       "PTRATIO         18.455534      9.400000               0 -0.507787\n",
       "B              356.674032    396.580000               0  0.333461\n",
       "LSTAT           12.653063     36.240000               0 -0.737663\n",
       "CRIM_ZN          0.926290     16.505200               0  0.343415\n",
       "ZN_INDUS        41.310455    421.120000               0  0.289367\n",
       "NOX_B          193.832699    345.471740               0  0.026168\n",
       "LSTAT_PTRATIO  239.290334    741.563000               0 -0.750410\n",
       "CRIM_B         986.214804  35312.504110               0 -0.311844\n",
       "LSTAT_RM        76.446221    188.952730               0 -0.729524\n",
       "DIS_RM          24.153519     76.882186               0  0.361049\n",
       "TAX_log          5.931405      1.335564               0 -0.474701\n",
       "ZN_square      671.994071  10000.000000               0  0.314601\n",
       "RAD_RM          58.733255    205.014000               0 -0.327594\n",
       "B0               0.170939     32.473976               0 -0.008238\n",
       "B1               0.328546     28.533908               0  0.006326\n",
       "B2              -0.092762     30.076999               0 -0.006697\n",
       "B3               0.140803     27.503776               0  0.002596\n",
       "B4              -0.054173     53.032596               0 -0.027128\n",
       "B5               0.066951     42.230099               0 -0.006614\n",
       "B6               0.209425     32.168479               0  0.011694\n",
       "B7              -0.108311     31.035069               0 -0.018522\n",
       "B8               0.098363     35.072635               0 -0.046399\n",
       "B9               0.134457     28.368233               0  0.047810\n",
       "B10             -0.042325     36.658551               0  0.035166"
      ]
     },
     "execution_count": 17,
     "metadata": {},
     "output_type": "execute_result"
    }
   ],
   "source": [
    "summary_stats"
   ]
  },
  {
   "cell_type": "code",
   "execution_count": 18,
   "metadata": {},
   "outputs": [],
   "source": [
    "# Defining data and the target class\n",
    "\n",
    "data = pd.concat([X,Y],axis=1) # Commbining target class with data\n",
    "Y = data['MEDV']"
   ]
  },
  {
   "cell_type": "code",
   "execution_count": 19,
   "metadata": {},
   "outputs": [
    {
     "data": {
      "image/png": "[encoded data removed]",
      "text/plain": [
       "<matplotlib.figure.Figure at 0x11dad3c50>"
      ]
     },
     "metadata": {},
     "output_type": "display_data"
    }
   ],
   "source": [
    "# Scatter Plot for features\n",
    "\n",
    "#Relevant Features\n",
    "\n",
    "plt.figure(figsize=(16,35))\n",
    "\n",
    "# Plot 1 - Crime by Price\n",
    "plt.rcParams['axes.facecolor'] = 'whitesmoke'\n",
    "plt.subplot(4,2,1)\n",
    "plt.scatter(data['CRIM'],data['MEDV'],c='darkslategrey')\n",
    "plt.xlabel('Per capita crime rate by town')\n",
    "plt.ylabel('Median value of owner-occupied homes in $1000s')\n",
    "\n",
    "\n",
    "# Plot 2 - No of rooms by Price\n",
    "plt.rcParams['axes.facecolor'] = 'whitesmoke'\n",
    "plt.subplot(4,2,2)\n",
    "plt.scatter(data['RM'],data['MEDV'],c='darkslategrey')\n",
    "plt.xlabel('Average number of rooms per dwelling')\n",
    "plt.ylabel('Median value of owner-occupied homes in $1000s')\n",
    "\n",
    "# Plot 3 - % of lower status pop by price\n",
    "plt.rcParams['axes.facecolor'] = 'whitesmoke'\n",
    "plt.subplot(4,2,3)\n",
    "plt.scatter(data['LSTAT'],data['MEDV'],c='darkslategrey')\n",
    "plt.xlabel('% Lower status of the poplulation')\n",
    "plt.ylabel('Median value of owner-occupied homes in $1000s')\n",
    "\n",
    "# Plot 4 - NO levels by Price\n",
    "plt.rcParams['axes.facecolor'] = 'whitesmoke'\n",
    "plt.subplot(4,2,4)\n",
    "plt.scatter(data['NOX'],data['MEDV'],c='darkslategrey')\n",
    "plt.xlabel('Nitric oxides concentration')\n",
    "plt.ylabel('Median value of owner-occupied homes in $1000s')\n",
    "\n",
    "# PLot 5 - Distance to emp centers by Price\n",
    "plt.rcParams['axes.facecolor'] = 'whitesmoke'\n",
    "plt.subplot(4,2,5)\n",
    "plt.scatter(data['DIS'],data['MEDV'],c='darkslategrey')\n",
    "plt.xlabel('Distances to five Boston employment centres')\n",
    "plt.ylabel('Median value of owner-occupied homes in $1000s')\n",
    "\n",
    "#Plot 6 - Pupil teacher ratio by price\n",
    "plt.rcParams['axes.facecolor'] = 'whitesmoke'\n",
    "plt.subplot(4,2,6)\n",
    "plt.scatter(data['LSTAT_PTRATIO'],data['MEDV'],c='darkslategrey')\n",
    "plt.xlabel('LSTAT*PTRATIO Engineered')\n",
    "plt.ylabel('Median value of owner-occupied homes in $1000s')\n",
    "\n",
    "\n",
    "\n",
    "plt.show()\n"
   ]
  },
  {
   "cell_type": "code",
   "execution_count": 20,
   "metadata": {},
   "outputs": [
    {
     "data": {
      "image/png": "[encoded data removed]",
      "text/plain": [
       "<matplotlib.figure.Figure at 0x11dff1ba8>"
      ]
     },
     "metadata": {},
     "output_type": "display_data"
    }
   ],
   "source": [
    "# Irrelevant Features\n",
    "\n",
    "plt.figure(figsize=(16,17))\n",
    "\n",
    "# Plot 1 - Age of house by Price\n",
    "plt.rcParams['axes.facecolor'] = 'whitesmoke'\n",
    "plt.subplot(2,2,1)\n",
    "plt.scatter(data['AGE'],data['MEDV'],c='darkslategrey')\n",
    "plt.xlabel('Proportion of owner-occupied units built prior to 1940')\n",
    "plt.ylabel('Median value of owner-occupied homes in $1000s')\n",
    "\n",
    "\n",
    "# Plot 2 - Proportion of blacks by Price\n",
    "plt.rcParams['axes.facecolor'] = 'whitesmoke'\n",
    "plt.subplot(2,2,2)\n",
    "plt.scatter(data['B'],data['MEDV'],c='darkslategrey')\n",
    "plt.xlabel('Proportion of blacks by town')\n",
    "plt.ylabel('Median value of owner-occupied homes in $1000s')\n",
    "\n",
    "# Plot 3 - External feature by price\n",
    "plt.rcParams['axes.facecolor'] = 'whitesmoke'\n",
    "plt.subplot(2,2,3)\n",
    "plt.scatter(data['B0'],data['MEDV'],c='darkslategrey')\n",
    "plt.xlabel('External feature - B0')\n",
    "plt.ylabel('Median value of owner-occupied homes in $1000s')\n",
    "\n",
    "# Plot 4 - Index of accessibility to radial highways by Price\n",
    "plt.rcParams['axes.facecolor'] = 'whitesmoke'\n",
    "plt.subplot(2,2,4)\n",
    "plt.scatter(data['RAD'],data['MEDV'],c='darkslategrey')\n",
    "plt.xlabel('Index of accessibility to radial highways')\n",
    "plt.ylabel('Median value of owner-occupied homes in $1000s')\n",
    "\n",
    "\n",
    "plt.show()\n",
    "\n"
   ]
  },
  {
   "cell_type": "markdown",
   "metadata": {},
   "source": [
    "### Loss Function"
   ]
  },
  {
   "cell_type": "code",
   "execution_count": 21,
   "metadata": {},
   "outputs": [],
   "source": [
    "# Splitting into test and train\n",
    "\n",
    "X_train, X_test, Y_train, Y_test = train_test_split(X, Y, test_size=0.33, random_state=42)"
   ]
  },
  {
   "cell_type": "code",
   "execution_count": 22,
   "metadata": {},
   "outputs": [],
   "source": [
    "# Linear Regression\n",
    "\n",
    "model = LinearRegression()\n",
    "model = model.fit(X_train, Y_train)\n",
    "YPred = model.predict(X_test)"
   ]
  },
  {
   "cell_type": "code",
   "execution_count": 23,
   "metadata": {},
   "outputs": [],
   "source": [
    "def loss_function(model, X_test, Y_test):\n",
    "    \n",
    "    \"\"\"\n",
    "    Calculates loss function as a measure of cross validation for the passed model.\n",
    "    Takes three inputs: a) the estimated model \n",
    "                        b) the test data X\n",
    "                        c) and the test labels \n",
    "    \"\"\"\n",
    "    \n",
    "    X_test = np.concatenate((np.ones((X_test.shape[0],1)), X_test), axis=1)  # Concatenating a column of 1's for intercept\n",
    "    coeff = np.concatenate((np.matrix(model.intercept_),(np.matrix(model.coef_).T)),axis=0) # Transposing beta values for legal matrix multiplication\n",
    "    a = np.matrix(Y_test).T - X_test.dot(coeff) # Error term\n",
    "    loss = (a.T @ a)/X_test.shape[0] # Loss function\n",
    "    return loss"
   ]
  },
  {
   "cell_type": "code",
   "execution_count": 24,
   "metadata": {},
   "outputs": [
    {
     "data": {
      "text/plain": [
       "matrix([[14.28995354]])"
      ]
     },
     "execution_count": 24,
     "metadata": {},
     "output_type": "execute_result"
    }
   ],
   "source": [
    "loss_function(model,X_test,Y_test)"
   ]
  },
  {
   "cell_type": "code",
   "execution_count": 25,
   "metadata": {},
   "outputs": [
    {
     "data": {
      "text/plain": [
       "14.289953541773816"
      ]
     },
     "execution_count": 25,
     "metadata": {},
     "output_type": "execute_result"
    }
   ],
   "source": [
    "# Using sklearn mean squared error just to compare with manual loss function\n",
    "\n",
    "mean_squared_error(YPred, Y_test)"
   ]
  },
  {
   "cell_type": "markdown",
   "metadata": {},
   "source": [
    "### A few simple regressions"
   ]
  },
  {
   "cell_type": "code",
   "execution_count": 26,
   "metadata": {},
   "outputs": [],
   "source": [
    "# Running simple regression\n",
    "\n",
    "# 1st Model with 2 features\n",
    "X1 = data[['RM','LSTAT']] # Highly correlated"
   ]
  },
  {
   "cell_type": "code",
   "execution_count": 31,
   "metadata": {},
   "outputs": [],
   "source": [
    "# Kfold with K=10 for Linear Regression\n",
    "\n",
    "def kfold_mse(df,Y,n_split=10):\n",
    "    \"\"\"\n",
    "    Performs K fold cross validation and calculates the mean squared error\n",
    "    for the passed dataframe(should not have target class) and the target class.\n",
    "    \"\"\"\n",
    "    mse=[]\n",
    "    for train,test in KFold(n_splits=n_split).split(df):  # Sklearn Kfold method for KFOLD CV - returns train and tet indices\n",
    "        \n",
    "        # Defining train and test data for each fold\n",
    "        X_train, X_test = df.iloc[train], df.iloc[test]\n",
    "        y_train, y_test = Y.iloc[train], Y.iloc[test]\n",
    "       \n",
    "        # Linear regression\n",
    "        clf = LinearRegression()\n",
    "        clf.fit(X_train,y_train)\n",
    "        \n",
    "        # Call loss function\n",
    "        mse.append(loss_function(clf,X_test,y_test))\n",
    "    \n",
    "    return np.mean(mse)"
   ]
  },
  {
   "cell_type": "code",
   "execution_count": 30,
   "metadata": {},
   "outputs": [
    {
     "data": {
      "text/plain": [
       "38.38482773415987"
      ]
     },
     "execution_count": 30,
     "metadata": {},
     "output_type": "execute_result"
    }
   ],
   "source": [
    "kfold_mse(X1,Y)"
   ]
  },
  {
   "cell_type": "code",
   "execution_count": 32,
   "metadata": {},
   "outputs": [],
   "source": [
    "# 2nd model with 10 features\n",
    "\n",
    "X2 = data[['RM','LSTAT','NOX','TAX','PTRATIO','LSTAT_PTRATIO','AGE','CRIM','B0','B8']]"
   ]
  },
  {
   "cell_type": "code",
   "execution_count": 33,
   "metadata": {},
   "outputs": [
    {
     "data": {
      "text/plain": [
       "37.55561066886079"
      ]
     },
     "execution_count": 33,
     "metadata": {},
     "output_type": "execute_result"
    }
   ],
   "source": [
    "kfold_mse(X2,Y)"
   ]
  },
  {
   "cell_type": "code",
   "execution_count": 34,
   "metadata": {},
   "outputs": [],
   "source": [
    "# All features - Full Model\n",
    "\n",
    "X3 = data.drop('MEDV',axis=1)\n"
   ]
  },
  {
   "cell_type": "code",
   "execution_count": 35,
   "metadata": {},
   "outputs": [
    {
     "data": {
      "text/plain": [
       "24.865407585554316"
      ]
     },
     "execution_count": 35,
     "metadata": {},
     "output_type": "execute_result"
    }
   ],
   "source": [
    "kfold_mse(X3,Y)"
   ]
  },
  {
   "cell_type": "markdown",
   "metadata": {},
   "source": [
    "The best performance is by the full model as it has the lowest mean squared error."
   ]
  },
  {
   "cell_type": "markdown",
   "metadata": {},
   "source": [
    "### Find the best model"
   ]
  },
  {
   "cell_type": "markdown",
   "metadata": {},
   "source": [
    "We have 34 features so we can build 2**34 models which includes all possible combinations of features."
   ]
  },
  {
   "cell_type": "code",
   "execution_count": 36,
   "metadata": {},
   "outputs": [
    {
     "data": {
      "text/plain": [
       "17179869184"
      ]
     },
     "execution_count": 36,
     "metadata": {},
     "output_type": "execute_result"
    }
   ],
   "source": [
    "2**34"
   ]
  },
  {
   "cell_type": "code",
   "execution_count": 38,
   "metadata": {},
   "outputs": [
    {
     "name": "stdout",
     "output_type": "stream",
     "text": [
      "Time taken - 0:00:17.858261\n",
      "Number of mdoels evauated -  600\n",
      "Bytes consumed 5496\n"
     ]
    }
   ],
   "source": [
    "mse=[]\n",
    "\n",
    "startTime = datetime.now() # To keep track of time the loop runs.\n",
    "\n",
    "for i in range(1,21):\n",
    "    for i in range(1,31):\n",
    "        features = random.sample(list(X.columns),i) # Selects i features at random from X dataframe.\n",
    "        Y = data['MEDV']\n",
    "        mse.append(kfold_mse(data[features],Y,n_split=10)) # Kfold CV Linear Regression\n",
    "print('Time taken','-',datetime.now() - startTime) # Final time\n",
    "\n",
    "print('Number of mdoels evauated - ',len(mse)) # Total models evaluated\n",
    "\n",
    "print('Bytes consumed',sys.getsizeof(mse)) # Memory consumed by the number of models\n"
   ]
  },
  {
   "cell_type": "code",
   "execution_count": 39,
   "metadata": {},
   "outputs": [
    {
     "data": {
      "text/plain": [
       "157367601725.44"
      ]
     },
     "execution_count": 39,
     "metadata": {},
     "output_type": "execute_result"
    }
   ],
   "source": [
    "((5496*17179869184)/600)"
   ]
  },
  {
   "cell_type": "markdown",
   "metadata": {},
   "source": [
    "600 models take ~9 seconds. So approximately, 17179869184 models will take 257698037 seconds or 71582 hours.\n",
    "600 models take 5496 bytes of memory so 17179869184 will take 157367601725 bytes of memory or ~157 GB of memory. It would not be possible to store all results on our computers memory. "
   ]
  },
  {
   "cell_type": "markdown",
   "metadata": {},
   "source": [
    "### Forward Selection"
   ]
  },
  {
   "cell_type": "code",
   "execution_count": 40,
   "metadata": {},
   "outputs": [
    {
     "data": {
      "text/plain": [
       "(506, 34)"
      ]
     },
     "execution_count": 40,
     "metadata": {},
     "output_type": "execute_result"
    }
   ],
   "source": [
    "X.shape # Feature Set"
   ]
  },
  {
   "cell_type": "code",
   "execution_count": 41,
   "metadata": {},
   "outputs": [
    {
     "name": "stdout",
     "output_type": "stream",
     "text": [
      "{'CRIM': 77.68794078129832, 'ZN': 79.34700679551293, 'INDUS': 70.44480413675049, 'CHAS': 90.67640673481797, 'NOX': 74.15075363696404, 'RM': 49.96785597294386, 'AGE': 78.25079719122725, 'DIS': 87.49377626526041, 'RAD': 79.91494202512737, 'TAX': 72.28198981387725, 'PTRATIO': 66.72309452760933, 'B': 81.46082359507983, 'LSTAT': 41.82895807216404, 'CRIM_ZN': 79.92335902694523, 'ZN_INDUS': 84.56761988370607, 'NOX_B': 107.79040647799897, 'LSTAT_PTRATIO': 39.542496242406685, 'CRIM_B': 92.04421510521115, 'LSTAT_RM': 42.97119118212706, 'DIS_RM': 80.43701490528852, 'TAX_log': 71.5342450241462, 'ZN_square': 82.48538572307977, 'RAD_RM': 83.73178677538911, 'B0': 92.23374684512771, 'B1': 92.6394141724746, 'B2': 92.44577172109622, 'B3': 92.5448921064641, 'B4': 92.27897107589605, 'B5': 92.4717068022318, 'B6': 92.51412699003379, 'B7': 92.32783420802222, 'B8': 92.10480048891095, 'B9': 92.3976872617237, 'B10': 92.25543888305131}\n"
     ]
    },
    {
     "data": {
      "text/plain": [
       "('LSTAT_PTRATIO', 39.542496242406685)"
      ]
     },
     "execution_count": 41,
     "metadata": {},
     "output_type": "execute_result"
    }
   ],
   "source": [
    "# Evaluating best 1-Feature model\n",
    "\n",
    "mse={} # Dictionary to hold mse value for each feature model\n",
    "for i in X.columns:  # One feature at a time\n",
    "    mse[i]=(kfold_mse(data[[i]],Y,n_split=10))  # performing kfold CV with k=10\n",
    "print(mse)\n",
    "min(mse.items(), key=lambda x: x[1]) # Finding the feature with least mse"
   ]
  },
  {
   "cell_type": "code",
   "execution_count": 42,
   "metadata": {},
   "outputs": [],
   "source": [
    "\n",
    "features = ['LSTAT_PTRATIO'] # First feature as evaluated above\n",
    "\n",
    "cols = list(X.columns.drop('LSTAT_PTRATIO')) # Droping it from iterator"
   ]
  },
  {
   "cell_type": "code",
   "execution_count": 43,
   "metadata": {},
   "outputs": [
    {
     "name": "stdout",
     "output_type": "stream",
     "text": [
      "['LSTAT_PTRATIO']\n",
      "['LSTAT_PTRATIO', 'RM']\n",
      "['LSTAT_PTRATIO', 'RM', 'PTRATIO']\n",
      "['LSTAT_PTRATIO', 'RM', 'PTRATIO', 'LSTAT_RM']\n",
      "['LSTAT_PTRATIO', 'RM', 'PTRATIO', 'LSTAT_RM', 'LSTAT']\n",
      "['LSTAT_PTRATIO', 'RM', 'PTRATIO', 'LSTAT_RM', 'LSTAT', 'CRIM']\n",
      "['LSTAT_PTRATIO', 'RM', 'PTRATIO', 'LSTAT_RM', 'LSTAT', 'CRIM', 'DIS_RM']\n",
      "['LSTAT_PTRATIO', 'RM', 'PTRATIO', 'LSTAT_RM', 'LSTAT', 'CRIM', 'DIS_RM', 'CHAS']\n",
      "['LSTAT_PTRATIO', 'RM', 'PTRATIO', 'LSTAT_RM', 'LSTAT', 'CRIM', 'DIS_RM', 'CHAS', 'CRIM_ZN']\n",
      "['LSTAT_PTRATIO', 'RM', 'PTRATIO', 'LSTAT_RM', 'LSTAT', 'CRIM', 'DIS_RM', 'CHAS', 'CRIM_ZN', 'B9']\n",
      "['LSTAT_PTRATIO', 'RM', 'PTRATIO', 'LSTAT_RM', 'LSTAT', 'CRIM', 'DIS_RM', 'CHAS', 'CRIM_ZN', 'B9', 'B8']\n",
      "['LSTAT_PTRATIO', 'RM', 'PTRATIO', 'LSTAT_RM', 'LSTAT', 'CRIM', 'DIS_RM', 'CHAS', 'CRIM_ZN', 'B9', 'B8', 'B7']\n",
      "['LSTAT_PTRATIO', 'RM', 'PTRATIO', 'LSTAT_RM', 'LSTAT', 'CRIM', 'DIS_RM', 'CHAS', 'CRIM_ZN', 'B9', 'B8', 'B7', 'B6']\n",
      "['LSTAT_PTRATIO', 'RM', 'PTRATIO', 'LSTAT_RM', 'LSTAT', 'CRIM', 'DIS_RM', 'CHAS', 'CRIM_ZN', 'B9', 'B8', 'B7', 'B6', 'ZN_square']\n",
      "['LSTAT_PTRATIO', 'RM', 'PTRATIO', 'LSTAT_RM', 'LSTAT', 'CRIM', 'DIS_RM', 'CHAS', 'CRIM_ZN', 'B9', 'B8', 'B7', 'B6', 'ZN_square', 'ZN_INDUS']\n",
      "['LSTAT_PTRATIO', 'RM', 'PTRATIO', 'LSTAT_RM', 'LSTAT', 'CRIM', 'DIS_RM', 'CHAS', 'CRIM_ZN', 'B9', 'B8', 'B7', 'B6', 'ZN_square', 'ZN_INDUS', 'NOX']\n",
      "['LSTAT_PTRATIO', 'RM', 'PTRATIO', 'LSTAT_RM', 'LSTAT', 'CRIM', 'DIS_RM', 'CHAS', 'CRIM_ZN', 'B9', 'B8', 'B7', 'B6', 'ZN_square', 'ZN_INDUS', 'NOX', 'RAD']\n",
      "['LSTAT_PTRATIO', 'RM', 'PTRATIO', 'LSTAT_RM', 'LSTAT', 'CRIM', 'DIS_RM', 'CHAS', 'CRIM_ZN', 'B9', 'B8', 'B7', 'B6', 'ZN_square', 'ZN_INDUS', 'NOX', 'RAD', 'RAD_RM']\n",
      "['LSTAT_PTRATIO', 'RM', 'PTRATIO', 'LSTAT_RM', 'LSTAT', 'CRIM', 'DIS_RM', 'CHAS', 'CRIM_ZN', 'B9', 'B8', 'B7', 'B6', 'ZN_square', 'ZN_INDUS', 'NOX', 'RAD', 'RAD_RM', 'B5']\n",
      "['LSTAT_PTRATIO', 'RM', 'PTRATIO', 'LSTAT_RM', 'LSTAT', 'CRIM', 'DIS_RM', 'CHAS', 'CRIM_ZN', 'B9', 'B8', 'B7', 'B6', 'ZN_square', 'ZN_INDUS', 'NOX', 'RAD', 'RAD_RM', 'B5', 'B1']\n",
      "['LSTAT_PTRATIO', 'RM', 'PTRATIO', 'LSTAT_RM', 'LSTAT', 'CRIM', 'DIS_RM', 'CHAS', 'CRIM_ZN', 'B9', 'B8', 'B7', 'B6', 'ZN_square', 'ZN_INDUS', 'NOX', 'RAD', 'RAD_RM', 'B5', 'B1', 'B0']\n",
      "['LSTAT_PTRATIO', 'RM', 'PTRATIO', 'LSTAT_RM', 'LSTAT', 'CRIM', 'DIS_RM', 'CHAS', 'CRIM_ZN', 'B9', 'B8', 'B7', 'B6', 'ZN_square', 'ZN_INDUS', 'NOX', 'RAD', 'RAD_RM', 'B5', 'B1', 'B0', 'B4']\n",
      "['LSTAT_PTRATIO', 'RM', 'PTRATIO', 'LSTAT_RM', 'LSTAT', 'CRIM', 'DIS_RM', 'CHAS', 'CRIM_ZN', 'B9', 'B8', 'B7', 'B6', 'ZN_square', 'ZN_INDUS', 'NOX', 'RAD', 'RAD_RM', 'B5', 'B1', 'B0', 'B4', 'B3']\n",
      "['LSTAT_PTRATIO', 'RM', 'PTRATIO', 'LSTAT_RM', 'LSTAT', 'CRIM', 'DIS_RM', 'CHAS', 'CRIM_ZN', 'B9', 'B8', 'B7', 'B6', 'ZN_square', 'ZN_INDUS', 'NOX', 'RAD', 'RAD_RM', 'B5', 'B1', 'B0', 'B4', 'B3', 'B10']\n",
      "['LSTAT_PTRATIO', 'RM', 'PTRATIO', 'LSTAT_RM', 'LSTAT', 'CRIM', 'DIS_RM', 'CHAS', 'CRIM_ZN', 'B9', 'B8', 'B7', 'B6', 'ZN_square', 'ZN_INDUS', 'NOX', 'RAD', 'RAD_RM', 'B5', 'B1', 'B0', 'B4', 'B3', 'B10', 'B2']\n",
      "['LSTAT_PTRATIO', 'RM', 'PTRATIO', 'LSTAT_RM', 'LSTAT', 'CRIM', 'DIS_RM', 'CHAS', 'CRIM_ZN', 'B9', 'B8', 'B7', 'B6', 'ZN_square', 'ZN_INDUS', 'NOX', 'RAD', 'RAD_RM', 'B5', 'B1', 'B0', 'B4', 'B3', 'B10', 'B2', 'INDUS']\n",
      "['LSTAT_PTRATIO', 'RM', 'PTRATIO', 'LSTAT_RM', 'LSTAT', 'CRIM', 'DIS_RM', 'CHAS', 'CRIM_ZN', 'B9', 'B8', 'B7', 'B6', 'ZN_square', 'ZN_INDUS', 'NOX', 'RAD', 'RAD_RM', 'B5', 'B1', 'B0', 'B4', 'B3', 'B10', 'B2', 'INDUS', 'TAX']\n",
      "['LSTAT_PTRATIO', 'RM', 'PTRATIO', 'LSTAT_RM', 'LSTAT', 'CRIM', 'DIS_RM', 'CHAS', 'CRIM_ZN', 'B9', 'B8', 'B7', 'B6', 'ZN_square', 'ZN_INDUS', 'NOX', 'RAD', 'RAD_RM', 'B5', 'B1', 'B0', 'B4', 'B3', 'B10', 'B2', 'INDUS', 'TAX', 'ZN']\n",
      "['LSTAT_PTRATIO', 'RM', 'PTRATIO', 'LSTAT_RM', 'LSTAT', 'CRIM', 'DIS_RM', 'CHAS', 'CRIM_ZN', 'B9', 'B8', 'B7', 'B6', 'ZN_square', 'ZN_INDUS', 'NOX', 'RAD', 'RAD_RM', 'B5', 'B1', 'B0', 'B4', 'B3', 'B10', 'B2', 'INDUS', 'TAX', 'ZN', 'DIS']\n",
      "['LSTAT_PTRATIO', 'RM', 'PTRATIO', 'LSTAT_RM', 'LSTAT', 'CRIM', 'DIS_RM', 'CHAS', 'CRIM_ZN', 'B9', 'B8', 'B7', 'B6', 'ZN_square', 'ZN_INDUS', 'NOX', 'RAD', 'RAD_RM', 'B5', 'B1', 'B0', 'B4', 'B3', 'B10', 'B2', 'INDUS', 'TAX', 'ZN', 'DIS', 'TAX_log']\n",
      "['LSTAT_PTRATIO', 'RM', 'PTRATIO', 'LSTAT_RM', 'LSTAT', 'CRIM', 'DIS_RM', 'CHAS', 'CRIM_ZN', 'B9', 'B8', 'B7', 'B6', 'ZN_square', 'ZN_INDUS', 'NOX', 'RAD', 'RAD_RM', 'B5', 'B1', 'B0', 'B4', 'B3', 'B10', 'B2', 'INDUS', 'TAX', 'ZN', 'DIS', 'TAX_log', 'NOX_B']\n",
      "['LSTAT_PTRATIO', 'RM', 'PTRATIO', 'LSTAT_RM', 'LSTAT', 'CRIM', 'DIS_RM', 'CHAS', 'CRIM_ZN', 'B9', 'B8', 'B7', 'B6', 'ZN_square', 'ZN_INDUS', 'NOX', 'RAD', 'RAD_RM', 'B5', 'B1', 'B0', 'B4', 'B3', 'B10', 'B2', 'INDUS', 'TAX', 'ZN', 'DIS', 'TAX_log', 'NOX_B', 'CRIM_B']\n",
      "['LSTAT_PTRATIO', 'RM', 'PTRATIO', 'LSTAT_RM', 'LSTAT', 'CRIM', 'DIS_RM', 'CHAS', 'CRIM_ZN', 'B9', 'B8', 'B7', 'B6', 'ZN_square', 'ZN_INDUS', 'NOX', 'RAD', 'RAD_RM', 'B5', 'B1', 'B0', 'B4', 'B3', 'B10', 'B2', 'INDUS', 'TAX', 'ZN', 'DIS', 'TAX_log', 'NOX_B', 'CRIM_B', 'B']\n"
     ]
    }
   ],
   "source": [
    "# Repeating untill all features are included\n",
    "bic=[]\n",
    "aic=[]\n",
    "r=[]\n",
    "\n",
    "while len(features)!=34:  # Run untill all features are added\n",
    "    print(features) # Prints selected models at each iteration\n",
    "    mse={}\n",
    "    for i in cols:\n",
    "        mse[i]=(kfold_mse(data[[*features,i]],Y,n_split=10))\n",
    "    #print(mse,'\\n')\n",
    "    result = min(mse.items(), key=lambda x: x[1])[0]\n",
    "    features.append(result) # Append to the list\n",
    "    model = sm.ols(formula='MEDV ~ '+' + '.join(features), data=data).fit() # OLS with selected features\n",
    "    bic.append(model.bic) # Calculate BIC\n",
    "    aic.append(model.aic) # Calculate AIC\n",
    "    r.append(model.rsquared_adj) # Calculate Adjusted R squared\n",
    "    cols.remove(result) # Remove the selected feature from iterator\n"
   ]
  },
  {
   "cell_type": "code",
   "execution_count": 44,
   "metadata": {},
   "outputs": [
    {
     "data": {
      "text/plain": [
       "16"
      ]
     },
     "execution_count": 44,
     "metadata": {},
     "output_type": "execute_result"
    }
   ],
   "source": [
    "np.argmin(bic) # Finding the index at which bic was minimum"
   ]
  },
  {
   "cell_type": "code",
   "execution_count": 45,
   "metadata": {},
   "outputs": [
    {
     "name": "stdout",
     "output_type": "stream",
     "text": [
      "['LSTAT_PTRATIO', 'RM', 'PTRATIO', 'LSTAT_RM', 'LSTAT', 'CRIM', 'DIS_RM', 'CHAS', 'CRIM_ZN', 'B9', 'B8', 'B7', 'B6', 'ZN_square', 'ZN_INDUS', 'NOX', 'RAD']\n"
     ]
    }
   ],
   "source": [
    "best_model = features[:(np.argmin(bic) + 1)] # Finding best model based on BIC\n",
    "print(best_model)"
   ]
  },
  {
   "cell_type": "code",
   "execution_count": 128,
   "metadata": {},
   "outputs": [
    {
     "data": {
      "image/png": "[encoded data removed]",
      "text/plain": [
       "<matplotlib.figure.Figure at 0x1a292a0160>"
      ]
     },
     "metadata": {},
     "output_type": "display_data"
    }
   ],
   "source": [
    "# Plotting BIC vs Number of features\n",
    "\n",
    "plt.figure(figsize=(16,7))\n",
    "plt.plot(range(1,34),bic,marker='o')\n",
    "plt.grid(b=True)\n",
    "plt.axhline(min(bic),color='r')\n",
    "plt.show()"
   ]
  },
  {
   "cell_type": "code",
   "execution_count": 48,
   "metadata": {},
   "outputs": [
    {
     "data": {
      "text/plain": [
       "16"
      ]
     },
     "execution_count": 48,
     "metadata": {},
     "output_type": "execute_result"
    }
   ],
   "source": [
    "# Finding the index at which AIC was minimum\n",
    "np.argmin(aic)"
   ]
  },
  {
   "cell_type": "code",
   "execution_count": 127,
   "metadata": {},
   "outputs": [
    {
     "data": {
      "image/png": "[encoded data removed]",
      "text/plain": [
       "<matplotlib.figure.Figure at 0x1a290b3358>"
      ]
     },
     "metadata": {},
     "output_type": "display_data"
    }
   ],
   "source": [
    "# PLotting AIC vs No of features\n",
    "plt.figure(figsize=(16,7))\n",
    "plt.plot(range(1,34),aic,marker='o')\n",
    "plt.grid(b=True)\n",
    "plt.axhline(min(aic),color='r')\n",
    "plt.show()"
   ]
  },
  {
   "cell_type": "code",
   "execution_count": 51,
   "metadata": {},
   "outputs": [
    {
     "data": {
      "text/plain": [
       "29"
      ]
     },
     "execution_count": 51,
     "metadata": {},
     "output_type": "execute_result"
    }
   ],
   "source": [
    "# Finding the index with maximum value of Adjusted rsquare\n",
    "np.argmax(r)"
   ]
  },
  {
   "cell_type": "code",
   "execution_count": 131,
   "metadata": {},
   "outputs": [
    {
     "data": {
      "image/png": "[encoded data removed]",
      "text/plain": [
       "<matplotlib.figure.Figure at 0x1a299ce128>"
      ]
     },
     "metadata": {},
     "output_type": "display_data"
    }
   ],
   "source": [
    "# Plotting adjusted rsquare vs No of features\n",
    "plt.figure(figsize=(16,7))\n",
    "plt.plot(range(1,34),r,marker='o')\n",
    "plt.grid(b=True)\n",
    "plt.axhline(max(r),color='r')\n",
    "plt.show()"
   ]
  },
  {
   "cell_type": "markdown",
   "metadata": {},
   "source": [
    "### Principle Components"
   ]
  },
  {
   "cell_type": "code",
   "execution_count": 56,
   "metadata": {},
   "outputs": [
    {
     "data": {
      "text/plain": [
       "PCA(copy=True, iterated_power='auto', n_components=34, random_state=None,\n",
       "  svd_solver='auto', tol=0.0, whiten=False)"
      ]
     },
     "execution_count": 56,
     "metadata": {},
     "output_type": "execute_result"
    }
   ],
   "source": [
    "# PCA on raw features\n",
    "\n",
    "X = data.drop('MEDV',axis=1)\n",
    "pca = PCA(n_components=34)\n",
    "pca.fit(X)"
   ]
  },
  {
   "cell_type": "code",
   "execution_count": 80,
   "metadata": {},
   "outputs": [],
   "source": [
    "# Explained variance by each component\n",
    "\n",
    "explained_variance = list(pca.explained_variance_)"
   ]
  },
  {
   "cell_type": "code",
   "execution_count": 82,
   "metadata": {},
   "outputs": [],
   "source": [
    "var = pd.DataFrame()\n",
    "var['Components'] = range(1,35)\n",
    "var['explained_variance'] = explained_variance\n"
   ]
  },
  {
   "cell_type": "code",
   "execution_count": 92,
   "metadata": {},
   "outputs": [
    {
     "data": {
      "text/plain": [
       "<matplotlib.axes._subplots.AxesSubplot at 0x1a27b18b70>"
      ]
     },
     "execution_count": 92,
     "metadata": {},
     "output_type": "execute_result"
    },
    {
     "data": {
      "image/png": "[encoded data removed]",
      "text/plain": [
       "<matplotlib.figure.Figure at 0x1a27b18048>"
      ]
     },
     "metadata": {},
     "output_type": "display_data"
    }
   ],
   "source": [
    "plt.figure(figsize=(16,7))\n",
    "sns.barplot(x=\"Components\", y=\"explained_variance\", data=var, color=\"salmon\", saturation=.5)"
   ]
  },
  {
   "cell_type": "code",
   "execution_count": 83,
   "metadata": {},
   "outputs": [],
   "source": [
    "# Proportion of variance explained by each principle component\n",
    "\n",
    "proportion_explained_variance = list(pca.explained_variance_ratio_)\n",
    "var['proportion_explained_variance'] = proportion_explained_variance"
   ]
  },
  {
   "cell_type": "code",
   "execution_count": 84,
   "metadata": {},
   "outputs": [
    {
     "data": {
      "text/plain": [
       "<matplotlib.axes._subplots.AxesSubplot at 0x1a24e7ae10>"
      ]
     },
     "execution_count": 84,
     "metadata": {},
     "output_type": "execute_result"
    },
    {
     "data": {
      "image/png": "[encoded data removed]",
      "text/plain": [
       "<matplotlib.figure.Figure at 0x1a24e939b0>"
      ]
     },
     "metadata": {},
     "output_type": "display_data"
    }
   ],
   "source": [
    "plt.figure(figsize=(16,7))\n",
    "sns.barplot(x=\"Components\", y=\"proportion_explained_variance\", data=var, color=\"salmon\", saturation=.5)"
   ]
  },
  {
   "cell_type": "code",
   "execution_count": 89,
   "metadata": {},
   "outputs": [
    {
     "data": {
      "text/html": [
       "<div>\n",
       "<style scoped>\n",
       "    .dataframe tbody tr th:only-of-type {\n",
       "        vertical-align: middle;\n",
       "    }\n",
       "\n",
       "    .dataframe tbody tr th {\n",
       "        vertical-align: top;\n",
       "    }\n",
       "\n",
       "    .dataframe thead th {\n",
       "        text-align: right;\n",
       "    }\n",
       "</style>\n",
       "<table border=\"1\" class=\"dataframe\">\n",
       "  <thead>\n",
       "    <tr style=\"text-align: right;\">\n",
       "      <th></th>\n",
       "      <th>Components</th>\n",
       "      <th>explained_variance</th>\n",
       "      <th>proportion_explained_variance</th>\n",
       "      <th>cumulative_explained_variance</th>\n",
       "    </tr>\n",
       "  </thead>\n",
       "  <tbody>\n",
       "    <tr>\n",
       "      <th>0</th>\n",
       "      <td>1</td>\n",
       "      <td>7.212079e+06</td>\n",
       "      <td>6.876003e-01</td>\n",
       "      <td>0.687600</td>\n",
       "    </tr>\n",
       "    <tr>\n",
       "      <th>1</th>\n",
       "      <td>2</td>\n",
       "      <td>3.221240e+06</td>\n",
       "      <td>3.071134e-01</td>\n",
       "      <td>0.994714</td>\n",
       "    </tr>\n",
       "    <tr>\n",
       "      <th>2</th>\n",
       "      <td>3</td>\n",
       "      <td>3.225729e+04</td>\n",
       "      <td>3.075413e-03</td>\n",
       "      <td>0.997789</td>\n",
       "    </tr>\n",
       "    <tr>\n",
       "      <th>3</th>\n",
       "      <td>4</td>\n",
       "      <td>1.032598e+04</td>\n",
       "      <td>9.844795e-04</td>\n",
       "      <td>0.998774</td>\n",
       "    </tr>\n",
       "    <tr>\n",
       "      <th>4</th>\n",
       "      <td>5</td>\n",
       "      <td>7.583507e+03</td>\n",
       "      <td>7.230123e-04</td>\n",
       "      <td>0.999497</td>\n",
       "    </tr>\n",
       "    <tr>\n",
       "      <th>5</th>\n",
       "      <td>6</td>\n",
       "      <td>3.352075e+03</td>\n",
       "      <td>3.195872e-04</td>\n",
       "      <td>0.999816</td>\n",
       "    </tr>\n",
       "    <tr>\n",
       "      <th>6</th>\n",
       "      <td>7</td>\n",
       "      <td>7.185430e+02</td>\n",
       "      <td>6.850596e-05</td>\n",
       "      <td>0.999885</td>\n",
       "    </tr>\n",
       "    <tr>\n",
       "      <th>7</th>\n",
       "      <td>8</td>\n",
       "      <td>4.979970e+02</td>\n",
       "      <td>4.747908e-05</td>\n",
       "      <td>0.999932</td>\n",
       "    </tr>\n",
       "    <tr>\n",
       "      <th>8</th>\n",
       "      <td>9</td>\n",
       "      <td>2.178648e+02</td>\n",
       "      <td>2.077125e-05</td>\n",
       "      <td>0.999953</td>\n",
       "    </tr>\n",
       "    <tr>\n",
       "      <th>9</th>\n",
       "      <td>10</td>\n",
       "      <td>8.764475e+01</td>\n",
       "      <td>8.356059e-06</td>\n",
       "      <td>0.999961</td>\n",
       "    </tr>\n",
       "    <tr>\n",
       "      <th>10</th>\n",
       "      <td>11</td>\n",
       "      <td>5.786316e+01</td>\n",
       "      <td>5.516679e-06</td>\n",
       "      <td>0.999967</td>\n",
       "    </tr>\n",
       "    <tr>\n",
       "      <th>11</th>\n",
       "      <td>12</td>\n",
       "      <td>4.628233e+01</td>\n",
       "      <td>4.412562e-06</td>\n",
       "      <td>0.999971</td>\n",
       "    </tr>\n",
       "    <tr>\n",
       "      <th>12</th>\n",
       "      <td>13</td>\n",
       "      <td>3.642725e+01</td>\n",
       "      <td>3.472978e-06</td>\n",
       "      <td>0.999975</td>\n",
       "    </tr>\n",
       "    <tr>\n",
       "      <th>13</th>\n",
       "      <td>14</td>\n",
       "      <td>2.742034e+01</td>\n",
       "      <td>2.614258e-06</td>\n",
       "      <td>0.999977</td>\n",
       "    </tr>\n",
       "    <tr>\n",
       "      <th>14</th>\n",
       "      <td>15</td>\n",
       "      <td>2.683888e+01</td>\n",
       "      <td>2.558822e-06</td>\n",
       "      <td>0.999980</td>\n",
       "    </tr>\n",
       "    <tr>\n",
       "      <th>15</th>\n",
       "      <td>16</td>\n",
       "      <td>2.635869e+01</td>\n",
       "      <td>2.513041e-06</td>\n",
       "      <td>0.999982</td>\n",
       "    </tr>\n",
       "    <tr>\n",
       "      <th>16</th>\n",
       "      <td>17</td>\n",
       "      <td>2.574688e+01</td>\n",
       "      <td>2.454710e-06</td>\n",
       "      <td>0.999985</td>\n",
       "    </tr>\n",
       "    <tr>\n",
       "      <th>17</th>\n",
       "      <td>18</td>\n",
       "      <td>2.491124e+01</td>\n",
       "      <td>2.375040e-06</td>\n",
       "      <td>0.999987</td>\n",
       "    </tr>\n",
       "    <tr>\n",
       "      <th>18</th>\n",
       "      <td>19</td>\n",
       "      <td>2.428784e+01</td>\n",
       "      <td>2.315605e-06</td>\n",
       "      <td>0.999990</td>\n",
       "    </tr>\n",
       "    <tr>\n",
       "      <th>19</th>\n",
       "      <td>20</td>\n",
       "      <td>2.262018e+01</td>\n",
       "      <td>2.156610e-06</td>\n",
       "      <td>0.999992</td>\n",
       "    </tr>\n",
       "    <tr>\n",
       "      <th>20</th>\n",
       "      <td>21</td>\n",
       "      <td>2.119047e+01</td>\n",
       "      <td>2.020302e-06</td>\n",
       "      <td>0.999994</td>\n",
       "    </tr>\n",
       "    <tr>\n",
       "      <th>21</th>\n",
       "      <td>22</td>\n",
       "      <td>2.039472e+01</td>\n",
       "      <td>1.944434e-06</td>\n",
       "      <td>0.999996</td>\n",
       "    </tr>\n",
       "    <tr>\n",
       "      <th>22</th>\n",
       "      <td>23</td>\n",
       "      <td>1.792930e+01</td>\n",
       "      <td>1.709381e-06</td>\n",
       "      <td>0.999997</td>\n",
       "    </tr>\n",
       "    <tr>\n",
       "      <th>23</th>\n",
       "      <td>24</td>\n",
       "      <td>1.240180e+01</td>\n",
       "      <td>1.182389e-06</td>\n",
       "      <td>0.999999</td>\n",
       "    </tr>\n",
       "    <tr>\n",
       "      <th>24</th>\n",
       "      <td>25</td>\n",
       "      <td>9.381990e+00</td>\n",
       "      <td>8.944799e-07</td>\n",
       "      <td>0.999999</td>\n",
       "    </tr>\n",
       "    <tr>\n",
       "      <th>25</th>\n",
       "      <td>26</td>\n",
       "      <td>2.508308e+00</td>\n",
       "      <td>2.391423e-07</td>\n",
       "      <td>1.000000</td>\n",
       "    </tr>\n",
       "    <tr>\n",
       "      <th>26</th>\n",
       "      <td>27</td>\n",
       "      <td>2.199701e+00</td>\n",
       "      <td>2.097197e-07</td>\n",
       "      <td>1.000000</td>\n",
       "    </tr>\n",
       "    <tr>\n",
       "      <th>27</th>\n",
       "      <td>28</td>\n",
       "      <td>8.058328e-01</td>\n",
       "      <td>7.682817e-08</td>\n",
       "      <td>1.000000</td>\n",
       "    </tr>\n",
       "    <tr>\n",
       "      <th>28</th>\n",
       "      <td>29</td>\n",
       "      <td>2.497920e-01</td>\n",
       "      <td>2.381519e-08</td>\n",
       "      <td>1.000000</td>\n",
       "    </tr>\n",
       "    <tr>\n",
       "      <th>29</th>\n",
       "      <td>30</td>\n",
       "      <td>1.098363e-01</td>\n",
       "      <td>1.047180e-08</td>\n",
       "      <td>1.000000</td>\n",
       "    </tr>\n",
       "    <tr>\n",
       "      <th>30</th>\n",
       "      <td>31</td>\n",
       "      <td>5.495706e-02</td>\n",
       "      <td>5.239611e-09</td>\n",
       "      <td>1.000000</td>\n",
       "    </tr>\n",
       "    <tr>\n",
       "      <th>31</th>\n",
       "      <td>32</td>\n",
       "      <td>1.404714e-02</td>\n",
       "      <td>1.339255e-09</td>\n",
       "      <td>1.000000</td>\n",
       "    </tr>\n",
       "    <tr>\n",
       "      <th>32</th>\n",
       "      <td>33</td>\n",
       "      <td>1.935070e-03</td>\n",
       "      <td>1.844898e-10</td>\n",
       "      <td>1.000000</td>\n",
       "    </tr>\n",
       "    <tr>\n",
       "      <th>33</th>\n",
       "      <td>34</td>\n",
       "      <td>3.495130e-04</td>\n",
       "      <td>3.332260e-11</td>\n",
       "      <td>1.000000</td>\n",
       "    </tr>\n",
       "  </tbody>\n",
       "</table>\n",
       "</div>"
      ],
      "text/plain": [
       "    Components  explained_variance  proportion_explained_variance  \\\n",
       "0            1        7.212079e+06                   6.876003e-01   \n",
       "1            2        3.221240e+06                   3.071134e-01   \n",
       "2            3        3.225729e+04                   3.075413e-03   \n",
       "3            4        1.032598e+04                   9.844795e-04   \n",
       "4            5        7.583507e+03                   7.230123e-04   \n",
       "5            6        3.352075e+03                   3.195872e-04   \n",
       "6            7        7.185430e+02                   6.850596e-05   \n",
       "7            8        4.979970e+02                   4.747908e-05   \n",
       "8            9        2.178648e+02                   2.077125e-05   \n",
       "9           10        8.764475e+01                   8.356059e-06   \n",
       "10          11        5.786316e+01                   5.516679e-06   \n",
       "11          12        4.628233e+01                   4.412562e-06   \n",
       "12          13        3.642725e+01                   3.472978e-06   \n",
       "13          14        2.742034e+01                   2.614258e-06   \n",
       "14          15        2.683888e+01                   2.558822e-06   \n",
       "15          16        2.635869e+01                   2.513041e-06   \n",
       "16          17        2.574688e+01                   2.454710e-06   \n",
       "17          18        2.491124e+01                   2.375040e-06   \n",
       "18          19        2.428784e+01                   2.315605e-06   \n",
       "19          20        2.262018e+01                   2.156610e-06   \n",
       "20          21        2.119047e+01                   2.020302e-06   \n",
       "21          22        2.039472e+01                   1.944434e-06   \n",
       "22          23        1.792930e+01                   1.709381e-06   \n",
       "23          24        1.240180e+01                   1.182389e-06   \n",
       "24          25        9.381990e+00                   8.944799e-07   \n",
       "25          26        2.508308e+00                   2.391423e-07   \n",
       "26          27        2.199701e+00                   2.097197e-07   \n",
       "27          28        8.058328e-01                   7.682817e-08   \n",
       "28          29        2.497920e-01                   2.381519e-08   \n",
       "29          30        1.098363e-01                   1.047180e-08   \n",
       "30          31        5.495706e-02                   5.239611e-09   \n",
       "31          32        1.404714e-02                   1.339255e-09   \n",
       "32          33        1.935070e-03                   1.844898e-10   \n",
       "33          34        3.495130e-04                   3.332260e-11   \n",
       "\n",
       "    cumulative_explained_variance  \n",
       "0                        0.687600  \n",
       "1                        0.994714  \n",
       "2                        0.997789  \n",
       "3                        0.998774  \n",
       "4                        0.999497  \n",
       "5                        0.999816  \n",
       "6                        0.999885  \n",
       "7                        0.999932  \n",
       "8                        0.999953  \n",
       "9                        0.999961  \n",
       "10                       0.999967  \n",
       "11                       0.999971  \n",
       "12                       0.999975  \n",
       "13                       0.999977  \n",
       "14                       0.999980  \n",
       "15                       0.999982  \n",
       "16                       0.999985  \n",
       "17                       0.999987  \n",
       "18                       0.999990  \n",
       "19                       0.999992  \n",
       "20                       0.999994  \n",
       "21                       0.999996  \n",
       "22                       0.999997  \n",
       "23                       0.999999  \n",
       "24                       0.999999  \n",
       "25                       1.000000  \n",
       "26                       1.000000  \n",
       "27                       1.000000  \n",
       "28                       1.000000  \n",
       "29                       1.000000  \n",
       "30                       1.000000  \n",
       "31                       1.000000  \n",
       "32                       1.000000  \n",
       "33                       1.000000  "
      ]
     },
     "execution_count": 89,
     "metadata": {},
     "output_type": "execute_result"
    }
   ],
   "source": [
    "cumulative_explained_variance = list(pca.explained_variance_ratio_.cumsum())\n",
    "var['cumulative_explained_variance'] = cumulative_explained_variance\n",
    "var"
   ]
  },
  {
   "cell_type": "markdown",
   "metadata": {},
   "source": [
    "We can see that majority of the variance is explained by the first two principle components "
   ]
  },
  {
   "cell_type": "code",
   "execution_count": 93,
   "metadata": {},
   "outputs": [],
   "source": [
    "# Rotating the data to be parallel to x axis"
   ]
  },
  {
   "cell_type": "code",
   "execution_count": 94,
   "metadata": {},
   "outputs": [],
   "source": [
    "cols = []\n",
    "for i in range(1,35):\n",
    "    cols.append('pc'+str(i)) "
   ]
  },
  {
   "cell_type": "code",
   "execution_count": 95,
   "metadata": {},
   "outputs": [
    {
     "data": {
      "text/plain": [
       "(506, 34)"
      ]
     },
     "execution_count": 95,
     "metadata": {},
     "output_type": "execute_result"
    }
   ],
   "source": [
    "X.shape"
   ]
  },
  {
   "cell_type": "code",
   "execution_count": 98,
   "metadata": {},
   "outputs": [],
   "source": [
    "rotated = pd.DataFrame(pca.fit_transform(X),columns=cols) # Dataframe with principle components"
   ]
  },
  {
   "cell_type": "code",
   "execution_count": 99,
   "metadata": {},
   "outputs": [
    {
     "data": {
      "text/html": [
       "<div>\n",
       "<style scoped>\n",
       "    .dataframe tbody tr th:only-of-type {\n",
       "        vertical-align: middle;\n",
       "    }\n",
       "\n",
       "    .dataframe tbody tr th {\n",
       "        vertical-align: top;\n",
       "    }\n",
       "\n",
       "    .dataframe thead th {\n",
       "        text-align: right;\n",
       "    }\n",
       "</style>\n",
       "<table border=\"1\" class=\"dataframe\">\n",
       "  <thead>\n",
       "    <tr style=\"text-align: right;\">\n",
       "      <th></th>\n",
       "      <th>pc1</th>\n",
       "      <th>pc2</th>\n",
       "      <th>pc3</th>\n",
       "      <th>pc4</th>\n",
       "      <th>pc5</th>\n",
       "      <th>pc6</th>\n",
       "      <th>pc7</th>\n",
       "      <th>pc8</th>\n",
       "      <th>pc9</th>\n",
       "      <th>pc10</th>\n",
       "      <th>...</th>\n",
       "      <th>pc25</th>\n",
       "      <th>pc26</th>\n",
       "      <th>pc27</th>\n",
       "      <th>pc28</th>\n",
       "      <th>pc29</th>\n",
       "      <th>pc30</th>\n",
       "      <th>pc31</th>\n",
       "      <th>pc32</th>\n",
       "      <th>pc33</th>\n",
       "      <th>pc34</th>\n",
       "    </tr>\n",
       "  </thead>\n",
       "  <tbody>\n",
       "    <tr>\n",
       "      <th>0</th>\n",
       "      <td>-919.399216</td>\n",
       "      <td>-502.409077</td>\n",
       "      <td>177.358115</td>\n",
       "      <td>-67.845224</td>\n",
       "      <td>4.354305</td>\n",
       "      <td>-11.701014</td>\n",
       "      <td>14.438120</td>\n",
       "      <td>24.734515</td>\n",
       "      <td>-1.257893</td>\n",
       "      <td>-0.551158</td>\n",
       "      <td>...</td>\n",
       "      <td>-1.677901</td>\n",
       "      <td>-2.635694</td>\n",
       "      <td>-2.547765</td>\n",
       "      <td>-0.940513</td>\n",
       "      <td>-0.444606</td>\n",
       "      <td>-0.525117</td>\n",
       "      <td>-0.170481</td>\n",
       "      <td>-0.011502</td>\n",
       "      <td>0.044865</td>\n",
       "      <td>0.001857</td>\n",
       "    </tr>\n",
       "    <tr>\n",
       "      <th>1</th>\n",
       "      <td>-856.470276</td>\n",
       "      <td>-822.908760</td>\n",
       "      <td>168.186072</td>\n",
       "      <td>30.716257</td>\n",
       "      <td>23.569786</td>\n",
       "      <td>-40.844903</td>\n",
       "      <td>-2.535021</td>\n",
       "      <td>-0.150984</td>\n",
       "      <td>-21.345758</td>\n",
       "      <td>0.654626</td>\n",
       "      <td>...</td>\n",
       "      <td>1.781684</td>\n",
       "      <td>0.812423</td>\n",
       "      <td>-0.648740</td>\n",
       "      <td>0.112553</td>\n",
       "      <td>-0.321348</td>\n",
       "      <td>-0.099344</td>\n",
       "      <td>-0.083096</td>\n",
       "      <td>0.022419</td>\n",
       "      <td>0.043320</td>\n",
       "      <td>0.008788</td>\n",
       "    </tr>\n",
       "    <tr>\n",
       "      <th>2</th>\n",
       "      <td>-859.038998</td>\n",
       "      <td>-820.787913</td>\n",
       "      <td>220.209856</td>\n",
       "      <td>-48.291455</td>\n",
       "      <td>41.186333</td>\n",
       "      <td>-48.319083</td>\n",
       "      <td>-6.174479</td>\n",
       "      <td>3.326857</td>\n",
       "      <td>-8.713265</td>\n",
       "      <td>1.446202</td>\n",
       "      <td>...</td>\n",
       "      <td>-1.033922</td>\n",
       "      <td>0.739053</td>\n",
       "      <td>0.043635</td>\n",
       "      <td>-0.336530</td>\n",
       "      <td>-0.534526</td>\n",
       "      <td>0.399069</td>\n",
       "      <td>-0.029899</td>\n",
       "      <td>0.031235</td>\n",
       "      <td>0.050952</td>\n",
       "      <td>0.001940</td>\n",
       "    </tr>\n",
       "    <tr>\n",
       "      <th>3</th>\n",
       "      <td>-858.153005</td>\n",
       "      <td>-819.701084</td>\n",
       "      <td>244.936451</td>\n",
       "      <td>-54.259630</td>\n",
       "      <td>51.342853</td>\n",
       "      <td>-49.577960</td>\n",
       "      <td>-16.748225</td>\n",
       "      <td>-7.609203</td>\n",
       "      <td>0.730844</td>\n",
       "      <td>5.931809</td>\n",
       "      <td>...</td>\n",
       "      <td>-3.642509</td>\n",
       "      <td>0.758312</td>\n",
       "      <td>0.497633</td>\n",
       "      <td>-0.359190</td>\n",
       "      <td>-0.397195</td>\n",
       "      <td>0.435186</td>\n",
       "      <td>-0.129248</td>\n",
       "      <td>0.075385</td>\n",
       "      <td>0.083083</td>\n",
       "      <td>0.006846</td>\n",
       "    </tr>\n",
       "    <tr>\n",
       "      <th>4</th>\n",
       "      <td>-842.512015</td>\n",
       "      <td>-818.302759</td>\n",
       "      <td>219.463243</td>\n",
       "      <td>-15.108138</td>\n",
       "      <td>42.601121</td>\n",
       "      <td>-45.843056</td>\n",
       "      <td>-15.021144</td>\n",
       "      <td>-11.137645</td>\n",
       "      <td>-4.385346</td>\n",
       "      <td>-2.110974</td>\n",
       "      <td>...</td>\n",
       "      <td>-3.944221</td>\n",
       "      <td>0.246976</td>\n",
       "      <td>0.758701</td>\n",
       "      <td>-0.212247</td>\n",
       "      <td>-0.525453</td>\n",
       "      <td>0.582926</td>\n",
       "      <td>-0.005920</td>\n",
       "      <td>0.108809</td>\n",
       "      <td>0.076223</td>\n",
       "      <td>0.003277</td>\n",
       "    </tr>\n",
       "  </tbody>\n",
       "</table>\n",
       "<p>5 rows × 34 columns</p>\n",
       "</div>"
      ],
      "text/plain": [
       "          pc1         pc2         pc3        pc4        pc5        pc6  \\\n",
       "0 -919.399216 -502.409077  177.358115 -67.845224   4.354305 -11.701014   \n",
       "1 -856.470276 -822.908760  168.186072  30.716257  23.569786 -40.844903   \n",
       "2 -859.038998 -820.787913  220.209856 -48.291455  41.186333 -48.319083   \n",
       "3 -858.153005 -819.701084  244.936451 -54.259630  51.342853 -49.577960   \n",
       "4 -842.512015 -818.302759  219.463243 -15.108138  42.601121 -45.843056   \n",
       "\n",
       "         pc7        pc8        pc9      pc10    ...         pc25      pc26  \\\n",
       "0  14.438120  24.734515  -1.257893 -0.551158    ...    -1.677901 -2.635694   \n",
       "1  -2.535021  -0.150984 -21.345758  0.654626    ...     1.781684  0.812423   \n",
       "2  -6.174479   3.326857  -8.713265  1.446202    ...    -1.033922  0.739053   \n",
       "3 -16.748225  -7.609203   0.730844  5.931809    ...    -3.642509  0.758312   \n",
       "4 -15.021144 -11.137645  -4.385346 -2.110974    ...    -3.944221  0.246976   \n",
       "\n",
       "       pc27      pc28      pc29      pc30      pc31      pc32      pc33  \\\n",
       "0 -2.547765 -0.940513 -0.444606 -0.525117 -0.170481 -0.011502  0.044865   \n",
       "1 -0.648740  0.112553 -0.321348 -0.099344 -0.083096  0.022419  0.043320   \n",
       "2  0.043635 -0.336530 -0.534526  0.399069 -0.029899  0.031235  0.050952   \n",
       "3  0.497633 -0.359190 -0.397195  0.435186 -0.129248  0.075385  0.083083   \n",
       "4  0.758701 -0.212247 -0.525453  0.582926 -0.005920  0.108809  0.076223   \n",
       "\n",
       "       pc34  \n",
       "0  0.001857  \n",
       "1  0.008788  \n",
       "2  0.001940  \n",
       "3  0.006846  \n",
       "4  0.003277  \n",
       "\n",
       "[5 rows x 34 columns]"
      ]
     },
     "execution_count": 99,
     "metadata": {},
     "output_type": "execute_result"
    }
   ],
   "source": [
    "rotated.head()"
   ]
  },
  {
   "cell_type": "code",
   "execution_count": 100,
   "metadata": {},
   "outputs": [],
   "source": [
    "# Starting with the first, added pca's one by one.\n",
    "\n",
    "features = list(rotated.columns)\n",
    "mse_list=[]\n",
    "for i in range(1,35):\n",
    "    mse=(kfold_mse(rotated[features[:i]],Y,n_split=10))\n",
    "    mse_list.append(mse)"
   ]
  },
  {
   "cell_type": "code",
   "execution_count": 106,
   "metadata": {},
   "outputs": [
    {
     "data": {
      "image/png": "[encoded data removed]",
      "text/plain": [
       "<matplotlib.figure.Figure at 0x1a280bde10>"
      ]
     },
     "metadata": {},
     "output_type": "display_data"
    }
   ],
   "source": [
    "# Plotting MSE vs PCAs\n",
    "plt.figure(figsize=(16,7))\n",
    "plt.plot(range(1,35),mse_list,marker='o')\n",
    "plt.grid(b=True)\n",
    "plt.show()"
   ]
  },
  {
   "cell_type": "code",
   "execution_count": 107,
   "metadata": {},
   "outputs": [
    {
     "data": {
      "text/plain": [
       "29"
      ]
     },
     "execution_count": 107,
     "metadata": {},
     "output_type": "execute_result"
    }
   ],
   "source": [
    "# Finding minimum mse\n",
    "np.argmin(mse_list)"
   ]
  },
  {
   "cell_type": "markdown",
   "metadata": {},
   "source": [
    "30 components give the least cross validated MSE"
   ]
  },
  {
   "cell_type": "code",
   "execution_count": 108,
   "metadata": {},
   "outputs": [],
   "source": [
    "def normalize_feature(array):\n",
    "    \"\"\"\n",
    "    Normalizes a passed feature based on xn = x − xbar / sdx\n",
    "    \"\"\"\n",
    "    mean = array.mean() #mean\n",
    "    std = array.std() # standard deviation\n",
    "    \n",
    "    norm_feature = (array - mean )/std\n",
    "    \n",
    "    return norm_feature"
   ]
  },
  {
   "cell_type": "code",
   "execution_count": 109,
   "metadata": {},
   "outputs": [],
   "source": [
    "# A dataframe with normalized features - Does not include target class\n",
    "normalized_df = pd.DataFrame()\n",
    "for i in X.columns:\n",
    "    normalized_feature = normalize_feature(X[i])\n",
    "    normalized_df[i]=normalized_feature"
   ]
  },
  {
   "cell_type": "code",
   "execution_count": 110,
   "metadata": {},
   "outputs": [],
   "source": [
    "cols = []\n",
    "for i in range(1,35):\n",
    "    cols.append('pc_normalized'+str(i)) "
   ]
  },
  {
   "cell_type": "code",
   "execution_count": 111,
   "metadata": {},
   "outputs": [],
   "source": [
    "# Rotating the data\n",
    "\n",
    "rotated_normalized = pd.DataFrame(pca.fit_transform(normalized_df),columns=cols)"
   ]
  },
  {
   "cell_type": "code",
   "execution_count": 112,
   "metadata": {},
   "outputs": [],
   "source": [
    "features = list(rotated_normalized.columns)\n",
    "mse_list=[]\n",
    "for i in range(1,35):\n",
    "    mse=(kfold_mse(rotated_normalized[features[:i]],Y,n_split=10))\n",
    "    mse_list.append(mse)"
   ]
  },
  {
   "cell_type": "code",
   "execution_count": 114,
   "metadata": {},
   "outputs": [
    {
     "data": {
      "image/png": "[encoded data removed]",
      "text/plain": [
       "<matplotlib.figure.Figure at 0x1a2721a208>"
      ]
     },
     "metadata": {},
     "output_type": "display_data"
    }
   ],
   "source": [
    "plt.figure(figsize=(16,7))\n",
    "plt.plot(range(1,35),mse_list,marker='o')\n",
    "plt.grid(b=True)\n",
    "plt.show()"
   ]
  },
  {
   "cell_type": "code",
   "execution_count": 115,
   "metadata": {},
   "outputs": [
    {
     "data": {
      "text/plain": [
       "33"
      ]
     },
     "execution_count": 115,
     "metadata": {},
     "output_type": "execute_result"
    }
   ],
   "source": [
    "np.argmin(mse_list)"
   ]
  },
  {
   "cell_type": "code",
   "execution_count": null,
   "metadata": {},
   "outputs": [],
   "source": []
  }
 ],
 "metadata": {
  "kernelspec": {
   "display_name": "Python 3",
   "language": "python",
   "name": "python3"
  },
  "language_info": {
   "codemirror_mode": {
    "name": "ipython",
    "version": 3
   },
   "file_extension": ".py",
   "mimetype": "text/x-python",
   "name": "python",
   "nbconvert_exporter": "python",
   "pygments_lexer": "ipython3",
   "version": "3.6.4"
  }
 },
 "nbformat": 4,
 "nbformat_minor": 2
}
