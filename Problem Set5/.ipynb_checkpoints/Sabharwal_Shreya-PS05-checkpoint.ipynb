{
 "cells": [
  {
   "cell_type": "markdown",
   "metadata": {},
   "source": [
    "# INFX574 Problem Set 5 - Shreya Sabharwal\n",
    "## Attribute selection and PCA\n"
   ]
  },
  {
   "cell_type": "markdown",
   "metadata": {},
   "source": [
    "## Preliminaries"
   ]
  },
  {
   "cell_type": "code",
   "execution_count": 1,
   "metadata": {},
   "outputs": [],
   "source": [
    "from sklearn.datasets import load_boston\n",
    "import pandas as pd\n",
    "import numpy as np\n",
    "import matplotlib.pyplot as plt\n",
    "import seaborn as sns\n",
    "from sklearn.metrics import mean_squared_error\n",
    "from sklearn.model_selection import train_test_split, cross_val_score\n",
    "from sklearn.linear_model import LinearRegression\n",
    "import random\n",
    "import time\n",
    "import sys\n",
    "import statsmodels.formula.api as smf\n",
    "from sklearn.decomposition import PCA"
   ]
  },
  {
   "cell_type": "markdown",
   "metadata": {},
   "source": [
    "## 1. \"Active\" data exploration"
   ]
  },
  {
   "cell_type": "code",
   "execution_count": 2,
   "metadata": {},
   "outputs": [
    {
     "name": "stdout",
     "output_type": "stream",
     "text": [
      "(506, 13)\n"
     ]
    }
   ],
   "source": [
    "#loading dataset\n",
    "boston = load_boston()\n",
    "print(boston.data.shape)"
   ]
  },
  {
   "cell_type": "code",
   "execution_count": 3,
   "metadata": {},
   "outputs": [
    {
     "data": {
      "text/plain": [
       "array(['CRIM', 'ZN', 'INDUS', 'CHAS', 'NOX', 'RM', 'AGE', 'DIS', 'RAD',\n",
       "       'TAX', 'PTRATIO', 'B', 'LSTAT'], dtype='<U7')"
      ]
     },
     "execution_count": 3,
     "metadata": {},
     "output_type": "execute_result"
    }
   ],
   "source": [
    "boston.feature_names"
   ]
  },
  {
   "cell_type": "code",
   "execution_count": 4,
   "metadata": {},
   "outputs": [
    {
     "name": "stdout",
     "output_type": "stream",
     "text": [
      "Boston House Prices dataset\n",
      "===========================\n",
      "\n",
      "Notes\n",
      "------\n",
      "Data Set Characteristics:  \n",
      "\n",
      "    :Number of Instances: 506 \n",
      "\n",
      "    :Number of Attributes: 13 numeric/categorical predictive\n",
      "    \n",
      "    :Median Value (attribute 14) is usually the target\n",
      "\n",
      "    :Attribute Information (in order):\n",
      "        - CRIM     per capita crime rate by town\n",
      "        - ZN       proportion of residential land zoned for lots over 25,000 sq.ft.\n",
      "        - INDUS    proportion of non-retail business acres per town\n",
      "        - CHAS     Charles River dummy variable (= 1 if tract bounds river; 0 otherwise)\n",
      "        - NOX      nitric oxides concentration (parts per 10 million)\n",
      "        - RM       average number of rooms per dwelling\n",
      "        - AGE      proportion of owner-occupied units built prior to 1940\n",
      "        - DIS      weighted distances to five Boston employment centres\n",
      "        - RAD      index of accessibility to radial highways\n",
      "        - TAX      full-value property-tax rate per $10,000\n",
      "        - PTRATIO  pupil-teacher ratio by town\n",
      "        - B        1000(Bk - 0.63)^2 where Bk is the proportion of blacks by town\n",
      "        - LSTAT    % lower status of the population\n",
      "        - MEDV     Median value of owner-occupied homes in $1000's\n",
      "\n",
      "    :Missing Attribute Values: None\n",
      "\n",
      "    :Creator: Harrison, D. and Rubinfeld, D.L.\n",
      "\n",
      "This is a copy of UCI ML housing dataset.\n",
      "http://archive.ics.uci.edu/ml/datasets/Housing\n",
      "\n",
      "\n",
      "This dataset was taken from the StatLib library which is maintained at Carnegie Mellon University.\n",
      "\n",
      "The Boston house-price data of Harrison, D. and Rubinfeld, D.L. 'Hedonic\n",
      "prices and the demand for clean air', J. Environ. Economics & Management,\n",
      "vol.5, 81-102, 1978.   Used in Belsley, Kuh & Welsch, 'Regression diagnostics\n",
      "...', Wiley, 1980.   N.B. Various transformations are used in the table on\n",
      "pages 244-261 of the latter.\n",
      "\n",
      "The Boston house-price data has been used in many machine learning papers that address regression\n",
      "problems.   \n",
      "     \n",
      "**References**\n",
      "\n",
      "   - Belsley, Kuh & Welsch, 'Regression diagnostics: Identifying Influential Data and Sources of Collinearity', Wiley, 1980. 244-261.\n",
      "   - Quinlan,R. (1993). Combining Instance-Based and Model-Based Learning. In Proceedings on the Tenth International Conference of Machine Learning, 236-243, University of Massachusetts, Amherst. Morgan Kaufmann.\n",
      "   - many more! (see http://archive.ics.uci.edu/ml/datasets/Housing)\n",
      "\n"
     ]
    }
   ],
   "source": [
    "print(boston.DESCR)"
   ]
  },
  {
   "cell_type": "code",
   "execution_count": 5,
   "metadata": {},
   "outputs": [
    {
     "data": {
      "text/html": [
       "<div>\n",
       "<style scoped>\n",
       "    .dataframe tbody tr th:only-of-type {\n",
       "        vertical-align: middle;\n",
       "    }\n",
       "\n",
       "    .dataframe tbody tr th {\n",
       "        vertical-align: top;\n",
       "    }\n",
       "\n",
       "    .dataframe thead th {\n",
       "        text-align: right;\n",
       "    }\n",
       "</style>\n",
       "<table border=\"1\" class=\"dataframe\">\n",
       "  <thead>\n",
       "    <tr style=\"text-align: right;\">\n",
       "      <th></th>\n",
       "      <th>CRIM</th>\n",
       "      <th>ZN</th>\n",
       "      <th>INDUS</th>\n",
       "      <th>CHAS</th>\n",
       "      <th>NOX</th>\n",
       "      <th>RM</th>\n",
       "      <th>AGE</th>\n",
       "      <th>DIS</th>\n",
       "      <th>RAD</th>\n",
       "      <th>TAX</th>\n",
       "      <th>PTRATIO</th>\n",
       "      <th>B</th>\n",
       "      <th>LSTAT</th>\n",
       "    </tr>\n",
       "  </thead>\n",
       "  <tbody>\n",
       "    <tr>\n",
       "      <th>0</th>\n",
       "      <td>0.00632</td>\n",
       "      <td>18.0</td>\n",
       "      <td>2.31</td>\n",
       "      <td>0.0</td>\n",
       "      <td>0.538</td>\n",
       "      <td>6.575</td>\n",
       "      <td>65.2</td>\n",
       "      <td>4.0900</td>\n",
       "      <td>1.0</td>\n",
       "      <td>296.0</td>\n",
       "      <td>15.3</td>\n",
       "      <td>396.90</td>\n",
       "      <td>4.98</td>\n",
       "    </tr>\n",
       "    <tr>\n",
       "      <th>1</th>\n",
       "      <td>0.02731</td>\n",
       "      <td>0.0</td>\n",
       "      <td>7.07</td>\n",
       "      <td>0.0</td>\n",
       "      <td>0.469</td>\n",
       "      <td>6.421</td>\n",
       "      <td>78.9</td>\n",
       "      <td>4.9671</td>\n",
       "      <td>2.0</td>\n",
       "      <td>242.0</td>\n",
       "      <td>17.8</td>\n",
       "      <td>396.90</td>\n",
       "      <td>9.14</td>\n",
       "    </tr>\n",
       "    <tr>\n",
       "      <th>2</th>\n",
       "      <td>0.02729</td>\n",
       "      <td>0.0</td>\n",
       "      <td>7.07</td>\n",
       "      <td>0.0</td>\n",
       "      <td>0.469</td>\n",
       "      <td>7.185</td>\n",
       "      <td>61.1</td>\n",
       "      <td>4.9671</td>\n",
       "      <td>2.0</td>\n",
       "      <td>242.0</td>\n",
       "      <td>17.8</td>\n",
       "      <td>392.83</td>\n",
       "      <td>4.03</td>\n",
       "    </tr>\n",
       "    <tr>\n",
       "      <th>3</th>\n",
       "      <td>0.03237</td>\n",
       "      <td>0.0</td>\n",
       "      <td>2.18</td>\n",
       "      <td>0.0</td>\n",
       "      <td>0.458</td>\n",
       "      <td>6.998</td>\n",
       "      <td>45.8</td>\n",
       "      <td>6.0622</td>\n",
       "      <td>3.0</td>\n",
       "      <td>222.0</td>\n",
       "      <td>18.7</td>\n",
       "      <td>394.63</td>\n",
       "      <td>2.94</td>\n",
       "    </tr>\n",
       "    <tr>\n",
       "      <th>4</th>\n",
       "      <td>0.06905</td>\n",
       "      <td>0.0</td>\n",
       "      <td>2.18</td>\n",
       "      <td>0.0</td>\n",
       "      <td>0.458</td>\n",
       "      <td>7.147</td>\n",
       "      <td>54.2</td>\n",
       "      <td>6.0622</td>\n",
       "      <td>3.0</td>\n",
       "      <td>222.0</td>\n",
       "      <td>18.7</td>\n",
       "      <td>396.90</td>\n",
       "      <td>5.33</td>\n",
       "    </tr>\n",
       "  </tbody>\n",
       "</table>\n",
       "</div>"
      ],
      "text/plain": [
       "      CRIM    ZN  INDUS  CHAS    NOX     RM   AGE     DIS  RAD    TAX  \\\n",
       "0  0.00632  18.0   2.31   0.0  0.538  6.575  65.2  4.0900  1.0  296.0   \n",
       "1  0.02731   0.0   7.07   0.0  0.469  6.421  78.9  4.9671  2.0  242.0   \n",
       "2  0.02729   0.0   7.07   0.0  0.469  7.185  61.1  4.9671  2.0  242.0   \n",
       "3  0.03237   0.0   2.18   0.0  0.458  6.998  45.8  6.0622  3.0  222.0   \n",
       "4  0.06905   0.0   2.18   0.0  0.458  7.147  54.2  6.0622  3.0  222.0   \n",
       "\n",
       "   PTRATIO       B  LSTAT  \n",
       "0     15.3  396.90   4.98  \n",
       "1     17.8  396.90   9.14  \n",
       "2     17.8  392.83   4.03  \n",
       "3     18.7  394.63   2.94  \n",
       "4     18.7  396.90   5.33  "
      ]
     },
     "execution_count": 5,
     "metadata": {},
     "output_type": "execute_result"
    }
   ],
   "source": [
    "X = pd.DataFrame(boston.data)\n",
    "y = pd.DataFrame(boston.target, columns=['PRICE'])\n",
    "X.columns = boston.feature_names\n",
    "X.head()"
   ]
  },
  {
   "cell_type": "code",
   "execution_count": 6,
   "metadata": {},
   "outputs": [
    {
     "data": {
      "text/html": [
       "<div>\n",
       "<style scoped>\n",
       "    .dataframe tbody tr th:only-of-type {\n",
       "        vertical-align: middle;\n",
       "    }\n",
       "\n",
       "    .dataframe tbody tr th {\n",
       "        vertical-align: top;\n",
       "    }\n",
       "\n",
       "    .dataframe thead th {\n",
       "        text-align: right;\n",
       "    }\n",
       "</style>\n",
       "<table border=\"1\" class=\"dataframe\">\n",
       "  <thead>\n",
       "    <tr style=\"text-align: right;\">\n",
       "      <th></th>\n",
       "      <th>PRICE</th>\n",
       "    </tr>\n",
       "  </thead>\n",
       "  <tbody>\n",
       "    <tr>\n",
       "      <th>0</th>\n",
       "      <td>24.0</td>\n",
       "    </tr>\n",
       "    <tr>\n",
       "      <th>1</th>\n",
       "      <td>21.6</td>\n",
       "    </tr>\n",
       "    <tr>\n",
       "      <th>2</th>\n",
       "      <td>34.7</td>\n",
       "    </tr>\n",
       "    <tr>\n",
       "      <th>3</th>\n",
       "      <td>33.4</td>\n",
       "    </tr>\n",
       "    <tr>\n",
       "      <th>4</th>\n",
       "      <td>36.2</td>\n",
       "    </tr>\n",
       "  </tbody>\n",
       "</table>\n",
       "</div>"
      ],
      "text/plain": [
       "   PRICE\n",
       "0   24.0\n",
       "1   21.6\n",
       "2   34.7\n",
       "3   33.4\n",
       "4   36.2"
      ]
     },
     "execution_count": 6,
     "metadata": {},
     "output_type": "execute_result"
    }
   ],
   "source": [
    "y.head()"
   ]
  },
  {
   "cell_type": "code",
   "execution_count": 7,
   "metadata": {},
   "outputs": [],
   "source": [
    "# engineered features\n",
    "X[\"A1\"] = np.power(X[\"CRIM\"],3)\n",
    "X[\"A2\"] = X[\"ZN\"]*X[\"INDUS\"]\n",
    "X[\"A3\"] = X[\"CHAS\"]*X[\"NOX\"]\n",
    "X[\"A4\"] = X[\"NOX\"]*X[\"RM\"]\n",
    "X[\"A5\"] = X[\"RM\"]*X[\"AGE\"]\n",
    "X[\"A6\"] = np.log(X[\"DIS\"])\n",
    "X[\"A7\"] = np.log(X[\"RAD\"])\n",
    "X[\"A8\"] = np.log(X[\"TAX\"])*np.log(X[\"PTRATIO\"])\n",
    "X[\"A9\"] = np.square(X[\"B\"])\n",
    "X[\"A10\"] = np.square(X[\"LSTAT\"])"
   ]
  },
  {
   "cell_type": "code",
   "execution_count": 8,
   "metadata": {},
   "outputs": [
    {
     "data": {
      "text/html": [
       "<div>\n",
       "<style scoped>\n",
       "    .dataframe tbody tr th:only-of-type {\n",
       "        vertical-align: middle;\n",
       "    }\n",
       "\n",
       "    .dataframe tbody tr th {\n",
       "        vertical-align: top;\n",
       "    }\n",
       "\n",
       "    .dataframe thead th {\n",
       "        text-align: right;\n",
       "    }\n",
       "</style>\n",
       "<table border=\"1\" class=\"dataframe\">\n",
       "  <thead>\n",
       "    <tr style=\"text-align: right;\">\n",
       "      <th></th>\n",
       "      <th>CRIM</th>\n",
       "      <th>ZN</th>\n",
       "      <th>INDUS</th>\n",
       "      <th>CHAS</th>\n",
       "      <th>NOX</th>\n",
       "      <th>RM</th>\n",
       "      <th>AGE</th>\n",
       "      <th>DIS</th>\n",
       "      <th>RAD</th>\n",
       "      <th>TAX</th>\n",
       "      <th>...</th>\n",
       "      <th>A1</th>\n",
       "      <th>A2</th>\n",
       "      <th>A3</th>\n",
       "      <th>A4</th>\n",
       "      <th>A5</th>\n",
       "      <th>A6</th>\n",
       "      <th>A7</th>\n",
       "      <th>A8</th>\n",
       "      <th>A9</th>\n",
       "      <th>A10</th>\n",
       "    </tr>\n",
       "  </thead>\n",
       "  <tbody>\n",
       "    <tr>\n",
       "      <th>0</th>\n",
       "      <td>0.00632</td>\n",
       "      <td>18.0</td>\n",
       "      <td>2.31</td>\n",
       "      <td>0.0</td>\n",
       "      <td>0.538</td>\n",
       "      <td>6.575</td>\n",
       "      <td>65.2</td>\n",
       "      <td>4.0900</td>\n",
       "      <td>1.0</td>\n",
       "      <td>296.0</td>\n",
       "      <td>...</td>\n",
       "      <td>2.524360e-07</td>\n",
       "      <td>41.58</td>\n",
       "      <td>0.0</td>\n",
       "      <td>3.537350</td>\n",
       "      <td>428.6900</td>\n",
       "      <td>1.408545</td>\n",
       "      <td>0.000000</td>\n",
       "      <td>15.522463</td>\n",
       "      <td>157529.6100</td>\n",
       "      <td>24.8004</td>\n",
       "    </tr>\n",
       "    <tr>\n",
       "      <th>1</th>\n",
       "      <td>0.02731</td>\n",
       "      <td>0.0</td>\n",
       "      <td>7.07</td>\n",
       "      <td>0.0</td>\n",
       "      <td>0.469</td>\n",
       "      <td>6.421</td>\n",
       "      <td>78.9</td>\n",
       "      <td>4.9671</td>\n",
       "      <td>2.0</td>\n",
       "      <td>242.0</td>\n",
       "      <td>...</td>\n",
       "      <td>2.036878e-05</td>\n",
       "      <td>0.00</td>\n",
       "      <td>0.0</td>\n",
       "      <td>3.011449</td>\n",
       "      <td>506.6169</td>\n",
       "      <td>1.602836</td>\n",
       "      <td>0.693147</td>\n",
       "      <td>15.803741</td>\n",
       "      <td>157529.6100</td>\n",
       "      <td>83.5396</td>\n",
       "    </tr>\n",
       "    <tr>\n",
       "      <th>2</th>\n",
       "      <td>0.02729</td>\n",
       "      <td>0.0</td>\n",
       "      <td>7.07</td>\n",
       "      <td>0.0</td>\n",
       "      <td>0.469</td>\n",
       "      <td>7.185</td>\n",
       "      <td>61.1</td>\n",
       "      <td>4.9671</td>\n",
       "      <td>2.0</td>\n",
       "      <td>242.0</td>\n",
       "      <td>...</td>\n",
       "      <td>2.032407e-05</td>\n",
       "      <td>0.00</td>\n",
       "      <td>0.0</td>\n",
       "      <td>3.369765</td>\n",
       "      <td>439.0035</td>\n",
       "      <td>1.602836</td>\n",
       "      <td>0.693147</td>\n",
       "      <td>15.803741</td>\n",
       "      <td>154315.4089</td>\n",
       "      <td>16.2409</td>\n",
       "    </tr>\n",
       "    <tr>\n",
       "      <th>3</th>\n",
       "      <td>0.03237</td>\n",
       "      <td>0.0</td>\n",
       "      <td>2.18</td>\n",
       "      <td>0.0</td>\n",
       "      <td>0.458</td>\n",
       "      <td>6.998</td>\n",
       "      <td>45.8</td>\n",
       "      <td>6.0622</td>\n",
       "      <td>3.0</td>\n",
       "      <td>222.0</td>\n",
       "      <td>...</td>\n",
       "      <td>3.391783e-05</td>\n",
       "      <td>0.00</td>\n",
       "      <td>0.0</td>\n",
       "      <td>3.205084</td>\n",
       "      <td>320.5084</td>\n",
       "      <td>1.802073</td>\n",
       "      <td>1.098612</td>\n",
       "      <td>15.821868</td>\n",
       "      <td>155732.8369</td>\n",
       "      <td>8.6436</td>\n",
       "    </tr>\n",
       "    <tr>\n",
       "      <th>4</th>\n",
       "      <td>0.06905</td>\n",
       "      <td>0.0</td>\n",
       "      <td>2.18</td>\n",
       "      <td>0.0</td>\n",
       "      <td>0.458</td>\n",
       "      <td>7.147</td>\n",
       "      <td>54.2</td>\n",
       "      <td>6.0622</td>\n",
       "      <td>3.0</td>\n",
       "      <td>222.0</td>\n",
       "      <td>...</td>\n",
       "      <td>3.292237e-04</td>\n",
       "      <td>0.00</td>\n",
       "      <td>0.0</td>\n",
       "      <td>3.273326</td>\n",
       "      <td>387.3674</td>\n",
       "      <td>1.802073</td>\n",
       "      <td>1.098612</td>\n",
       "      <td>15.821868</td>\n",
       "      <td>157529.6100</td>\n",
       "      <td>28.4089</td>\n",
       "    </tr>\n",
       "  </tbody>\n",
       "</table>\n",
       "<p>5 rows × 23 columns</p>\n",
       "</div>"
      ],
      "text/plain": [
       "      CRIM    ZN  INDUS  CHAS    NOX     RM   AGE     DIS  RAD    TAX  \\\n",
       "0  0.00632  18.0   2.31   0.0  0.538  6.575  65.2  4.0900  1.0  296.0   \n",
       "1  0.02731   0.0   7.07   0.0  0.469  6.421  78.9  4.9671  2.0  242.0   \n",
       "2  0.02729   0.0   7.07   0.0  0.469  7.185  61.1  4.9671  2.0  242.0   \n",
       "3  0.03237   0.0   2.18   0.0  0.458  6.998  45.8  6.0622  3.0  222.0   \n",
       "4  0.06905   0.0   2.18   0.0  0.458  7.147  54.2  6.0622  3.0  222.0   \n",
       "\n",
       "    ...               A1     A2   A3        A4        A5        A6        A7  \\\n",
       "0   ...     2.524360e-07  41.58  0.0  3.537350  428.6900  1.408545  0.000000   \n",
       "1   ...     2.036878e-05   0.00  0.0  3.011449  506.6169  1.602836  0.693147   \n",
       "2   ...     2.032407e-05   0.00  0.0  3.369765  439.0035  1.602836  0.693147   \n",
       "3   ...     3.391783e-05   0.00  0.0  3.205084  320.5084  1.802073  1.098612   \n",
       "4   ...     3.292237e-04   0.00  0.0  3.273326  387.3674  1.802073  1.098612   \n",
       "\n",
       "          A8           A9      A10  \n",
       "0  15.522463  157529.6100  24.8004  \n",
       "1  15.803741  157529.6100  83.5396  \n",
       "2  15.803741  154315.4089  16.2409  \n",
       "3  15.821868  155732.8369   8.6436  \n",
       "4  15.821868  157529.6100  28.4089  \n",
       "\n",
       "[5 rows x 23 columns]"
      ]
     },
     "execution_count": 8,
     "metadata": {},
     "output_type": "execute_result"
    }
   ],
   "source": [
    "X.head()"
   ]
  },
  {
   "cell_type": "code",
   "execution_count": 9,
   "metadata": {},
   "outputs": [
    {
     "data": {
      "text/html": [
       "<div>\n",
       "<style scoped>\n",
       "    .dataframe tbody tr th:only-of-type {\n",
       "        vertical-align: middle;\n",
       "    }\n",
       "\n",
       "    .dataframe tbody tr th {\n",
       "        vertical-align: top;\n",
       "    }\n",
       "\n",
       "    .dataframe thead th {\n",
       "        text-align: right;\n",
       "    }\n",
       "</style>\n",
       "<table border=\"1\" class=\"dataframe\">\n",
       "  <thead>\n",
       "    <tr style=\"text-align: right;\">\n",
       "      <th></th>\n",
       "      <th>B1</th>\n",
       "      <th>B2</th>\n",
       "      <th>B3</th>\n",
       "      <th>B4</th>\n",
       "      <th>B5</th>\n",
       "      <th>B6</th>\n",
       "      <th>B7</th>\n",
       "      <th>B8</th>\n",
       "      <th>B9</th>\n",
       "      <th>B10</th>\n",
       "    </tr>\n",
       "  </thead>\n",
       "  <tbody>\n",
       "    <tr>\n",
       "      <th>0</th>\n",
       "      <td>0.413310</td>\n",
       "      <td>0.295543</td>\n",
       "      <td>-0.432091</td>\n",
       "      <td>0.329500</td>\n",
       "      <td>0.828948</td>\n",
       "      <td>0.727494</td>\n",
       "      <td>-1.449411</td>\n",
       "      <td>-0.055116</td>\n",
       "      <td>0.348565</td>\n",
       "      <td>-0.240627</td>\n",
       "    </tr>\n",
       "    <tr>\n",
       "      <th>1</th>\n",
       "      <td>1.490532</td>\n",
       "      <td>-0.056448</td>\n",
       "      <td>-0.052007</td>\n",
       "      <td>-0.892732</td>\n",
       "      <td>0.029144</td>\n",
       "      <td>-1.115919</td>\n",
       "      <td>-0.138095</td>\n",
       "      <td>0.165244</td>\n",
       "      <td>0.005235</td>\n",
       "      <td>-1.308876</td>\n",
       "    </tr>\n",
       "    <tr>\n",
       "      <th>2</th>\n",
       "      <td>-0.565366</td>\n",
       "      <td>-2.244465</td>\n",
       "      <td>0.965679</td>\n",
       "      <td>-0.283937</td>\n",
       "      <td>-2.177526</td>\n",
       "      <td>0.656317</td>\n",
       "      <td>-0.731956</td>\n",
       "      <td>-0.867446</td>\n",
       "      <td>-0.087503</td>\n",
       "      <td>1.935718</td>\n",
       "    </tr>\n",
       "    <tr>\n",
       "      <th>3</th>\n",
       "      <td>-1.689960</td>\n",
       "      <td>1.095722</td>\n",
       "      <td>0.307131</td>\n",
       "      <td>0.251218</td>\n",
       "      <td>-1.271310</td>\n",
       "      <td>2.614760</td>\n",
       "      <td>0.391907</td>\n",
       "      <td>0.192310</td>\n",
       "      <td>2.250387</td>\n",
       "      <td>1.304952</td>\n",
       "    </tr>\n",
       "    <tr>\n",
       "      <th>4</th>\n",
       "      <td>-0.470804</td>\n",
       "      <td>0.526111</td>\n",
       "      <td>-0.316692</td>\n",
       "      <td>0.835820</td>\n",
       "      <td>0.999303</td>\n",
       "      <td>0.107598</td>\n",
       "      <td>-0.068604</td>\n",
       "      <td>0.298912</td>\n",
       "      <td>0.690607</td>\n",
       "      <td>-1.090470</td>\n",
       "    </tr>\n",
       "  </tbody>\n",
       "</table>\n",
       "</div>"
      ],
      "text/plain": [
       "         B1        B2        B3        B4        B5        B6        B7  \\\n",
       "0  0.413310  0.295543 -0.432091  0.329500  0.828948  0.727494 -1.449411   \n",
       "1  1.490532 -0.056448 -0.052007 -0.892732  0.029144 -1.115919 -0.138095   \n",
       "2 -0.565366 -2.244465  0.965679 -0.283937 -2.177526  0.656317 -0.731956   \n",
       "3 -1.689960  1.095722  0.307131  0.251218 -1.271310  2.614760  0.391907   \n",
       "4 -0.470804  0.526111 -0.316692  0.835820  0.999303  0.107598 -0.068604   \n",
       "\n",
       "         B8        B9       B10  \n",
       "0 -0.055116  0.348565 -0.240627  \n",
       "1  0.165244  0.005235 -1.308876  \n",
       "2 -0.867446 -0.087503  1.935718  \n",
       "3  0.192310  2.250387  1.304952  \n",
       "4  0.298912  0.690607 -1.090470  "
      ]
     },
     "execution_count": 9,
     "metadata": {},
     "output_type": "execute_result"
    }
   ],
   "source": [
    "#bogus features\n",
    "features = pd.DataFrame(np.random.normal(size=(boston.data.shape[0], 10)))\n",
    "features.columns = ['B1','B2','B3','B4','B5','B6','B7','B8','B9','B10']\n",
    "features.head()"
   ]
  },
  {
   "cell_type": "code",
   "execution_count": 10,
   "metadata": {},
   "outputs": [
    {
     "data": {
      "text/html": [
       "<div>\n",
       "<style scoped>\n",
       "    .dataframe tbody tr th:only-of-type {\n",
       "        vertical-align: middle;\n",
       "    }\n",
       "\n",
       "    .dataframe tbody tr th {\n",
       "        vertical-align: top;\n",
       "    }\n",
       "\n",
       "    .dataframe thead th {\n",
       "        text-align: right;\n",
       "    }\n",
       "</style>\n",
       "<table border=\"1\" class=\"dataframe\">\n",
       "  <thead>\n",
       "    <tr style=\"text-align: right;\">\n",
       "      <th></th>\n",
       "      <th>CRIM</th>\n",
       "      <th>ZN</th>\n",
       "      <th>INDUS</th>\n",
       "      <th>CHAS</th>\n",
       "      <th>NOX</th>\n",
       "      <th>RM</th>\n",
       "      <th>AGE</th>\n",
       "      <th>DIS</th>\n",
       "      <th>RAD</th>\n",
       "      <th>TAX</th>\n",
       "      <th>...</th>\n",
       "      <th>B1</th>\n",
       "      <th>B2</th>\n",
       "      <th>B3</th>\n",
       "      <th>B4</th>\n",
       "      <th>B5</th>\n",
       "      <th>B6</th>\n",
       "      <th>B7</th>\n",
       "      <th>B8</th>\n",
       "      <th>B9</th>\n",
       "      <th>B10</th>\n",
       "    </tr>\n",
       "  </thead>\n",
       "  <tbody>\n",
       "    <tr>\n",
       "      <th>0</th>\n",
       "      <td>0.00632</td>\n",
       "      <td>18.0</td>\n",
       "      <td>2.31</td>\n",
       "      <td>0.0</td>\n",
       "      <td>0.538</td>\n",
       "      <td>6.575</td>\n",
       "      <td>65.2</td>\n",
       "      <td>4.0900</td>\n",
       "      <td>1.0</td>\n",
       "      <td>296.0</td>\n",
       "      <td>...</td>\n",
       "      <td>0.413310</td>\n",
       "      <td>0.295543</td>\n",
       "      <td>-0.432091</td>\n",
       "      <td>0.329500</td>\n",
       "      <td>0.828948</td>\n",
       "      <td>0.727494</td>\n",
       "      <td>-1.449411</td>\n",
       "      <td>-0.055116</td>\n",
       "      <td>0.348565</td>\n",
       "      <td>-0.240627</td>\n",
       "    </tr>\n",
       "    <tr>\n",
       "      <th>1</th>\n",
       "      <td>0.02731</td>\n",
       "      <td>0.0</td>\n",
       "      <td>7.07</td>\n",
       "      <td>0.0</td>\n",
       "      <td>0.469</td>\n",
       "      <td>6.421</td>\n",
       "      <td>78.9</td>\n",
       "      <td>4.9671</td>\n",
       "      <td>2.0</td>\n",
       "      <td>242.0</td>\n",
       "      <td>...</td>\n",
       "      <td>1.490532</td>\n",
       "      <td>-0.056448</td>\n",
       "      <td>-0.052007</td>\n",
       "      <td>-0.892732</td>\n",
       "      <td>0.029144</td>\n",
       "      <td>-1.115919</td>\n",
       "      <td>-0.138095</td>\n",
       "      <td>0.165244</td>\n",
       "      <td>0.005235</td>\n",
       "      <td>-1.308876</td>\n",
       "    </tr>\n",
       "    <tr>\n",
       "      <th>2</th>\n",
       "      <td>0.02729</td>\n",
       "      <td>0.0</td>\n",
       "      <td>7.07</td>\n",
       "      <td>0.0</td>\n",
       "      <td>0.469</td>\n",
       "      <td>7.185</td>\n",
       "      <td>61.1</td>\n",
       "      <td>4.9671</td>\n",
       "      <td>2.0</td>\n",
       "      <td>242.0</td>\n",
       "      <td>...</td>\n",
       "      <td>-0.565366</td>\n",
       "      <td>-2.244465</td>\n",
       "      <td>0.965679</td>\n",
       "      <td>-0.283937</td>\n",
       "      <td>-2.177526</td>\n",
       "      <td>0.656317</td>\n",
       "      <td>-0.731956</td>\n",
       "      <td>-0.867446</td>\n",
       "      <td>-0.087503</td>\n",
       "      <td>1.935718</td>\n",
       "    </tr>\n",
       "    <tr>\n",
       "      <th>3</th>\n",
       "      <td>0.03237</td>\n",
       "      <td>0.0</td>\n",
       "      <td>2.18</td>\n",
       "      <td>0.0</td>\n",
       "      <td>0.458</td>\n",
       "      <td>6.998</td>\n",
       "      <td>45.8</td>\n",
       "      <td>6.0622</td>\n",
       "      <td>3.0</td>\n",
       "      <td>222.0</td>\n",
       "      <td>...</td>\n",
       "      <td>-1.689960</td>\n",
       "      <td>1.095722</td>\n",
       "      <td>0.307131</td>\n",
       "      <td>0.251218</td>\n",
       "      <td>-1.271310</td>\n",
       "      <td>2.614760</td>\n",
       "      <td>0.391907</td>\n",
       "      <td>0.192310</td>\n",
       "      <td>2.250387</td>\n",
       "      <td>1.304952</td>\n",
       "    </tr>\n",
       "    <tr>\n",
       "      <th>4</th>\n",
       "      <td>0.06905</td>\n",
       "      <td>0.0</td>\n",
       "      <td>2.18</td>\n",
       "      <td>0.0</td>\n",
       "      <td>0.458</td>\n",
       "      <td>7.147</td>\n",
       "      <td>54.2</td>\n",
       "      <td>6.0622</td>\n",
       "      <td>3.0</td>\n",
       "      <td>222.0</td>\n",
       "      <td>...</td>\n",
       "      <td>-0.470804</td>\n",
       "      <td>0.526111</td>\n",
       "      <td>-0.316692</td>\n",
       "      <td>0.835820</td>\n",
       "      <td>0.999303</td>\n",
       "      <td>0.107598</td>\n",
       "      <td>-0.068604</td>\n",
       "      <td>0.298912</td>\n",
       "      <td>0.690607</td>\n",
       "      <td>-1.090470</td>\n",
       "    </tr>\n",
       "  </tbody>\n",
       "</table>\n",
       "<p>5 rows × 33 columns</p>\n",
       "</div>"
      ],
      "text/plain": [
       "      CRIM    ZN  INDUS  CHAS    NOX     RM   AGE     DIS  RAD    TAX  \\\n",
       "0  0.00632  18.0   2.31   0.0  0.538  6.575  65.2  4.0900  1.0  296.0   \n",
       "1  0.02731   0.0   7.07   0.0  0.469  6.421  78.9  4.9671  2.0  242.0   \n",
       "2  0.02729   0.0   7.07   0.0  0.469  7.185  61.1  4.9671  2.0  242.0   \n",
       "3  0.03237   0.0   2.18   0.0  0.458  6.998  45.8  6.0622  3.0  222.0   \n",
       "4  0.06905   0.0   2.18   0.0  0.458  7.147  54.2  6.0622  3.0  222.0   \n",
       "\n",
       "     ...           B1        B2        B3        B4        B5        B6  \\\n",
       "0    ...     0.413310  0.295543 -0.432091  0.329500  0.828948  0.727494   \n",
       "1    ...     1.490532 -0.056448 -0.052007 -0.892732  0.029144 -1.115919   \n",
       "2    ...    -0.565366 -2.244465  0.965679 -0.283937 -2.177526  0.656317   \n",
       "3    ...    -1.689960  1.095722  0.307131  0.251218 -1.271310  2.614760   \n",
       "4    ...    -0.470804  0.526111 -0.316692  0.835820  0.999303  0.107598   \n",
       "\n",
       "         B7        B8        B9       B10  \n",
       "0 -1.449411 -0.055116  0.348565 -0.240627  \n",
       "1 -0.138095  0.165244  0.005235 -1.308876  \n",
       "2 -0.731956 -0.867446 -0.087503  1.935718  \n",
       "3  0.391907  0.192310  2.250387  1.304952  \n",
       "4 -0.068604  0.298912  0.690607 -1.090470  \n",
       "\n",
       "[5 rows x 33 columns]"
      ]
     },
     "execution_count": 10,
     "metadata": {},
     "output_type": "execute_result"
    }
   ],
   "source": [
    "# concatenating features\n",
    "X = pd.concat((X, features), axis = 1)\n",
    "X.head()"
   ]
  },
  {
   "cell_type": "code",
   "execution_count": 11,
   "metadata": {},
   "outputs": [
    {
     "data": {
      "text/html": [
       "<div>\n",
       "<style scoped>\n",
       "    .dataframe tbody tr th:only-of-type {\n",
       "        vertical-align: middle;\n",
       "    }\n",
       "\n",
       "    .dataframe tbody tr th {\n",
       "        vertical-align: top;\n",
       "    }\n",
       "\n",
       "    .dataframe thead th {\n",
       "        text-align: right;\n",
       "    }\n",
       "</style>\n",
       "<table border=\"1\" class=\"dataframe\">\n",
       "  <thead>\n",
       "    <tr style=\"text-align: right;\">\n",
       "      <th></th>\n",
       "      <th>CRIM</th>\n",
       "      <th>ZN</th>\n",
       "      <th>INDUS</th>\n",
       "      <th>CHAS</th>\n",
       "      <th>NOX</th>\n",
       "      <th>RM</th>\n",
       "      <th>AGE</th>\n",
       "      <th>DIS</th>\n",
       "      <th>RAD</th>\n",
       "      <th>TAX</th>\n",
       "      <th>...</th>\n",
       "      <th>B2</th>\n",
       "      <th>B3</th>\n",
       "      <th>B4</th>\n",
       "      <th>B5</th>\n",
       "      <th>B6</th>\n",
       "      <th>B7</th>\n",
       "      <th>B8</th>\n",
       "      <th>B9</th>\n",
       "      <th>B10</th>\n",
       "      <th>PRICE</th>\n",
       "    </tr>\n",
       "  </thead>\n",
       "  <tbody>\n",
       "    <tr>\n",
       "      <th>0</th>\n",
       "      <td>0.00632</td>\n",
       "      <td>18.0</td>\n",
       "      <td>2.31</td>\n",
       "      <td>0.0</td>\n",
       "      <td>0.538</td>\n",
       "      <td>6.575</td>\n",
       "      <td>65.2</td>\n",
       "      <td>4.0900</td>\n",
       "      <td>1.0</td>\n",
       "      <td>296.0</td>\n",
       "      <td>...</td>\n",
       "      <td>0.295543</td>\n",
       "      <td>-0.432091</td>\n",
       "      <td>0.329500</td>\n",
       "      <td>0.828948</td>\n",
       "      <td>0.727494</td>\n",
       "      <td>-1.449411</td>\n",
       "      <td>-0.055116</td>\n",
       "      <td>0.348565</td>\n",
       "      <td>-0.240627</td>\n",
       "      <td>24.0</td>\n",
       "    </tr>\n",
       "    <tr>\n",
       "      <th>1</th>\n",
       "      <td>0.02731</td>\n",
       "      <td>0.0</td>\n",
       "      <td>7.07</td>\n",
       "      <td>0.0</td>\n",
       "      <td>0.469</td>\n",
       "      <td>6.421</td>\n",
       "      <td>78.9</td>\n",
       "      <td>4.9671</td>\n",
       "      <td>2.0</td>\n",
       "      <td>242.0</td>\n",
       "      <td>...</td>\n",
       "      <td>-0.056448</td>\n",
       "      <td>-0.052007</td>\n",
       "      <td>-0.892732</td>\n",
       "      <td>0.029144</td>\n",
       "      <td>-1.115919</td>\n",
       "      <td>-0.138095</td>\n",
       "      <td>0.165244</td>\n",
       "      <td>0.005235</td>\n",
       "      <td>-1.308876</td>\n",
       "      <td>21.6</td>\n",
       "    </tr>\n",
       "    <tr>\n",
       "      <th>2</th>\n",
       "      <td>0.02729</td>\n",
       "      <td>0.0</td>\n",
       "      <td>7.07</td>\n",
       "      <td>0.0</td>\n",
       "      <td>0.469</td>\n",
       "      <td>7.185</td>\n",
       "      <td>61.1</td>\n",
       "      <td>4.9671</td>\n",
       "      <td>2.0</td>\n",
       "      <td>242.0</td>\n",
       "      <td>...</td>\n",
       "      <td>-2.244465</td>\n",
       "      <td>0.965679</td>\n",
       "      <td>-0.283937</td>\n",
       "      <td>-2.177526</td>\n",
       "      <td>0.656317</td>\n",
       "      <td>-0.731956</td>\n",
       "      <td>-0.867446</td>\n",
       "      <td>-0.087503</td>\n",
       "      <td>1.935718</td>\n",
       "      <td>34.7</td>\n",
       "    </tr>\n",
       "    <tr>\n",
       "      <th>3</th>\n",
       "      <td>0.03237</td>\n",
       "      <td>0.0</td>\n",
       "      <td>2.18</td>\n",
       "      <td>0.0</td>\n",
       "      <td>0.458</td>\n",
       "      <td>6.998</td>\n",
       "      <td>45.8</td>\n",
       "      <td>6.0622</td>\n",
       "      <td>3.0</td>\n",
       "      <td>222.0</td>\n",
       "      <td>...</td>\n",
       "      <td>1.095722</td>\n",
       "      <td>0.307131</td>\n",
       "      <td>0.251218</td>\n",
       "      <td>-1.271310</td>\n",
       "      <td>2.614760</td>\n",
       "      <td>0.391907</td>\n",
       "      <td>0.192310</td>\n",
       "      <td>2.250387</td>\n",
       "      <td>1.304952</td>\n",
       "      <td>33.4</td>\n",
       "    </tr>\n",
       "    <tr>\n",
       "      <th>4</th>\n",
       "      <td>0.06905</td>\n",
       "      <td>0.0</td>\n",
       "      <td>2.18</td>\n",
       "      <td>0.0</td>\n",
       "      <td>0.458</td>\n",
       "      <td>7.147</td>\n",
       "      <td>54.2</td>\n",
       "      <td>6.0622</td>\n",
       "      <td>3.0</td>\n",
       "      <td>222.0</td>\n",
       "      <td>...</td>\n",
       "      <td>0.526111</td>\n",
       "      <td>-0.316692</td>\n",
       "      <td>0.835820</td>\n",
       "      <td>0.999303</td>\n",
       "      <td>0.107598</td>\n",
       "      <td>-0.068604</td>\n",
       "      <td>0.298912</td>\n",
       "      <td>0.690607</td>\n",
       "      <td>-1.090470</td>\n",
       "      <td>36.2</td>\n",
       "    </tr>\n",
       "  </tbody>\n",
       "</table>\n",
       "<p>5 rows × 34 columns</p>\n",
       "</div>"
      ],
      "text/plain": [
       "      CRIM    ZN  INDUS  CHAS    NOX     RM   AGE     DIS  RAD    TAX  ...    \\\n",
       "0  0.00632  18.0   2.31   0.0  0.538  6.575  65.2  4.0900  1.0  296.0  ...     \n",
       "1  0.02731   0.0   7.07   0.0  0.469  6.421  78.9  4.9671  2.0  242.0  ...     \n",
       "2  0.02729   0.0   7.07   0.0  0.469  7.185  61.1  4.9671  2.0  242.0  ...     \n",
       "3  0.03237   0.0   2.18   0.0  0.458  6.998  45.8  6.0622  3.0  222.0  ...     \n",
       "4  0.06905   0.0   2.18   0.0  0.458  7.147  54.2  6.0622  3.0  222.0  ...     \n",
       "\n",
       "         B2        B3        B4        B5        B6        B7        B8  \\\n",
       "0  0.295543 -0.432091  0.329500  0.828948  0.727494 -1.449411 -0.055116   \n",
       "1 -0.056448 -0.052007 -0.892732  0.029144 -1.115919 -0.138095  0.165244   \n",
       "2 -2.244465  0.965679 -0.283937 -2.177526  0.656317 -0.731956 -0.867446   \n",
       "3  1.095722  0.307131  0.251218 -1.271310  2.614760  0.391907  0.192310   \n",
       "4  0.526111 -0.316692  0.835820  0.999303  0.107598 -0.068604  0.298912   \n",
       "\n",
       "         B9       B10  PRICE  \n",
       "0  0.348565 -0.240627   24.0  \n",
       "1  0.005235 -1.308876   21.6  \n",
       "2 -0.087503  1.935718   34.7  \n",
       "3  2.250387  1.304952   33.4  \n",
       "4  0.690607 -1.090470   36.2  \n",
       "\n",
       "[5 rows x 34 columns]"
      ]
     },
     "execution_count": 11,
     "metadata": {},
     "output_type": "execute_result"
    }
   ],
   "source": [
    "boston_df = pd.concat((X,y), axis = 1)\n",
    "boston_df.head()"
   ]
  },
  {
   "cell_type": "markdown",
   "metadata": {},
   "source": [
    "### Summary Statistics"
   ]
  },
  {
   "cell_type": "code",
   "execution_count": 12,
   "metadata": {},
   "outputs": [
    {
     "name": "stdout",
     "output_type": "stream",
     "text": [
      "                  Mean          Range  Missing Values  Correlation\n",
      "CRIM          3.593761      88.969880               0    -0.385832\n",
      "ZN           11.363636     100.000000               0     0.360445\n",
      "INDUS        11.136779      27.280000               0    -0.483725\n",
      "CHAS          0.069170       1.000000               0     0.175260\n",
      "NOX           0.554695       0.486000               0    -0.427321\n",
      "RM            6.284634       5.219000               0     0.695360\n",
      "AGE          68.574901      97.100000               0    -0.376955\n",
      "DIS           3.795043      10.996900               0     0.249929\n",
      "RAD           9.549407      23.000000               0    -0.381626\n",
      "TAX         408.237154     524.000000               0    -0.468536\n",
      "PTRATIO      18.455534       9.400000               0    -0.507787\n",
      "B           356.674032     396.580000               0     0.333461\n",
      "LSTAT        12.653063      36.240000               0    -0.737663\n",
      "A1         4149.578583  704403.591826               0    -0.149590\n",
      "A2           41.310455     421.120000               0     0.289367\n",
      "A3            0.041047       0.871000               0     0.140925\n",
      "A4            3.461501       4.016094               0    -0.064561\n",
      "A5          426.225644     766.779500               0    -0.191394\n",
      "A6            1.188032       2.373530               0     0.292316\n",
      "A7            1.867661       3.178054               0    -0.342632\n",
      "A8           17.268369       5.901998               0    -0.567618\n",
      "A9       135534.645253  157529.507600               0     0.335940\n",
      "A10         210.993989    1438.728000               0    -0.622179\n",
      "B1            0.040440       5.835659               0     0.047354\n",
      "B2            0.026215       5.562186               0     0.016107\n",
      "B3           -0.005299       5.649973               0    -0.017414\n",
      "B4            0.029387       5.784540               0     0.033754\n",
      "B5            0.013341       6.836086               0    -0.055639\n",
      "B6           -0.044197       5.488120               0     0.005856\n",
      "B7           -0.036366       7.190635               0     0.039822\n",
      "B8            0.084458       5.610171               0     0.029925\n",
      "B9            0.094116       6.090780               0     0.009565\n",
      "B10          -0.021272       5.212024               0    -0.052342\n"
     ]
    }
   ],
   "source": [
    "mean_df = X.mean().to_frame('Mean')\n",
    "range_df = (X.max() - X.min()).to_frame('Range')\n",
    "missing_df = X.isnull().sum().to_frame('Missing Values')\n",
    "\n",
    "list_corr = [X[col].corr(y['PRICE']) for col in X.columns]\n",
    "corr_df = pd.DataFrame(list_corr, columns=['Correlation'], index = X.columns)\n",
    "\n",
    "summary_stats = pd.concat([mean_df, range_df, missing_df, corr_df], axis=1)\n",
    "print(summary_stats)"
   ]
  },
  {
   "cell_type": "markdown",
   "metadata": {},
   "source": [
    "### Graphical Exploration"
   ]
  },
  {
   "cell_type": "code",
   "execution_count": 13,
   "metadata": {},
   "outputs": [
    {
     "data": {
      "text/html": [
       "<div>\n",
       "<style scoped>\n",
       "    .dataframe tbody tr th:only-of-type {\n",
       "        vertical-align: middle;\n",
       "    }\n",
       "\n",
       "    .dataframe tbody tr th {\n",
       "        vertical-align: top;\n",
       "    }\n",
       "\n",
       "    .dataframe thead th {\n",
       "        text-align: right;\n",
       "    }\n",
       "</style>\n",
       "<table border=\"1\" class=\"dataframe\">\n",
       "  <thead>\n",
       "    <tr style=\"text-align: right;\">\n",
       "      <th></th>\n",
       "      <th>Mean</th>\n",
       "      <th>Range</th>\n",
       "      <th>Missing Values</th>\n",
       "      <th>Correlation</th>\n",
       "    </tr>\n",
       "  </thead>\n",
       "  <tbody>\n",
       "    <tr>\n",
       "      <th>LSTAT</th>\n",
       "      <td>12.653063</td>\n",
       "      <td>36.240000</td>\n",
       "      <td>0</td>\n",
       "      <td>-0.737663</td>\n",
       "    </tr>\n",
       "    <tr>\n",
       "      <th>A10</th>\n",
       "      <td>210.993989</td>\n",
       "      <td>1438.728000</td>\n",
       "      <td>0</td>\n",
       "      <td>-0.622179</td>\n",
       "    </tr>\n",
       "    <tr>\n",
       "      <th>A8</th>\n",
       "      <td>17.268369</td>\n",
       "      <td>5.901998</td>\n",
       "      <td>0</td>\n",
       "      <td>-0.567618</td>\n",
       "    </tr>\n",
       "    <tr>\n",
       "      <th>PTRATIO</th>\n",
       "      <td>18.455534</td>\n",
       "      <td>9.400000</td>\n",
       "      <td>0</td>\n",
       "      <td>-0.507787</td>\n",
       "    </tr>\n",
       "    <tr>\n",
       "      <th>INDUS</th>\n",
       "      <td>11.136779</td>\n",
       "      <td>27.280000</td>\n",
       "      <td>0</td>\n",
       "      <td>-0.483725</td>\n",
       "    </tr>\n",
       "    <tr>\n",
       "      <th>TAX</th>\n",
       "      <td>408.237154</td>\n",
       "      <td>524.000000</td>\n",
       "      <td>0</td>\n",
       "      <td>-0.468536</td>\n",
       "    </tr>\n",
       "    <tr>\n",
       "      <th>NOX</th>\n",
       "      <td>0.554695</td>\n",
       "      <td>0.486000</td>\n",
       "      <td>0</td>\n",
       "      <td>-0.427321</td>\n",
       "    </tr>\n",
       "    <tr>\n",
       "      <th>CRIM</th>\n",
       "      <td>3.593761</td>\n",
       "      <td>88.969880</td>\n",
       "      <td>0</td>\n",
       "      <td>-0.385832</td>\n",
       "    </tr>\n",
       "    <tr>\n",
       "      <th>RAD</th>\n",
       "      <td>9.549407</td>\n",
       "      <td>23.000000</td>\n",
       "      <td>0</td>\n",
       "      <td>-0.381626</td>\n",
       "    </tr>\n",
       "    <tr>\n",
       "      <th>AGE</th>\n",
       "      <td>68.574901</td>\n",
       "      <td>97.100000</td>\n",
       "      <td>0</td>\n",
       "      <td>-0.376955</td>\n",
       "    </tr>\n",
       "    <tr>\n",
       "      <th>A7</th>\n",
       "      <td>1.867661</td>\n",
       "      <td>3.178054</td>\n",
       "      <td>0</td>\n",
       "      <td>-0.342632</td>\n",
       "    </tr>\n",
       "    <tr>\n",
       "      <th>A5</th>\n",
       "      <td>426.225644</td>\n",
       "      <td>766.779500</td>\n",
       "      <td>0</td>\n",
       "      <td>-0.191394</td>\n",
       "    </tr>\n",
       "    <tr>\n",
       "      <th>A1</th>\n",
       "      <td>4149.578583</td>\n",
       "      <td>704403.591826</td>\n",
       "      <td>0</td>\n",
       "      <td>-0.149590</td>\n",
       "    </tr>\n",
       "    <tr>\n",
       "      <th>A4</th>\n",
       "      <td>3.461501</td>\n",
       "      <td>4.016094</td>\n",
       "      <td>0</td>\n",
       "      <td>-0.064561</td>\n",
       "    </tr>\n",
       "    <tr>\n",
       "      <th>B5</th>\n",
       "      <td>0.013341</td>\n",
       "      <td>6.836086</td>\n",
       "      <td>0</td>\n",
       "      <td>-0.055639</td>\n",
       "    </tr>\n",
       "    <tr>\n",
       "      <th>B10</th>\n",
       "      <td>-0.021272</td>\n",
       "      <td>5.212024</td>\n",
       "      <td>0</td>\n",
       "      <td>-0.052342</td>\n",
       "    </tr>\n",
       "    <tr>\n",
       "      <th>B3</th>\n",
       "      <td>-0.005299</td>\n",
       "      <td>5.649973</td>\n",
       "      <td>0</td>\n",
       "      <td>-0.017414</td>\n",
       "    </tr>\n",
       "    <tr>\n",
       "      <th>B6</th>\n",
       "      <td>-0.044197</td>\n",
       "      <td>5.488120</td>\n",
       "      <td>0</td>\n",
       "      <td>0.005856</td>\n",
       "    </tr>\n",
       "    <tr>\n",
       "      <th>B9</th>\n",
       "      <td>0.094116</td>\n",
       "      <td>6.090780</td>\n",
       "      <td>0</td>\n",
       "      <td>0.009565</td>\n",
       "    </tr>\n",
       "    <tr>\n",
       "      <th>B2</th>\n",
       "      <td>0.026215</td>\n",
       "      <td>5.562186</td>\n",
       "      <td>0</td>\n",
       "      <td>0.016107</td>\n",
       "    </tr>\n",
       "    <tr>\n",
       "      <th>B8</th>\n",
       "      <td>0.084458</td>\n",
       "      <td>5.610171</td>\n",
       "      <td>0</td>\n",
       "      <td>0.029925</td>\n",
       "    </tr>\n",
       "    <tr>\n",
       "      <th>B4</th>\n",
       "      <td>0.029387</td>\n",
       "      <td>5.784540</td>\n",
       "      <td>0</td>\n",
       "      <td>0.033754</td>\n",
       "    </tr>\n",
       "    <tr>\n",
       "      <th>B7</th>\n",
       "      <td>-0.036366</td>\n",
       "      <td>7.190635</td>\n",
       "      <td>0</td>\n",
       "      <td>0.039822</td>\n",
       "    </tr>\n",
       "    <tr>\n",
       "      <th>B1</th>\n",
       "      <td>0.040440</td>\n",
       "      <td>5.835659</td>\n",
       "      <td>0</td>\n",
       "      <td>0.047354</td>\n",
       "    </tr>\n",
       "    <tr>\n",
       "      <th>A3</th>\n",
       "      <td>0.041047</td>\n",
       "      <td>0.871000</td>\n",
       "      <td>0</td>\n",
       "      <td>0.140925</td>\n",
       "    </tr>\n",
       "    <tr>\n",
       "      <th>CHAS</th>\n",
       "      <td>0.069170</td>\n",
       "      <td>1.000000</td>\n",
       "      <td>0</td>\n",
       "      <td>0.175260</td>\n",
       "    </tr>\n",
       "    <tr>\n",
       "      <th>DIS</th>\n",
       "      <td>3.795043</td>\n",
       "      <td>10.996900</td>\n",
       "      <td>0</td>\n",
       "      <td>0.249929</td>\n",
       "    </tr>\n",
       "    <tr>\n",
       "      <th>A2</th>\n",
       "      <td>41.310455</td>\n",
       "      <td>421.120000</td>\n",
       "      <td>0</td>\n",
       "      <td>0.289367</td>\n",
       "    </tr>\n",
       "    <tr>\n",
       "      <th>A6</th>\n",
       "      <td>1.188032</td>\n",
       "      <td>2.373530</td>\n",
       "      <td>0</td>\n",
       "      <td>0.292316</td>\n",
       "    </tr>\n",
       "    <tr>\n",
       "      <th>B</th>\n",
       "      <td>356.674032</td>\n",
       "      <td>396.580000</td>\n",
       "      <td>0</td>\n",
       "      <td>0.333461</td>\n",
       "    </tr>\n",
       "    <tr>\n",
       "      <th>A9</th>\n",
       "      <td>135534.645253</td>\n",
       "      <td>157529.507600</td>\n",
       "      <td>0</td>\n",
       "      <td>0.335940</td>\n",
       "    </tr>\n",
       "    <tr>\n",
       "      <th>ZN</th>\n",
       "      <td>11.363636</td>\n",
       "      <td>100.000000</td>\n",
       "      <td>0</td>\n",
       "      <td>0.360445</td>\n",
       "    </tr>\n",
       "    <tr>\n",
       "      <th>RM</th>\n",
       "      <td>6.284634</td>\n",
       "      <td>5.219000</td>\n",
       "      <td>0</td>\n",
       "      <td>0.695360</td>\n",
       "    </tr>\n",
       "  </tbody>\n",
       "</table>\n",
       "</div>"
      ],
      "text/plain": [
       "                  Mean          Range  Missing Values  Correlation\n",
       "LSTAT        12.653063      36.240000               0    -0.737663\n",
       "A10         210.993989    1438.728000               0    -0.622179\n",
       "A8           17.268369       5.901998               0    -0.567618\n",
       "PTRATIO      18.455534       9.400000               0    -0.507787\n",
       "INDUS        11.136779      27.280000               0    -0.483725\n",
       "TAX         408.237154     524.000000               0    -0.468536\n",
       "NOX           0.554695       0.486000               0    -0.427321\n",
       "CRIM          3.593761      88.969880               0    -0.385832\n",
       "RAD           9.549407      23.000000               0    -0.381626\n",
       "AGE          68.574901      97.100000               0    -0.376955\n",
       "A7            1.867661       3.178054               0    -0.342632\n",
       "A5          426.225644     766.779500               0    -0.191394\n",
       "A1         4149.578583  704403.591826               0    -0.149590\n",
       "A4            3.461501       4.016094               0    -0.064561\n",
       "B5            0.013341       6.836086               0    -0.055639\n",
       "B10          -0.021272       5.212024               0    -0.052342\n",
       "B3           -0.005299       5.649973               0    -0.017414\n",
       "B6           -0.044197       5.488120               0     0.005856\n",
       "B9            0.094116       6.090780               0     0.009565\n",
       "B2            0.026215       5.562186               0     0.016107\n",
       "B8            0.084458       5.610171               0     0.029925\n",
       "B4            0.029387       5.784540               0     0.033754\n",
       "B7           -0.036366       7.190635               0     0.039822\n",
       "B1            0.040440       5.835659               0     0.047354\n",
       "A3            0.041047       0.871000               0     0.140925\n",
       "CHAS          0.069170       1.000000               0     0.175260\n",
       "DIS           3.795043      10.996900               0     0.249929\n",
       "A2           41.310455     421.120000               0     0.289367\n",
       "A6            1.188032       2.373530               0     0.292316\n",
       "B           356.674032     396.580000               0     0.333461\n",
       "A9       135534.645253  157529.507600               0     0.335940\n",
       "ZN           11.363636     100.000000               0     0.360445\n",
       "RM            6.284634       5.219000               0     0.695360"
      ]
     },
     "execution_count": 13,
     "metadata": {},
     "output_type": "execute_result"
    }
   ],
   "source": [
    "summary_stats.sort_values(by='Correlation', )"
   ]
  },
  {
   "cell_type": "code",
   "execution_count": 14,
   "metadata": {},
   "outputs": [
    {
     "data": {
      "text/plain": [
       "Text(0,0.5,'Price')"
      ]
     },
     "execution_count": 14,
     "metadata": {},
     "output_type": "execute_result"
    },
    {
     "data": {
      "image/png": "[encoded data removed]",
      "text/plain": [
       "<matplotlib.figure.Figure at 0x26c76fada20>"
      ]
     },
     "metadata": {},
     "output_type": "display_data"
    }
   ],
   "source": [
    "plt.figure(figsize=(20, 20))\n",
    "\n",
    "plt.rcParams['axes.facecolor'] = 'whitesmoke'\n",
    "plt.subplot(3,2,1)\n",
    "plt.scatter(x=X['RM'], y=y['PRICE'])\n",
    "plt.xlabel('average number of rooms per dwelling')\n",
    "plt.ylabel('Price')\n",
    "\n",
    "plt.rcParams['axes.facecolor'] = 'whitesmoke'\n",
    "plt.subplot(3,2,2)\n",
    "plt.scatter(x=X['LSTAT'], y=y['PRICE'])\n",
    "plt.xlabel('% lower status of the population')\n",
    "plt.ylabel('Price')\n",
    "\n",
    "plt.rcParams['axes.facecolor'] = 'whitesmoke'\n",
    "plt.subplot(3,2,3)\n",
    "plt.scatter(x=X['A10'], y=y['PRICE'])\n",
    "plt.xlabel('LSTAT Squared')\n",
    "plt.ylabel('Price')\n",
    "\n",
    "plt.rcParams['axes.facecolor'] = 'whitesmoke'\n",
    "plt.subplot(3,2,4)\n",
    "plt.scatter(x=X['A8'], y=y['PRICE'])\n",
    "plt.xlabel('log(TAX)*log(PTRATIO\")')\n",
    "plt.ylabel('Price')\n",
    "\n",
    "plt.rcParams['axes.facecolor'] = 'whitesmoke'\n",
    "plt.subplot(3,2,5)\n",
    "plt.scatter(x=X['PTRATIO'], y=y['PRICE'])\n",
    "plt.xlabel('pupil-teacher ratio by town')\n",
    "plt.ylabel('Price')\n",
    "\n",
    "plt.rcParams['axes.facecolor'] = 'whitesmoke'\n",
    "plt.subplot(3,2,6)\n",
    "plt.scatter(x=X['INDUS'], y=y['PRICE'])\n",
    "plt.xlabel('proportion of non-retail business acres per town')\n",
    "plt.ylabel('Price')\n"
   ]
  },
  {
   "cell_type": "code",
   "execution_count": 15,
   "metadata": {},
   "outputs": [
    {
     "data": {
      "text/plain": [
       "Text(0,0.5,'Price')"
      ]
     },
     "execution_count": 15,
     "metadata": {},
     "output_type": "execute_result"
    },
    {
     "data": {
      "image/png": "[encoded data removed]",
      "text/plain": [
       "<matplotlib.figure.Figure at 0x26c76fad1d0>"
      ]
     },
     "metadata": {},
     "output_type": "display_data"
    }
   ],
   "source": [
    "plt.figure(figsize=(20, 15))\n",
    "\n",
    "plt.rcParams['axes.facecolor'] = 'whitesmoke'\n",
    "plt.subplot(2,2,1)\n",
    "plt.scatter(x=X['B7'], y=y['PRICE'])\n",
    "plt.xlabel('B7')\n",
    "plt.ylabel('Price')\n",
    "\n",
    "plt.subplot(2,2,2)\n",
    "plt.rcParams['axes.facecolor'] = 'whitesmoke'\n",
    "plt.scatter(x=X['B3'], y=y['PRICE'])\n",
    "plt.xlabel('B3')\n",
    "plt.ylabel('Price')\n",
    "\n",
    "plt.subplot(2,2,3)\n",
    "plt.rcParams['axes.facecolor'] = 'whitesmoke'\n",
    "plt.scatter(x=X['CHAS'], y=y['PRICE'])\n",
    "plt.xlabel('Charles River dummy variable')\n",
    "plt.ylabel('Price')\n",
    "\n",
    "plt.subplot(2,2,4)\n",
    "plt.rcParams['axes.facecolor'] = 'whitesmoke'\n",
    "plt.scatter(x=X['AGE'], y=y['PRICE'])\n",
    "plt.xlabel('proportion of owner-occupied units built prior to 1940')\n",
    "plt.ylabel('Price')\n"
   ]
  },
  {
   "cell_type": "markdown",
   "metadata": {},
   "source": [
    "## 2. Warm-up: a few simple models\n",
    "### 2.1 Loss function"
   ]
  },
  {
   "cell_type": "code",
   "execution_count": 16,
   "metadata": {},
   "outputs": [
    {
     "data": {
      "text/plain": [
       "15.370878572185292"
      ]
     },
     "execution_count": 16,
     "metadata": {},
     "output_type": "execute_result"
    }
   ],
   "source": [
    "# manually calculating mean squared error \n",
    "X_train, X_test, y_train, y_test = train_test_split(X, y, test_size=0.33, random_state=42)\n",
    "clf = LinearRegression()\n",
    "clf.fit(X_train, y_train)\n",
    "y_pred =  clf.predict(X_test)\n",
    "mean_squared_error(y_test, y_pred)"
   ]
  },
  {
   "cell_type": "code",
   "execution_count": 17,
   "metadata": {},
   "outputs": [],
   "source": [
    "def mean_quadratic_loss(clf, X_test, y_test):\n",
    "    \"\"\"\n",
    "    calculate and return loss function as a measure of cross validation for thw model\n",
    "    \"\"\"\n",
    "    X_test = np.matrix(np.concatenate([np.ones((X_test.shape[0],1)), X_test], axis = 1))\n",
    "    coeff = np.concatenate((np.matrix(clf.intercept_), np.matrix(clf.coef_).T), axis = 0)\n",
    "    mat = np.matrix(y_test) - X_test@coeff\n",
    "    loss = (mat.T @ mat)/X_test.shape[0]\n",
    "    return loss"
   ]
  },
  {
   "cell_type": "code",
   "execution_count": 18,
   "metadata": {},
   "outputs": [
    {
     "data": {
      "text/plain": [
       "matrix([[15.37087857]])"
      ]
     },
     "execution_count": 18,
     "metadata": {},
     "output_type": "execute_result"
    }
   ],
   "source": [
    "mean_quadratic_loss(clf, X_test, y_test)"
   ]
  },
  {
   "cell_type": "markdown",
   "metadata": {},
   "source": [
    "### 2.2 A few simple regressions"
   ]
  },
  {
   "cell_type": "code",
   "execution_count": 19,
   "metadata": {},
   "outputs": [
    {
     "data": {
      "text/plain": [
       "31.398773174847072"
      ]
     },
     "execution_count": 19,
     "metadata": {},
     "output_type": "execute_result"
    }
   ],
   "source": [
    "# Kfold - 2 features\n",
    "X1 = X[['RM', 'LSTAT']]\n",
    "X_train, X_test, y_train, y_test = train_test_split(X1, y, test_size=0.33, random_state=42)\n",
    "clf = LinearRegression()\n",
    "clf.fit(X_train, y_train)\n",
    "scores = cross_val_score(clf, X = X_test, y=y_test, scoring = mean_quadratic_loss, cv=10)\n",
    "np.mean(scores)"
   ]
  },
  {
   "cell_type": "code",
   "execution_count": 20,
   "metadata": {},
   "outputs": [
    {
     "data": {
      "text/plain": [
       "24.77691397564412"
      ]
     },
     "execution_count": 20,
     "metadata": {},
     "output_type": "execute_result"
    }
   ],
   "source": [
    "# Kfold - some relevant and some irrelevant features\n",
    "X2 = X[['RM', 'LSTAT', 'A10', 'A8', 'PTRATIO', 'INDUS', 'B7', 'B3', 'CHAS', 'AGE']]\n",
    "X_train, X_test, y_train, y_test = train_test_split(X2, y, test_size=0.33, random_state=42)\n",
    "clf = LinearRegression()\n",
    "clf.fit(X_train, y_train)\n",
    "scores = cross_val_score(clf, X = X_test, y=y_test, scoring = mean_quadratic_loss, cv=10)\n",
    "np.mean(scores)"
   ]
  },
  {
   "cell_type": "code",
   "execution_count": 21,
   "metadata": {},
   "outputs": [
    {
     "data": {
      "text/plain": [
       "22.292418455576815"
      ]
     },
     "execution_count": 21,
     "metadata": {},
     "output_type": "execute_result"
    }
   ],
   "source": [
    "# Full model\n",
    "X_train, X_test, y_train, y_test = train_test_split(X, y, test_size=0.33, random_state=42)\n",
    "clf = LinearRegression()\n",
    "clf.fit(X_train, y_train)\n",
    "scores = cross_val_score(clf, X = X_test, y=y_test, scoring = mean_quadratic_loss, cv=10)\n",
    "np.mean(scores)"
   ]
  },
  {
   "cell_type": "markdown",
   "metadata": {},
   "source": [
    "Full model has the best performance as it has the lowest mean square error"
   ]
  },
  {
   "cell_type": "markdown",
   "metadata": {},
   "source": [
    "## 3. Find the best model\n",
    "### 3.1 Can we evaluate all models?"
   ]
  },
  {
   "cell_type": "markdown",
   "metadata": {},
   "source": [
    "Total number of features are 33, so we can build 2**33 models"
   ]
  },
  {
   "cell_type": "code",
   "execution_count": 22,
   "metadata": {},
   "outputs": [
    {
     "name": "stdout",
     "output_type": "stream",
     "text": [
      "8589934592\n"
     ]
    }
   ],
   "source": [
    "print(2**33)"
   ]
  },
  {
   "cell_type": "code",
   "execution_count": 23,
   "metadata": {},
   "outputs": [],
   "source": [
    "# \n",
    "mean_sq_error = []\n",
    "start_time =  time.time()\n",
    "for j in range(10):\n",
    "    for i in range(1, 34): # 33 features\n",
    "        X_sampled = X.sample(i, axis = 1)\n",
    "        X_train, X_test, y_train, y_test = train_test_split(X_sampled, y, test_size=0.33, random_state=42)\n",
    "        clf = LinearRegression()\n",
    "        clf.fit(X_train, y_train)\n",
    "        scores = cross_val_score(clf, X = X_test, y=y_test, scoring = mean_quadratic_loss, cv=10)\n",
    "        mean_sq_error.append(np.mean(scores))\n",
    "end_time = time.time()"
   ]
  },
  {
   "cell_type": "code",
   "execution_count": 24,
   "metadata": {},
   "outputs": [
    {
     "name": "stdout",
     "output_type": "stream",
     "text": [
      "Total time taken: 10.90284276008606\n",
      "Number of models: 330\n",
      "Number of bytes: 2896\n"
     ]
    }
   ],
   "source": [
    "print('Total time taken:', end_time - start_time)\n",
    "print('Number of models:', len(mean_sq_error))\n",
    "print(\"Number of bytes:\", sys.getsizeof(mean_sq_error))"
   ]
  },
  {
   "cell_type": "code",
   "execution_count": 25,
   "metadata": {},
   "outputs": [
    {
     "data": {
      "text/plain": [
       "79536.4314074074"
      ]
     },
     "execution_count": 25,
     "metadata": {},
     "output_type": "execute_result"
    }
   ],
   "source": [
    "(11 * 8589934592)/(330*3600)"
   ]
  },
  {
   "cell_type": "markdown",
   "metadata": {},
   "source": [
    "330 take 11 sec, so 2**33 models will take 79536 hrs. It won't be possible to store all the resulting MSE's in memory as they take a significant amount of memory."
   ]
  },
  {
   "cell_type": "markdown",
   "metadata": {},
   "source": [
    "### 3.2 Forward selection"
   ]
  },
  {
   "cell_type": "code",
   "execution_count": 26,
   "metadata": {},
   "outputs": [],
   "source": [
    "# select first best feature\n",
    "mean_sq_error = {}\n",
    "for col in X.columns:\n",
    "    X_train, X_test, y_train, y_test = train_test_split(X[[col]], y, test_size=0.33, random_state=42)\n",
    "    clf = LinearRegression()\n",
    "    clf.fit(X_train, y_train)\n",
    "    scores = cross_val_score(clf, X = X_test, y=y_test, scoring = mean_quadratic_loss, cv=10)\n",
    "    mean_sq_error[col] = np.mean(scores)"
   ]
  },
  {
   "cell_type": "code",
   "execution_count": 27,
   "metadata": {},
   "outputs": [
    {
     "data": {
      "text/plain": [
       "('LSTAT', 37.77610277677988)"
      ]
     },
     "execution_count": 27,
     "metadata": {},
     "output_type": "execute_result"
    }
   ],
   "source": [
    "sorted(mean_sq_error.items(), key = lambda x: x[1])[0]"
   ]
  },
  {
   "cell_type": "code",
   "execution_count": 28,
   "metadata": {},
   "outputs": [
    {
     "name": "stdout",
     "output_type": "stream",
     "text": [
      "Index(['CRIM', 'ZN', 'INDUS', 'CHAS', 'NOX', 'RM', 'AGE', 'DIS', 'RAD', 'TAX',\n",
      "       'PTRATIO', 'B', 'A1', 'A2', 'A3', 'A4', 'A5', 'A6', 'A7', 'A8', 'A9',\n",
      "       'A10', 'B1', 'B2', 'B3', 'B4', 'B5', 'B6', 'B7', 'B8', 'B9', 'B10'],\n",
      "      dtype='object')\n"
     ]
    }
   ],
   "source": [
    "X1 = ['LSTAT']\n",
    "\n",
    "cols = X.columns.drop(X1)\n",
    "print(cols)"
   ]
  },
  {
   "cell_type": "code",
   "execution_count": 29,
   "metadata": {},
   "outputs": [
    {
     "name": "stdout",
     "output_type": "stream",
     "text": [
      "['LSTAT']\n",
      "['LSTAT', 'RM']\n",
      "['LSTAT', 'RM', 'A10']\n",
      "['LSTAT', 'RM', 'A10', 'PTRATIO']\n",
      "['LSTAT', 'RM', 'A10', 'PTRATIO', 'CRIM']\n",
      "['LSTAT', 'RM', 'A10', 'PTRATIO', 'CRIM', 'B7']\n",
      "['LSTAT', 'RM', 'A10', 'PTRATIO', 'CRIM', 'B7', 'DIS']\n",
      "['LSTAT', 'RM', 'A10', 'PTRATIO', 'CRIM', 'B7', 'DIS', 'A4']\n",
      "['LSTAT', 'RM', 'A10', 'PTRATIO', 'CRIM', 'B7', 'DIS', 'A4', 'NOX']\n",
      "['LSTAT', 'RM', 'A10', 'PTRATIO', 'CRIM', 'B7', 'DIS', 'A4', 'NOX', 'A5']\n",
      "['LSTAT', 'RM', 'A10', 'PTRATIO', 'CRIM', 'B7', 'DIS', 'A4', 'NOX', 'A5', 'B8']\n",
      "['LSTAT', 'RM', 'A10', 'PTRATIO', 'CRIM', 'B7', 'DIS', 'A4', 'NOX', 'A5', 'B8', 'B10']\n",
      "['LSTAT', 'RM', 'A10', 'PTRATIO', 'CRIM', 'B7', 'DIS', 'A4', 'NOX', 'A5', 'B8', 'B10', 'CRIM']\n",
      "['LSTAT', 'RM', 'A10', 'PTRATIO', 'CRIM', 'B7', 'DIS', 'A4', 'NOX', 'A5', 'B8', 'B10', 'CRIM', 'B10']\n",
      "['LSTAT', 'RM', 'A10', 'PTRATIO', 'CRIM', 'B7', 'DIS', 'A4', 'NOX', 'A5', 'B8', 'B10', 'CRIM', 'B10', 'B10']\n",
      "['LSTAT', 'RM', 'A10', 'PTRATIO', 'CRIM', 'B7', 'DIS', 'A4', 'NOX', 'A5', 'B8', 'B10', 'CRIM', 'B10', 'B10', 'NOX']\n",
      "['LSTAT', 'RM', 'A10', 'PTRATIO', 'CRIM', 'B7', 'DIS', 'A4', 'NOX', 'A5', 'B8', 'B10', 'CRIM', 'B10', 'B10', 'NOX', 'CRIM']\n",
      "['LSTAT', 'RM', 'A10', 'PTRATIO', 'CRIM', 'B7', 'DIS', 'A4', 'NOX', 'A5', 'B8', 'B10', 'CRIM', 'B10', 'B10', 'NOX', 'CRIM', 'NOX']\n",
      "['LSTAT', 'RM', 'A10', 'PTRATIO', 'CRIM', 'B7', 'DIS', 'A4', 'NOX', 'A5', 'B8', 'B10', 'CRIM', 'B10', 'B10', 'NOX', 'CRIM', 'NOX', 'B8']\n",
      "['LSTAT', 'RM', 'A10', 'PTRATIO', 'CRIM', 'B7', 'DIS', 'A4', 'NOX', 'A5', 'B8', 'B10', 'CRIM', 'B10', 'B10', 'NOX', 'CRIM', 'NOX', 'B8', 'CRIM']\n",
      "['LSTAT', 'RM', 'A10', 'PTRATIO', 'CRIM', 'B7', 'DIS', 'A4', 'NOX', 'A5', 'B8', 'B10', 'CRIM', 'B10', 'B10', 'NOX', 'CRIM', 'NOX', 'B8', 'CRIM', 'B7']\n",
      "['LSTAT', 'RM', 'A10', 'PTRATIO', 'CRIM', 'B7', 'DIS', 'A4', 'NOX', 'A5', 'B8', 'B10', 'CRIM', 'B10', 'B10', 'NOX', 'CRIM', 'NOX', 'B8', 'CRIM', 'B7', 'DIS']\n",
      "['LSTAT', 'RM', 'A10', 'PTRATIO', 'CRIM', 'B7', 'DIS', 'A4', 'NOX', 'A5', 'B8', 'B10', 'CRIM', 'B10', 'B10', 'NOX', 'CRIM', 'NOX', 'B8', 'CRIM', 'B7', 'DIS', 'NOX']\n",
      "['LSTAT', 'RM', 'A10', 'PTRATIO', 'CRIM', 'B7', 'DIS', 'A4', 'NOX', 'A5', 'B8', 'B10', 'CRIM', 'B10', 'B10', 'NOX', 'CRIM', 'NOX', 'B8', 'CRIM', 'B7', 'DIS', 'NOX', 'NOX']\n",
      "['LSTAT', 'RM', 'A10', 'PTRATIO', 'CRIM', 'B7', 'DIS', 'A4', 'NOX', 'A5', 'B8', 'B10', 'CRIM', 'B10', 'B10', 'NOX', 'CRIM', 'NOX', 'B8', 'CRIM', 'B7', 'DIS', 'NOX', 'NOX', 'A4']\n",
      "['LSTAT', 'RM', 'A10', 'PTRATIO', 'CRIM', 'B7', 'DIS', 'A4', 'NOX', 'A5', 'B8', 'B10', 'CRIM', 'B10', 'B10', 'NOX', 'CRIM', 'NOX', 'B8', 'CRIM', 'B7', 'DIS', 'NOX', 'NOX', 'A4', 'A4']\n",
      "['LSTAT', 'RM', 'A10', 'PTRATIO', 'CRIM', 'B7', 'DIS', 'A4', 'NOX', 'A5', 'B8', 'B10', 'CRIM', 'B10', 'B10', 'NOX', 'CRIM', 'NOX', 'B8', 'CRIM', 'B7', 'DIS', 'NOX', 'NOX', 'A4', 'A4', 'A4']\n",
      "['LSTAT', 'RM', 'A10', 'PTRATIO', 'CRIM', 'B7', 'DIS', 'A4', 'NOX', 'A5', 'B8', 'B10', 'CRIM', 'B10', 'B10', 'NOX', 'CRIM', 'NOX', 'B8', 'CRIM', 'B7', 'DIS', 'NOX', 'NOX', 'A4', 'A4', 'A4', 'A10']\n",
      "['LSTAT', 'RM', 'A10', 'PTRATIO', 'CRIM', 'B7', 'DIS', 'A4', 'NOX', 'A5', 'B8', 'B10', 'CRIM', 'B10', 'B10', 'NOX', 'CRIM', 'NOX', 'B8', 'CRIM', 'B7', 'DIS', 'NOX', 'NOX', 'A4', 'A4', 'A4', 'A10', 'A5']\n",
      "['LSTAT', 'RM', 'A10', 'PTRATIO', 'CRIM', 'B7', 'DIS', 'A4', 'NOX', 'A5', 'B8', 'B10', 'CRIM', 'B10', 'B10', 'NOX', 'CRIM', 'NOX', 'B8', 'CRIM', 'B7', 'DIS', 'NOX', 'NOX', 'A4', 'A4', 'A4', 'A10', 'A5', 'B8']\n",
      "['LSTAT', 'RM', 'A10', 'PTRATIO', 'CRIM', 'B7', 'DIS', 'A4', 'NOX', 'A5', 'B8', 'B10', 'CRIM', 'B10', 'B10', 'NOX', 'CRIM', 'NOX', 'B8', 'CRIM', 'B7', 'DIS', 'NOX', 'NOX', 'A4', 'A4', 'A4', 'A10', 'A5', 'B8', 'A4']\n",
      "['LSTAT', 'RM', 'A10', 'PTRATIO', 'CRIM', 'B7', 'DIS', 'A4', 'NOX', 'A5', 'B8', 'B10', 'CRIM', 'B10', 'B10', 'NOX', 'CRIM', 'NOX', 'B8', 'CRIM', 'B7', 'DIS', 'NOX', 'NOX', 'A4', 'A4', 'A4', 'A10', 'A5', 'B8', 'A4', 'A10']\n",
      "['LSTAT', 'RM', 'A10', 'PTRATIO', 'CRIM', 'B7', 'DIS', 'A4', 'NOX', 'A5', 'B8', 'B10', 'CRIM', 'B10', 'B10', 'NOX', 'CRIM', 'NOX', 'B8', 'CRIM', 'B7', 'DIS', 'NOX', 'NOX', 'A4', 'A4', 'A4', 'A10', 'A5', 'B8', 'A4', 'A10', 'B8']\n"
     ]
    }
   ],
   "source": [
    "# creating n-feature models\n",
    "mean_sq_error = {}\n",
    "rsquare, bic, aic=[], [], []\n",
    "\n",
    "while (len(X1)<34):\n",
    "    for col in cols:\n",
    "        X_train, X_test, y_train, y_test = train_test_split(X[[*X1,col]], y, test_size=0.33, random_state=42)\n",
    "        clf = LinearRegression()\n",
    "        clf.fit(X_train, y_train)\n",
    "        scores = cross_val_score(clf, X = X_test, y=y_test, scoring = mean_quadratic_loss, cv=10)\n",
    "        mean_sq_error[col] = np.mean(scores)\n",
    "    print(X1)\n",
    "    X1.append(sorted(mean_sq_error.items(), key = lambda x: x[1])[0][0])\n",
    "    \n",
    "    model = smf.ols(formula = 'PRICE~'+'+'.join(X1), data=boston_df).fit()\n",
    "    bic.append(model.bic)\n",
    "    aic.append(model.aic)\n",
    "    rsquare.append(model.rsquared_adj)\n",
    "    cols.drop(features)\n",
    "    "
   ]
  },
  {
   "cell_type": "code",
   "execution_count": 30,
   "metadata": {},
   "outputs": [
    {
     "data": {
      "text/plain": [
       "7"
      ]
     },
     "execution_count": 30,
     "metadata": {},
     "output_type": "execute_result"
    }
   ],
   "source": [
    "# best model based on bic\n",
    "np.argmin(bic)"
   ]
  },
  {
   "cell_type": "code",
   "execution_count": 31,
   "metadata": {},
   "outputs": [
    {
     "name": "stdout",
     "output_type": "stream",
     "text": [
      "['LSTAT', 'RM', 'A10', 'PTRATIO', 'CRIM', 'B7', 'DIS', 'A4']\n"
     ]
    }
   ],
   "source": [
    "best_model_bic = X1[:(np.argmin(bic)+1)]\n",
    "print(best_model_bic)"
   ]
  },
  {
   "cell_type": "code",
   "execution_count": 121,
   "metadata": {},
   "outputs": [
    {
     "data": {
      "image/png": "[encoded data removed]",
      "text/plain": [
       "<matplotlib.figure.Figure at 0x26c7c5c79e8>"
      ]
     },
     "metadata": {},
     "output_type": "display_data"
    }
   ],
   "source": [
    "# Plotting BIC vs Number of features\n",
    "\n",
    "plt.figure(figsize=(16,7))\n",
    "plt.plot(range(1,34),bic,marker='o')\n",
    "plt.grid(b=True)\n",
    "plt.axvline(x=np.argmin(bic)+1,c='r')\n",
    "plt.show()"
   ]
  },
  {
   "cell_type": "code",
   "execution_count": 122,
   "metadata": {},
   "outputs": [
    {
     "name": "stdout",
     "output_type": "stream",
     "text": [
      "['LSTAT', 'RM', 'A10', 'PTRATIO', 'CRIM', 'B7', 'DIS', 'A4', 'NOX']\n"
     ]
    }
   ],
   "source": [
    "# best model based on bic\n",
    "best_model_aic = X1[:(np.argmin(aic)+1)]\n",
    "print(best_model_aic)"
   ]
  },
  {
   "cell_type": "code",
   "execution_count": 123,
   "metadata": {},
   "outputs": [
    {
     "data": {
      "image/png": "[encoded data removed]",
      "text/plain": [
       "<matplotlib.figure.Figure at 0x26c77f257f0>"
      ]
     },
     "metadata": {},
     "output_type": "display_data"
    }
   ],
   "source": [
    "plt.figure(figsize=(16,7))\n",
    "plt.plot(range(1,34),aic,marker='o')\n",
    "plt.grid(b=True)\n",
    "plt.axvline(x=np.argmin(aic)+1,c='r')\n",
    "plt.show()"
   ]
  },
  {
   "cell_type": "code",
   "execution_count": 124,
   "metadata": {},
   "outputs": [
    {
     "name": "stdout",
     "output_type": "stream",
     "text": [
      "['LSTAT', 'RM', 'A10', 'PTRATIO', 'CRIM', 'B7', 'DIS', 'A4', 'NOX', 'A5', 'B8']\n"
     ]
    }
   ],
   "source": [
    "best_model_rsq = X1[:(np.argmax(rsquare)+1)]\n",
    "print(best_model_rsq)"
   ]
  },
  {
   "cell_type": "code",
   "execution_count": 126,
   "metadata": {},
   "outputs": [
    {
     "data": {
      "image/png": "[encoded data removed]",
      "text/plain": [
       "<matplotlib.figure.Figure at 0x26c7c906828>"
      ]
     },
     "metadata": {},
     "output_type": "display_data"
    }
   ],
   "source": [
    "# Plotting adjusted rsquare vs No of features\n",
    "plt.figure(figsize=(16,7))\n",
    "plt.plot(range(1,34),rsquare,marker='o')\n",
    "plt.grid(b=True)\n",
    "plt.axvline(x=np.argmax(rsquare)+1,c='r')\n",
    "plt.show()"
   ]
  },
  {
   "cell_type": "markdown",
   "metadata": {},
   "source": [
    "## 4 Principal components"
   ]
  },
  {
   "cell_type": "markdown",
   "metadata": {},
   "source": [
    "### 4.1 Use raw features"
   ]
  },
  {
   "cell_type": "code",
   "execution_count": 35,
   "metadata": {},
   "outputs": [
    {
     "data": {
      "text/plain": [
       "Index(['CRIM', 'ZN', 'INDUS', 'CHAS', 'NOX', 'RM', 'AGE', 'DIS', 'RAD', 'TAX',\n",
       "       'PTRATIO', 'B', 'LSTAT', 'A1', 'A2', 'A3', 'A4', 'A5', 'A6', 'A7', 'A8',\n",
       "       'A9', 'A10', 'B1', 'B2', 'B3', 'B4', 'B5', 'B6', 'B7', 'B8', 'B9',\n",
       "       'B10'],\n",
       "      dtype='object')"
      ]
     },
     "execution_count": 35,
     "metadata": {},
     "output_type": "execute_result"
    }
   ],
   "source": [
    "X.columns"
   ]
  },
  {
   "cell_type": "code",
   "execution_count": 41,
   "metadata": {},
   "outputs": [],
   "source": [
    "m = PCA().fit(X)\n",
    "explained_var_list = list(m.explained_variance_)\n",
    "prop_var_list = list(m.explained_variance_ratio_)\n",
    "cumulative_var_list = list(m.explained_variance_ratio_.cumsum())"
   ]
  },
  {
   "cell_type": "code",
   "execution_count": 42,
   "metadata": {},
   "outputs": [
    {
     "name": "stdout",
     "output_type": "stream",
     "text": [
      "    Components  Explained Variance  Proportional Variance  Cumulative Variance\n",
      "0            1        1.840227e+09           5.570621e-01             0.557062\n",
      "1            2        1.463117e+09           4.429055e-01             0.999968\n",
      "2            3        6.090277e+04           1.843611e-05             0.999986\n",
      "3            4        2.571904e+04           7.785506e-06             0.999994\n",
      "4            5        1.506729e+04           4.561075e-06             0.999998\n",
      "5            6        4.885543e+03           1.478921e-06             1.000000\n",
      "6            7        2.738959e+02           8.291206e-08             1.000000\n",
      "7            8        1.632594e+02           4.942085e-08             1.000000\n",
      "8            9        4.020477e+01           1.217054e-08             1.000000\n",
      "9           10        2.021777e+01           6.120197e-09             1.000000\n",
      "10          11        1.228058e+01           3.717500e-09             1.000000\n",
      "11          12        7.180227e+00           2.173553e-09             1.000000\n",
      "12          13        3.688400e+00           1.116529e-09             1.000000\n",
      "13          14        2.372804e+00           7.182802e-10             1.000000\n",
      "14          15        1.304227e+00           3.948073e-10             1.000000\n",
      "15          16        1.142084e+00           3.457246e-10             1.000000\n",
      "16          17        1.090542e+00           3.301222e-10             1.000000\n",
      "17          18        1.050838e+00           3.181032e-10             1.000000\n",
      "18          19        1.014632e+00           3.071430e-10             1.000000\n",
      "19          20        9.400817e-01           2.845756e-10             1.000000\n",
      "20          21        9.102692e-01           2.755510e-10             1.000000\n",
      "21          22        8.781572e-01           2.658302e-10             1.000000\n",
      "22          23        8.308839e-01           2.515200e-10             1.000000\n",
      "23          24        7.828339e-01           2.369746e-10             1.000000\n",
      "24          25        7.536503e-01           2.281403e-10             1.000000\n",
      "25          26        1.124330e-01           3.403501e-11             1.000000\n",
      "26          27        7.870166e-02           2.382407e-11             1.000000\n",
      "27          28        6.752530e-02           2.044083e-11             1.000000\n",
      "28          29        3.347543e-02           1.013347e-11             1.000000\n",
      "29          30        1.071627e-02           3.243962e-12             1.000000\n",
      "30          31        7.735099e-03           2.341521e-12             1.000000\n",
      "31          32        8.247489e-04           2.496628e-13             1.000000\n",
      "32          33        6.389405e-05           1.934161e-14             1.000000\n"
     ]
    }
   ],
   "source": [
    "result_df = pd.DataFrame()\n",
    "result_df['Components'] = range(1, 34)\n",
    "result_df['Explained Variance'] =  explained_var_list\n",
    "result_df['Proportional Variance'] = prop_var_list\n",
    "result_df['Cumulative Variance'] = cumulative_var_list\n",
    "print(result_df)"
   ]
  },
  {
   "cell_type": "markdown",
   "metadata": {},
   "source": [
    "Majority of the variance is explained by the first two components."
   ]
  },
  {
   "cell_type": "code",
   "execution_count": 107,
   "metadata": {},
   "outputs": [],
   "source": [
    "#rotate data\n",
    "rotated_df = pd.DataFrame(PCA().fit_transform(X.as_matrix()))\n",
    "rotated_df.columns = ['pc'+str(i) for i in range(33)]"
   ]
  },
  {
   "cell_type": "code",
   "execution_count": 108,
   "metadata": {},
   "outputs": [],
   "source": [
    "features = list(rotated_df.columns)\n",
    "# calculate MSE and estimate number of components with lowest MSE\n",
    "mean_sq_error=[]\n",
    "for i in range(1, 34):\n",
    "    X_train, X_test, y_train, y_test = train_test_split(rotated_df[features[:i]], y, test_size=0.33, random_state=42)\n",
    "    clf = LinearRegression()\n",
    "    clf.fit(X_train, y_train)\n",
    "    scores = cross_val_score(clf, X = X_test, y=y_test, scoring = mean_quadratic_loss, cv=10)\n",
    "    mean_sq_error.append(np.mean(scores))\n",
    "    "
   ]
  },
  {
   "cell_type": "code",
   "execution_count": 117,
   "metadata": {},
   "outputs": [
    {
     "data": {
      "image/png": "[encoded data removed]",
      "text/plain": [
       "<matplotlib.figure.Figure at 0x26c7e386860>"
      ]
     },
     "metadata": {},
     "output_type": "display_data"
    }
   ],
   "source": [
    "plt.figure(figsize=(16,10))\n",
    "plt.plot(range(1,34), mean_sq_error, marker='o')\n",
    "plt.grid(b=True)\n",
    "plt.xlabel('Number of Components')\n",
    "plt.ylabel('Mean Square Error')\n",
    "plt.axvline(x=14, c='r')\n",
    "plt.show()"
   ]
  },
  {
   "cell_type": "markdown",
   "metadata": {},
   "source": [
    "14 components give the least cross validated Mean Squared Error"
   ]
  },
  {
   "cell_type": "code",
   "execution_count": 110,
   "metadata": {},
   "outputs": [],
   "source": [
    "# normalize data\n",
    "def normalize_data(data):\n",
    "    mean = np.mean(data)\n",
    "    std = np.std(data)\n",
    "    norm_d = (data - mean)/std\n",
    "    return norm_d"
   ]
  },
  {
   "cell_type": "code",
   "execution_count": 111,
   "metadata": {},
   "outputs": [],
   "source": [
    "normalized_df = pd.DataFrame()\n",
    "\n",
    "for col in X.columns:\n",
    "    normalized_df[col] = normalize_data(X[col])"
   ]
  },
  {
   "cell_type": "code",
   "execution_count": 112,
   "metadata": {},
   "outputs": [],
   "source": [
    "#rotate data\n",
    "n_rotated_df = pd.DataFrame(PCA().fit_transform(normalized_df.as_matrix()))\n",
    "n_rotated_df.columns = ['pc'+str(i) for i in range(33)]"
   ]
  },
  {
   "cell_type": "code",
   "execution_count": 113,
   "metadata": {},
   "outputs": [],
   "source": [
    "features = list(n_rotated_df.columns)\n",
    "\n",
    "n_mean_sq_error=[]\n",
    "for i in range(1, 34):\n",
    "    X_train, X_test, y_train, y_test = train_test_split(n_rotated_df[features[:i]], y, test_size=0.33, random_state=42)\n",
    "    clf = LinearRegression()\n",
    "    clf.fit(X_train, y_train)\n",
    "    scores = cross_val_score(clf, X = X_test, y=y_test, scoring = mean_quadratic_loss, cv=10)\n",
    "    n_mean_sq_error.append(np.mean(scores))"
   ]
  },
  {
   "cell_type": "code",
   "execution_count": 116,
   "metadata": {},
   "outputs": [
    {
     "data": {
      "image/png": "[encoded data removed]",
      "text/plain": [
       "<matplotlib.figure.Figure at 0x26c7e0bb518>"
      ]
     },
     "metadata": {},
     "output_type": "display_data"
    }
   ],
   "source": [
    "plt.figure(figsize=(16,10))\n",
    "plt.plot(range(1,34), n_mean_sq_error, marker='o')\n",
    "plt.grid(b=True)\n",
    "plt.xlabel('Number of Components')\n",
    "plt.ylabel('Mean Square Error')\n",
    "plt.axvline(x=8, c='r')\n",
    "plt.show()"
   ]
  },
  {
   "cell_type": "markdown",
   "metadata": {},
   "source": [
    "8 features give the least mean squared error"
   ]
  },
  {
   "cell_type": "markdown",
   "metadata": {},
   "source": [
    "The best model is normalized PCA with 8 components. The MSE doesn't vary much till 19 components. There is a peak at p=20, this could be due to multicollinearity of some features.\n",
    "\n",
    "The full model is the easiest to perform. The forward selection model is straightforward to interpret. PCA on raw data is the most compact and PCA on normalized data is the most precise."
   ]
  },
  {
   "cell_type": "markdown",
   "metadata": {},
   "source": []
  }
 ],
 "metadata": {
  "kernelspec": {
   "display_name": "Python 3",
   "language": "python",
   "name": "python3"
  },
  "language_info": {
   "codemirror_mode": {
    "name": "ipython",
    "version": 3
   },
   "file_extension": ".py",
   "mimetype": "text/x-python",
   "name": "python",
   "nbconvert_exporter": "python",
   "pygments_lexer": "ipython3",
   "version": "3.6.4"
  }
 },
 "nbformat": 4,
 "nbformat_minor": 2
}
