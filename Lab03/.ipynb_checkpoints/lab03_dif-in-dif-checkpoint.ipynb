{
 "cells": [
  {
   "cell_type": "markdown",
   "metadata": {},
   "source": [
    "#### Shreya Sabharwal"
   ]
  },
  {
   "cell_type": "code",
   "execution_count": 53,
   "metadata": {
    "autoscroll": false,
    "ein.tags": "worksheet-0",
    "slideshow": {
     "slide_type": "-"
    }
   },
   "outputs": [],
   "source": [
    "import numpy as np\n",
    "import pandas as pd\n",
    "import statsmodels.formula.api as smf\n",
    "import matplotlib.pyplot as plt\n",
    "%matplotlib inline"
   ]
  },
  {
   "cell_type": "markdown",
   "metadata": {
    "ein.tags": "worksheet-0",
    "slideshow": {
     "slide_type": "-"
    }
   },
   "source": [
    "### 1.1 load the data"
   ]
  },
  {
   "cell_type": "code",
   "execution_count": 14,
   "metadata": {
    "autoscroll": false,
    "ein.tags": "worksheet-0",
    "slideshow": {
     "slide_type": "-"
    }
   },
   "outputs": [
    {
     "name": "stdout",
     "output_type": "stream",
     "text": [
      "   year  age sex  meth  tv state\n",
      "0  2003   13   M     0   1    XX\n",
      "1  2003   13   M     1   1    XX\n",
      "2  2003   13   M     1   1    XX\n",
      "3  2003   13   M     0   1    XX\n",
      "4  2003   13   M     0   0    XX\n",
      "(58077, 6)\n",
      "[2003 2005 2007 2009]\n",
      "[13 14 15 16 17]\n",
      "['M' 'F']\n",
      "[0 1]\n",
      "[1 0]\n",
      "['XX' 'MT']\n"
     ]
    }
   ],
   "source": [
    "yrbs = pd.read_table('yrbs.tsv.bz2')\n",
    "print(yrbs.head())\n",
    "print(yrbs.shape)\n",
    "print(yrbs.year.unique())\n",
    "print(yrbs.age.unique())\n",
    "print(yrbs.sex.unique())\n",
    "print(yrbs.meth.unique())\n",
    "print(yrbs.tv.unique())\n",
    "print(yrbs.state.unique())\n"
   ]
  },
  {
   "cell_type": "markdown",
   "metadata": {},
   "source": [
    "Dimension: 58077, 6"
   ]
  },
  {
   "cell_type": "code",
   "execution_count": 17,
   "metadata": {},
   "outputs": [
    {
     "name": "stdout",
     "output_type": "stream",
     "text": [
      "<class 'pandas.core.frame.DataFrame'>\n",
      "RangeIndex: 58077 entries, 0 to 58076\n",
      "Data columns (total 6 columns):\n",
      "year     58077 non-null int64\n",
      "age      58077 non-null int64\n",
      "sex      58077 non-null object\n",
      "meth     58077 non-null int64\n",
      "tv       58077 non-null int64\n",
      "state    58077 non-null object\n",
      "dtypes: int64(4), object(2)\n",
      "memory usage: 2.7+ MB\n"
     ]
    }
   ],
   "source": [
    "yrbs.info()"
   ]
  },
  {
   "cell_type": "markdown",
   "metadata": {},
   "source": [
    "there are no missing values"
   ]
  },
  {
   "cell_type": "markdown",
   "metadata": {
    "ein.tags": "worksheet-0",
    "slideshow": {
     "slide_type": "-"
    }
   },
   "source": [
    "### 1.2 graphical exploration"
   ]
  },
  {
   "cell_type": "code",
   "execution_count": 43,
   "metadata": {
    "autoscroll": false,
    "ein.tags": "worksheet-0",
    "slideshow": {
     "slide_type": "-"
    }
   },
   "outputs": [
    {
     "data": {
      "text/plain": [
       "<matplotlib.legend.Legend at 0x26f73108358>"
      ]
     },
     "execution_count": 43,
     "metadata": {},
     "output_type": "execute_result"
    },
    {
     "data": {
      "image/png": "[encoded data removed]",
      "text/plain": [
       "<matplotlib.figure.Figure at 0x26f731083c8>"
      ]
     },
     "metadata": {},
     "output_type": "display_data"
    }
   ],
   "source": [
    "ym = yrbs.groupby(['year', 'state']).meth.mean().reset_index()\n",
    "plt.plot(ym.year[ym.state=='MT'], ym.meth[ym.state=='MT'], label='MT')\n",
    "plt.plot(ym.year[ym.state=='XX'], ym.meth[ym.state=='XX'], label='National')\n",
    "plt.legend()"
   ]
  },
  {
   "cell_type": "markdown",
   "metadata": {},
   "source": [
    "There is a sharp decline for meth use in Montana. The entire country didn't see the same decline."
   ]
  },
  {
   "cell_type": "markdown",
   "metadata": {
    "ein.tags": "worksheet-0",
    "slideshow": {
     "slide_type": "-"
    }
   },
   "source": [
    "### 1.3 Before-After"
   ]
  },
  {
   "cell_type": "code",
   "execution_count": 23,
   "metadata": {},
   "outputs": [],
   "source": [
    "yrbs['before'] = [1 if(i==2003 or i==2005) else 0 for i in yrbs.year]"
   ]
  },
  {
   "cell_type": "code",
   "execution_count": 44,
   "metadata": {
    "autoscroll": false,
    "ein.tags": "worksheet-0",
    "slideshow": {
     "slide_type": "-"
    }
   },
   "outputs": [
    {
     "name": "stdout",
     "output_type": "stream",
     "text": [
      "before\n",
      "0    0.038115\n",
      "1    0.076734\n",
      "Name: meth, dtype: float64\n",
      "                            OLS Regression Results                            \n",
      "==============================================================================\n",
      "Dep. Variable:                   meth   R-squared:                       0.007\n",
      "Model:                            OLS   Adj. R-squared:                  0.007\n",
      "Method:                 Least Squares   F-statistic:                     67.66\n",
      "Date:                Wed, 18 Apr 2018   Prob (F-statistic):           2.19e-16\n",
      "Time:                        19:39:19   Log-Likelihood:                 417.76\n",
      "No. Observations:                9754   AIC:                            -831.5\n",
      "Df Residuals:                    9752   BIC:                            -817.1\n",
      "Df Model:                           1                                         \n",
      "Covariance Type:            nonrobust                                         \n",
      "==============================================================================\n",
      "                 coef    std err          t      P>|t|      [0.025      0.975]\n",
      "------------------------------------------------------------------------------\n",
      "Intercept      0.0381      0.003     11.484      0.000       0.032       0.045\n",
      "before         0.0386      0.005      8.225      0.000       0.029       0.048\n",
      "==============================================================================\n",
      "Omnibus:                     7326.455   Durbin-Watson:                   1.957\n",
      "Prob(Omnibus):                  0.000   Jarque-Bera (JB):            84570.020\n",
      "Skew:                           3.765   Prob(JB):                         0.00\n",
      "Kurtosis:                      15.304   Cond. No.                         2.62\n",
      "==============================================================================\n",
      "\n",
      "Warnings:\n",
      "[1] Standard Errors assume that the covariance matrix of the errors is correctly specified.\n"
     ]
    }
   ],
   "source": [
    "print(yrbs[yrbs.state == 'MT'].groupby('before').meth.mean())\n",
    "m = smf.ols(formula = 'meth ~ before', data = yrbs[yrbs.state == 'MT'])\n",
    "print(m.fit().summary())"
   ]
  },
  {
   "cell_type": "markdown",
   "metadata": {},
   "source": [
    "Year of 2003 and 2005 have an effect of 0.038 on meth use and years 2007 and 2009 have an effect of 0.036 on meth use."
   ]
  },
  {
   "cell_type": "code",
   "execution_count": 51,
   "metadata": {
    "autoscroll": false,
    "ein.tags": "worksheet-0",
    "slideshow": {
     "slide_type": "-"
    }
   },
   "outputs": [
    {
     "name": "stdout",
     "output_type": "stream",
     "text": [
      "                            OLS Regression Results                            \n",
      "==============================================================================\n",
      "Dep. Variable:                   meth   R-squared:                       0.009\n",
      "Model:                            OLS   Adj. R-squared:                  0.009\n",
      "Method:                 Least Squares   F-statistic:                     23.20\n",
      "Date:                Wed, 18 Apr 2018   Prob (F-statistic):           4.11e-19\n",
      "Time:                        19:56:03   Log-Likelihood:                 430.25\n",
      "No. Observations:                9754   AIC:                            -850.5\n",
      "Df Residuals:                    9749   BIC:                            -814.6\n",
      "Df Model:                           4                                         \n",
      "Covariance Type:            nonrobust                                         \n",
      "==============================================================================\n",
      "                 coef    std err          t      P>|t|      [0.025      0.975]\n",
      "------------------------------------------------------------------------------\n",
      "Intercept     -0.1476      0.038     -3.911      0.000      -0.222      -0.074\n",
      "sex[T.M]      -0.0031      0.005     -0.653      0.514      -0.012       0.006\n",
      "before         0.0386      0.005      8.221      0.000       0.029       0.048\n",
      "age            0.0118      0.002      4.953      0.000       0.007       0.016\n",
      "tv             0.0035      0.005      0.739      0.460      -0.006       0.013\n",
      "==============================================================================\n",
      "Omnibus:                     7302.251   Durbin-Watson:                   1.963\n",
      "Prob(Omnibus):                  0.000   Jarque-Bera (JB):            83719.425\n",
      "Skew:                           3.750   Prob(JB):                         0.00\n",
      "Kurtosis:                      15.237   Cond. No.                         255.\n",
      "==============================================================================\n",
      "\n",
      "Warnings:\n",
      "[1] Standard Errors assume that the covariance matrix of the errors is correctly specified.\n"
     ]
    }
   ],
   "source": [
    "m = smf.ols(formula = 'meth ~ before + age + sex + tv', data = yrbs[yrbs.state == 'MT'])\n",
    "print(m.fit().summary())"
   ]
  },
  {
   "cell_type": "markdown",
   "metadata": {},
   "source": [
    "Addind different controls has no effect on time period when meth was used in Montana."
   ]
  },
  {
   "cell_type": "markdown",
   "metadata": {},
   "source": [
    "### 1.4 Cross-sectional Estimator"
   ]
  },
  {
   "cell_type": "code",
   "execution_count": 35,
   "metadata": {},
   "outputs": [
    {
     "name": "stdout",
     "output_type": "stream",
     "text": [
      "              year        age      meth        tv    before\n",
      "state                                                      \n",
      "MT     2005.833094  15.708120  0.057412  0.483904  0.499692\n",
      "XX     2006.078658  15.813795  0.049831  0.627217  0.485794\n"
     ]
    }
   ],
   "source": [
    "print(yrbs.groupby('state').mean())"
   ]
  },
  {
   "cell_type": "code",
   "execution_count": 54,
   "metadata": {},
   "outputs": [
    {
     "name": "stdout",
     "output_type": "stream",
     "text": [
      "                            OLS Regression Results                            \n",
      "==============================================================================\n",
      "Dep. Variable:                   meth   R-squared:                       0.000\n",
      "Model:                            OLS   Adj. R-squared:                 -0.000\n",
      "Method:                 Least Squares   F-statistic:                    0.3503\n",
      "Date:                Wed, 18 Apr 2018   Prob (F-statistic):              0.554\n",
      "Time:                        19:59:36   Log-Likelihood:                 6404.0\n",
      "No. Observations:               29728   AIC:                        -1.280e+04\n",
      "Df Residuals:                   29726   BIC:                        -1.279e+04\n",
      "Df Model:                           1                                         \n",
      "Covariance Type:            nonrobust                                         \n",
      "===============================================================================\n",
      "                  coef    std err          t      P>|t|      [0.025      0.975]\n",
      "-------------------------------------------------------------------------------\n",
      "Intercept       0.0381      0.003     13.648      0.000       0.033       0.044\n",
      "state[T.XX]     0.0018      0.003      0.592      0.554      -0.004       0.008\n",
      "==============================================================================\n",
      "Omnibus:                    27196.729   Durbin-Watson:                   1.976\n",
      "Prob(Omnibus):                  0.000   Jarque-Bera (JB):           619647.247\n",
      "Skew:                           4.720   Prob(JB):                         0.00\n",
      "Kurtosis:                      23.277   Cond. No.                         4.75\n",
      "==============================================================================\n",
      "\n",
      "Warnings:\n",
      "[1] Standard Errors assume that the covariance matrix of the errors is correctly specified.\n"
     ]
    }
   ],
   "source": [
    "m1 = smf.ols(formula = 'meth ~ state', data = yrbs[yrbs.before ==0])\n",
    "print(m1.fit().summary())"
   ]
  },
  {
   "cell_type": "markdown",
   "metadata": {},
   "source": [
    "Montana has 0.05 effect on meth consumption, others have less effect"
   ]
  },
  {
   "cell_type": "code",
   "execution_count": 55,
   "metadata": {},
   "outputs": [
    {
     "name": "stdout",
     "output_type": "stream",
     "text": [
      "                            OLS Regression Results                            \n",
      "==============================================================================\n",
      "Dep. Variable:                   meth   R-squared:                       0.002\n",
      "Model:                            OLS   Adj. R-squared:                  0.001\n",
      "Method:                 Least Squares   F-statistic:                     9.322\n",
      "Date:                Wed, 18 Apr 2018   Prob (F-statistic):           6.93e-09\n",
      "Time:                        19:59:51   Log-Likelihood:                 6427.1\n",
      "No. Observations:               29728   AIC:                        -1.284e+04\n",
      "Df Residuals:                   29722   BIC:                        -1.279e+04\n",
      "Df Model:                           5                                         \n",
      "Covariance Type:            nonrobust                                         \n",
      "===============================================================================\n",
      "                  coef    std err          t      P>|t|      [0.025      0.975]\n",
      "-------------------------------------------------------------------------------\n",
      "Intercept       1.0108      2.304      0.439      0.661      -3.505       5.527\n",
      "state[T.XX]     0.0018      0.003      0.566      0.571      -0.004       0.008\n",
      "sex[T.M]        0.0081      0.002      3.560      0.000       0.004       0.013\n",
      "age             0.0064      0.001      5.645      0.000       0.004       0.009\n",
      "tv             -0.0016      0.002     -0.692      0.489      -0.006       0.003\n",
      "year           -0.0005      0.001     -0.467      0.641      -0.003       0.002\n",
      "==============================================================================\n",
      "Omnibus:                    27150.120   Durbin-Watson:                   1.980\n",
      "Prob(Omnibus):                  0.000   Jarque-Bera (JB):           615965.017\n",
      "Skew:                           4.709   Prob(JB):                         0.00\n",
      "Kurtosis:                      23.214   Cond. No.                     4.09e+06\n",
      "==============================================================================\n",
      "\n",
      "Warnings:\n",
      "[1] Standard Errors assume that the covariance matrix of the errors is correctly specified.\n",
      "[2] The condition number is large, 4.09e+06. This might indicate that there are\n",
      "strong multicollinearity or other numerical problems.\n"
     ]
    }
   ],
   "source": [
    "m2 = smf.ols(formula = 'meth ~ state + age+sex+tv+year', data = yrbs[yrbs.before ==0])\n",
    "print(m2.fit().summary())"
   ]
  },
  {
   "cell_type": "markdown",
   "metadata": {},
   "source": [
    "There is a slight decrease in national effect on meth consumption when we control all the varables."
   ]
  },
  {
   "cell_type": "markdown",
   "metadata": {},
   "source": [
    "### 1.5 Differences in Differences Estimators"
   ]
  },
  {
   "cell_type": "code",
   "execution_count": 39,
   "metadata": {},
   "outputs": [
    {
     "name": "stdout",
     "output_type": "stream",
     "text": [
      "state  before\n",
      "MT     0         0.038115\n",
      "       1         0.076734\n",
      "XX     0         0.039923\n",
      "       1         0.060319\n",
      "Name: meth, dtype: float64\n"
     ]
    }
   ],
   "source": [
    "print(yrbs.groupby(['state', 'before']).meth.mean())"
   ]
  },
  {
   "cell_type": "code",
   "execution_count": 47,
   "metadata": {},
   "outputs": [
    {
     "name": "stdout",
     "output_type": "stream",
     "text": [
      "                            OLS Regression Results                            \n",
      "==============================================================================\n",
      "Dep. Variable:                   meth   R-squared:                       0.003\n",
      "Model:                            OLS   Adj. R-squared:                  0.003\n",
      "Method:                 Least Squares   F-statistic:                     62.92\n",
      "Date:                Wed, 18 Apr 2018   Prob (F-statistic):           1.31e-40\n",
      "Time:                        19:49:34   Log-Likelihood:                 5566.9\n",
      "No. Observations:               58077   AIC:                        -1.113e+04\n",
      "Df Residuals:                   58073   BIC:                        -1.109e+04\n",
      "Df Model:                           3                                         \n",
      "Covariance Type:            nonrobust                                         \n",
      "======================================================================================\n",
      "                         coef    std err          t      P>|t|      [0.025      0.975]\n",
      "--------------------------------------------------------------------------------------\n",
      "Intercept              0.0381      0.003     12.110      0.000       0.032       0.044\n",
      "state[T.XX]            0.0018      0.003      0.525      0.599      -0.005       0.009\n",
      "before                 0.0386      0.004      8.674      0.000       0.030       0.047\n",
      "state[T.XX]:before    -0.0182      0.005     -3.733      0.000      -0.028      -0.009\n",
      "==============================================================================\n",
      "Omnibus:                    46583.747   Durbin-Watson:                   1.971\n",
      "Prob(Omnibus):                  0.000   Jarque-Bera (JB):           670089.493\n",
      "Skew:                           4.057   Prob(JB):                         0.00\n",
      "Kurtosis:                      17.528   Cond. No.                         12.2\n",
      "==============================================================================\n",
      "\n",
      "Warnings:\n",
      "[1] Standard Errors assume that the covariance matrix of the errors is correctly specified.\n"
     ]
    }
   ],
   "source": [
    "m1 = smf.ols(formula = 'meth ~ state*before', data = yrbs)\n",
    "print(m1.fit().summary())"
   ]
  },
  {
   "cell_type": "markdown",
   "metadata": {},
   "source": [
    "The difference in difference is -0.0182. Montana vs National before and after the campaign is not significant."
   ]
  },
  {
   "cell_type": "code",
   "execution_count": 42,
   "metadata": {},
   "outputs": [
    {
     "name": "stdout",
     "output_type": "stream",
     "text": [
      "                            OLS Regression Results                            \n",
      "==============================================================================\n",
      "Dep. Variable:                   meth   R-squared:                       0.004\n",
      "Model:                            OLS   Adj. R-squared:                  0.004\n",
      "Method:                 Least Squares   F-statistic:                     50.37\n",
      "Date:                Wed, 18 Apr 2018   Prob (F-statistic):           2.89e-52\n",
      "Time:                        19:34:40   Log-Likelihood:                 5598.3\n",
      "No. Observations:               58077   AIC:                        -1.118e+04\n",
      "Df Residuals:                   58071   BIC:                        -1.113e+04\n",
      "Df Model:                           5                                         \n",
      "Covariance Type:            nonrobust                                         \n",
      "===============================================================================\n",
      "                  coef    std err          t      P>|t|      [0.025      0.975]\n",
      "-------------------------------------------------------------------------------\n",
      "Intercept      -0.0645      0.015     -4.421      0.000      -0.093      -0.036\n",
      "state[T.XX]    -0.0074      0.002     -3.003      0.003      -0.012      -0.003\n",
      "sex[T.M]        0.0064      0.002      3.486      0.000       0.003       0.010\n",
      "before          0.0235      0.002     12.880      0.000       0.020       0.027\n",
      "age             0.0069      0.001      7.600      0.000       0.005       0.009\n",
      "tv             -0.0041      0.002     -2.170      0.030      -0.008      -0.000\n",
      "==============================================================================\n",
      "Omnibus:                    46521.765   Durbin-Watson:                   1.973\n",
      "Prob(Omnibus):                  0.000   Jarque-Bera (JB):           667211.354\n",
      "Skew:                           4.050   Prob(JB):                         0.00\n",
      "Kurtosis:                      17.495   Cond. No.                         255.\n",
      "==============================================================================\n",
      "\n",
      "Warnings:\n",
      "[1] Standard Errors assume that the covariance matrix of the errors is correctly specified.\n"
     ]
    }
   ],
   "source": [
    "m1 = smf.ols(formula = 'meth ~ state + before + age + sex + tv', data = yrbs)\n",
    "print(m1.fit().summary())"
   ]
  },
  {
   "cell_type": "code",
   "execution_count": 49,
   "metadata": {},
   "outputs": [
    {
     "name": "stdout",
     "output_type": "stream",
     "text": [
      "                            OLS Regression Results                            \n",
      "==============================================================================\n",
      "Dep. Variable:                   meth   R-squared:                       0.005\n",
      "Model:                            OLS   Adj. R-squared:                  0.004\n",
      "Method:                 Least Squares   F-statistic:                     44.37\n",
      "Date:                Wed, 18 Apr 2018   Prob (F-statistic):           1.87e-54\n",
      "Time:                        19:52:03   Log-Likelihood:                 5605.5\n",
      "No. Observations:               58077   AIC:                        -1.120e+04\n",
      "Df Residuals:                   58070   BIC:                        -1.113e+04\n",
      "Df Model:                           6                                         \n",
      "Covariance Type:            nonrobust                                         \n",
      "======================================================================================\n",
      "                         coef    std err          t      P>|t|      [0.025      0.975]\n",
      "--------------------------------------------------------------------------------------\n",
      "Intercept             -0.0727      0.015     -4.925      0.000      -0.102      -0.044\n",
      "state[T.XX]            0.0018      0.003      0.521      0.602      -0.005       0.009\n",
      "sex[T.M]               0.0064      0.002      3.486      0.000       0.003       0.010\n",
      "before                 0.0389      0.004      8.740      0.000       0.030       0.048\n",
      "state[T.XX]:before    -0.0185      0.005     -3.785      0.000      -0.028      -0.009\n",
      "age                    0.0070      0.001      7.630      0.000       0.005       0.009\n",
      "tv                    -0.0041      0.002     -2.154      0.031      -0.008      -0.000\n",
      "==============================================================================\n",
      "Omnibus:                    46508.899   Durbin-Watson:                   1.973\n",
      "Prob(Omnibus):                  0.000   Jarque-Bera (JB):           666670.662\n",
      "Skew:                           4.049   Prob(JB):                         0.00\n",
      "Kurtosis:                      17.489   Cond. No.                         259.\n",
      "==============================================================================\n",
      "\n",
      "Warnings:\n",
      "[1] Standard Errors assume that the covariance matrix of the errors is correctly specified.\n"
     ]
    }
   ],
   "source": [
    "m1 = smf.ols(formula = 'meth ~ state*before + age + sex + tv', data = yrbs)\n",
    "print(m1.fit().summary())"
   ]
  },
  {
   "cell_type": "markdown",
   "metadata": {},
   "source": [
    "The difference in difference decreased to -0.0185 when accounting for other controls"
   ]
  },
  {
   "cell_type": "code",
   "execution_count": null,
   "metadata": {
    "collapsed": true
   },
   "outputs": [],
   "source": []
  }
 ],
 "metadata": {
  "kernelspec": {
   "display_name": "Python 3",
   "language": "python",
   "name": "python3"
  },
  "language_info": {
   "codemirror_mode": {
    "name": "ipython",
    "version": 3
   },
   "file_extension": ".py",
   "mimetype": "text/x-python",
   "name": "python",
   "nbconvert_exporter": "python",
   "pygments_lexer": "ipython3",
   "version": "3.6.3"
  },
  "name": "lab03_dif-in-dif.ipynb"
 },
 "nbformat": 4,
 "nbformat_minor": 2
}
