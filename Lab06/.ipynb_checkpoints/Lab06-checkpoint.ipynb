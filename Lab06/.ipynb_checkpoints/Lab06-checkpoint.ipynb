{
 "cells": [
  {
   "cell_type": "markdown",
   "metadata": {},
   "source": [
    "### 1 Data"
   ]
  },
  {
   "cell_type": "markdown",
   "metadata": {},
   "source": [
    "The data house-votes-84 (see canvas/files/data) contains votes for 16 bills by 435 Representatives in 1984 (see the included readme file). The first variable is the party memebership (republican or democrat), and the following 16 features are votes (y, n, or ? if there was neither yea nor nay vote).\n",
    "\n",
    "1. Load data. Note: the file does not contain the header line.\n",
    "2. Explore the data: What is the number of yeas, nays and others by the column.\n",
    "3. Compute the percentage of democrats and republicans in your data."
   ]
  },
  {
   "cell_type": "code",
   "execution_count": 1,
   "metadata": {},
   "outputs": [],
   "source": [
    "import numpy as np\n",
    "import pandas as pd\n",
    "import matplotlib.pyplot as plt\n",
    "%matplotlib inline\n",
    "import seaborn as sns"
   ]
  },
  {
   "cell_type": "code",
   "execution_count": 2,
   "metadata": {},
   "outputs": [],
   "source": [
    "house_votes_df = pd.read_csv('house-votes-84.csv.bz2', header=None)"
   ]
  },
  {
   "cell_type": "code",
   "execution_count": 3,
   "metadata": {},
   "outputs": [
    {
     "data": {
      "text/html": [
       "<div>\n",
       "<style scoped>\n",
       "    .dataframe tbody tr th:only-of-type {\n",
       "        vertical-align: middle;\n",
       "    }\n",
       "\n",
       "    .dataframe tbody tr th {\n",
       "        vertical-align: top;\n",
       "    }\n",
       "\n",
       "    .dataframe thead th {\n",
       "        text-align: right;\n",
       "    }\n",
       "</style>\n",
       "<table border=\"1\" class=\"dataframe\">\n",
       "  <thead>\n",
       "    <tr style=\"text-align: right;\">\n",
       "      <th></th>\n",
       "      <th>0</th>\n",
       "      <th>1</th>\n",
       "      <th>2</th>\n",
       "      <th>3</th>\n",
       "      <th>4</th>\n",
       "      <th>5</th>\n",
       "      <th>6</th>\n",
       "      <th>7</th>\n",
       "      <th>8</th>\n",
       "      <th>9</th>\n",
       "      <th>10</th>\n",
       "      <th>11</th>\n",
       "      <th>12</th>\n",
       "      <th>13</th>\n",
       "      <th>14</th>\n",
       "      <th>15</th>\n",
       "      <th>16</th>\n",
       "    </tr>\n",
       "  </thead>\n",
       "  <tbody>\n",
       "    <tr>\n",
       "      <th>0</th>\n",
       "      <td>republican</td>\n",
       "      <td>n</td>\n",
       "      <td>y</td>\n",
       "      <td>n</td>\n",
       "      <td>y</td>\n",
       "      <td>y</td>\n",
       "      <td>y</td>\n",
       "      <td>n</td>\n",
       "      <td>n</td>\n",
       "      <td>n</td>\n",
       "      <td>y</td>\n",
       "      <td>?</td>\n",
       "      <td>y</td>\n",
       "      <td>y</td>\n",
       "      <td>y</td>\n",
       "      <td>n</td>\n",
       "      <td>y</td>\n",
       "    </tr>\n",
       "    <tr>\n",
       "      <th>1</th>\n",
       "      <td>republican</td>\n",
       "      <td>n</td>\n",
       "      <td>y</td>\n",
       "      <td>n</td>\n",
       "      <td>y</td>\n",
       "      <td>y</td>\n",
       "      <td>y</td>\n",
       "      <td>n</td>\n",
       "      <td>n</td>\n",
       "      <td>n</td>\n",
       "      <td>n</td>\n",
       "      <td>n</td>\n",
       "      <td>y</td>\n",
       "      <td>y</td>\n",
       "      <td>y</td>\n",
       "      <td>n</td>\n",
       "      <td>?</td>\n",
       "    </tr>\n",
       "    <tr>\n",
       "      <th>2</th>\n",
       "      <td>democrat</td>\n",
       "      <td>?</td>\n",
       "      <td>y</td>\n",
       "      <td>y</td>\n",
       "      <td>?</td>\n",
       "      <td>y</td>\n",
       "      <td>y</td>\n",
       "      <td>n</td>\n",
       "      <td>n</td>\n",
       "      <td>n</td>\n",
       "      <td>n</td>\n",
       "      <td>y</td>\n",
       "      <td>n</td>\n",
       "      <td>y</td>\n",
       "      <td>y</td>\n",
       "      <td>n</td>\n",
       "      <td>n</td>\n",
       "    </tr>\n",
       "    <tr>\n",
       "      <th>3</th>\n",
       "      <td>democrat</td>\n",
       "      <td>n</td>\n",
       "      <td>y</td>\n",
       "      <td>y</td>\n",
       "      <td>n</td>\n",
       "      <td>?</td>\n",
       "      <td>y</td>\n",
       "      <td>n</td>\n",
       "      <td>n</td>\n",
       "      <td>n</td>\n",
       "      <td>n</td>\n",
       "      <td>y</td>\n",
       "      <td>n</td>\n",
       "      <td>y</td>\n",
       "      <td>n</td>\n",
       "      <td>n</td>\n",
       "      <td>y</td>\n",
       "    </tr>\n",
       "    <tr>\n",
       "      <th>4</th>\n",
       "      <td>democrat</td>\n",
       "      <td>y</td>\n",
       "      <td>y</td>\n",
       "      <td>y</td>\n",
       "      <td>n</td>\n",
       "      <td>y</td>\n",
       "      <td>y</td>\n",
       "      <td>n</td>\n",
       "      <td>n</td>\n",
       "      <td>n</td>\n",
       "      <td>n</td>\n",
       "      <td>y</td>\n",
       "      <td>?</td>\n",
       "      <td>y</td>\n",
       "      <td>y</td>\n",
       "      <td>y</td>\n",
       "      <td>y</td>\n",
       "    </tr>\n",
       "  </tbody>\n",
       "</table>\n",
       "</div>"
      ],
      "text/plain": [
       "           0  1  2  3  4  5  6  7  8  9  10 11 12 13 14 15 16\n",
       "0  republican  n  y  n  y  y  y  n  n  n  y  ?  y  y  y  n  y\n",
       "1  republican  n  y  n  y  y  y  n  n  n  n  n  y  y  y  n  ?\n",
       "2    democrat  ?  y  y  ?  y  y  n  n  n  n  y  n  y  y  n  n\n",
       "3    democrat  n  y  y  n  ?  y  n  n  n  n  y  n  y  n  n  y\n",
       "4    democrat  y  y  y  n  y  y  n  n  n  n  y  ?  y  y  y  y"
      ]
     },
     "execution_count": 3,
     "metadata": {},
     "output_type": "execute_result"
    }
   ],
   "source": [
    "house_votes_df.head()"
   ]
  },
  {
   "cell_type": "code",
   "execution_count": 4,
   "metadata": {},
   "outputs": [
    {
     "data": {
      "text/plain": [
       "(435, 17)"
      ]
     },
     "execution_count": 4,
     "metadata": {},
     "output_type": "execute_result"
    }
   ],
   "source": [
    "house_votes_df.shape"
   ]
  },
  {
   "cell_type": "code",
   "execution_count": 5,
   "metadata": {},
   "outputs": [
    {
     "name": "stdout",
     "output_type": "stream",
     "text": [
      "<class 'pandas.core.frame.DataFrame'>\n",
      "RangeIndex: 435 entries, 0 to 434\n",
      "Data columns (total 17 columns):\n",
      "0     435 non-null object\n",
      "1     435 non-null object\n",
      "2     435 non-null object\n",
      "3     435 non-null object\n",
      "4     435 non-null object\n",
      "5     435 non-null object\n",
      "6     435 non-null object\n",
      "7     435 non-null object\n",
      "8     435 non-null object\n",
      "9     435 non-null object\n",
      "10    435 non-null object\n",
      "11    435 non-null object\n",
      "12    435 non-null object\n",
      "13    435 non-null object\n",
      "14    435 non-null object\n",
      "15    435 non-null object\n",
      "16    435 non-null object\n",
      "dtypes: object(17)\n",
      "memory usage: 57.9+ KB\n"
     ]
    }
   ],
   "source": [
    "house_votes_df.info()"
   ]
  },
  {
   "cell_type": "code",
   "execution_count": 6,
   "metadata": {},
   "outputs": [
    {
     "data": {
      "text/plain": [
       "Int64Index([0, 1, 2, 3, 4, 5, 6, 7, 8, 9, 10, 11, 12, 13, 14, 15, 16], dtype='int64')"
      ]
     },
     "execution_count": 6,
     "metadata": {},
     "output_type": "execute_result"
    }
   ],
   "source": [
    "house_votes_df.columns"
   ]
  },
  {
   "cell_type": "code",
   "execution_count": 7,
   "metadata": {},
   "outputs": [
    {
     "name": "stdout",
     "output_type": "stream",
     "text": [
      "Value counts in 0 :\n",
      " democrat      267\n",
      "republican    168\n",
      "Name: 0, dtype: int64\n",
      "Value counts in 1 :\n",
      " n    236\n",
      "y    187\n",
      "?     12\n",
      "Name: 1, dtype: int64\n",
      "Value counts in 2 :\n",
      " y    195\n",
      "n    192\n",
      "?     48\n",
      "Name: 2, dtype: int64\n",
      "Value counts in 3 :\n",
      " y    253\n",
      "n    171\n",
      "?     11\n",
      "Name: 3, dtype: int64\n",
      "Value counts in 4 :\n",
      " n    247\n",
      "y    177\n",
      "?     11\n",
      "Name: 4, dtype: int64\n",
      "Value counts in 5 :\n",
      " y    212\n",
      "n    208\n",
      "?     15\n",
      "Name: 5, dtype: int64\n",
      "Value counts in 6 :\n",
      " y    272\n",
      "n    152\n",
      "?     11\n",
      "Name: 6, dtype: int64\n",
      "Value counts in 7 :\n",
      " y    239\n",
      "n    182\n",
      "?     14\n",
      "Name: 7, dtype: int64\n",
      "Value counts in 8 :\n",
      " y    242\n",
      "n    178\n",
      "?     15\n",
      "Name: 8, dtype: int64\n",
      "Value counts in 9 :\n",
      " y    207\n",
      "n    206\n",
      "?     22\n",
      "Name: 9, dtype: int64\n",
      "Value counts in 10 :\n",
      " y    216\n",
      "n    212\n",
      "?      7\n",
      "Name: 10, dtype: int64\n",
      "Value counts in 11 :\n",
      " n    264\n",
      "y    150\n",
      "?     21\n",
      "Name: 11, dtype: int64\n",
      "Value counts in 12 :\n",
      " n    233\n",
      "y    171\n",
      "?     31\n",
      "Name: 12, dtype: int64\n",
      "Value counts in 13 :\n",
      " y    209\n",
      "n    201\n",
      "?     25\n",
      "Name: 13, dtype: int64\n",
      "Value counts in 14 :\n",
      " y    248\n",
      "n    170\n",
      "?     17\n",
      "Name: 14, dtype: int64\n",
      "Value counts in 15 :\n",
      " n    233\n",
      "y    174\n",
      "?     28\n",
      "Name: 15, dtype: int64\n",
      "Value counts in 16 :\n",
      " y    269\n",
      "?    104\n",
      "n     62\n",
      "Name: 16, dtype: int64\n"
     ]
    }
   ],
   "source": [
    "\n",
    "for col in house_votes_df.columns:\n",
    "    print ('Value counts in',col,':\\n',pd.value_counts(house_votes_df[col]))\n",
    "    "
   ]
  },
  {
   "cell_type": "code",
   "execution_count": 8,
   "metadata": {},
   "outputs": [
    {
     "data": {
      "text/plain": [
       "democrat      267\n",
       "republican    168\n",
       "Name: 0, dtype: int64"
      ]
     },
     "execution_count": 8,
     "metadata": {},
     "output_type": "execute_result"
    }
   ],
   "source": [
    "counts = pd.value_counts(house_votes_df[0])\n",
    "counts"
   ]
  },
  {
   "cell_type": "code",
   "execution_count": 9,
   "metadata": {},
   "outputs": [
    {
     "name": "stdout",
     "output_type": "stream",
     "text": [
      "Percentage of Democrats:  61.37931034482759\n",
      "Percentage of Republicans:  38.62068965517241\n"
     ]
    }
   ],
   "source": [
    "perc_democrats = counts[0]/(counts[0] + counts[1])*100\n",
    "print('Percentage of Democrats: ',perc_democrats)\n",
    "print('Percentage of Republicans: ', (100 - perc_democrats))"
   ]
  },
  {
   "cell_type": "markdown",
   "metadata": {},
   "source": [
    "### 2 Which variable gives the best branch"
   ]
  },
  {
   "cell_type": "code",
   "execution_count": 10,
   "metadata": {},
   "outputs": [],
   "source": [
    "handicap_yes_df = house_votes_df[house_votes_df[1] == 'y']\n",
    "handicap_no_df = house_votes_df[house_votes_df[1] == 'n']"
   ]
  },
  {
   "cell_type": "code",
   "execution_count": 11,
   "metadata": {},
   "outputs": [
    {
     "name": "stdout",
     "output_type": "stream",
     "text": [
      "Percentage of Democrats:  83.42245989304813\n",
      "Percentage of Republicans:  16.577540106951872\n"
     ]
    }
   ],
   "source": [
    "# handicap_yes_df\n",
    "counts_y = pd.value_counts(handicap_yes_df[0])\n",
    "democrats_y = counts_y[0]/(counts_y[0] + counts_y[1])\n",
    "republicans_y = 1 - democrats_y\n",
    "print('Percentage of Democrats: ',democrats_y*100)\n",
    "print('Percentage of Republicans: ', republicans_y*100)"
   ]
  },
  {
   "cell_type": "code",
   "execution_count": 12,
   "metadata": {},
   "outputs": [
    {
     "name": "stdout",
     "output_type": "stream",
     "text": [
      "Percentage of Democrats:  56.779661016949156\n",
      "Percentage of Republicans:  43.220338983050844\n"
     ]
    }
   ],
   "source": [
    "# handicap_no_df\n",
    "counts_n = pd.value_counts(handicap_no_df[0])\n",
    "democrats_n = counts_n[0]/(counts_n[0] + counts_n[1])\n",
    "republicans_n = 1 - democrats_n\n",
    "print('Percentage of Democrats: ',democrats_n*100)\n",
    "print('Percentage of Republicans: ', republicans_n*100)"
   ]
  },
  {
   "cell_type": "code",
   "execution_count": 13,
   "metadata": {},
   "outputs": [
    {
     "data": {
      "text/plain": [
       "0.647948835478525"
      ]
     },
     "execution_count": 13,
     "metadata": {},
     "output_type": "execute_result"
    }
   ],
   "source": [
    "entropy_y = -(democrats_y*np.log2(democrats_y) + republicans_y*np.log2(republicans_y))\n",
    "entropy_y"
   ]
  },
  {
   "cell_type": "code",
   "execution_count": 14,
   "metadata": {},
   "outputs": [
    {
     "data": {
      "text/plain": [
       "0.9866967086735613"
      ]
     },
     "execution_count": 14,
     "metadata": {},
     "output_type": "execute_result"
    }
   ],
   "source": [
    "entropy_n = -(democrats_n*np.log2(democrats_n) + republicans_n*np.log2(republicans_n))\n",
    "entropy_n"
   ]
  },
  {
   "cell_type": "code",
   "execution_count": 15,
   "metadata": {},
   "outputs": [
    {
     "data": {
      "text/plain": [
       "0.8369429207599164"
      ]
     },
     "execution_count": 15,
     "metadata": {},
     "output_type": "execute_result"
    }
   ],
   "source": [
    "final_entropy = ((handicap_yes_df.shape[0])*entropy_y + (handicap_no_df.shape[0])*entropy_n )/(handicap_yes_df.shape[0] + handicap_no_df.shape[0]) \n",
    "final_entropy"
   ]
  },
  {
   "cell_type": "code",
   "execution_count": 16,
   "metadata": {},
   "outputs": [],
   "source": [
    "def find_entropy(house_votes_df):\n",
    "    entropy_list=[]\n",
    "    cols = house_votes_df.columns.drop(0)\n",
    "    for col in cols:\n",
    "    \n",
    "        yes_df = house_votes_df[house_votes_df[col] == 'y']\n",
    "        no_df = house_votes_df[house_votes_df[col] == 'n']\n",
    "\n",
    "        counts_y = pd.value_counts(yes_df[0])\n",
    "        democrats_y = counts_y[0]/(counts_y[0] + counts_y[1])\n",
    "        republicans_y = 1 - democrats_y\n",
    "\n",
    "        counts_n = pd.value_counts(no_df[0])\n",
    "        democrats_n = counts_n[0]/(counts_n[0] + counts_n[1])\n",
    "        republicans_n = 1 - democrats_n\n",
    "\n",
    "\n",
    "        entropy_y = -(democrats_y*np.log2(democrats_y) + republicans_y*np.log2(republicans_y))\n",
    "        entropy_n = -(democrats_n*np.log2(democrats_n) + republicans_n*np.log2(republicans_n))\n",
    "        final_entropy = ((yes_df.shape[0])*entropy_y + (no_df.shape[0])*entropy_n )/(yes_df.shape[0] + no_df.shape[0]) \n",
    "        \n",
    "        entropy_dict = {'column': col, 'entropy': final_entropy}\n",
    "        entropy_list.append(entropy_dict)\n",
    "    return entropy_list\n"
   ]
  },
  {
   "cell_type": "code",
   "execution_count": 17,
   "metadata": {},
   "outputs": [],
   "source": [
    "list_entropy = find_entropy(house_votes_df)"
   ]
  },
  {
   "cell_type": "code",
   "execution_count": 18,
   "metadata": {},
   "outputs": [
    {
     "data": {
      "text/html": [
       "<div>\n",
       "<style scoped>\n",
       "    .dataframe tbody tr th:only-of-type {\n",
       "        vertical-align: middle;\n",
       "    }\n",
       "\n",
       "    .dataframe tbody tr th {\n",
       "        vertical-align: top;\n",
       "    }\n",
       "\n",
       "    .dataframe thead th {\n",
       "        text-align: right;\n",
       "    }\n",
       "</style>\n",
       "<table border=\"1\" class=\"dataframe\">\n",
       "  <thead>\n",
       "    <tr style=\"text-align: right;\">\n",
       "      <th></th>\n",
       "      <th>column</th>\n",
       "      <th>entropy</th>\n",
       "    </tr>\n",
       "  </thead>\n",
       "  <tbody>\n",
       "    <tr>\n",
       "      <th>0</th>\n",
       "      <td>1</td>\n",
       "      <td>0.836943</td>\n",
       "    </tr>\n",
       "    <tr>\n",
       "      <th>1</th>\n",
       "      <td>2</td>\n",
       "      <td>0.959725</td>\n",
       "    </tr>\n",
       "    <tr>\n",
       "      <th>2</th>\n",
       "      <td>3</td>\n",
       "      <td>0.519205</td>\n",
       "    </tr>\n",
       "    <tr>\n",
       "      <th>3</th>\n",
       "      <td>4</td>\n",
       "      <td>0.206111</td>\n",
       "    </tr>\n",
       "    <tr>\n",
       "      <th>4</th>\n",
       "      <td>5</td>\n",
       "      <td>0.533355</td>\n",
       "    </tr>\n",
       "    <tr>\n",
       "      <th>5</th>\n",
       "      <td>6</td>\n",
       "      <td>0.818473</td>\n",
       "    </tr>\n",
       "    <tr>\n",
       "      <th>6</th>\n",
       "      <td>7</td>\n",
       "      <td>0.757289</td>\n",
       "    </tr>\n",
       "    <tr>\n",
       "      <th>7</th>\n",
       "      <td>8</td>\n",
       "      <td>0.614420</td>\n",
       "    </tr>\n",
       "    <tr>\n",
       "      <th>8</th>\n",
       "      <td>9</td>\n",
       "      <td>0.655859</td>\n",
       "    </tr>\n",
       "    <tr>\n",
       "      <th>9</th>\n",
       "      <td>10</td>\n",
       "      <td>0.956768</td>\n",
       "    </tr>\n",
       "    <tr>\n",
       "      <th>10</th>\n",
       "      <td>11</td>\n",
       "      <td>0.848411</td>\n",
       "    </tr>\n",
       "    <tr>\n",
       "      <th>11</th>\n",
       "      <td>12</td>\n",
       "      <td>0.557894</td>\n",
       "    </tr>\n",
       "    <tr>\n",
       "      <th>12</th>\n",
       "      <td>13</td>\n",
       "      <td>0.720090</td>\n",
       "    </tr>\n",
       "    <tr>\n",
       "      <th>13</th>\n",
       "      <td>14</td>\n",
       "      <td>0.612774</td>\n",
       "    </tr>\n",
       "    <tr>\n",
       "      <th>14</th>\n",
       "      <td>15</td>\n",
       "      <td>0.725166</td>\n",
       "    </tr>\n",
       "    <tr>\n",
       "      <th>15</th>\n",
       "      <td>16</td>\n",
       "      <td>0.896750</td>\n",
       "    </tr>\n",
       "  </tbody>\n",
       "</table>\n",
       "</div>"
      ],
      "text/plain": [
       "    column   entropy\n",
       "0        1  0.836943\n",
       "1        2  0.959725\n",
       "2        3  0.519205\n",
       "3        4  0.206111\n",
       "4        5  0.533355\n",
       "5        6  0.818473\n",
       "6        7  0.757289\n",
       "7        8  0.614420\n",
       "8        9  0.655859\n",
       "9       10  0.956768\n",
       "10      11  0.848411\n",
       "11      12  0.557894\n",
       "12      13  0.720090\n",
       "13      14  0.612774\n",
       "14      15  0.725166\n",
       "15      16  0.896750"
      ]
     },
     "execution_count": 18,
     "metadata": {},
     "output_type": "execute_result"
    }
   ],
   "source": [
    "pd.DataFrame(list_entropy)"
   ]
  },
  {
   "cell_type": "markdown",
   "metadata": {},
   "source": [
    "Feature 4 has the best entropy with 0.206 entropy"
   ]
  },
  {
   "cell_type": "code",
   "execution_count": null,
   "metadata": {},
   "outputs": [],
   "source": []
  }
 ],
 "metadata": {
  "kernelspec": {
   "display_name": "Python 3",
   "language": "python",
   "name": "python3"
  },
  "language_info": {
   "codemirror_mode": {
    "name": "ipython",
    "version": 3
   },
   "file_extension": ".py",
   "mimetype": "text/x-python",
   "name": "python",
   "nbconvert_exporter": "python",
   "pygments_lexer": "ipython3",
   "version": "3.6.4"
  }
 },
 "nbformat": 4,
 "nbformat_minor": 2
}
