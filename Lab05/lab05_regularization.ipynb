{
 "cells": [
  {
   "cell_type": "code",
   "execution_count": 54,
   "metadata": {
    "collapsed": true
   },
   "outputs": [],
   "source": [
    "import numpy as np\n",
    "import pandas as pd\n",
    "import matplotlib.pyplot as plt\n",
    "%matplotlib inline\n",
    "from sklearn.linear_model import LogisticRegression\n",
    "from sklearn.model_selection import train_test_split\n",
    "from sklearn.metrics import accuracy_score\n",
    "import pandas as pd"
   ]
  },
  {
   "cell_type": "code",
   "execution_count": 55,
   "metadata": {},
   "outputs": [
    {
     "name": "stdout",
     "output_type": "stream",
     "text": [
      "   x_1  x_2      x_3      x_4      x_5      x_6      x_7      x_8      x_9  \\\n",
      "0    1    0  0.99539 -0.05889  0.85243  0.02306  0.83398 -0.37708  1.00000   \n",
      "1    1    0  1.00000 -0.18829  0.93035 -0.36156 -0.10868 -0.93597  1.00000   \n",
      "2    1    0  1.00000 -0.03365  1.00000  0.00485  1.00000 -0.12062  0.88965   \n",
      "3    1    0  1.00000 -0.45161  1.00000  1.00000  0.71216 -1.00000  0.00000   \n",
      "4    1    0  1.00000 -0.02401  0.94140  0.06531  0.92106 -0.23255  0.77152   \n",
      "\n",
      "      x_10   ...       x_26     x_27     x_28     x_29     x_30     x_31  \\\n",
      "0  0.03760   ...   -0.51171  0.41078 -0.46168  0.21266 -0.34090  0.42267   \n",
      "1 -0.04549   ...   -0.26569 -0.20468 -0.18401 -0.19040 -0.11593 -0.16626   \n",
      "2  0.01198   ...   -0.40220  0.58984 -0.22145  0.43100 -0.17365  0.60436   \n",
      "3  0.00000   ...    0.90695  0.51613  1.00000  1.00000 -0.20099  0.25682   \n",
      "4 -0.16399   ...   -0.65158  0.13290 -0.53206  0.02431 -0.62197 -0.05707   \n",
      "\n",
      "      x_32     x_33     x_34  target  \n",
      "0 -0.54487  0.18641 -0.45300       g  \n",
      "1 -0.06288 -0.13738 -0.02447       b  \n",
      "2 -0.24180  0.56045 -0.38238       g  \n",
      "3  1.00000 -0.32382  1.00000       b  \n",
      "4 -0.59573 -0.04608 -0.65697       g  \n",
      "\n",
      "[5 rows x 35 columns]\n"
     ]
    },
    {
     "data": {
      "text/plain": [
       "Index(['x_1', 'x_2', 'x_3', 'x_4', 'x_5', 'x_6', 'x_7', 'x_8', 'x_9', 'x_10',\n",
       "       'x_11', 'x_12', 'x_13', 'x_14', 'x_15', 'x_16', 'x_17', 'x_18', 'x_19',\n",
       "       'x_20', 'x_21', 'x_22', 'x_23', 'x_24', 'x_25', 'x_26', 'x_27', 'x_28',\n",
       "       'x_29', 'x_30', 'x_31', 'x_32', 'x_33', 'x_34'],\n",
       "      dtype='object')"
      ]
     },
     "execution_count": 55,
     "metadata": {},
     "output_type": "execute_result"
    }
   ],
   "source": [
    "#read the data\n",
    "data = pd.read_csv('ionosphere.csv')\n",
    "print(data.head())\n",
    "y = data.target\n",
    "X = data.drop('target', axis=1)\n",
    "X.columns"
   ]
  },
  {
   "cell_type": "markdown",
   "metadata": {},
   "source": [
    "#### Some information on the dataset\n",
    "This radar data was collected by a system in Goose Bay, Labrador. This system consists of a phased array of 16 high-frequency antennas with a total transmitted power on the order of 6.4 kilowatts. See the [paper](https://pdfs.semanticscholar.org/e0d2/de05caacdfa8073b2b4f77c5e72cb2449b81.pdf) for more details. \n",
    "\n",
    "The targets were free electrons in the ionosphere.\"Good\" radar returns are those showing evidence of some type of structure in the ionosphere. \"Bad\" returns are those that do not; their signals pass through the ionosphere. "
   ]
  },
  {
   "cell_type": "markdown",
   "metadata": {},
   "source": [
    "In order to check the effect of regularization on test data, split the data into train and test using sklearn."
   ]
  },
  {
   "cell_type": "code",
   "execution_count": 56,
   "metadata": {
    "collapsed": true
   },
   "outputs": [],
   "source": [
    "#split the data into train and test\n",
    "X_train, X_test, y_train, y_test = train_test_split(X, y, test_size=0.25, random_state=42)"
   ]
  },
  {
   "cell_type": "markdown",
   "metadata": {},
   "source": [
    "Create a model using Logistic Regression from sklearn. "
   ]
  },
  {
   "cell_type": "markdown",
   "metadata": {},
   "source": [
    "    1. Perform a ridge regression using sklearn. Test for the accuracy on the test dataset"
   ]
  },
  {
   "cell_type": "code",
   "execution_count": 66,
   "metadata": {},
   "outputs": [
    {
     "data": {
      "text/plain": [
       "(86.36363636363636,\n",
       " array([[ 1.11133061,  0.        ,  1.39992707,  1.20879304,  1.16657531,\n",
       "          0.86921102,  0.74719441,  1.19028807,  1.14702005, -0.38441232,\n",
       "         -0.47435525, -0.14897108, -0.30443211,  0.65506957,  0.72982643,\n",
       "         -0.10629924,  0.22551064,  0.58470356, -0.61615508, -0.04413428,\n",
       "          0.1136647 , -2.03231867,  0.06473233,  0.15788351,  0.48062413,\n",
       "          0.42708159, -1.5341913 , -0.09891704,  0.63864454,  0.74003502,\n",
       "          0.67137241,  0.08469579, -0.21717981, -0.87188754]]),\n",
       " 1.0)"
      ]
     },
     "execution_count": 66,
     "metadata": {},
     "output_type": "execute_result"
    }
   ],
   "source": [
    "#perform ridge regression and test accuracy\n",
    "def ridge_logistic(c=1):\n",
    "    m_ridge = LogisticRegression(penalty = 'l2', C=c).fit(X_train,y_train)\n",
    "    yhat = m_ridge.predict(X_test)\n",
    "    accuracy = accuracy_score(yhat, y_test)\n",
    "    coeff = m_ridge.coef_\n",
    "    return (accuracy*100, coeff, 1/c)\n",
    "    \n",
    "ridge_logistic()"
   ]
  },
  {
   "cell_type": "markdown",
   "metadata": {},
   "source": [
    "    2. Perform lasso regression using sklearn. Test for the accuracy on the test dataset"
   ]
  },
  {
   "cell_type": "code",
   "execution_count": 67,
   "metadata": {},
   "outputs": [
    {
     "data": {
      "text/plain": [
       "(86.36363636363636,\n",
       " array([[ 2.4015871 ,  0.        ,  1.55174089,  1.04953299,  1.19227516,\n",
       "          0.96050971,  0.83324847,  1.2303299 ,  0.9919069 ,  0.        ,\n",
       "         -0.08040278,  0.        ,  0.        ,  0.41414168,  0.50038092,\n",
       "         -0.02136335,  0.        ,  0.54912497, -0.1820417 ,  0.        ,\n",
       "          0.        , -2.26191351,  0.        ,  0.04037352,  0.5191533 ,\n",
       "          0.        , -1.38794064,  0.        ,  0.28847469,  0.93195195,\n",
       "          0.52209462,  0.        ,  0.        , -0.82266815]]),\n",
       " 1.0)"
      ]
     },
     "execution_count": 67,
     "metadata": {},
     "output_type": "execute_result"
    }
   ],
   "source": [
    "#perform lasso regression and test accuracy\n",
    "def lasso_logistic(c=1):\n",
    "    m_lasso = LogisticRegression(penalty = 'l1', C=c).fit(X_train, y_train) # penalty is zero\n",
    "    yhat_l = m_lasso.predict(X_test)\n",
    "    accuracy_l = accuracy_score(yhat_l, y_test)\n",
    "    coeff = m_lasso.coef_\n",
    "    return (accuracy_l*100, coeff, 1/c)\n",
    "    \n",
    "lasso_logistic()"
   ]
  },
  {
   "cell_type": "markdown",
   "metadata": {},
   "source": [
    "    3. Tune the parameters of C(1/lambda) and appropriate choice of regularization. Default values of C and regularization is 1.0 and 'l2' - ridge respectively. Record the results (accuracy, coefficients and lambdas) in a dataframe."
   ]
  },
  {
   "cell_type": "code",
   "execution_count": 97,
   "metadata": {},
   "outputs": [
    {
     "name": "stdout",
     "output_type": "stream",
     "text": [
      "    Accuracy          Lambda         x0   x1       x10       x11       x12  \\\n",
      "0  64.772727  1000000.000000   0.000052  0.0  0.000030  0.000014  0.000030   \n",
      "1  64.772727     1000.000000   0.037278  0.0  0.019018  0.012428  0.019660   \n",
      "2  85.227273        0.100000   5.482347  0.0 -1.224336 -1.012608 -0.844385   \n",
      "3  86.363636        0.001000  31.105859  0.0 -3.662275 -3.334320  2.511416   \n",
      "4  86.363636        0.000001  45.044584  0.0 -4.668174 -4.149232  3.512321   \n",
      "\n",
      "        x13       x14       x15    ...          x30       x31       x32  \\\n",
      "0  0.000016  0.000032  0.000011    ...     0.000035 -0.000003  0.000030   \n",
      "1  0.014299  0.022363  0.010558    ...     0.025790 -0.003067  0.020711   \n",
      "2  0.684054  1.988877 -1.738272    ...     1.961092  0.368285 -0.975151   \n",
      "3 -1.035824  3.111206 -7.398868    ...     6.568981  0.497142 -2.060543   \n",
      "4 -1.375159  3.849578 -8.855181    ...     7.942286  0.551376 -2.078657   \n",
      "\n",
      "        x33        x4        x5        x6        x7        x8        x9  \n",
      "0 -0.000004  0.000055  0.000012  0.000049  0.000018  0.000040  0.000011  \n",
      "1 -0.003897  0.042093  0.010258  0.037221  0.017377  0.028588  0.009560  \n",
      "2 -1.913837  1.409975  2.493119  1.389312  2.682401  2.898342 -1.276242  \n",
      "3 -5.136055  0.712046  6.914510  3.644655  6.422396  5.190322 -1.673531  \n",
      "4 -5.840757  1.109451  7.750495  4.098733  7.066403  5.846041 -1.575362  \n",
      "\n",
      "[5 rows x 36 columns]\n"
     ]
    }
   ],
   "source": [
    "#perform tuning and record the results\n",
    "result_list =[]\n",
    "accuracy1, coeff1, lambda_1 = ridge_logistic(1e-6)\n",
    "result_dict = {'Accuracy' : accuracy1, 'Lambda' : lambda_1}\n",
    "for i in range(len(coeff1[0])):\n",
    "     result_dict['x'+str(i)] = coeff1[0][i]\n",
    "result_list.append(result_dict)\n",
    "\n",
    "accuracy2, coeff2, lambda_2 = ridge_logistic(1e-3)\n",
    "result_dict = {'Accuracy' : accuracy2, 'Lambda' : lambda_2}\n",
    "for i in range(len(coeff2[0])):\n",
    "     result_dict['x'+str(i)] = coeff2[0][i]\n",
    "result_list.append(result_dict)\n",
    "\n",
    "accuracy5, coeff5, lambda_5 = ridge_logistic(10)\n",
    "result_dict = {'Accuracy' : accuracy5, 'Lambda' : lambda_5}\n",
    "for i in range(len(coeff5[0])):\n",
    "     result_dict['x'+str(i)] = coeff5[0][i]\n",
    "result_list.append(result_dict)\n",
    "\n",
    "accuracy3, coeff3, lambda_3 = ridge_logistic(1e+3)\n",
    "result_dict = {'Accuracy' : accuracy3, 'Lambda' : lambda_3}\n",
    "for i in range(len(coeff3[0])):\n",
    "     result_dict['x'+str(i)] = coeff3[0][i]\n",
    "result_list.append(result_dict)\n",
    "\n",
    "accuracy4, coeff4, lambda_4 = ridge_logistic(1e+6)\n",
    "result_dict = {'Accuracy' : accuracy4, 'Lambda' : lambda_4}\n",
    "for i in range(len(coeff4[0])):\n",
    "     result_dict['x'+str(i)] = coeff4[0][i]\n",
    "result_list.append(result_dict)\n",
    "\n",
    "ridge_df = pd.DataFrame(result_list)\n",
    "print(ridge_df)\n",
    "#pd.Dataframe"
   ]
  },
  {
   "cell_type": "code",
   "execution_count": 96,
   "metadata": {},
   "outputs": [
    {
     "name": "stdout",
     "output_type": "stream",
     "text": [
      "    Accuracy        Lambda         x0   x1       x10       x11       x12  \\\n",
      "0  36.363636  1.000000e+09   0.000000  0.0  0.000000  0.000000  0.000000   \n",
      "1  36.363636  1.000000e+03   0.000000  0.0  0.000000  0.000000  0.000000   \n",
      "2  82.954545  1.000000e-01  16.265540  0.0 -1.788181 -1.833369  0.343675   \n",
      "3  86.363636  1.000000e-03  39.307320  0.0 -4.419766 -3.944788  3.286391   \n",
      "4  86.363636  1.000000e-09  39.932403  0.0 -4.482179 -3.997784  3.332739   \n",
      "\n",
      "        x13       x14       x15    ...          x30       x31       x32  \\\n",
      "0  0.000000  0.000000  0.000000    ...     0.000000  0.000000  0.000000   \n",
      "1  0.000000  0.000000  0.000000    ...     0.000000  0.000000  0.000000   \n",
      "2 -0.276855  1.944713 -4.247833    ...     4.004253  0.090343 -1.857723   \n",
      "3 -1.316835  3.684819 -8.551764    ...     7.582848  0.577879 -2.037065   \n",
      "4 -1.333131  3.743047 -8.650323    ...     7.670635  0.585116 -2.038315   \n",
      "\n",
      "        x33        x4        x5        x6        x7        x8        x9  \n",
      "0  0.000000  0.000000  0.000000  0.000000  0.000000  0.000000  0.000000  \n",
      "1  0.000000  0.000000  0.000000  0.000000  0.000000  0.000000  0.000000  \n",
      "2 -3.130412  0.495609  4.599674  2.557717  4.589196  3.622837 -1.386318  \n",
      "3 -5.719100  0.999222  7.568710  3.944991  6.962584  5.714573 -1.559006  \n",
      "4 -5.765336  1.026568  7.628943  3.968189  7.009618  5.777023 -1.563533  \n",
      "\n",
      "[5 rows x 36 columns]\n"
     ]
    }
   ],
   "source": [
    "result_list1 =[]\n",
    "accuracy1, coeff1, lambda_1 = lasso_logistic(1e-9)\n",
    "result_dict = {'Accuracy' : accuracy1, 'Lambda' : lambda_1}\n",
    "for i in range(len(coeff1[0])):\n",
    "     result_dict['x'+str(i)] = coeff1[0][i]\n",
    "result_list1.append(result_dict)\n",
    "\n",
    "accuracy2, coeff2, lambda_2 = lasso_logistic(1e-3)\n",
    "result_dict = {'Accuracy' : accuracy2, 'Lambda' : lambda_2}\n",
    "for i in range(len(coeff2[0])):\n",
    "     result_dict['x'+str(i)] = coeff2[0][i]\n",
    "result_list1.append(result_dict)\n",
    "\n",
    "accuracy5, coeff5, lambda_5 = lasso_logistic(10)\n",
    "result_dict = {'Accuracy' : accuracy5, 'Lambda' : lambda_5}\n",
    "for i in range(len(coeff5[0])):\n",
    "     result_dict['x'+str(i)] = coeff5[0][i]\n",
    "result_list1.append(result_dict)\n",
    "\n",
    "accuracy3, coeff3, lambda_3 = lasso_logistic(1e+3)\n",
    "result_dict = {'Accuracy' : accuracy3, 'Lambda' : lambda_3}\n",
    "for i in range(len(coeff3[0])):\n",
    "     result_dict['x'+str(i)] = coeff3[0][i]\n",
    "result_list1.append(result_dict)\n",
    "\n",
    "accuracy4, coeff4, lambda_4 = lasso_logistic(1e+9)\n",
    "result_dict = {'Accuracy' : accuracy4, 'Lambda' : lambda_4}\n",
    "for i in range(len(coeff4[0])):\n",
    "     result_dict['x'+str(i)] = coeff4[0][i]\n",
    "result_list1.append(result_dict)\n",
    "\n",
    "lasso_df = pd.DataFrame(result_list1)\n",
    "print(lasso_df)"
   ]
  },
  {
   "cell_type": "markdown",
   "metadata": {},
   "source": [
    "    4. Plot the coefficients against lambdas and accuracy against lambdas for both lasso and ridge regularization."
   ]
  },
  {
   "cell_type": "code",
   "execution_count": 115,
   "metadata": {},
   "outputs": [
    {
     "data": {
      "text/plain": [
       "Text(0,0.5,'Accuracy')"
      ]
     },
     "execution_count": 115,
     "metadata": {},
     "output_type": "execute_result"
    },
    {
     "data": {
      "image/png": "[encoded data removed]",
      "text/plain": [
       "<matplotlib.figure.Figure at 0x162975964a8>"
      ]
     },
     "metadata": {},
     "output_type": "display_data"
    }
   ],
   "source": [
    "#plot coefficients against lambdas and accuracy against lambdas\n",
    "plt.plot(ridge_df.Lambda, ridge_df.Accuracy)\n",
    "plt.xscale('log')\n",
    "plt.xlabel('Lambda')\n",
    "plt.ylabel('Accuracy')"
   ]
  },
  {
   "cell_type": "markdown",
   "metadata": {},
   "source": [
    "As lambda increases, accuracy descreases because of heavy penalizing"
   ]
  },
  {
   "cell_type": "code",
   "execution_count": 116,
   "metadata": {},
   "outputs": [
    {
     "data": {
      "text/plain": [
       "Text(0,0.5,'Accuracy')"
      ]
     },
     "execution_count": 116,
     "metadata": {},
     "output_type": "execute_result"
    },
    {
     "data": {
      "image/png": "[encoded data removed]",
      "text/plain": [
       "<matplotlib.figure.Figure at 0x16296031eb8>"
      ]
     },
     "metadata": {},
     "output_type": "display_data"
    }
   ],
   "source": [
    "plt.plot(lasso_df.Lambda, lasso_df.Accuracy)\n",
    "plt.xscale('log')\n",
    "plt.xlabel('Lambda')\n",
    "plt.ylabel('Accuracy')"
   ]
  },
  {
   "cell_type": "code",
   "execution_count": 112,
   "metadata": {},
   "outputs": [
    {
     "data": {
      "image/png": "[encoded data removed]",
      "text/plain": [
       "<matplotlib.figure.Figure at 0x162969156d8>"
      ]
     },
     "metadata": {},
     "output_type": "display_data"
    }
   ],
   "source": [
    "for i in range(len(coeff1[0])):\n",
    "    plt.plot(ridge_df.Lambda ,ridge_df['x'+str(i)])\n",
    "    plt.xscale('log')\n",
    "    plt.xlabel('lambda')\n",
    "    plt.ylabel('Coefficients')"
   ]
  },
  {
   "cell_type": "code",
   "execution_count": 113,
   "metadata": {},
   "outputs": [
    {
     "data": {
      "image/png": "[encoded data removed]",
      "text/plain": [
       "<matplotlib.figure.Figure at 0x162973064a8>"
      ]
     },
     "metadata": {},
     "output_type": "display_data"
    }
   ],
   "source": [
    "for i in range(len(coeff1[0])):\n",
    "    plt.plot(lasso_df.Lambda ,lasso_df['x'+str(i)])\n",
    "    plt.xscale('log')\n",
    "    plt.xlabel('lambda')\n",
    "    plt.ylabel('Coefficients')"
   ]
  },
  {
   "cell_type": "code",
   "execution_count": null,
   "metadata": {
    "collapsed": true
   },
   "outputs": [],
   "source": []
  }
 ],
 "metadata": {
  "kernelspec": {
   "display_name": "Python 3",
   "language": "python",
   "name": "python3"
  },
  "language_info": {
   "codemirror_mode": {
    "name": "ipython",
    "version": 3
   },
   "file_extension": ".py",
   "mimetype": "text/x-python",
   "name": "python",
   "nbconvert_exporter": "python",
   "pygments_lexer": "ipython3",
   "version": "3.6.3"
  }
 },
 "nbformat": 4,
 "nbformat_minor": 2
}
